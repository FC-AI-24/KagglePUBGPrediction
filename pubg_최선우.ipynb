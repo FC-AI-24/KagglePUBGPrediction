{
 "cells": [
  {
   "cell_type": "markdown",
   "id": "22ae570a",
   "metadata": {},
   "source": [
    "# [PUBG Finish Placement Prediction (Kernels Only)](https://www.kaggle.com/competitions/pubg-finish-placement-prediction/overview)\n",
    "- Can you predict the battle royale finish of PUBG Players?"
   ]
  },
  {
   "cell_type": "markdown",
   "id": "2ce0aa4c",
   "metadata": {},
   "source": [
    "## 데이터 로드"
   ]
  },
  {
   "cell_type": "code",
   "execution_count": 1,
   "id": "c8085282",
   "metadata": {},
   "outputs": [],
   "source": [
    "import pandas as pd\n",
    "import numpy as np\n",
    "import matplotlib.pyplot as plt\n",
    "import seaborn as sns\n",
    "\n",
    "pd.options.display.float_format = '{:.4f}'.format"
   ]
  },
  {
   "cell_type": "code",
   "execution_count": 2,
   "id": "cc52472f",
   "metadata": {
    "scrolled": true
   },
   "outputs": [
    {
     "data": {
      "text/html": [
       "<div>\n",
       "<style scoped>\n",
       "    .dataframe tbody tr th:only-of-type {\n",
       "        vertical-align: middle;\n",
       "    }\n",
       "\n",
       "    .dataframe tbody tr th {\n",
       "        vertical-align: top;\n",
       "    }\n",
       "\n",
       "    .dataframe thead th {\n",
       "        text-align: right;\n",
       "    }\n",
       "</style>\n",
       "<table border=\"1\" class=\"dataframe\">\n",
       "  <thead>\n",
       "    <tr style=\"text-align: right;\">\n",
       "      <th></th>\n",
       "      <th>Id</th>\n",
       "      <th>groupId</th>\n",
       "      <th>matchId</th>\n",
       "      <th>assists</th>\n",
       "      <th>boosts</th>\n",
       "      <th>damageDealt</th>\n",
       "      <th>DBNOs</th>\n",
       "      <th>headshotKills</th>\n",
       "      <th>heals</th>\n",
       "      <th>killPlace</th>\n",
       "      <th>...</th>\n",
       "      <th>revives</th>\n",
       "      <th>rideDistance</th>\n",
       "      <th>roadKills</th>\n",
       "      <th>swimDistance</th>\n",
       "      <th>teamKills</th>\n",
       "      <th>vehicleDestroys</th>\n",
       "      <th>walkDistance</th>\n",
       "      <th>weaponsAcquired</th>\n",
       "      <th>winPoints</th>\n",
       "      <th>winPlacePerc</th>\n",
       "    </tr>\n",
       "  </thead>\n",
       "  <tbody>\n",
       "    <tr>\n",
       "      <th>0</th>\n",
       "      <td>7f96b2f878858a</td>\n",
       "      <td>4d4b580de459be</td>\n",
       "      <td>a10357fd1a4a91</td>\n",
       "      <td>0</td>\n",
       "      <td>0</td>\n",
       "      <td>0.0000</td>\n",
       "      <td>0</td>\n",
       "      <td>0</td>\n",
       "      <td>0</td>\n",
       "      <td>60</td>\n",
       "      <td>...</td>\n",
       "      <td>0</td>\n",
       "      <td>0.0000</td>\n",
       "      <td>0</td>\n",
       "      <td>0.0000</td>\n",
       "      <td>0</td>\n",
       "      <td>0</td>\n",
       "      <td>244.8000</td>\n",
       "      <td>1</td>\n",
       "      <td>1466</td>\n",
       "      <td>0.4444</td>\n",
       "    </tr>\n",
       "    <tr>\n",
       "      <th>1</th>\n",
       "      <td>eef90569b9d03c</td>\n",
       "      <td>684d5656442f9e</td>\n",
       "      <td>aeb375fc57110c</td>\n",
       "      <td>0</td>\n",
       "      <td>0</td>\n",
       "      <td>91.4700</td>\n",
       "      <td>0</td>\n",
       "      <td>0</td>\n",
       "      <td>0</td>\n",
       "      <td>57</td>\n",
       "      <td>...</td>\n",
       "      <td>0</td>\n",
       "      <td>0.0045</td>\n",
       "      <td>0</td>\n",
       "      <td>11.0400</td>\n",
       "      <td>0</td>\n",
       "      <td>0</td>\n",
       "      <td>1434.0000</td>\n",
       "      <td>5</td>\n",
       "      <td>0</td>\n",
       "      <td>0.6400</td>\n",
       "    </tr>\n",
       "    <tr>\n",
       "      <th>2</th>\n",
       "      <td>1eaf90ac73de72</td>\n",
       "      <td>6a4a42c3245a74</td>\n",
       "      <td>110163d8bb94ae</td>\n",
       "      <td>1</td>\n",
       "      <td>0</td>\n",
       "      <td>68.0000</td>\n",
       "      <td>0</td>\n",
       "      <td>0</td>\n",
       "      <td>0</td>\n",
       "      <td>47</td>\n",
       "      <td>...</td>\n",
       "      <td>0</td>\n",
       "      <td>0.0000</td>\n",
       "      <td>0</td>\n",
       "      <td>0.0000</td>\n",
       "      <td>0</td>\n",
       "      <td>0</td>\n",
       "      <td>161.8000</td>\n",
       "      <td>2</td>\n",
       "      <td>0</td>\n",
       "      <td>0.7755</td>\n",
       "    </tr>\n",
       "    <tr>\n",
       "      <th>3</th>\n",
       "      <td>4616d365dd2853</td>\n",
       "      <td>a930a9c79cd721</td>\n",
       "      <td>f1f1f4ef412d7e</td>\n",
       "      <td>0</td>\n",
       "      <td>0</td>\n",
       "      <td>32.9000</td>\n",
       "      <td>0</td>\n",
       "      <td>0</td>\n",
       "      <td>0</td>\n",
       "      <td>75</td>\n",
       "      <td>...</td>\n",
       "      <td>0</td>\n",
       "      <td>0.0000</td>\n",
       "      <td>0</td>\n",
       "      <td>0.0000</td>\n",
       "      <td>0</td>\n",
       "      <td>0</td>\n",
       "      <td>202.7000</td>\n",
       "      <td>3</td>\n",
       "      <td>0</td>\n",
       "      <td>0.1667</td>\n",
       "    </tr>\n",
       "    <tr>\n",
       "      <th>4</th>\n",
       "      <td>315c96c26c9aac</td>\n",
       "      <td>de04010b3458dd</td>\n",
       "      <td>6dc8ff871e21e6</td>\n",
       "      <td>0</td>\n",
       "      <td>0</td>\n",
       "      <td>100.0000</td>\n",
       "      <td>0</td>\n",
       "      <td>0</td>\n",
       "      <td>0</td>\n",
       "      <td>45</td>\n",
       "      <td>...</td>\n",
       "      <td>0</td>\n",
       "      <td>0.0000</td>\n",
       "      <td>0</td>\n",
       "      <td>0.0000</td>\n",
       "      <td>0</td>\n",
       "      <td>0</td>\n",
       "      <td>49.7500</td>\n",
       "      <td>2</td>\n",
       "      <td>0</td>\n",
       "      <td>0.1875</td>\n",
       "    </tr>\n",
       "    <tr>\n",
       "      <th>...</th>\n",
       "      <td>...</td>\n",
       "      <td>...</td>\n",
       "      <td>...</td>\n",
       "      <td>...</td>\n",
       "      <td>...</td>\n",
       "      <td>...</td>\n",
       "      <td>...</td>\n",
       "      <td>...</td>\n",
       "      <td>...</td>\n",
       "      <td>...</td>\n",
       "      <td>...</td>\n",
       "      <td>...</td>\n",
       "      <td>...</td>\n",
       "      <td>...</td>\n",
       "      <td>...</td>\n",
       "      <td>...</td>\n",
       "      <td>...</td>\n",
       "      <td>...</td>\n",
       "      <td>...</td>\n",
       "      <td>...</td>\n",
       "      <td>...</td>\n",
       "    </tr>\n",
       "    <tr>\n",
       "      <th>4446961</th>\n",
       "      <td>afff7f652dbc10</td>\n",
       "      <td>d238e426f50de7</td>\n",
       "      <td>18492834ce5635</td>\n",
       "      <td>0</td>\n",
       "      <td>0</td>\n",
       "      <td>0.0000</td>\n",
       "      <td>0</td>\n",
       "      <td>0</td>\n",
       "      <td>0</td>\n",
       "      <td>74</td>\n",
       "      <td>...</td>\n",
       "      <td>0</td>\n",
       "      <td>1292.0000</td>\n",
       "      <td>0</td>\n",
       "      <td>0.0000</td>\n",
       "      <td>0</td>\n",
       "      <td>0</td>\n",
       "      <td>1019.0000</td>\n",
       "      <td>3</td>\n",
       "      <td>1507</td>\n",
       "      <td>0.1786</td>\n",
       "    </tr>\n",
       "    <tr>\n",
       "      <th>4446962</th>\n",
       "      <td>f4197cf374e6c0</td>\n",
       "      <td>408cdb5c46b2ac</td>\n",
       "      <td>ee854b837376d9</td>\n",
       "      <td>0</td>\n",
       "      <td>1</td>\n",
       "      <td>44.1500</td>\n",
       "      <td>0</td>\n",
       "      <td>0</td>\n",
       "      <td>0</td>\n",
       "      <td>69</td>\n",
       "      <td>...</td>\n",
       "      <td>0</td>\n",
       "      <td>0.0000</td>\n",
       "      <td>0</td>\n",
       "      <td>0.0000</td>\n",
       "      <td>0</td>\n",
       "      <td>0</td>\n",
       "      <td>81.7000</td>\n",
       "      <td>6</td>\n",
       "      <td>0</td>\n",
       "      <td>0.2935</td>\n",
       "    </tr>\n",
       "    <tr>\n",
       "      <th>4446963</th>\n",
       "      <td>e1948b1295c88a</td>\n",
       "      <td>e26ac84bdf7cef</td>\n",
       "      <td>6d0cd12784f1ab</td>\n",
       "      <td>0</td>\n",
       "      <td>0</td>\n",
       "      <td>59.0600</td>\n",
       "      <td>0</td>\n",
       "      <td>0</td>\n",
       "      <td>0</td>\n",
       "      <td>66</td>\n",
       "      <td>...</td>\n",
       "      <td>0</td>\n",
       "      <td>0.0000</td>\n",
       "      <td>0</td>\n",
       "      <td>2.1840</td>\n",
       "      <td>0</td>\n",
       "      <td>0</td>\n",
       "      <td>788.7000</td>\n",
       "      <td>4</td>\n",
       "      <td>0</td>\n",
       "      <td>0.4815</td>\n",
       "    </tr>\n",
       "    <tr>\n",
       "      <th>4446964</th>\n",
       "      <td>cc032cdd73b7ac</td>\n",
       "      <td>c2223f35411394</td>\n",
       "      <td>c9c701d0ad758a</td>\n",
       "      <td>0</td>\n",
       "      <td>4</td>\n",
       "      <td>180.4000</td>\n",
       "      <td>1</td>\n",
       "      <td>1</td>\n",
       "      <td>2</td>\n",
       "      <td>11</td>\n",
       "      <td>...</td>\n",
       "      <td>2</td>\n",
       "      <td>0.0000</td>\n",
       "      <td>0</td>\n",
       "      <td>0.0000</td>\n",
       "      <td>0</td>\n",
       "      <td>0</td>\n",
       "      <td>2748.0000</td>\n",
       "      <td>8</td>\n",
       "      <td>0</td>\n",
       "      <td>0.8000</td>\n",
       "    </tr>\n",
       "    <tr>\n",
       "      <th>4446965</th>\n",
       "      <td>0d8e7ed728b6fd</td>\n",
       "      <td>8c74f72fedf5ff</td>\n",
       "      <td>62a16aabcc095c</td>\n",
       "      <td>0</td>\n",
       "      <td>2</td>\n",
       "      <td>268.0000</td>\n",
       "      <td>0</td>\n",
       "      <td>0</td>\n",
       "      <td>1</td>\n",
       "      <td>18</td>\n",
       "      <td>...</td>\n",
       "      <td>0</td>\n",
       "      <td>1369.0000</td>\n",
       "      <td>0</td>\n",
       "      <td>0.0000</td>\n",
       "      <td>0</td>\n",
       "      <td>0</td>\n",
       "      <td>1244.0000</td>\n",
       "      <td>5</td>\n",
       "      <td>0</td>\n",
       "      <td>0.5464</td>\n",
       "    </tr>\n",
       "  </tbody>\n",
       "</table>\n",
       "<p>4446966 rows × 29 columns</p>\n",
       "</div>"
      ],
      "text/plain": [
       "                     Id         groupId         matchId  assists  boosts  \\\n",
       "0        7f96b2f878858a  4d4b580de459be  a10357fd1a4a91        0       0   \n",
       "1        eef90569b9d03c  684d5656442f9e  aeb375fc57110c        0       0   \n",
       "2        1eaf90ac73de72  6a4a42c3245a74  110163d8bb94ae        1       0   \n",
       "3        4616d365dd2853  a930a9c79cd721  f1f1f4ef412d7e        0       0   \n",
       "4        315c96c26c9aac  de04010b3458dd  6dc8ff871e21e6        0       0   \n",
       "...                 ...             ...             ...      ...     ...   \n",
       "4446961  afff7f652dbc10  d238e426f50de7  18492834ce5635        0       0   \n",
       "4446962  f4197cf374e6c0  408cdb5c46b2ac  ee854b837376d9        0       1   \n",
       "4446963  e1948b1295c88a  e26ac84bdf7cef  6d0cd12784f1ab        0       0   \n",
       "4446964  cc032cdd73b7ac  c2223f35411394  c9c701d0ad758a        0       4   \n",
       "4446965  0d8e7ed728b6fd  8c74f72fedf5ff  62a16aabcc095c        0       2   \n",
       "\n",
       "         damageDealt  DBNOs  headshotKills  heals  killPlace  ...  revives  \\\n",
       "0             0.0000      0              0      0         60  ...        0   \n",
       "1            91.4700      0              0      0         57  ...        0   \n",
       "2            68.0000      0              0      0         47  ...        0   \n",
       "3            32.9000      0              0      0         75  ...        0   \n",
       "4           100.0000      0              0      0         45  ...        0   \n",
       "...              ...    ...            ...    ...        ...  ...      ...   \n",
       "4446961       0.0000      0              0      0         74  ...        0   \n",
       "4446962      44.1500      0              0      0         69  ...        0   \n",
       "4446963      59.0600      0              0      0         66  ...        0   \n",
       "4446964     180.4000      1              1      2         11  ...        2   \n",
       "4446965     268.0000      0              0      1         18  ...        0   \n",
       "\n",
       "         rideDistance  roadKills  swimDistance  teamKills vehicleDestroys  \\\n",
       "0              0.0000          0        0.0000          0               0   \n",
       "1              0.0045          0       11.0400          0               0   \n",
       "2              0.0000          0        0.0000          0               0   \n",
       "3              0.0000          0        0.0000          0               0   \n",
       "4              0.0000          0        0.0000          0               0   \n",
       "...               ...        ...           ...        ...             ...   \n",
       "4446961     1292.0000          0        0.0000          0               0   \n",
       "4446962        0.0000          0        0.0000          0               0   \n",
       "4446963        0.0000          0        2.1840          0               0   \n",
       "4446964        0.0000          0        0.0000          0               0   \n",
       "4446965     1369.0000          0        0.0000          0               0   \n",
       "\n",
       "         walkDistance  weaponsAcquired  winPoints  winPlacePerc  \n",
       "0            244.8000                1       1466        0.4444  \n",
       "1           1434.0000                5          0        0.6400  \n",
       "2            161.8000                2          0        0.7755  \n",
       "3            202.7000                3          0        0.1667  \n",
       "4             49.7500                2          0        0.1875  \n",
       "...               ...              ...        ...           ...  \n",
       "4446961     1019.0000                3       1507        0.1786  \n",
       "4446962       81.7000                6          0        0.2935  \n",
       "4446963      788.7000                4          0        0.4815  \n",
       "4446964     2748.0000                8          0        0.8000  \n",
       "4446965     1244.0000                5          0        0.5464  \n",
       "\n",
       "[4446966 rows x 29 columns]"
      ]
     },
     "execution_count": 2,
     "metadata": {},
     "output_type": "execute_result"
    }
   ],
   "source": [
    "df = pd.read_csv('../../Machine-Running_LJW/Group Project/train_V2.csv')\n",
    "df"
   ]
  },
  {
   "cell_type": "code",
   "execution_count": 3,
   "id": "e0ddff66",
   "metadata": {
    "scrolled": false
   },
   "outputs": [
    {
     "name": "stdout",
     "output_type": "stream",
     "text": [
      "<class 'pandas.core.frame.DataFrame'>\n",
      "RangeIndex: 4446966 entries, 0 to 4446965\n",
      "Data columns (total 29 columns):\n",
      " #   Column           Dtype  \n",
      "---  ------           -----  \n",
      " 0   Id               object \n",
      " 1   groupId          object \n",
      " 2   matchId          object \n",
      " 3   assists          int64  \n",
      " 4   boosts           int64  \n",
      " 5   damageDealt      float64\n",
      " 6   DBNOs            int64  \n",
      " 7   headshotKills    int64  \n",
      " 8   heals            int64  \n",
      " 9   killPlace        int64  \n",
      " 10  killPoints       int64  \n",
      " 11  kills            int64  \n",
      " 12  killStreaks      int64  \n",
      " 13  longestKill      float64\n",
      " 14  matchDuration    int64  \n",
      " 15  matchType        object \n",
      " 16  maxPlace         int64  \n",
      " 17  numGroups        int64  \n",
      " 18  rankPoints       int64  \n",
      " 19  revives          int64  \n",
      " 20  rideDistance     float64\n",
      " 21  roadKills        int64  \n",
      " 22  swimDistance     float64\n",
      " 23  teamKills        int64  \n",
      " 24  vehicleDestroys  int64  \n",
      " 25  walkDistance     float64\n",
      " 26  weaponsAcquired  int64  \n",
      " 27  winPoints        int64  \n",
      " 28  winPlacePerc     float64\n",
      "dtypes: float64(6), int64(19), object(4)\n",
      "memory usage: 983.9+ MB\n"
     ]
    }
   ],
   "source": [
    "df.info()"
   ]
  },
  {
   "cell_type": "code",
   "execution_count": 4,
   "id": "a7a4fdad",
   "metadata": {},
   "outputs": [
    {
     "data": {
      "text/html": [
       "<div>\n",
       "<style scoped>\n",
       "    .dataframe tbody tr th:only-of-type {\n",
       "        vertical-align: middle;\n",
       "    }\n",
       "\n",
       "    .dataframe tbody tr th {\n",
       "        vertical-align: top;\n",
       "    }\n",
       "\n",
       "    .dataframe thead th {\n",
       "        text-align: right;\n",
       "    }\n",
       "</style>\n",
       "<table border=\"1\" class=\"dataframe\">\n",
       "  <thead>\n",
       "    <tr style=\"text-align: right;\">\n",
       "      <th></th>\n",
       "      <th>assists</th>\n",
       "      <th>boosts</th>\n",
       "      <th>damageDealt</th>\n",
       "      <th>DBNOs</th>\n",
       "      <th>headshotKills</th>\n",
       "      <th>heals</th>\n",
       "      <th>killPlace</th>\n",
       "      <th>killPoints</th>\n",
       "      <th>kills</th>\n",
       "      <th>killStreaks</th>\n",
       "      <th>...</th>\n",
       "      <th>revives</th>\n",
       "      <th>rideDistance</th>\n",
       "      <th>roadKills</th>\n",
       "      <th>swimDistance</th>\n",
       "      <th>teamKills</th>\n",
       "      <th>vehicleDestroys</th>\n",
       "      <th>walkDistance</th>\n",
       "      <th>weaponsAcquired</th>\n",
       "      <th>winPoints</th>\n",
       "      <th>winPlacePerc</th>\n",
       "    </tr>\n",
       "  </thead>\n",
       "  <tbody>\n",
       "    <tr>\n",
       "      <th>count</th>\n",
       "      <td>4446966.0000</td>\n",
       "      <td>4446966.0000</td>\n",
       "      <td>4446966.0000</td>\n",
       "      <td>4446966.0000</td>\n",
       "      <td>4446966.0000</td>\n",
       "      <td>4446966.0000</td>\n",
       "      <td>4446966.0000</td>\n",
       "      <td>4446966.0000</td>\n",
       "      <td>4446966.0000</td>\n",
       "      <td>4446966.0000</td>\n",
       "      <td>...</td>\n",
       "      <td>4446966.0000</td>\n",
       "      <td>4446966.0000</td>\n",
       "      <td>4446966.0000</td>\n",
       "      <td>4446966.0000</td>\n",
       "      <td>4446966.0000</td>\n",
       "      <td>4446966.0000</td>\n",
       "      <td>4446966.0000</td>\n",
       "      <td>4446966.0000</td>\n",
       "      <td>4446966.0000</td>\n",
       "      <td>4446965.0000</td>\n",
       "    </tr>\n",
       "    <tr>\n",
       "      <th>mean</th>\n",
       "      <td>0.2338</td>\n",
       "      <td>1.1069</td>\n",
       "      <td>130.7171</td>\n",
       "      <td>0.6579</td>\n",
       "      <td>0.2268</td>\n",
       "      <td>1.3701</td>\n",
       "      <td>47.5994</td>\n",
       "      <td>505.0060</td>\n",
       "      <td>0.9248</td>\n",
       "      <td>0.5440</td>\n",
       "      <td>...</td>\n",
       "      <td>0.1647</td>\n",
       "      <td>606.1157</td>\n",
       "      <td>0.0035</td>\n",
       "      <td>4.5093</td>\n",
       "      <td>0.0239</td>\n",
       "      <td>0.0079</td>\n",
       "      <td>1154.2179</td>\n",
       "      <td>3.6605</td>\n",
       "      <td>606.4601</td>\n",
       "      <td>0.4728</td>\n",
       "    </tr>\n",
       "    <tr>\n",
       "      <th>std</th>\n",
       "      <td>0.5886</td>\n",
       "      <td>1.7158</td>\n",
       "      <td>170.7806</td>\n",
       "      <td>1.1457</td>\n",
       "      <td>0.6022</td>\n",
       "      <td>2.6800</td>\n",
       "      <td>27.4629</td>\n",
       "      <td>627.5049</td>\n",
       "      <td>1.5584</td>\n",
       "      <td>0.7110</td>\n",
       "      <td>...</td>\n",
       "      <td>0.4722</td>\n",
       "      <td>1498.3435</td>\n",
       "      <td>0.0734</td>\n",
       "      <td>30.5022</td>\n",
       "      <td>0.1674</td>\n",
       "      <td>0.0926</td>\n",
       "      <td>1183.4970</td>\n",
       "      <td>2.4565</td>\n",
       "      <td>739.7004</td>\n",
       "      <td>0.3074</td>\n",
       "    </tr>\n",
       "    <tr>\n",
       "      <th>min</th>\n",
       "      <td>0.0000</td>\n",
       "      <td>0.0000</td>\n",
       "      <td>0.0000</td>\n",
       "      <td>0.0000</td>\n",
       "      <td>0.0000</td>\n",
       "      <td>0.0000</td>\n",
       "      <td>1.0000</td>\n",
       "      <td>0.0000</td>\n",
       "      <td>0.0000</td>\n",
       "      <td>0.0000</td>\n",
       "      <td>...</td>\n",
       "      <td>0.0000</td>\n",
       "      <td>0.0000</td>\n",
       "      <td>0.0000</td>\n",
       "      <td>0.0000</td>\n",
       "      <td>0.0000</td>\n",
       "      <td>0.0000</td>\n",
       "      <td>0.0000</td>\n",
       "      <td>0.0000</td>\n",
       "      <td>0.0000</td>\n",
       "      <td>0.0000</td>\n",
       "    </tr>\n",
       "    <tr>\n",
       "      <th>25%</th>\n",
       "      <td>0.0000</td>\n",
       "      <td>0.0000</td>\n",
       "      <td>0.0000</td>\n",
       "      <td>0.0000</td>\n",
       "      <td>0.0000</td>\n",
       "      <td>0.0000</td>\n",
       "      <td>24.0000</td>\n",
       "      <td>0.0000</td>\n",
       "      <td>0.0000</td>\n",
       "      <td>0.0000</td>\n",
       "      <td>...</td>\n",
       "      <td>0.0000</td>\n",
       "      <td>0.0000</td>\n",
       "      <td>0.0000</td>\n",
       "      <td>0.0000</td>\n",
       "      <td>0.0000</td>\n",
       "      <td>0.0000</td>\n",
       "      <td>155.1000</td>\n",
       "      <td>2.0000</td>\n",
       "      <td>0.0000</td>\n",
       "      <td>0.2000</td>\n",
       "    </tr>\n",
       "    <tr>\n",
       "      <th>50%</th>\n",
       "      <td>0.0000</td>\n",
       "      <td>0.0000</td>\n",
       "      <td>84.2400</td>\n",
       "      <td>0.0000</td>\n",
       "      <td>0.0000</td>\n",
       "      <td>0.0000</td>\n",
       "      <td>47.0000</td>\n",
       "      <td>0.0000</td>\n",
       "      <td>0.0000</td>\n",
       "      <td>0.0000</td>\n",
       "      <td>...</td>\n",
       "      <td>0.0000</td>\n",
       "      <td>0.0000</td>\n",
       "      <td>0.0000</td>\n",
       "      <td>0.0000</td>\n",
       "      <td>0.0000</td>\n",
       "      <td>0.0000</td>\n",
       "      <td>685.6000</td>\n",
       "      <td>3.0000</td>\n",
       "      <td>0.0000</td>\n",
       "      <td>0.4583</td>\n",
       "    </tr>\n",
       "    <tr>\n",
       "      <th>75%</th>\n",
       "      <td>0.0000</td>\n",
       "      <td>2.0000</td>\n",
       "      <td>186.0000</td>\n",
       "      <td>1.0000</td>\n",
       "      <td>0.0000</td>\n",
       "      <td>2.0000</td>\n",
       "      <td>71.0000</td>\n",
       "      <td>1172.0000</td>\n",
       "      <td>1.0000</td>\n",
       "      <td>1.0000</td>\n",
       "      <td>...</td>\n",
       "      <td>0.0000</td>\n",
       "      <td>0.1910</td>\n",
       "      <td>0.0000</td>\n",
       "      <td>0.0000</td>\n",
       "      <td>0.0000</td>\n",
       "      <td>0.0000</td>\n",
       "      <td>1976.0000</td>\n",
       "      <td>5.0000</td>\n",
       "      <td>1495.0000</td>\n",
       "      <td>0.7407</td>\n",
       "    </tr>\n",
       "    <tr>\n",
       "      <th>max</th>\n",
       "      <td>22.0000</td>\n",
       "      <td>33.0000</td>\n",
       "      <td>6616.0000</td>\n",
       "      <td>53.0000</td>\n",
       "      <td>64.0000</td>\n",
       "      <td>80.0000</td>\n",
       "      <td>101.0000</td>\n",
       "      <td>2170.0000</td>\n",
       "      <td>72.0000</td>\n",
       "      <td>20.0000</td>\n",
       "      <td>...</td>\n",
       "      <td>39.0000</td>\n",
       "      <td>40710.0000</td>\n",
       "      <td>18.0000</td>\n",
       "      <td>3823.0000</td>\n",
       "      <td>12.0000</td>\n",
       "      <td>5.0000</td>\n",
       "      <td>25780.0000</td>\n",
       "      <td>236.0000</td>\n",
       "      <td>2013.0000</td>\n",
       "      <td>1.0000</td>\n",
       "    </tr>\n",
       "  </tbody>\n",
       "</table>\n",
       "<p>8 rows × 25 columns</p>\n",
       "</div>"
      ],
      "text/plain": [
       "           assists       boosts  damageDealt        DBNOs  headshotKills  \\\n",
       "count 4446966.0000 4446966.0000 4446966.0000 4446966.0000   4446966.0000   \n",
       "mean        0.2338       1.1069     130.7171       0.6579         0.2268   \n",
       "std         0.5886       1.7158     170.7806       1.1457         0.6022   \n",
       "min         0.0000       0.0000       0.0000       0.0000         0.0000   \n",
       "25%         0.0000       0.0000       0.0000       0.0000         0.0000   \n",
       "50%         0.0000       0.0000      84.2400       0.0000         0.0000   \n",
       "75%         0.0000       2.0000     186.0000       1.0000         0.0000   \n",
       "max        22.0000      33.0000    6616.0000      53.0000        64.0000   \n",
       "\n",
       "             heals    killPlace   killPoints        kills  killStreaks  ...  \\\n",
       "count 4446966.0000 4446966.0000 4446966.0000 4446966.0000 4446966.0000  ...   \n",
       "mean        1.3701      47.5994     505.0060       0.9248       0.5440  ...   \n",
       "std         2.6800      27.4629     627.5049       1.5584       0.7110  ...   \n",
       "min         0.0000       1.0000       0.0000       0.0000       0.0000  ...   \n",
       "25%         0.0000      24.0000       0.0000       0.0000       0.0000  ...   \n",
       "50%         0.0000      47.0000       0.0000       0.0000       0.0000  ...   \n",
       "75%         2.0000      71.0000    1172.0000       1.0000       1.0000  ...   \n",
       "max        80.0000     101.0000    2170.0000      72.0000      20.0000  ...   \n",
       "\n",
       "           revives  rideDistance    roadKills  swimDistance    teamKills  \\\n",
       "count 4446966.0000  4446966.0000 4446966.0000  4446966.0000 4446966.0000   \n",
       "mean        0.1647      606.1157       0.0035        4.5093       0.0239   \n",
       "std         0.4722     1498.3435       0.0734       30.5022       0.1674   \n",
       "min         0.0000        0.0000       0.0000        0.0000       0.0000   \n",
       "25%         0.0000        0.0000       0.0000        0.0000       0.0000   \n",
       "50%         0.0000        0.0000       0.0000        0.0000       0.0000   \n",
       "75%         0.0000        0.1910       0.0000        0.0000       0.0000   \n",
       "max        39.0000    40710.0000      18.0000     3823.0000      12.0000   \n",
       "\n",
       "       vehicleDestroys  walkDistance  weaponsAcquired    winPoints  \\\n",
       "count     4446966.0000  4446966.0000     4446966.0000 4446966.0000   \n",
       "mean            0.0079     1154.2179           3.6605     606.4601   \n",
       "std             0.0926     1183.4970           2.4565     739.7004   \n",
       "min             0.0000        0.0000           0.0000       0.0000   \n",
       "25%             0.0000      155.1000           2.0000       0.0000   \n",
       "50%             0.0000      685.6000           3.0000       0.0000   \n",
       "75%             0.0000     1976.0000           5.0000    1495.0000   \n",
       "max             5.0000    25780.0000         236.0000    2013.0000   \n",
       "\n",
       "       winPlacePerc  \n",
       "count  4446965.0000  \n",
       "mean         0.4728  \n",
       "std          0.3074  \n",
       "min          0.0000  \n",
       "25%          0.2000  \n",
       "50%          0.4583  \n",
       "75%          0.7407  \n",
       "max          1.0000  \n",
       "\n",
       "[8 rows x 25 columns]"
      ]
     },
     "execution_count": 4,
     "metadata": {},
     "output_type": "execute_result"
    }
   ],
   "source": [
    "df.describe()"
   ]
  },
  {
   "cell_type": "code",
   "execution_count": 5,
   "id": "334721d9",
   "metadata": {},
   "outputs": [],
   "source": [
    "# # Memory saving function credit to https://www.kaggle.com/gemartin/load-data-reduce-memory-usage\n",
    "# def reduce_mem_usage(df):\n",
    "#     \"\"\" iterate through all the columns of a dataframe and modify the data type\n",
    "#         to reduce memory usage.        \n",
    "#     \"\"\"\n",
    "#     #start_mem = df.memory_usage().sum() / 1024**2\n",
    "#     #print('Memory usage of dataframe is {:.2f} MB'.format(start_mem))\n",
    "\n",
    "#     for col in df.columns:\n",
    "#         col_type = df[col].dtype\n",
    "\n",
    "#         if col_type != object:\n",
    "#             c_min = df[col].min()\n",
    "#             c_max = df[col].max()\n",
    "#             if str(col_type)[:3] == 'int':\n",
    "#                 if c_min > np.iinfo(np.int8).min and c_max < np.iinfo(np.int8).max:\n",
    "#                     df[col] = df[col].astype(np.int8)\n",
    "#                 elif c_min > np.iinfo(np.int16).min and c_max < np.iinfo(np.int16).max:\n",
    "#                     df[col] = df[col].astype(np.int16)\n",
    "#                 elif c_min > np.iinfo(np.int32).min and c_max < np.iinfo(np.int32).max:\n",
    "#                     df[col] = df[col].astype(np.int32)\n",
    "#                 elif c_min > np.iinfo(np.int64).min and c_max < np.iinfo(np.int64).max:\n",
    "#                     df[col] = df[col].astype(np.int64)  \n",
    "#             else:\n",
    "#                 if c_min > np.finfo(np.float16).min and c_max < np.finfo(np.float16).max:\n",
    "#                     df[col] = df[col].astype(np.float16)\n",
    "#                 elif c_min > np.finfo(np.float32).min and c_max < np.finfo(np.float32).max:\n",
    "#                     df[col] = df[col].astype(np.float32)\n",
    "#                 else:\n",
    "#                     df[col] = df[col].astype(np.float64)\n",
    "\n",
    "#     #end_mem = df.memory_usage().sum() / 1024**2\n",
    "#     #print('Memory usage after optimization is: {:.2f} MB'.format(end_mem))\n",
    "#     #print('Decreased by {:.1f}%'.format(100 * (start_mem - end_mem) / start_mem))\n",
    "\n",
    "#     return df"
   ]
  },
  {
   "cell_type": "code",
   "execution_count": 6,
   "id": "b26ed5a1",
   "metadata": {
    "scrolled": true
   },
   "outputs": [],
   "source": [
    "# df = reduce_mem_usage(df)\n",
    "# df"
   ]
  },
  {
   "cell_type": "code",
   "execution_count": 7,
   "id": "3fc15656",
   "metadata": {},
   "outputs": [
    {
     "name": "stdout",
     "output_type": "stream",
     "text": [
      "<class 'pandas.core.frame.DataFrame'>\n",
      "RangeIndex: 4446966 entries, 0 to 4446965\n",
      "Data columns (total 29 columns):\n",
      " #   Column           Dtype  \n",
      "---  ------           -----  \n",
      " 0   Id               object \n",
      " 1   groupId          object \n",
      " 2   matchId          object \n",
      " 3   assists          int64  \n",
      " 4   boosts           int64  \n",
      " 5   damageDealt      float64\n",
      " 6   DBNOs            int64  \n",
      " 7   headshotKills    int64  \n",
      " 8   heals            int64  \n",
      " 9   killPlace        int64  \n",
      " 10  killPoints       int64  \n",
      " 11  kills            int64  \n",
      " 12  killStreaks      int64  \n",
      " 13  longestKill      float64\n",
      " 14  matchDuration    int64  \n",
      " 15  matchType        object \n",
      " 16  maxPlace         int64  \n",
      " 17  numGroups        int64  \n",
      " 18  rankPoints       int64  \n",
      " 19  revives          int64  \n",
      " 20  rideDistance     float64\n",
      " 21  roadKills        int64  \n",
      " 22  swimDistance     float64\n",
      " 23  teamKills        int64  \n",
      " 24  vehicleDestroys  int64  \n",
      " 25  walkDistance     float64\n",
      " 26  weaponsAcquired  int64  \n",
      " 27  winPoints        int64  \n",
      " 28  winPlacePerc     float64\n",
      "dtypes: float64(6), int64(19), object(4)\n",
      "memory usage: 983.9+ MB\n"
     ]
    }
   ],
   "source": [
    "df.info()"
   ]
  },
  {
   "cell_type": "markdown",
   "id": "868c2e67",
   "metadata": {},
   "source": [
    "## 데이터 기본 전처리"
   ]
  },
  {
   "cell_type": "code",
   "execution_count": 5,
   "id": "a698c35a",
   "metadata": {},
   "outputs": [
    {
     "name": "stdout",
     "output_type": "stream",
     "text": [
      "1개의 data를 삭제하였으며, 남은 data의 수는 4446965개 입니다.\n"
     ]
    }
   ],
   "source": [
    "# target 1 row null data drop\n",
    "\n",
    "num = df.isna().sum().sum()\n",
    "\n",
    "df = df.dropna()\n",
    "\n",
    "print(f'{4446966-len(df)}개의 data를 삭제하였으며, 남은 data의 수는 {len(df)}개 입니다.')"
   ]
  },
  {
   "cell_type": "markdown",
   "id": "b8112232",
   "metadata": {},
   "source": [
    "- 각 컬럼별 설명\n",
    "\n",
    "    - **Id** - 플레이어 아이디\n",
    "    - **groupId** - 매치 내에서 그룹을 식별하기 위한 ID입니다.   \n",
    "        같은 그룹의 플레이어가 다른 경기에서 플레이하는 경우 매번 다른 groupId를 갖습니다.\n",
    "    - **matchId** - 일치를 식별하는 ID입니다.   \n",
    "        훈련 세트와 테스트 세트 모두에 일치하는 항목이 없습니다.\n",
    "    - **assists** - 이 플레이어가 피해를 주었고 팀원들에 의해 사망한 적 플레이어의 수입니다. 팀원과 같이 싸웠다는 지표\n",
    "    - **boosts** - 사용된 부스트 아이템의 수입니다.\n",
    "    - **DamageDealt** - 가한 총 피해량입니다. \n",
    "        참고: 자신이 입힌 피해는 차감됩니다. 팀 합산\n",
    "    - **DBNO** - 적을 다운시킨 플레이어의 수입니다.\n",
    "    - **headshotKills** - 헤드샷으로 사망한 적 플레이어의 수입니다.\n",
    "    - **heals** - 사용된 치유 아이템의 수입니다.\n",
    "    - **killPlace** - 죽인 적 플레이어 수의 경기 순위입니다.  \n",
    "    - **killPoints** - 플레이어의 킬 기반 외부 순위입니다.  \n",
    "        (이것을 킬만 중요한 Elo 순위라고 생각하십시오.)  \n",
    "        rankPoints에 -1 이외의 값이 있는 경우 killPoints의 0은 \"없음\"으로 처리되어야 합니다.\n",
    "    - **kills** - 죽인 적 플레이어의 수.\n",
    "    - **killStreaks** - 짧은 시간에 죽인 적 플레이어의 최대 수입니다.\n",
    "    - **longKill** - 사망 시 사망한 플레이어와 플레이어 사이의 최장 거리입니다.  \n",
    "        플레이어를 쓰러뜨리고 drive away하면 가장 긴 킬 통계가 나올 수 있으므로 이는 오해의 소지가 있습니다.\n",
    "    - **matchDuration** - 경기 시간(초)입니다.\n",
    "    - **matchType** - 데이터의 출처인 게임 모드를 식별하는 문자열입니다.   \n",
    "        표준 모드는 \"solo\", \"duo\", \"squad\", \"solo-fpp\", \"duo-fpp\" 및 \"squad-fpp\"입니다.  \n",
    "        다른 모드는 이벤트 또는 사용자 지정 일치에서 가져온 것입니다.\n",
    "    - **maxPlace** - 경기에서 데이터가 있는 최악의 위치입니다.  \n",
    "        데이터가 배치를 건너뛰는 경우가 있으므로 numGroups와 일치하지 않을 수 있습니다.\n",
    "    - **numGroups** - 경기에서 데이터가 있는 그룹의 수입니다.\n",
    "    - **rankPoints** - 플레이어의 Elo와 같은 순위입니다.  \n",
    "        이 순위는 일관성이 없으며 API의 다음 버전에서 더 이상 사용되지 않으므로 주의해서 사용하십시오.  \n",
    "        -1 값은 \"없음\"을 대신합니다.\n",
    "    - **revives** - 이 플레이어가 팀원을 소생시킨 횟수입니다.\n",
    "    - **rideDistance** - 미터로 측정한 차량의 총 이동 거리입니다.\n",
    "    - **roadKills** - 차량에 있는 동안 킬 수입니다.\n",
    "    - **swimDistance** - 미터로 측정한 수영으로 이동한 총 거리.\n",
    "    - **teamKills** - 이 플레이어가 팀원을 죽인 횟수입니다.\n",
    "    - **vehicleDestroys** - 파괴된 차량의 수입니다.\n",
    "    - **walkDistance** - 미터로 측정한 도보로 이동한 총 거리.\n",
    "    - **weaponAcquired** - 획득한 무기의 수입니다.\n",
    "    - **winPoints** - 승리 기반 플레이어의 외부 순위입니다.  \n",
    "        (이것을 승리만이 중요한 Elo 순위라고 생각하십시오.)  \n",
    "        rankPoints에 -1 이외의 값이 있는 경우 winPoints의 0은 \"없음\"으로 처리되어야 합니다.\n",
    "    - **winPlacePerc** - 예측 대상입니다.  \n",
    "        이것은 백분위수 승리 배치로, 1은 1위, 0은 경기의 마지막 순위에 해당합니다.  \n",
    "        numGroups가 아닌 maxPlace에서 계산되므로 일치 항목에서 청크가 누락될 수 있습니다."
   ]
  },
  {
   "cell_type": "code",
   "execution_count": 6,
   "id": "93adf96b",
   "metadata": {},
   "outputs": [
    {
     "data": {
      "text/html": [
       "<div>\n",
       "<style scoped>\n",
       "    .dataframe tbody tr th:only-of-type {\n",
       "        vertical-align: middle;\n",
       "    }\n",
       "\n",
       "    .dataframe tbody tr th {\n",
       "        vertical-align: top;\n",
       "    }\n",
       "\n",
       "    .dataframe thead th {\n",
       "        text-align: right;\n",
       "    }\n",
       "</style>\n",
       "<table border=\"1\" class=\"dataframe\">\n",
       "  <thead>\n",
       "    <tr style=\"text-align: right;\">\n",
       "      <th></th>\n",
       "      <th>winPlacePerc</th>\n",
       "    </tr>\n",
       "  </thead>\n",
       "  <tbody>\n",
       "    <tr>\n",
       "      <th>walkDistance</th>\n",
       "      <td>0.8100</td>\n",
       "    </tr>\n",
       "    <tr>\n",
       "      <th>boosts</th>\n",
       "      <td>0.6300</td>\n",
       "    </tr>\n",
       "    <tr>\n",
       "      <th>weaponsAcquired</th>\n",
       "      <td>0.5800</td>\n",
       "    </tr>\n",
       "    <tr>\n",
       "      <th>damageDealt</th>\n",
       "      <td>0.4400</td>\n",
       "    </tr>\n",
       "    <tr>\n",
       "      <th>heals</th>\n",
       "      <td>0.4300</td>\n",
       "    </tr>\n",
       "    <tr>\n",
       "      <th>kills</th>\n",
       "      <td>0.4200</td>\n",
       "    </tr>\n",
       "    <tr>\n",
       "      <th>longestKill</th>\n",
       "      <td>0.4100</td>\n",
       "    </tr>\n",
       "    <tr>\n",
       "      <th>killStreaks</th>\n",
       "      <td>0.3800</td>\n",
       "    </tr>\n",
       "    <tr>\n",
       "      <th>rideDistance</th>\n",
       "      <td>0.3400</td>\n",
       "    </tr>\n",
       "    <tr>\n",
       "      <th>assists</th>\n",
       "      <td>0.3000</td>\n",
       "    </tr>\n",
       "    <tr>\n",
       "      <th>headshotKills</th>\n",
       "      <td>0.2800</td>\n",
       "    </tr>\n",
       "    <tr>\n",
       "      <th>DBNOs</th>\n",
       "      <td>0.2800</td>\n",
       "    </tr>\n",
       "    <tr>\n",
       "      <th>revives</th>\n",
       "      <td>0.2400</td>\n",
       "    </tr>\n",
       "    <tr>\n",
       "      <th>swimDistance</th>\n",
       "      <td>0.1500</td>\n",
       "    </tr>\n",
       "    <tr>\n",
       "      <th>vehicleDestroys</th>\n",
       "      <td>0.0700</td>\n",
       "    </tr>\n",
       "    <tr>\n",
       "      <th>numGroups</th>\n",
       "      <td>0.0400</td>\n",
       "    </tr>\n",
       "    <tr>\n",
       "      <th>maxPlace</th>\n",
       "      <td>0.0400</td>\n",
       "    </tr>\n",
       "    <tr>\n",
       "      <th>roadKills</th>\n",
       "      <td>0.0300</td>\n",
       "    </tr>\n",
       "    <tr>\n",
       "      <th>teamKills</th>\n",
       "      <td>0.0200</td>\n",
       "    </tr>\n",
       "    <tr>\n",
       "      <th>killPoints</th>\n",
       "      <td>0.0100</td>\n",
       "    </tr>\n",
       "    <tr>\n",
       "      <th>rankPoints</th>\n",
       "      <td>0.0100</td>\n",
       "    </tr>\n",
       "    <tr>\n",
       "      <th>winPoints</th>\n",
       "      <td>0.0100</td>\n",
       "    </tr>\n",
       "    <tr>\n",
       "      <th>matchDuration</th>\n",
       "      <td>-0.0100</td>\n",
       "    </tr>\n",
       "    <tr>\n",
       "      <th>killPlace</th>\n",
       "      <td>-0.7200</td>\n",
       "    </tr>\n",
       "  </tbody>\n",
       "</table>\n",
       "</div>"
      ],
      "text/plain": [
       "                 winPlacePerc\n",
       "walkDistance           0.8100\n",
       "boosts                 0.6300\n",
       "weaponsAcquired        0.5800\n",
       "damageDealt            0.4400\n",
       "heals                  0.4300\n",
       "kills                  0.4200\n",
       "longestKill            0.4100\n",
       "killStreaks            0.3800\n",
       "rideDistance           0.3400\n",
       "assists                0.3000\n",
       "headshotKills          0.2800\n",
       "DBNOs                  0.2800\n",
       "revives                0.2400\n",
       "swimDistance           0.1500\n",
       "vehicleDestroys        0.0700\n",
       "numGroups              0.0400\n",
       "maxPlace               0.0400\n",
       "roadKills              0.0300\n",
       "teamKills              0.0200\n",
       "killPoints             0.0100\n",
       "rankPoints             0.0100\n",
       "winPoints              0.0100\n",
       "matchDuration         -0.0100\n",
       "killPlace             -0.7200"
      ]
     },
     "execution_count": 6,
     "metadata": {},
     "output_type": "execute_result"
    }
   ],
   "source": [
    "# target과의 상관계수 확인\n",
    "\n",
    "corr = df.corr()\n",
    "corr = corr.apply(lambda x: round(x ,2))\n",
    "# corr\n",
    "corr = corr['winPlacePerc'].sort_values(ascending = False)\n",
    "corr.to_frame().drop(['winPlacePerc'])"
   ]
  },
  {
   "cell_type": "markdown",
   "id": "de4d5138",
   "metadata": {},
   "source": [
    "- 각 컬럼별 1차 처리 방안\n",
    "\n",
    "    - **Id** - 모든 data가 unique 하므로 drop\n",
    "    - **groupId** - 해당 data가 무엇을 의미하는지 알수 없기에 제거해야 한다고 생각되나, 전처리 후 판단 예정.  \n",
    "        이상 데이터로 판단 시 drop 혹은 보류.\n",
    "    - **matchId** - 한 게임 당 인원 수가 부족한 판은 제거.  \n",
    "        -> 고유값이 60 이하(한 게임당 60명 이하 기준) 데이터는 drop.  \n",
    "        -> 모델링 시에는 해당 column data 전체를 drop 예정.\n",
    "    - **assists** - solo mode의 data가 없기 때문에 제거해야 한다고 생각되나,  \n",
    "        groupId를 사용하게 되면 필요 데이터가 될 수 있다고 판단되어 보류\n",
    "    - **boosts** - 중요 지표 중 하나로 판단. -> **이상치 제거 후 사용**\n",
    "    - **DamageDealt** - 중요 지표 중 하나로 판단. -> **이상치 제거 후 사용**\n",
    "    - **DBNO** - 적을 다운시킨 횟수로, 중요 지표 중 하나로 판단되나 의견이 갈려서 보류.\n",
    "    - **headshotKills** - 보류\n",
    "    - **heals** - **이상치 제거 후 사용**\n",
    "    - **killPlace** - 죽인 적 플레이어 수의 경기 순위입니다. -> **사용**  -> $data$ $leakage$ $issue$로 인해 drop\n",
    "    - **killPoints** - drop\n",
    "    - **kills** - 중요 지표 중 하나로 판단. -> **이상치 제거 후 사용**\n",
    "    - **killStreaks** - ,이상치가 많아 보이며 제거해야된다 판단. ->  보류\n",
    "    - **longKill** - 중요 데이터는 아닌듯 하여 보류\n",
    "    - **matchDuration** - drop\n",
    "    - **matchType** - 전처리를 진행(캐주얼, 노말 Mode drop)후 One-Hot Encoding하여 **사용**.   \n",
    "        추후 type별로 모델 학습해 보는것도 고려\n",
    "    - **maxPlace** - drop\n",
    "    - **numGroups** - 참가하는 팀이 적을수록 등수에 영향을 미친다? 보류\n",
    "    - **rankPoints** - 보류\n",
    "    - **revives** - assists와 동일한 이유로 보류\n",
    "    - **rideDistance** - 보류\n",
    "    - **roadKills** - drop\n",
    "    - **swimDistance** - 보류\n",
    "    - **teamKills** - drop\n",
    "    - **vehicleDestroys** - drop\n",
    "    - **walkDistance** - **이상치 제거 후 사용**\n",
    "    - **weaponAcquired** - **이상치 제거 후 사용**\n",
    "    - **winPoints** - 보류\n",
    "    - **winPlacePerc** - target data"
   ]
  },
  {
   "cell_type": "code",
   "execution_count": 7,
   "id": "2ede469c",
   "metadata": {
    "scrolled": true
   },
   "outputs": [
    {
     "data": {
      "text/plain": [
       "4446965"
      ]
     },
     "execution_count": 7,
     "metadata": {},
     "output_type": "execute_result"
    }
   ],
   "source": [
    "len(df)"
   ]
  },
  {
   "cell_type": "markdown",
   "id": "3dff9c67",
   "metadata": {},
   "source": [
    "1. 총 3가지 종류 tpp, fpp,  캐주얼모드\n",
    "    - fpp : 1인칭 모드\n",
    "    - tpp : 3인칭 모드\n",
    "    - normal : 일반 모드\n",
    "\n",
    "2. 고려 대상  \n",
    "    1) **fpp 모드** : ['duo', 'duo-fpp', 'solo', 'solo-fpp', 'squad', 'squad-fpp']\n",
    "\n",
    "2. 제외 대상  \n",
    "    1) **normal mode** : ['normal-duo', 'normal-duo-fpp', 'normal-solo', 'normal-solo-fpp', 'normal-squad', 'normal-squad-fpp']     \n",
    "    2) **etc** : ['crashfpp', 'crashtpp', 'flarefpp', 'flaretpp']"
   ]
  },
  {
   "cell_type": "code",
   "execution_count": 8,
   "id": "b8cbee28",
   "metadata": {},
   "outputs": [
    {
     "data": {
      "text/plain": [
       "['crashfpp',\n",
       " 'crashtpp',\n",
       " 'duo',\n",
       " 'duo-fpp',\n",
       " 'flarefpp',\n",
       " 'flaretpp',\n",
       " 'normal-duo',\n",
       " 'normal-duo-fpp',\n",
       " 'normal-solo',\n",
       " 'normal-solo-fpp',\n",
       " 'normal-squad',\n",
       " 'normal-squad-fpp',\n",
       " 'solo',\n",
       " 'solo-fpp',\n",
       " 'squad',\n",
       " 'squad-fpp']"
      ]
     },
     "execution_count": 8,
     "metadata": {},
     "output_type": "execute_result"
    }
   ],
   "source": [
    "matchType = sorted(df['matchType'].unique())\n",
    "matchType"
   ]
  },
  {
   "cell_type": "code",
   "execution_count": 9,
   "id": "36879f12",
   "metadata": {},
   "outputs": [
    {
     "name": "stdout",
     "output_type": "stream",
     "text": [
      "['normal-duo', 'normal-duo-fpp', 'normal-solo', 'normal-solo-fpp', 'normal-squad', 'normal-squad-fpp']\n",
      "['duo', 'duo-fpp', 'solo', 'solo-fpp', 'squad', 'squad-fpp']\n",
      "['crashfpp', 'crashtpp', 'flarefpp', 'flaretpp']\n"
     ]
    }
   ],
   "source": [
    "matchType = sorted(df['matchType'].unique())\n",
    "matchType_normal = [word for word in matchType if 'normal' in word]\n",
    "matchType_fpp = [word for word in matchType if 'normal' not in word if 'crash' not in word if 'flare' not in word]\n",
    "matchType_etc = [word for word in matchType if word not in matchType_normal if word not in matchType_fpp]\n",
    "print(matchType_normal)\n",
    "print(matchType_fpp)\n",
    "print(matchType_etc)"
   ]
  },
  {
   "cell_type": "code",
   "execution_count": 10,
   "id": "75fffe69",
   "metadata": {},
   "outputs": [
    {
     "name": "stdout",
     "output_type": "stream",
     "text": [
      "35267개의 data를 삭제하였으며, 남은 data의 수는 4411698개 입니다.\n"
     ]
    }
   ],
   "source": [
    "# 캐쥬얼 모드,사용자 지정 모드를 제외\n",
    "cond=df.matchType.isin(['squad-fpp','duo-fpp','squad','solo-fpp','duo','solo'])\n",
    "df = df[cond]\n",
    "\n",
    "print(f'{4446965-len(df)}개의 data를 삭제하였으며, 남은 data의 수는 {len(df)}개 입니다.')"
   ]
  },
  {
   "cell_type": "code",
   "execution_count": 11,
   "id": "8a3f9da7",
   "metadata": {},
   "outputs": [
    {
     "name": "stdout",
     "output_type": "stream",
     "text": [
      "21120개의 data를 삭제하였으며, 남은 data의 수는 4390578개 입니다.\n"
     ]
    }
   ],
   "source": [
    "# matchid 60명 이하인 데이터 drop\n",
    "matchId_drop = df['matchId'].value_counts().loc[df['matchId'].value_counts()>60].index\n",
    "df = df.loc[df['matchId'].isin(matchId_drop)]\n",
    "\n",
    "print(f'{4411698-len(df)}개의 data를 삭제하였으며, 남은 data의 수는 {len(df)}개 입니다.')"
   ]
  },
  {
   "cell_type": "code",
   "execution_count": 12,
   "id": "1a6a4cb5",
   "metadata": {},
   "outputs": [],
   "source": [
    "# 1차로 보지 않을 컬럼 제외\n",
    "\n",
    "df = df.drop(columns=['Id',\n",
    "                 'killPlace',\n",
    "                 'killPoints',\n",
    "                 'matchDuration',\n",
    "                 'maxPlace',\n",
    "                 'teamKills',\n",
    "                 'roadKills',\n",
    "                 'vehicleDestroys',\n",
    "                ])"
   ]
  },
  {
   "cell_type": "code",
   "execution_count": 13,
   "id": "923d971e",
   "metadata": {
    "scrolled": false
   },
   "outputs": [
    {
     "data": {
      "text/html": [
       "<div>\n",
       "<style scoped>\n",
       "    .dataframe tbody tr th:only-of-type {\n",
       "        vertical-align: middle;\n",
       "    }\n",
       "\n",
       "    .dataframe tbody tr th {\n",
       "        vertical-align: top;\n",
       "    }\n",
       "\n",
       "    .dataframe thead th {\n",
       "        text-align: right;\n",
       "    }\n",
       "</style>\n",
       "<table border=\"1\" class=\"dataframe\">\n",
       "  <thead>\n",
       "    <tr style=\"text-align: right;\">\n",
       "      <th></th>\n",
       "      <th>groupId</th>\n",
       "      <th>matchId</th>\n",
       "      <th>assists</th>\n",
       "      <th>boosts</th>\n",
       "      <th>damageDealt</th>\n",
       "      <th>DBNOs</th>\n",
       "      <th>headshotKills</th>\n",
       "      <th>heals</th>\n",
       "      <th>kills</th>\n",
       "      <th>killStreaks</th>\n",
       "      <th>...</th>\n",
       "      <th>matchType</th>\n",
       "      <th>numGroups</th>\n",
       "      <th>rankPoints</th>\n",
       "      <th>revives</th>\n",
       "      <th>rideDistance</th>\n",
       "      <th>swimDistance</th>\n",
       "      <th>walkDistance</th>\n",
       "      <th>weaponsAcquired</th>\n",
       "      <th>winPoints</th>\n",
       "      <th>winPlacePerc</th>\n",
       "    </tr>\n",
       "  </thead>\n",
       "  <tbody>\n",
       "    <tr>\n",
       "      <th>0</th>\n",
       "      <td>4d4b580de459be</td>\n",
       "      <td>a10357fd1a4a91</td>\n",
       "      <td>0</td>\n",
       "      <td>0</td>\n",
       "      <td>0.0000</td>\n",
       "      <td>0</td>\n",
       "      <td>0</td>\n",
       "      <td>0</td>\n",
       "      <td>0</td>\n",
       "      <td>0</td>\n",
       "      <td>...</td>\n",
       "      <td>squad-fpp</td>\n",
       "      <td>26</td>\n",
       "      <td>-1</td>\n",
       "      <td>0</td>\n",
       "      <td>0.0000</td>\n",
       "      <td>0.0000</td>\n",
       "      <td>244.8000</td>\n",
       "      <td>1</td>\n",
       "      <td>1466</td>\n",
       "      <td>0.4444</td>\n",
       "    </tr>\n",
       "    <tr>\n",
       "      <th>1</th>\n",
       "      <td>684d5656442f9e</td>\n",
       "      <td>aeb375fc57110c</td>\n",
       "      <td>0</td>\n",
       "      <td>0</td>\n",
       "      <td>91.4700</td>\n",
       "      <td>0</td>\n",
       "      <td>0</td>\n",
       "      <td>0</td>\n",
       "      <td>0</td>\n",
       "      <td>0</td>\n",
       "      <td>...</td>\n",
       "      <td>squad-fpp</td>\n",
       "      <td>25</td>\n",
       "      <td>1484</td>\n",
       "      <td>0</td>\n",
       "      <td>0.0045</td>\n",
       "      <td>11.0400</td>\n",
       "      <td>1434.0000</td>\n",
       "      <td>5</td>\n",
       "      <td>0</td>\n",
       "      <td>0.6400</td>\n",
       "    </tr>\n",
       "    <tr>\n",
       "      <th>2</th>\n",
       "      <td>6a4a42c3245a74</td>\n",
       "      <td>110163d8bb94ae</td>\n",
       "      <td>1</td>\n",
       "      <td>0</td>\n",
       "      <td>68.0000</td>\n",
       "      <td>0</td>\n",
       "      <td>0</td>\n",
       "      <td>0</td>\n",
       "      <td>0</td>\n",
       "      <td>0</td>\n",
       "      <td>...</td>\n",
       "      <td>duo</td>\n",
       "      <td>47</td>\n",
       "      <td>1491</td>\n",
       "      <td>0</td>\n",
       "      <td>0.0000</td>\n",
       "      <td>0.0000</td>\n",
       "      <td>161.8000</td>\n",
       "      <td>2</td>\n",
       "      <td>0</td>\n",
       "      <td>0.7755</td>\n",
       "    </tr>\n",
       "    <tr>\n",
       "      <th>3</th>\n",
       "      <td>a930a9c79cd721</td>\n",
       "      <td>f1f1f4ef412d7e</td>\n",
       "      <td>0</td>\n",
       "      <td>0</td>\n",
       "      <td>32.9000</td>\n",
       "      <td>0</td>\n",
       "      <td>0</td>\n",
       "      <td>0</td>\n",
       "      <td>0</td>\n",
       "      <td>0</td>\n",
       "      <td>...</td>\n",
       "      <td>squad-fpp</td>\n",
       "      <td>30</td>\n",
       "      <td>1408</td>\n",
       "      <td>0</td>\n",
       "      <td>0.0000</td>\n",
       "      <td>0.0000</td>\n",
       "      <td>202.7000</td>\n",
       "      <td>3</td>\n",
       "      <td>0</td>\n",
       "      <td>0.1667</td>\n",
       "    </tr>\n",
       "    <tr>\n",
       "      <th>4</th>\n",
       "      <td>de04010b3458dd</td>\n",
       "      <td>6dc8ff871e21e6</td>\n",
       "      <td>0</td>\n",
       "      <td>0</td>\n",
       "      <td>100.0000</td>\n",
       "      <td>0</td>\n",
       "      <td>0</td>\n",
       "      <td>0</td>\n",
       "      <td>1</td>\n",
       "      <td>1</td>\n",
       "      <td>...</td>\n",
       "      <td>solo-fpp</td>\n",
       "      <td>95</td>\n",
       "      <td>1560</td>\n",
       "      <td>0</td>\n",
       "      <td>0.0000</td>\n",
       "      <td>0.0000</td>\n",
       "      <td>49.7500</td>\n",
       "      <td>2</td>\n",
       "      <td>0</td>\n",
       "      <td>0.1875</td>\n",
       "    </tr>\n",
       "  </tbody>\n",
       "</table>\n",
       "<p>5 rows × 21 columns</p>\n",
       "</div>"
      ],
      "text/plain": [
       "          groupId         matchId  assists  boosts  damageDealt  DBNOs  \\\n",
       "0  4d4b580de459be  a10357fd1a4a91        0       0       0.0000      0   \n",
       "1  684d5656442f9e  aeb375fc57110c        0       0      91.4700      0   \n",
       "2  6a4a42c3245a74  110163d8bb94ae        1       0      68.0000      0   \n",
       "3  a930a9c79cd721  f1f1f4ef412d7e        0       0      32.9000      0   \n",
       "4  de04010b3458dd  6dc8ff871e21e6        0       0     100.0000      0   \n",
       "\n",
       "   headshotKills  heals  kills  killStreaks  ...  matchType numGroups  \\\n",
       "0              0      0      0            0  ...  squad-fpp        26   \n",
       "1              0      0      0            0  ...  squad-fpp        25   \n",
       "2              0      0      0            0  ...        duo        47   \n",
       "3              0      0      0            0  ...  squad-fpp        30   \n",
       "4              0      0      1            1  ...   solo-fpp        95   \n",
       "\n",
       "   rankPoints  revives  rideDistance  swimDistance  walkDistance  \\\n",
       "0          -1        0        0.0000        0.0000      244.8000   \n",
       "1        1484        0        0.0045       11.0400     1434.0000   \n",
       "2        1491        0        0.0000        0.0000      161.8000   \n",
       "3        1408        0        0.0000        0.0000      202.7000   \n",
       "4        1560        0        0.0000        0.0000       49.7500   \n",
       "\n",
       "   weaponsAcquired  winPoints  winPlacePerc  \n",
       "0                1       1466        0.4444  \n",
       "1                5          0        0.6400  \n",
       "2                2          0        0.7755  \n",
       "3                3          0        0.1667  \n",
       "4                2          0        0.1875  \n",
       "\n",
       "[5 rows x 21 columns]"
      ]
     },
     "execution_count": 13,
     "metadata": {},
     "output_type": "execute_result"
    }
   ],
   "source": [
    "df.head()"
   ]
  },
  {
   "cell_type": "code",
   "execution_count": 14,
   "id": "01d9d5b1",
   "metadata": {
    "scrolled": true
   },
   "outputs": [
    {
     "data": {
      "text/html": [
       "<div>\n",
       "<style scoped>\n",
       "    .dataframe tbody tr th:only-of-type {\n",
       "        vertical-align: middle;\n",
       "    }\n",
       "\n",
       "    .dataframe tbody tr th {\n",
       "        vertical-align: top;\n",
       "    }\n",
       "\n",
       "    .dataframe thead th {\n",
       "        text-align: right;\n",
       "    }\n",
       "</style>\n",
       "<table border=\"1\" class=\"dataframe\">\n",
       "  <thead>\n",
       "    <tr style=\"text-align: right;\">\n",
       "      <th></th>\n",
       "      <th>boosts</th>\n",
       "      <th>damageDealt</th>\n",
       "      <th>heals</th>\n",
       "      <th>kills</th>\n",
       "      <th>matchType</th>\n",
       "      <th>walkDistance</th>\n",
       "      <th>weaponsAcquired</th>\n",
       "      <th>winPlacePerc</th>\n",
       "    </tr>\n",
       "  </thead>\n",
       "  <tbody>\n",
       "    <tr>\n",
       "      <th>0</th>\n",
       "      <td>0</td>\n",
       "      <td>0.0000</td>\n",
       "      <td>0</td>\n",
       "      <td>0</td>\n",
       "      <td>squad-fpp</td>\n",
       "      <td>244.8000</td>\n",
       "      <td>1</td>\n",
       "      <td>0.4444</td>\n",
       "    </tr>\n",
       "    <tr>\n",
       "      <th>1</th>\n",
       "      <td>0</td>\n",
       "      <td>91.4700</td>\n",
       "      <td>0</td>\n",
       "      <td>0</td>\n",
       "      <td>squad-fpp</td>\n",
       "      <td>1434.0000</td>\n",
       "      <td>5</td>\n",
       "      <td>0.6400</td>\n",
       "    </tr>\n",
       "    <tr>\n",
       "      <th>2</th>\n",
       "      <td>0</td>\n",
       "      <td>68.0000</td>\n",
       "      <td>0</td>\n",
       "      <td>0</td>\n",
       "      <td>duo</td>\n",
       "      <td>161.8000</td>\n",
       "      <td>2</td>\n",
       "      <td>0.7755</td>\n",
       "    </tr>\n",
       "    <tr>\n",
       "      <th>3</th>\n",
       "      <td>0</td>\n",
       "      <td>32.9000</td>\n",
       "      <td>0</td>\n",
       "      <td>0</td>\n",
       "      <td>squad-fpp</td>\n",
       "      <td>202.7000</td>\n",
       "      <td>3</td>\n",
       "      <td>0.1667</td>\n",
       "    </tr>\n",
       "    <tr>\n",
       "      <th>4</th>\n",
       "      <td>0</td>\n",
       "      <td>100.0000</td>\n",
       "      <td>0</td>\n",
       "      <td>1</td>\n",
       "      <td>solo-fpp</td>\n",
       "      <td>49.7500</td>\n",
       "      <td>2</td>\n",
       "      <td>0.1875</td>\n",
       "    </tr>\n",
       "  </tbody>\n",
       "</table>\n",
       "</div>"
      ],
      "text/plain": [
       "   boosts  damageDealt  heals  kills  matchType  walkDistance  \\\n",
       "0       0       0.0000      0      0  squad-fpp      244.8000   \n",
       "1       0      91.4700      0      0  squad-fpp     1434.0000   \n",
       "2       0      68.0000      0      0        duo      161.8000   \n",
       "3       0      32.9000      0      0  squad-fpp      202.7000   \n",
       "4       0     100.0000      0      1   solo-fpp       49.7500   \n",
       "\n",
       "   weaponsAcquired  winPlacePerc  \n",
       "0                1        0.4444  \n",
       "1                5        0.6400  \n",
       "2                2        0.7755  \n",
       "3                3        0.1667  \n",
       "4                2        0.1875  "
      ]
     },
     "execution_count": 14,
     "metadata": {},
     "output_type": "execute_result"
    }
   ],
   "source": [
    "# 사용할 컬럼 뽑아오기\n",
    "df = df.loc[:,['boosts','damageDealt','heals','kills','matchType','walkDistance','weaponsAcquired','winPlacePerc']]\n",
    "df.head()"
   ]
  },
  {
   "cell_type": "code",
   "execution_count": 18,
   "id": "f6acf91c",
   "metadata": {
    "scrolled": false
   },
   "outputs": [
    {
     "name": "stderr",
     "output_type": "stream",
     "text": [
      "C:\\Users\\brown\\miniforge3\\envs\\csw\\lib\\site-packages\\seaborn\\_decorators.py:36: FutureWarning: Pass the following variable as a keyword arg: x. From version 0.12, the only valid positional argument will be `data`, and passing other arguments without an explicit keyword will result in an error or misinterpretation.\n",
      "  warnings.warn(\n"
     ]
    },
    {
     "data": {
      "image/png": "[encoded data removed]",
      "text/plain": [
       "<Figure size 432x288 with 1 Axes>"
      ]
     },
     "metadata": {
      "needs_background": "light"
     },
     "output_type": "display_data"
    },
    {
     "name": "stderr",
     "output_type": "stream",
     "text": [
      "C:\\Users\\brown\\miniforge3\\envs\\csw\\lib\\site-packages\\seaborn\\_decorators.py:36: FutureWarning: Pass the following variable as a keyword arg: x. From version 0.12, the only valid positional argument will be `data`, and passing other arguments without an explicit keyword will result in an error or misinterpretation.\n",
      "  warnings.warn(\n"
     ]
    },
    {
     "data": {
      "image/png": "[encoded data removed]",
      "text/plain": [
       "<Figure size 432x288 with 1 Axes>"
      ]
     },
     "metadata": {
      "needs_background": "light"
     },
     "output_type": "display_data"
    },
    {
     "name": "stderr",
     "output_type": "stream",
     "text": [
      "C:\\Users\\brown\\miniforge3\\envs\\csw\\lib\\site-packages\\seaborn\\_decorators.py:36: FutureWarning: Pass the following variable as a keyword arg: x. From version 0.12, the only valid positional argument will be `data`, and passing other arguments without an explicit keyword will result in an error or misinterpretation.\n",
      "  warnings.warn(\n"
     ]
    },
    {
     "data": {
      "image/png": "[encoded data removed]",
      "text/plain": [
       "<Figure size 432x288 with 1 Axes>"
      ]
     },
     "metadata": {
      "needs_background": "light"
     },
     "output_type": "display_data"
    },
    {
     "name": "stderr",
     "output_type": "stream",
     "text": [
      "C:\\Users\\brown\\miniforge3\\envs\\csw\\lib\\site-packages\\seaborn\\_decorators.py:36: FutureWarning: Pass the following variable as a keyword arg: x. From version 0.12, the only valid positional argument will be `data`, and passing other arguments without an explicit keyword will result in an error or misinterpretation.\n",
      "  warnings.warn(\n"
     ]
    },
    {
     "data": {
      "image/png": "[encoded data removed]",
      "text/plain": [
       "<Figure size 432x288 with 1 Axes>"
      ]
     },
     "metadata": {
      "needs_background": "light"
     },
     "output_type": "display_data"
    },
    {
     "name": "stderr",
     "output_type": "stream",
     "text": [
      "C:\\Users\\brown\\miniforge3\\envs\\csw\\lib\\site-packages\\seaborn\\_decorators.py:36: FutureWarning: Pass the following variable as a keyword arg: x. From version 0.12, the only valid positional argument will be `data`, and passing other arguments without an explicit keyword will result in an error or misinterpretation.\n",
      "  warnings.warn(\n"
     ]
    },
    {
     "data": {
      "image/png": "[encoded data removed]",
      "text/plain": [
       "<Figure size 432x288 with 1 Axes>"
      ]
     },
     "metadata": {
      "needs_background": "light"
     },
     "output_type": "display_data"
    },
    {
     "name": "stderr",
     "output_type": "stream",
     "text": [
      "C:\\Users\\brown\\miniforge3\\envs\\csw\\lib\\site-packages\\seaborn\\_decorators.py:36: FutureWarning: Pass the following variable as a keyword arg: x. From version 0.12, the only valid positional argument will be `data`, and passing other arguments without an explicit keyword will result in an error or misinterpretation.\n",
      "  warnings.warn(\n"
     ]
    },
    {
     "data": {
      "image/png": "[encoded data removed]",
      "text/plain": [
       "<Figure size 432x288 with 1 Axes>"
      ]
     },
     "metadata": {
      "needs_background": "light"
     },
     "output_type": "display_data"
    }
   ],
   "source": [
    "# 데이터 분포 살펴보기1. boxplot\n",
    "\n",
    "numerical_columns = [column for column in df.columns if df[column].dtype in (\"int64\", \"float\")]\n",
    "check_columns = numerical_columns[:-1]\n",
    "check_columns\n",
    "\n",
    "for i in check_columns:\n",
    "    sns.boxplot(df[i])\n",
    "    plt.show()"
   ]
  },
  {
   "cell_type": "code",
   "execution_count": 19,
   "id": "f52ec746",
   "metadata": {},
   "outputs": [
    {
     "data": {
      "image/png": "[encoded data removed]",
      "text/plain": [
       "<Figure size 432x288 with 1 Axes>"
      ]
     },
     "metadata": {
      "needs_background": "light"
     },
     "output_type": "display_data"
    },
    {
     "data": {
      "image/png": "[encoded data removed]",
      "text/plain": [
       "<Figure size 432x288 with 1 Axes>"
      ]
     },
     "metadata": {
      "needs_background": "light"
     },
     "output_type": "display_data"
    },
    {
     "data": {
      "image/png": "[encoded data removed]",
      "text/plain": [
       "<Figure size 432x288 with 1 Axes>"
      ]
     },
     "metadata": {
      "needs_background": "light"
     },
     "output_type": "display_data"
    },
    {
     "data": {
      "image/png": "[encoded data removed]",
      "text/plain": [
       "<Figure size 432x288 with 1 Axes>"
      ]
     },
     "metadata": {
      "needs_background": "light"
     },
     "output_type": "display_data"
    },
    {
     "data": {
      "image/png": "[encoded data removed]",
      "text/plain": [
       "<Figure size 432x288 with 1 Axes>"
      ]
     },
     "metadata": {
      "needs_background": "light"
     },
     "output_type": "display_data"
    },
    {
     "data": {
      "image/png": "[encoded data removed]",
      "text/plain": [
       "<Figure size 432x288 with 1 Axes>"
      ]
     },
     "metadata": {
      "needs_background": "light"
     },
     "output_type": "display_data"
    }
   ],
   "source": [
    "# 데이터 분포 살펴보기2. scatterplot\n",
    "\n",
    "for i in check_columns:\n",
    "    plt.scatter(x=df[i], y=df.winPlacePerc)\n",
    "    plt.title(i, loc='right', pad = 20)\n",
    "    plt.show()"
   ]
  },
  {
   "cell_type": "code",
   "execution_count": 20,
   "id": "00a73fcd",
   "metadata": {
    "scrolled": false
   },
   "outputs": [
    {
     "name": "stderr",
     "output_type": "stream",
     "text": [
      "C:\\Users\\brown\\miniforge3\\envs\\csw\\lib\\site-packages\\seaborn\\distributions.py:2619: FutureWarning: `distplot` is a deprecated function and will be removed in a future version. Please adapt your code to use either `displot` (a figure-level function with similar flexibility) or `histplot` (an axes-level function for histograms).\n",
      "  warnings.warn(msg, FutureWarning)\n"
     ]
    },
    {
     "data": {
      "image/png": "[encoded data removed]",
      "text/plain": [
       "<Figure size 432x288 with 1 Axes>"
      ]
     },
     "metadata": {
      "needs_background": "light"
     },
     "output_type": "display_data"
    },
    {
     "name": "stderr",
     "output_type": "stream",
     "text": [
      "C:\\Users\\brown\\miniforge3\\envs\\csw\\lib\\site-packages\\seaborn\\distributions.py:2619: FutureWarning: `distplot` is a deprecated function and will be removed in a future version. Please adapt your code to use either `displot` (a figure-level function with similar flexibility) or `histplot` (an axes-level function for histograms).\n",
      "  warnings.warn(msg, FutureWarning)\n"
     ]
    },
    {
     "data": {
      "image/png": "[encoded data removed]",
      "text/plain": [
       "<Figure size 432x288 with 1 Axes>"
      ]
     },
     "metadata": {
      "needs_background": "light"
     },
     "output_type": "display_data"
    },
    {
     "name": "stderr",
     "output_type": "stream",
     "text": [
      "C:\\Users\\brown\\miniforge3\\envs\\csw\\lib\\site-packages\\seaborn\\distributions.py:2619: FutureWarning: `distplot` is a deprecated function and will be removed in a future version. Please adapt your code to use either `displot` (a figure-level function with similar flexibility) or `histplot` (an axes-level function for histograms).\n",
      "  warnings.warn(msg, FutureWarning)\n"
     ]
    },
    {
     "data": {
      "image/png": "[encoded data removed]",
      "text/plain": [
       "<Figure size 432x288 with 1 Axes>"
      ]
     },
     "metadata": {
      "needs_background": "light"
     },
     "output_type": "display_data"
    },
    {
     "name": "stderr",
     "output_type": "stream",
     "text": [
      "C:\\Users\\brown\\miniforge3\\envs\\csw\\lib\\site-packages\\seaborn\\distributions.py:2619: FutureWarning: `distplot` is a deprecated function and will be removed in a future version. Please adapt your code to use either `displot` (a figure-level function with similar flexibility) or `histplot` (an axes-level function for histograms).\n",
      "  warnings.warn(msg, FutureWarning)\n"
     ]
    },
    {
     "data": {
      "image/png": "[encoded data removed]",
      "text/plain": [
       "<Figure size 432x288 with 1 Axes>"
      ]
     },
     "metadata": {
      "needs_background": "light"
     },
     "output_type": "display_data"
    },
    {
     "name": "stderr",
     "output_type": "stream",
     "text": [
      "C:\\Users\\brown\\miniforge3\\envs\\csw\\lib\\site-packages\\seaborn\\distributions.py:2619: FutureWarning: `distplot` is a deprecated function and will be removed in a future version. Please adapt your code to use either `displot` (a figure-level function with similar flexibility) or `histplot` (an axes-level function for histograms).\n",
      "  warnings.warn(msg, FutureWarning)\n"
     ]
    },
    {
     "data": {
      "image/png": "[encoded data removed]",
      "text/plain": [
       "<Figure size 432x288 with 1 Axes>"
      ]
     },
     "metadata": {
      "needs_background": "light"
     },
     "output_type": "display_data"
    },
    {
     "name": "stderr",
     "output_type": "stream",
     "text": [
      "C:\\Users\\brown\\miniforge3\\envs\\csw\\lib\\site-packages\\seaborn\\distributions.py:2619: FutureWarning: `distplot` is a deprecated function and will be removed in a future version. Please adapt your code to use either `displot` (a figure-level function with similar flexibility) or `histplot` (an axes-level function for histograms).\n",
      "  warnings.warn(msg, FutureWarning)\n"
     ]
    },
    {
     "data": {
      "image/png": "[encoded data removed]",
      "text/plain": [
       "<Figure size 432x288 with 1 Axes>"
      ]
     },
     "metadata": {
      "needs_background": "light"
     },
     "output_type": "display_data"
    }
   ],
   "source": [
    "# 데이터 분포 살펴보기3. distplot\n",
    "\n",
    "for i in check_columns:\n",
    "    sns.distplot(df[i])\n",
    "    plt.title(i, loc='right', pad = 20)\n",
    "    plt.show()"
   ]
  },
  {
   "cell_type": "markdown",
   "id": "82ef715d",
   "metadata": {},
   "source": [
    "## 이상치 제거"
   ]
  },
  {
   "cell_type": "code",
   "execution_count": 12,
   "id": "14ae8639",
   "metadata": {},
   "outputs": [
    {
     "name": "stdout",
     "output_type": "stream",
     "text": [
      "<class 'pandas.core.frame.DataFrame'>\n",
      "Int64Index: 4390578 entries, 0 to 4446965\n",
      "Data columns (total 8 columns):\n",
      " #   Column           Dtype  \n",
      "---  ------           -----  \n",
      " 0   boosts           int64  \n",
      " 1   damageDealt      float64\n",
      " 2   heals            int64  \n",
      " 3   kills            int64  \n",
      " 4   matchType        object \n",
      " 5   walkDistance     float64\n",
      " 6   weaponsAcquired  int64  \n",
      " 7   winPlacePerc     float64\n",
      "dtypes: float64(3), int64(4), object(1)\n",
      "memory usage: 301.5+ MB\n"
     ]
    }
   ],
   "source": [
    "df.info()"
   ]
  },
  {
   "cell_type": "code",
   "execution_count": 13,
   "id": "27f73aeb",
   "metadata": {},
   "outputs": [
    {
     "data": {
      "text/html": [
       "<div>\n",
       "<style scoped>\n",
       "    .dataframe tbody tr th:only-of-type {\n",
       "        vertical-align: middle;\n",
       "    }\n",
       "\n",
       "    .dataframe tbody tr th {\n",
       "        vertical-align: top;\n",
       "    }\n",
       "\n",
       "    .dataframe thead th {\n",
       "        text-align: right;\n",
       "    }\n",
       "</style>\n",
       "<table border=\"1\" class=\"dataframe\">\n",
       "  <thead>\n",
       "    <tr style=\"text-align: right;\">\n",
       "      <th></th>\n",
       "      <th>boosts</th>\n",
       "      <th>damageDealt</th>\n",
       "      <th>heals</th>\n",
       "      <th>kills</th>\n",
       "      <th>walkDistance</th>\n",
       "      <th>weaponsAcquired</th>\n",
       "      <th>winPlacePerc</th>\n",
       "    </tr>\n",
       "  </thead>\n",
       "  <tbody>\n",
       "    <tr>\n",
       "      <th>count</th>\n",
       "      <td>4390578.0000</td>\n",
       "      <td>4390578.0000</td>\n",
       "      <td>4390578.0000</td>\n",
       "      <td>4390578.0000</td>\n",
       "      <td>4390578.0000</td>\n",
       "      <td>4390578.0000</td>\n",
       "      <td>4390578.0000</td>\n",
       "    </tr>\n",
       "    <tr>\n",
       "      <th>mean</th>\n",
       "      <td>1.1054</td>\n",
       "      <td>129.3163</td>\n",
       "      <td>1.3637</td>\n",
       "      <td>0.9133</td>\n",
       "      <td>1154.3375</td>\n",
       "      <td>3.6276</td>\n",
       "      <td>0.4732</td>\n",
       "    </tr>\n",
       "    <tr>\n",
       "      <th>std</th>\n",
       "      <td>1.7145</td>\n",
       "      <td>165.5861</td>\n",
       "      <td>2.6708</td>\n",
       "      <td>1.5021</td>\n",
       "      <td>1183.5393</td>\n",
       "      <td>2.3177</td>\n",
       "      <td>0.3069</td>\n",
       "    </tr>\n",
       "    <tr>\n",
       "      <th>min</th>\n",
       "      <td>0.0000</td>\n",
       "      <td>0.0000</td>\n",
       "      <td>0.0000</td>\n",
       "      <td>0.0000</td>\n",
       "      <td>0.0000</td>\n",
       "      <td>0.0000</td>\n",
       "      <td>0.0000</td>\n",
       "    </tr>\n",
       "    <tr>\n",
       "      <th>25%</th>\n",
       "      <td>0.0000</td>\n",
       "      <td>0.0000</td>\n",
       "      <td>0.0000</td>\n",
       "      <td>0.0000</td>\n",
       "      <td>155.5000</td>\n",
       "      <td>2.0000</td>\n",
       "      <td>0.2000</td>\n",
       "    </tr>\n",
       "    <tr>\n",
       "      <th>50%</th>\n",
       "      <td>0.0000</td>\n",
       "      <td>83.8800</td>\n",
       "      <td>0.0000</td>\n",
       "      <td>0.0000</td>\n",
       "      <td>684.1000</td>\n",
       "      <td>3.0000</td>\n",
       "      <td>0.4583</td>\n",
       "    </tr>\n",
       "    <tr>\n",
       "      <th>75%</th>\n",
       "      <td>2.0000</td>\n",
       "      <td>185.1000</td>\n",
       "      <td>2.0000</td>\n",
       "      <td>1.0000</td>\n",
       "      <td>1977.0000</td>\n",
       "      <td>5.0000</td>\n",
       "      <td>0.7407</td>\n",
       "    </tr>\n",
       "    <tr>\n",
       "      <th>max</th>\n",
       "      <td>33.0000</td>\n",
       "      <td>3796.0000</td>\n",
       "      <td>80.0000</td>\n",
       "      <td>33.0000</td>\n",
       "      <td>25780.0000</td>\n",
       "      <td>236.0000</td>\n",
       "      <td>1.0000</td>\n",
       "    </tr>\n",
       "  </tbody>\n",
       "</table>\n",
       "</div>"
      ],
      "text/plain": [
       "            boosts  damageDealt        heals        kills  walkDistance  \\\n",
       "count 4390578.0000 4390578.0000 4390578.0000 4390578.0000  4390578.0000   \n",
       "mean        1.1054     129.3163       1.3637       0.9133     1154.3375   \n",
       "std         1.7145     165.5861       2.6708       1.5021     1183.5393   \n",
       "min         0.0000       0.0000       0.0000       0.0000        0.0000   \n",
       "25%         0.0000       0.0000       0.0000       0.0000      155.5000   \n",
       "50%         0.0000      83.8800       0.0000       0.0000      684.1000   \n",
       "75%         2.0000     185.1000       2.0000       1.0000     1977.0000   \n",
       "max        33.0000    3796.0000      80.0000      33.0000    25780.0000   \n",
       "\n",
       "       weaponsAcquired  winPlacePerc  \n",
       "count     4390578.0000  4390578.0000  \n",
       "mean            3.6276        0.4732  \n",
       "std             2.3177        0.3069  \n",
       "min             0.0000        0.0000  \n",
       "25%             2.0000        0.2000  \n",
       "50%             3.0000        0.4583  \n",
       "75%             5.0000        0.7407  \n",
       "max           236.0000        1.0000  "
      ]
     },
     "execution_count": 13,
     "metadata": {},
     "output_type": "execute_result"
    }
   ],
   "source": [
    "df.describe()"
   ]
  },
  {
   "cell_type": "code",
   "execution_count": 15,
   "id": "2b6c2fe4",
   "metadata": {},
   "outputs": [
    {
     "data": {
      "text/plain": [
       "['boosts', 'damageDealt', 'heals', 'kills', 'walkDistance', 'weaponsAcquired']"
      ]
     },
     "execution_count": 15,
     "metadata": {},
     "output_type": "execute_result"
    }
   ],
   "source": [
    "numerical_columns = [column for column in df.columns if df[column].dtype in (\"int64\", \"float\")]\n",
    "check_columns = numerical_columns[:-1]\n",
    "check_columns"
   ]
  },
  {
   "cell_type": "code",
   "execution_count": 16,
   "id": "c6ba0f14",
   "metadata": {
    "scrolled": true
   },
   "outputs": [
    {
     "data": {
      "text/html": [
       "<div>\n",
       "<style scoped>\n",
       "    .dataframe tbody tr th:only-of-type {\n",
       "        vertical-align: middle;\n",
       "    }\n",
       "\n",
       "    .dataframe tbody tr th {\n",
       "        vertical-align: top;\n",
       "    }\n",
       "\n",
       "    .dataframe thead th {\n",
       "        text-align: right;\n",
       "    }\n",
       "</style>\n",
       "<table border=\"1\" class=\"dataframe\">\n",
       "  <thead>\n",
       "    <tr style=\"text-align: right;\">\n",
       "      <th></th>\n",
       "      <th>boosts</th>\n",
       "      <th>damageDealt</th>\n",
       "      <th>heals</th>\n",
       "      <th>kills</th>\n",
       "      <th>walkDistance</th>\n",
       "      <th>weaponsAcquired</th>\n",
       "      <th>winPlacePerc</th>\n",
       "      <th>matchType_duo</th>\n",
       "      <th>matchType_duo-fpp</th>\n",
       "      <th>matchType_solo</th>\n",
       "      <th>matchType_solo-fpp</th>\n",
       "      <th>matchType_squad</th>\n",
       "      <th>matchType_squad-fpp</th>\n",
       "    </tr>\n",
       "  </thead>\n",
       "  <tbody>\n",
       "    <tr>\n",
       "      <th>0</th>\n",
       "      <td>0</td>\n",
       "      <td>0.0000</td>\n",
       "      <td>0</td>\n",
       "      <td>0</td>\n",
       "      <td>244.8000</td>\n",
       "      <td>1</td>\n",
       "      <td>0.4444</td>\n",
       "      <td>0</td>\n",
       "      <td>0</td>\n",
       "      <td>0</td>\n",
       "      <td>0</td>\n",
       "      <td>0</td>\n",
       "      <td>1</td>\n",
       "    </tr>\n",
       "    <tr>\n",
       "      <th>1</th>\n",
       "      <td>0</td>\n",
       "      <td>91.4700</td>\n",
       "      <td>0</td>\n",
       "      <td>0</td>\n",
       "      <td>1434.0000</td>\n",
       "      <td>5</td>\n",
       "      <td>0.6400</td>\n",
       "      <td>0</td>\n",
       "      <td>0</td>\n",
       "      <td>0</td>\n",
       "      <td>0</td>\n",
       "      <td>0</td>\n",
       "      <td>1</td>\n",
       "    </tr>\n",
       "    <tr>\n",
       "      <th>2</th>\n",
       "      <td>0</td>\n",
       "      <td>68.0000</td>\n",
       "      <td>0</td>\n",
       "      <td>0</td>\n",
       "      <td>161.8000</td>\n",
       "      <td>2</td>\n",
       "      <td>0.7755</td>\n",
       "      <td>1</td>\n",
       "      <td>0</td>\n",
       "      <td>0</td>\n",
       "      <td>0</td>\n",
       "      <td>0</td>\n",
       "      <td>0</td>\n",
       "    </tr>\n",
       "    <tr>\n",
       "      <th>3</th>\n",
       "      <td>0</td>\n",
       "      <td>32.9000</td>\n",
       "      <td>0</td>\n",
       "      <td>0</td>\n",
       "      <td>202.7000</td>\n",
       "      <td>3</td>\n",
       "      <td>0.1667</td>\n",
       "      <td>0</td>\n",
       "      <td>0</td>\n",
       "      <td>0</td>\n",
       "      <td>0</td>\n",
       "      <td>0</td>\n",
       "      <td>1</td>\n",
       "    </tr>\n",
       "    <tr>\n",
       "      <th>4</th>\n",
       "      <td>0</td>\n",
       "      <td>100.0000</td>\n",
       "      <td>0</td>\n",
       "      <td>1</td>\n",
       "      <td>49.7500</td>\n",
       "      <td>2</td>\n",
       "      <td>0.1875</td>\n",
       "      <td>0</td>\n",
       "      <td>0</td>\n",
       "      <td>0</td>\n",
       "      <td>1</td>\n",
       "      <td>0</td>\n",
       "      <td>0</td>\n",
       "    </tr>\n",
       "    <tr>\n",
       "      <th>...</th>\n",
       "      <td>...</td>\n",
       "      <td>...</td>\n",
       "      <td>...</td>\n",
       "      <td>...</td>\n",
       "      <td>...</td>\n",
       "      <td>...</td>\n",
       "      <td>...</td>\n",
       "      <td>...</td>\n",
       "      <td>...</td>\n",
       "      <td>...</td>\n",
       "      <td>...</td>\n",
       "      <td>...</td>\n",
       "      <td>...</td>\n",
       "    </tr>\n",
       "    <tr>\n",
       "      <th>4446961</th>\n",
       "      <td>0</td>\n",
       "      <td>0.0000</td>\n",
       "      <td>0</td>\n",
       "      <td>0</td>\n",
       "      <td>1019.0000</td>\n",
       "      <td>3</td>\n",
       "      <td>0.1786</td>\n",
       "      <td>0</td>\n",
       "      <td>0</td>\n",
       "      <td>0</td>\n",
       "      <td>0</td>\n",
       "      <td>0</td>\n",
       "      <td>1</td>\n",
       "    </tr>\n",
       "    <tr>\n",
       "      <th>4446962</th>\n",
       "      <td>1</td>\n",
       "      <td>44.1500</td>\n",
       "      <td>0</td>\n",
       "      <td>0</td>\n",
       "      <td>81.7000</td>\n",
       "      <td>6</td>\n",
       "      <td>0.2935</td>\n",
       "      <td>0</td>\n",
       "      <td>0</td>\n",
       "      <td>1</td>\n",
       "      <td>0</td>\n",
       "      <td>0</td>\n",
       "      <td>0</td>\n",
       "    </tr>\n",
       "    <tr>\n",
       "      <th>4446963</th>\n",
       "      <td>0</td>\n",
       "      <td>59.0600</td>\n",
       "      <td>0</td>\n",
       "      <td>0</td>\n",
       "      <td>788.7000</td>\n",
       "      <td>4</td>\n",
       "      <td>0.4815</td>\n",
       "      <td>0</td>\n",
       "      <td>0</td>\n",
       "      <td>0</td>\n",
       "      <td>0</td>\n",
       "      <td>0</td>\n",
       "      <td>1</td>\n",
       "    </tr>\n",
       "    <tr>\n",
       "      <th>4446964</th>\n",
       "      <td>4</td>\n",
       "      <td>180.4000</td>\n",
       "      <td>2</td>\n",
       "      <td>2</td>\n",
       "      <td>2748.0000</td>\n",
       "      <td>8</td>\n",
       "      <td>0.8000</td>\n",
       "      <td>0</td>\n",
       "      <td>0</td>\n",
       "      <td>0</td>\n",
       "      <td>0</td>\n",
       "      <td>0</td>\n",
       "      <td>1</td>\n",
       "    </tr>\n",
       "    <tr>\n",
       "      <th>4446965</th>\n",
       "      <td>2</td>\n",
       "      <td>268.0000</td>\n",
       "      <td>1</td>\n",
       "      <td>2</td>\n",
       "      <td>1244.0000</td>\n",
       "      <td>5</td>\n",
       "      <td>0.5464</td>\n",
       "      <td>0</td>\n",
       "      <td>0</td>\n",
       "      <td>0</td>\n",
       "      <td>1</td>\n",
       "      <td>0</td>\n",
       "      <td>0</td>\n",
       "    </tr>\n",
       "  </tbody>\n",
       "</table>\n",
       "<p>4390578 rows × 13 columns</p>\n",
       "</div>"
      ],
      "text/plain": [
       "         boosts  damageDealt  heals  kills  walkDistance  weaponsAcquired  \\\n",
       "0             0       0.0000      0      0      244.8000                1   \n",
       "1             0      91.4700      0      0     1434.0000                5   \n",
       "2             0      68.0000      0      0      161.8000                2   \n",
       "3             0      32.9000      0      0      202.7000                3   \n",
       "4             0     100.0000      0      1       49.7500                2   \n",
       "...         ...          ...    ...    ...           ...              ...   \n",
       "4446961       0       0.0000      0      0     1019.0000                3   \n",
       "4446962       1      44.1500      0      0       81.7000                6   \n",
       "4446963       0      59.0600      0      0      788.7000                4   \n",
       "4446964       4     180.4000      2      2     2748.0000                8   \n",
       "4446965       2     268.0000      1      2     1244.0000                5   \n",
       "\n",
       "         winPlacePerc  matchType_duo  matchType_duo-fpp  matchType_solo  \\\n",
       "0              0.4444              0                  0               0   \n",
       "1              0.6400              0                  0               0   \n",
       "2              0.7755              1                  0               0   \n",
       "3              0.1667              0                  0               0   \n",
       "4              0.1875              0                  0               0   \n",
       "...               ...            ...                ...             ...   \n",
       "4446961        0.1786              0                  0               0   \n",
       "4446962        0.2935              0                  0               1   \n",
       "4446963        0.4815              0                  0               0   \n",
       "4446964        0.8000              0                  0               0   \n",
       "4446965        0.5464              0                  0               0   \n",
       "\n",
       "         matchType_solo-fpp  matchType_squad  matchType_squad-fpp  \n",
       "0                         0                0                    1  \n",
       "1                         0                0                    1  \n",
       "2                         0                0                    0  \n",
       "3                         0                0                    1  \n",
       "4                         1                0                    0  \n",
       "...                     ...              ...                  ...  \n",
       "4446961                   0                0                    1  \n",
       "4446962                   0                0                    0  \n",
       "4446963                   0                0                    1  \n",
       "4446964                   0                0                    1  \n",
       "4446965                   1                0                    0  \n",
       "\n",
       "[4390578 rows x 13 columns]"
      ]
     },
     "execution_count": 16,
     "metadata": {},
     "output_type": "execute_result"
    }
   ],
   "source": [
    "# 머신러닝을 위한 전처리 준비\n",
    "#   'matchType'에 대한 One-Hot Encoding 진행\n",
    "\n",
    "df1 = pd.get_dummies(df.matchType, prefix='matchType')\n",
    "train = pd.concat([df, df1], axis=1)\n",
    "train = train.drop('matchType', axis=1)\n",
    "train"
   ]
  },
  {
   "cell_type": "code",
   "execution_count": 32,
   "id": "d1f0d180",
   "metadata": {
    "scrolled": true
   },
   "outputs": [
    {
     "name": "stdout",
     "output_type": "stream",
     "text": [
      "boosts 컬럼의 이상치로 140118개의 data를 삭제하였습니다.\n",
      "damageDealt 컬럼의 이상치로 156072개의 data를 삭제하였습니다.\n",
      "heals 컬럼의 이상치로 235807개의 data를 삭제하였습니다.\n",
      "kills 컬럼의 이상치로 241505개의 data를 삭제하였습니다.\n",
      "walkDistance 컬럼의 이상치로 13349개의 data를 삭제하였습니다.\n",
      "weaponsAcquired 컬럼의 이상치로 42350개의 data를 삭제하였습니다.\n"
     ]
    }
   ],
   "source": [
    "# https://hwi-doc.tistory.com/entry/IQR-방식을-이용한-이상치-데이터Outlier-제거\n",
    "\n",
    "train_r1 = train.copy()\n",
    "\n",
    "for i in check_columns:\n",
    "    quantile_25 = np.percentile(train[i].values, 25)\n",
    "    quantile_75 = np.percentile(train[i].values, 75)\n",
    "\n",
    "    IQR = quantile_75 - quantile_25\n",
    "    IQR_weight = IQR*1.5\n",
    "\n",
    "    lowest = quantile_25 - IQR_weight\n",
    "    highest = quantile_75 + IQR_weight\n",
    "\n",
    "\n",
    "    outlier_idx = train_r1[i][ (train_r1[i] < lowest) | (train_r1[i] > highest) ].index\n",
    "    train_r1 = train_r1.drop(outlier_idx, axis=0)\n",
    "    print(f'{i} 컬럼의 이상치로 {len(outlier_idx)}개의 data를 삭제하였습니다.')"
   ]
  },
  {
   "cell_type": "code",
   "execution_count": 33,
   "id": "603f8371",
   "metadata": {
    "scrolled": true
   },
   "outputs": [
    {
     "data": {
      "text/html": [
       "<div>\n",
       "<style scoped>\n",
       "    .dataframe tbody tr th:only-of-type {\n",
       "        vertical-align: middle;\n",
       "    }\n",
       "\n",
       "    .dataframe tbody tr th {\n",
       "        vertical-align: top;\n",
       "    }\n",
       "\n",
       "    .dataframe thead th {\n",
       "        text-align: right;\n",
       "    }\n",
       "</style>\n",
       "<table border=\"1\" class=\"dataframe\">\n",
       "  <thead>\n",
       "    <tr style=\"text-align: right;\">\n",
       "      <th></th>\n",
       "      <th>boosts</th>\n",
       "      <th>damageDealt</th>\n",
       "      <th>heals</th>\n",
       "      <th>kills</th>\n",
       "      <th>walkDistance</th>\n",
       "      <th>weaponsAcquired</th>\n",
       "      <th>winPlacePerc</th>\n",
       "      <th>matchType_duo</th>\n",
       "      <th>matchType_duo-fpp</th>\n",
       "      <th>matchType_solo</th>\n",
       "      <th>matchType_solo-fpp</th>\n",
       "      <th>matchType_squad</th>\n",
       "      <th>matchType_squad-fpp</th>\n",
       "    </tr>\n",
       "  </thead>\n",
       "  <tbody>\n",
       "    <tr>\n",
       "      <th>0</th>\n",
       "      <td>0</td>\n",
       "      <td>0.0000</td>\n",
       "      <td>0</td>\n",
       "      <td>0</td>\n",
       "      <td>244.8000</td>\n",
       "      <td>1</td>\n",
       "      <td>0.4444</td>\n",
       "      <td>0</td>\n",
       "      <td>0</td>\n",
       "      <td>0</td>\n",
       "      <td>0</td>\n",
       "      <td>0</td>\n",
       "      <td>1</td>\n",
       "    </tr>\n",
       "    <tr>\n",
       "      <th>1</th>\n",
       "      <td>0</td>\n",
       "      <td>91.4700</td>\n",
       "      <td>0</td>\n",
       "      <td>0</td>\n",
       "      <td>1434.0000</td>\n",
       "      <td>5</td>\n",
       "      <td>0.6400</td>\n",
       "      <td>0</td>\n",
       "      <td>0</td>\n",
       "      <td>0</td>\n",
       "      <td>0</td>\n",
       "      <td>0</td>\n",
       "      <td>1</td>\n",
       "    </tr>\n",
       "    <tr>\n",
       "      <th>2</th>\n",
       "      <td>0</td>\n",
       "      <td>68.0000</td>\n",
       "      <td>0</td>\n",
       "      <td>0</td>\n",
       "      <td>161.8000</td>\n",
       "      <td>2</td>\n",
       "      <td>0.7755</td>\n",
       "      <td>1</td>\n",
       "      <td>0</td>\n",
       "      <td>0</td>\n",
       "      <td>0</td>\n",
       "      <td>0</td>\n",
       "      <td>0</td>\n",
       "    </tr>\n",
       "    <tr>\n",
       "      <th>3</th>\n",
       "      <td>0</td>\n",
       "      <td>32.9000</td>\n",
       "      <td>0</td>\n",
       "      <td>0</td>\n",
       "      <td>202.7000</td>\n",
       "      <td>3</td>\n",
       "      <td>0.1667</td>\n",
       "      <td>0</td>\n",
       "      <td>0</td>\n",
       "      <td>0</td>\n",
       "      <td>0</td>\n",
       "      <td>0</td>\n",
       "      <td>1</td>\n",
       "    </tr>\n",
       "    <tr>\n",
       "      <th>4</th>\n",
       "      <td>0</td>\n",
       "      <td>100.0000</td>\n",
       "      <td>0</td>\n",
       "      <td>1</td>\n",
       "      <td>49.7500</td>\n",
       "      <td>2</td>\n",
       "      <td>0.1875</td>\n",
       "      <td>0</td>\n",
       "      <td>0</td>\n",
       "      <td>0</td>\n",
       "      <td>1</td>\n",
       "      <td>0</td>\n",
       "      <td>0</td>\n",
       "    </tr>\n",
       "    <tr>\n",
       "      <th>...</th>\n",
       "      <td>...</td>\n",
       "      <td>...</td>\n",
       "      <td>...</td>\n",
       "      <td>...</td>\n",
       "      <td>...</td>\n",
       "      <td>...</td>\n",
       "      <td>...</td>\n",
       "      <td>...</td>\n",
       "      <td>...</td>\n",
       "      <td>...</td>\n",
       "      <td>...</td>\n",
       "      <td>...</td>\n",
       "      <td>...</td>\n",
       "    </tr>\n",
       "    <tr>\n",
       "      <th>4446961</th>\n",
       "      <td>0</td>\n",
       "      <td>0.0000</td>\n",
       "      <td>0</td>\n",
       "      <td>0</td>\n",
       "      <td>1019.0000</td>\n",
       "      <td>3</td>\n",
       "      <td>0.1786</td>\n",
       "      <td>0</td>\n",
       "      <td>0</td>\n",
       "      <td>0</td>\n",
       "      <td>0</td>\n",
       "      <td>0</td>\n",
       "      <td>1</td>\n",
       "    </tr>\n",
       "    <tr>\n",
       "      <th>4446962</th>\n",
       "      <td>1</td>\n",
       "      <td>44.1500</td>\n",
       "      <td>0</td>\n",
       "      <td>0</td>\n",
       "      <td>81.7000</td>\n",
       "      <td>6</td>\n",
       "      <td>0.2935</td>\n",
       "      <td>0</td>\n",
       "      <td>0</td>\n",
       "      <td>1</td>\n",
       "      <td>0</td>\n",
       "      <td>0</td>\n",
       "      <td>0</td>\n",
       "    </tr>\n",
       "    <tr>\n",
       "      <th>4446963</th>\n",
       "      <td>0</td>\n",
       "      <td>59.0600</td>\n",
       "      <td>0</td>\n",
       "      <td>0</td>\n",
       "      <td>788.7000</td>\n",
       "      <td>4</td>\n",
       "      <td>0.4815</td>\n",
       "      <td>0</td>\n",
       "      <td>0</td>\n",
       "      <td>0</td>\n",
       "      <td>0</td>\n",
       "      <td>0</td>\n",
       "      <td>1</td>\n",
       "    </tr>\n",
       "    <tr>\n",
       "      <th>4446964</th>\n",
       "      <td>4</td>\n",
       "      <td>180.4000</td>\n",
       "      <td>2</td>\n",
       "      <td>2</td>\n",
       "      <td>2748.0000</td>\n",
       "      <td>8</td>\n",
       "      <td>0.8000</td>\n",
       "      <td>0</td>\n",
       "      <td>0</td>\n",
       "      <td>0</td>\n",
       "      <td>0</td>\n",
       "      <td>0</td>\n",
       "      <td>1</td>\n",
       "    </tr>\n",
       "    <tr>\n",
       "      <th>4446965</th>\n",
       "      <td>2</td>\n",
       "      <td>268.0000</td>\n",
       "      <td>1</td>\n",
       "      <td>2</td>\n",
       "      <td>1244.0000</td>\n",
       "      <td>5</td>\n",
       "      <td>0.5464</td>\n",
       "      <td>0</td>\n",
       "      <td>0</td>\n",
       "      <td>0</td>\n",
       "      <td>1</td>\n",
       "      <td>0</td>\n",
       "      <td>0</td>\n",
       "    </tr>\n",
       "  </tbody>\n",
       "</table>\n",
       "<p>3561377 rows × 13 columns</p>\n",
       "</div>"
      ],
      "text/plain": [
       "         boosts  damageDealt  heals  kills  walkDistance  weaponsAcquired  \\\n",
       "0             0       0.0000      0      0      244.8000                1   \n",
       "1             0      91.4700      0      0     1434.0000                5   \n",
       "2             0      68.0000      0      0      161.8000                2   \n",
       "3             0      32.9000      0      0      202.7000                3   \n",
       "4             0     100.0000      0      1       49.7500                2   \n",
       "...         ...          ...    ...    ...           ...              ...   \n",
       "4446961       0       0.0000      0      0     1019.0000                3   \n",
       "4446962       1      44.1500      0      0       81.7000                6   \n",
       "4446963       0      59.0600      0      0      788.7000                4   \n",
       "4446964       4     180.4000      2      2     2748.0000                8   \n",
       "4446965       2     268.0000      1      2     1244.0000                5   \n",
       "\n",
       "         winPlacePerc  matchType_duo  matchType_duo-fpp  matchType_solo  \\\n",
       "0              0.4444              0                  0               0   \n",
       "1              0.6400              0                  0               0   \n",
       "2              0.7755              1                  0               0   \n",
       "3              0.1667              0                  0               0   \n",
       "4              0.1875              0                  0               0   \n",
       "...               ...            ...                ...             ...   \n",
       "4446961        0.1786              0                  0               0   \n",
       "4446962        0.2935              0                  0               1   \n",
       "4446963        0.4815              0                  0               0   \n",
       "4446964        0.8000              0                  0               0   \n",
       "4446965        0.5464              0                  0               0   \n",
       "\n",
       "         matchType_solo-fpp  matchType_squad  matchType_squad-fpp  \n",
       "0                         0                0                    1  \n",
       "1                         0                0                    1  \n",
       "2                         0                0                    0  \n",
       "3                         0                0                    1  \n",
       "4                         1                0                    0  \n",
       "...                     ...              ...                  ...  \n",
       "4446961                   0                0                    1  \n",
       "4446962                   0                0                    0  \n",
       "4446963                   0                0                    1  \n",
       "4446964                   0                0                    1  \n",
       "4446965                   1                0                    0  \n",
       "\n",
       "[3561377 rows x 13 columns]"
      ]
     },
     "execution_count": 33,
     "metadata": {},
     "output_type": "execute_result"
    }
   ],
   "source": [
    "train_r1"
   ]
  },
  {
   "cell_type": "code",
   "execution_count": 27,
   "id": "d8e4e7b4",
   "metadata": {
    "scrolled": false
   },
   "outputs": [
    {
     "name": "stderr",
     "output_type": "stream",
     "text": [
      "C:\\Users\\brown\\miniforge3\\envs\\csw\\lib\\site-packages\\seaborn\\_decorators.py:36: FutureWarning: Pass the following variable as a keyword arg: x. From version 0.12, the only valid positional argument will be `data`, and passing other arguments without an explicit keyword will result in an error or misinterpretation.\n",
      "  warnings.warn(\n"
     ]
    },
    {
     "data": {
      "image/png": "[encoded data removed]",
      "text/plain": [
       "<Figure size 432x288 with 1 Axes>"
      ]
     },
     "metadata": {
      "needs_background": "light"
     },
     "output_type": "display_data"
    },
    {
     "name": "stderr",
     "output_type": "stream",
     "text": [
      "C:\\Users\\brown\\miniforge3\\envs\\csw\\lib\\site-packages\\seaborn\\_decorators.py:36: FutureWarning: Pass the following variable as a keyword arg: x. From version 0.12, the only valid positional argument will be `data`, and passing other arguments without an explicit keyword will result in an error or misinterpretation.\n",
      "  warnings.warn(\n"
     ]
    },
    {
     "data": {
      "image/png": "[encoded data removed]",
      "text/plain": [
       "<Figure size 432x288 with 1 Axes>"
      ]
     },
     "metadata": {
      "needs_background": "light"
     },
     "output_type": "display_data"
    },
    {
     "name": "stderr",
     "output_type": "stream",
     "text": [
      "C:\\Users\\brown\\miniforge3\\envs\\csw\\lib\\site-packages\\seaborn\\_decorators.py:36: FutureWarning: Pass the following variable as a keyword arg: x. From version 0.12, the only valid positional argument will be `data`, and passing other arguments without an explicit keyword will result in an error or misinterpretation.\n",
      "  warnings.warn(\n"
     ]
    },
    {
     "data": {
      "image/png": "[encoded data removed]",
      "text/plain": [
       "<Figure size 432x288 with 1 Axes>"
      ]
     },
     "metadata": {
      "needs_background": "light"
     },
     "output_type": "display_data"
    },
    {
     "name": "stderr",
     "output_type": "stream",
     "text": [
      "C:\\Users\\brown\\miniforge3\\envs\\csw\\lib\\site-packages\\seaborn\\_decorators.py:36: FutureWarning: Pass the following variable as a keyword arg: x. From version 0.12, the only valid positional argument will be `data`, and passing other arguments without an explicit keyword will result in an error or misinterpretation.\n",
      "  warnings.warn(\n"
     ]
    },
    {
     "data": {
      "image/png": "[encoded data removed]",
      "text/plain": [
       "<Figure size 432x288 with 1 Axes>"
      ]
     },
     "metadata": {
      "needs_background": "light"
     },
     "output_type": "display_data"
    },
    {
     "name": "stderr",
     "output_type": "stream",
     "text": [
      "C:\\Users\\brown\\miniforge3\\envs\\csw\\lib\\site-packages\\seaborn\\_decorators.py:36: FutureWarning: Pass the following variable as a keyword arg: x. From version 0.12, the only valid positional argument will be `data`, and passing other arguments without an explicit keyword will result in an error or misinterpretation.\n",
      "  warnings.warn(\n"
     ]
    },
    {
     "data": {
      "image/png": "[encoded data removed]",
      "text/plain": [
       "<Figure size 432x288 with 1 Axes>"
      ]
     },
     "metadata": {
      "needs_background": "light"
     },
     "output_type": "display_data"
    },
    {
     "name": "stderr",
     "output_type": "stream",
     "text": [
      "C:\\Users\\brown\\miniforge3\\envs\\csw\\lib\\site-packages\\seaborn\\_decorators.py:36: FutureWarning: Pass the following variable as a keyword arg: x. From version 0.12, the only valid positional argument will be `data`, and passing other arguments without an explicit keyword will result in an error or misinterpretation.\n",
      "  warnings.warn(\n"
     ]
    },
    {
     "data": {
      "image/png": "[encoded data removed]",
      "text/plain": [
       "<Figure size 432x288 with 1 Axes>"
      ]
     },
     "metadata": {
      "needs_background": "light"
     },
     "output_type": "display_data"
    }
   ],
   "source": [
    "for i in check_columns:\n",
    "    sns.boxplot(train_r1[i])\n",
    "    plt.show()"
   ]
  },
  {
   "cell_type": "code",
   "execution_count": 28,
   "id": "e1c7ca63",
   "metadata": {},
   "outputs": [
    {
     "data": {
      "image/png": "[encoded data removed]",
      "text/plain": [
       "<Figure size 432x288 with 1 Axes>"
      ]
     },
     "metadata": {
      "needs_background": "light"
     },
     "output_type": "display_data"
    },
    {
     "data": {
      "image/png": "[encoded data removed]",
      "text/plain": [
       "<Figure size 432x288 with 1 Axes>"
      ]
     },
     "metadata": {
      "needs_background": "light"
     },
     "output_type": "display_data"
    },
    {
     "data": {
      "image/png": "[encoded data removed]",
      "text/plain": [
       "<Figure size 432x288 with 1 Axes>"
      ]
     },
     "metadata": {
      "needs_background": "light"
     },
     "output_type": "display_data"
    },
    {
     "data": {
      "image/png": "[encoded data removed]",
      "text/plain": [
       "<Figure size 432x288 with 1 Axes>"
      ]
     },
     "metadata": {
      "needs_background": "light"
     },
     "output_type": "display_data"
    },
    {
     "data": {
      "image/png": "[encoded data removed]",
      "text/plain": [
       "<Figure size 432x288 with 1 Axes>"
      ]
     },
     "metadata": {
      "needs_background": "light"
     },
     "output_type": "display_data"
    },
    {
     "data": {
      "image/png": "[encoded data removed]",
      "text/plain": [
       "<Figure size 432x288 with 1 Axes>"
      ]
     },
     "metadata": {
      "needs_background": "light"
     },
     "output_type": "display_data"
    }
   ],
   "source": [
    "for i in check_columns:\n",
    "    plt.scatter(x=train_r1[i], y=train_r1.winPlacePerc)\n",
    "    plt.title(i, loc='right', pad = 20)\n",
    "    plt.show()"
   ]
  },
  {
   "cell_type": "code",
   "execution_count": 34,
   "id": "38573694",
   "metadata": {},
   "outputs": [],
   "source": [
    "# boxplot을 통해 rough한 방법으로 이상치 제거\n",
    "\n",
    "# boosts : 25 이상 제거\n",
    "# damageDealt : 3200 이상 제거\n",
    "# heals : 60 이상 제거\n",
    "# kills : 25 이상 제거\n",
    "# walkDistance : 15000 이상 제거\n",
    "# weaponAcquired : 150 이상 제거\n",
    "\n",
    "def arr1_df(columns_list, std_list):\n",
    "    df = train.copy()\n",
    "    \n",
    "    for j in range(len(std_list)):\n",
    "        outlier_idx = df[columns_list[j]][df[columns_list[j]] > std_list[j]].index\n",
    "        df = df.drop(outlier_idx, axis=0)\n",
    "        print(f'{columns_list[j]} 컬럼의 이상치로 {len(outlier_idx)}개의 data를 삭제하였습니다.')\n",
    "    return df"
   ]
  },
  {
   "cell_type": "code",
   "execution_count": 35,
   "id": "6cf3b205",
   "metadata": {
    "scrolled": true
   },
   "outputs": [
    {
     "name": "stdout",
     "output_type": "stream",
     "text": [
      "boosts 컬럼의 이상치로 76개의 data를 삭제하였습니다.\n",
      "damageDealt 컬럼의 이상치로 13개의 data를 삭제하였습니다.\n",
      "heals 컬럼의 이상치로 19개의 data를 삭제하였습니다.\n",
      "kills 컬럼의 이상치로 460개의 data를 삭제하였습니다.\n",
      "walkDistance 컬럼의 이상치로 18개의 data를 삭제하였습니다.\n",
      "weaponsAcquired 컬럼의 이상치로 14개의 data를 삭제하였습니다.\n"
     ]
    },
    {
     "data": {
      "text/html": [
       "<div>\n",
       "<style scoped>\n",
       "    .dataframe tbody tr th:only-of-type {\n",
       "        vertical-align: middle;\n",
       "    }\n",
       "\n",
       "    .dataframe tbody tr th {\n",
       "        vertical-align: top;\n",
       "    }\n",
       "\n",
       "    .dataframe thead th {\n",
       "        text-align: right;\n",
       "    }\n",
       "</style>\n",
       "<table border=\"1\" class=\"dataframe\">\n",
       "  <thead>\n",
       "    <tr style=\"text-align: right;\">\n",
       "      <th></th>\n",
       "      <th>boosts</th>\n",
       "      <th>damageDealt</th>\n",
       "      <th>heals</th>\n",
       "      <th>kills</th>\n",
       "      <th>walkDistance</th>\n",
       "      <th>weaponsAcquired</th>\n",
       "      <th>winPlacePerc</th>\n",
       "      <th>matchType_duo</th>\n",
       "      <th>matchType_duo-fpp</th>\n",
       "      <th>matchType_solo</th>\n",
       "      <th>matchType_solo-fpp</th>\n",
       "      <th>matchType_squad</th>\n",
       "      <th>matchType_squad-fpp</th>\n",
       "    </tr>\n",
       "  </thead>\n",
       "  <tbody>\n",
       "    <tr>\n",
       "      <th>0</th>\n",
       "      <td>0</td>\n",
       "      <td>0.0000</td>\n",
       "      <td>0</td>\n",
       "      <td>0</td>\n",
       "      <td>244.8000</td>\n",
       "      <td>1</td>\n",
       "      <td>0.4444</td>\n",
       "      <td>0</td>\n",
       "      <td>0</td>\n",
       "      <td>0</td>\n",
       "      <td>0</td>\n",
       "      <td>0</td>\n",
       "      <td>1</td>\n",
       "    </tr>\n",
       "    <tr>\n",
       "      <th>1</th>\n",
       "      <td>0</td>\n",
       "      <td>91.4700</td>\n",
       "      <td>0</td>\n",
       "      <td>0</td>\n",
       "      <td>1434.0000</td>\n",
       "      <td>5</td>\n",
       "      <td>0.6400</td>\n",
       "      <td>0</td>\n",
       "      <td>0</td>\n",
       "      <td>0</td>\n",
       "      <td>0</td>\n",
       "      <td>0</td>\n",
       "      <td>1</td>\n",
       "    </tr>\n",
       "    <tr>\n",
       "      <th>2</th>\n",
       "      <td>0</td>\n",
       "      <td>68.0000</td>\n",
       "      <td>0</td>\n",
       "      <td>0</td>\n",
       "      <td>161.8000</td>\n",
       "      <td>2</td>\n",
       "      <td>0.7755</td>\n",
       "      <td>1</td>\n",
       "      <td>0</td>\n",
       "      <td>0</td>\n",
       "      <td>0</td>\n",
       "      <td>0</td>\n",
       "      <td>0</td>\n",
       "    </tr>\n",
       "    <tr>\n",
       "      <th>3</th>\n",
       "      <td>0</td>\n",
       "      <td>32.9000</td>\n",
       "      <td>0</td>\n",
       "      <td>0</td>\n",
       "      <td>202.7000</td>\n",
       "      <td>3</td>\n",
       "      <td>0.1667</td>\n",
       "      <td>0</td>\n",
       "      <td>0</td>\n",
       "      <td>0</td>\n",
       "      <td>0</td>\n",
       "      <td>0</td>\n",
       "      <td>1</td>\n",
       "    </tr>\n",
       "    <tr>\n",
       "      <th>4</th>\n",
       "      <td>0</td>\n",
       "      <td>100.0000</td>\n",
       "      <td>0</td>\n",
       "      <td>1</td>\n",
       "      <td>49.7500</td>\n",
       "      <td>2</td>\n",
       "      <td>0.1875</td>\n",
       "      <td>0</td>\n",
       "      <td>0</td>\n",
       "      <td>0</td>\n",
       "      <td>1</td>\n",
       "      <td>0</td>\n",
       "      <td>0</td>\n",
       "    </tr>\n",
       "    <tr>\n",
       "      <th>...</th>\n",
       "      <td>...</td>\n",
       "      <td>...</td>\n",
       "      <td>...</td>\n",
       "      <td>...</td>\n",
       "      <td>...</td>\n",
       "      <td>...</td>\n",
       "      <td>...</td>\n",
       "      <td>...</td>\n",
       "      <td>...</td>\n",
       "      <td>...</td>\n",
       "      <td>...</td>\n",
       "      <td>...</td>\n",
       "      <td>...</td>\n",
       "    </tr>\n",
       "    <tr>\n",
       "      <th>4446961</th>\n",
       "      <td>0</td>\n",
       "      <td>0.0000</td>\n",
       "      <td>0</td>\n",
       "      <td>0</td>\n",
       "      <td>1019.0000</td>\n",
       "      <td>3</td>\n",
       "      <td>0.1786</td>\n",
       "      <td>0</td>\n",
       "      <td>0</td>\n",
       "      <td>0</td>\n",
       "      <td>0</td>\n",
       "      <td>0</td>\n",
       "      <td>1</td>\n",
       "    </tr>\n",
       "    <tr>\n",
       "      <th>4446962</th>\n",
       "      <td>1</td>\n",
       "      <td>44.1500</td>\n",
       "      <td>0</td>\n",
       "      <td>0</td>\n",
       "      <td>81.7000</td>\n",
       "      <td>6</td>\n",
       "      <td>0.2935</td>\n",
       "      <td>0</td>\n",
       "      <td>0</td>\n",
       "      <td>1</td>\n",
       "      <td>0</td>\n",
       "      <td>0</td>\n",
       "      <td>0</td>\n",
       "    </tr>\n",
       "    <tr>\n",
       "      <th>4446963</th>\n",
       "      <td>0</td>\n",
       "      <td>59.0600</td>\n",
       "      <td>0</td>\n",
       "      <td>0</td>\n",
       "      <td>788.7000</td>\n",
       "      <td>4</td>\n",
       "      <td>0.4815</td>\n",
       "      <td>0</td>\n",
       "      <td>0</td>\n",
       "      <td>0</td>\n",
       "      <td>0</td>\n",
       "      <td>0</td>\n",
       "      <td>1</td>\n",
       "    </tr>\n",
       "    <tr>\n",
       "      <th>4446964</th>\n",
       "      <td>4</td>\n",
       "      <td>180.4000</td>\n",
       "      <td>2</td>\n",
       "      <td>2</td>\n",
       "      <td>2748.0000</td>\n",
       "      <td>8</td>\n",
       "      <td>0.8000</td>\n",
       "      <td>0</td>\n",
       "      <td>0</td>\n",
       "      <td>0</td>\n",
       "      <td>0</td>\n",
       "      <td>0</td>\n",
       "      <td>1</td>\n",
       "    </tr>\n",
       "    <tr>\n",
       "      <th>4446965</th>\n",
       "      <td>2</td>\n",
       "      <td>268.0000</td>\n",
       "      <td>1</td>\n",
       "      <td>2</td>\n",
       "      <td>1244.0000</td>\n",
       "      <td>5</td>\n",
       "      <td>0.5464</td>\n",
       "      <td>0</td>\n",
       "      <td>0</td>\n",
       "      <td>0</td>\n",
       "      <td>1</td>\n",
       "      <td>0</td>\n",
       "      <td>0</td>\n",
       "    </tr>\n",
       "  </tbody>\n",
       "</table>\n",
       "<p>4389978 rows × 13 columns</p>\n",
       "</div>"
      ],
      "text/plain": [
       "         boosts  damageDealt  heals  kills  walkDistance  weaponsAcquired  \\\n",
       "0             0       0.0000      0      0      244.8000                1   \n",
       "1             0      91.4700      0      0     1434.0000                5   \n",
       "2             0      68.0000      0      0      161.8000                2   \n",
       "3             0      32.9000      0      0      202.7000                3   \n",
       "4             0     100.0000      0      1       49.7500                2   \n",
       "...         ...          ...    ...    ...           ...              ...   \n",
       "4446961       0       0.0000      0      0     1019.0000                3   \n",
       "4446962       1      44.1500      0      0       81.7000                6   \n",
       "4446963       0      59.0600      0      0      788.7000                4   \n",
       "4446964       4     180.4000      2      2     2748.0000                8   \n",
       "4446965       2     268.0000      1      2     1244.0000                5   \n",
       "\n",
       "         winPlacePerc  matchType_duo  matchType_duo-fpp  matchType_solo  \\\n",
       "0              0.4444              0                  0               0   \n",
       "1              0.6400              0                  0               0   \n",
       "2              0.7755              1                  0               0   \n",
       "3              0.1667              0                  0               0   \n",
       "4              0.1875              0                  0               0   \n",
       "...               ...            ...                ...             ...   \n",
       "4446961        0.1786              0                  0               0   \n",
       "4446962        0.2935              0                  0               1   \n",
       "4446963        0.4815              0                  0               0   \n",
       "4446964        0.8000              0                  0               0   \n",
       "4446965        0.5464              0                  0               0   \n",
       "\n",
       "         matchType_solo-fpp  matchType_squad  matchType_squad-fpp  \n",
       "0                         0                0                    1  \n",
       "1                         0                0                    1  \n",
       "2                         0                0                    0  \n",
       "3                         0                0                    1  \n",
       "4                         1                0                    0  \n",
       "...                     ...              ...                  ...  \n",
       "4446961                   0                0                    1  \n",
       "4446962                   0                0                    0  \n",
       "4446963                   0                0                    1  \n",
       "4446964                   0                0                    1  \n",
       "4446965                   1                0                    0  \n",
       "\n",
       "[4389978 rows x 13 columns]"
      ]
     },
     "execution_count": 35,
     "metadata": {},
     "output_type": "execute_result"
    }
   ],
   "source": [
    "std_list = [15, 2750, 50, 15, 13000, 75]\n",
    "\n",
    "train_r2 = arr1_df(check_columns, std_list)\n",
    "train_r2"
   ]
  },
  {
   "cell_type": "code",
   "execution_count": 31,
   "id": "f9b6ad60",
   "metadata": {},
   "outputs": [
    {
     "name": "stderr",
     "output_type": "stream",
     "text": [
      "C:\\Users\\brown\\miniforge3\\envs\\csw\\lib\\site-packages\\seaborn\\_decorators.py:36: FutureWarning: Pass the following variable as a keyword arg: x. From version 0.12, the only valid positional argument will be `data`, and passing other arguments without an explicit keyword will result in an error or misinterpretation.\n",
      "  warnings.warn(\n"
     ]
    },
    {
     "data": {
      "image/png": "[encoded data removed]",
      "text/plain": [
       "<Figure size 432x288 with 1 Axes>"
      ]
     },
     "metadata": {
      "needs_background": "light"
     },
     "output_type": "display_data"
    },
    {
     "name": "stderr",
     "output_type": "stream",
     "text": [
      "C:\\Users\\brown\\miniforge3\\envs\\csw\\lib\\site-packages\\seaborn\\_decorators.py:36: FutureWarning: Pass the following variable as a keyword arg: x. From version 0.12, the only valid positional argument will be `data`, and passing other arguments without an explicit keyword will result in an error or misinterpretation.\n",
      "  warnings.warn(\n"
     ]
    },
    {
     "data": {
      "image/png": "[encoded data removed]",
      "text/plain": [
       "<Figure size 432x288 with 1 Axes>"
      ]
     },
     "metadata": {
      "needs_background": "light"
     },
     "output_type": "display_data"
    },
    {
     "name": "stderr",
     "output_type": "stream",
     "text": [
      "C:\\Users\\brown\\miniforge3\\envs\\csw\\lib\\site-packages\\seaborn\\_decorators.py:36: FutureWarning: Pass the following variable as a keyword arg: x. From version 0.12, the only valid positional argument will be `data`, and passing other arguments without an explicit keyword will result in an error or misinterpretation.\n",
      "  warnings.warn(\n"
     ]
    },
    {
     "data": {
      "image/png": "[encoded data removed]",
      "text/plain": [
       "<Figure size 432x288 with 1 Axes>"
      ]
     },
     "metadata": {
      "needs_background": "light"
     },
     "output_type": "display_data"
    },
    {
     "name": "stderr",
     "output_type": "stream",
     "text": [
      "C:\\Users\\brown\\miniforge3\\envs\\csw\\lib\\site-packages\\seaborn\\_decorators.py:36: FutureWarning: Pass the following variable as a keyword arg: x. From version 0.12, the only valid positional argument will be `data`, and passing other arguments without an explicit keyword will result in an error or misinterpretation.\n",
      "  warnings.warn(\n"
     ]
    },
    {
     "data": {
      "image/png": "[encoded data removed]",
      "text/plain": [
       "<Figure size 432x288 with 1 Axes>"
      ]
     },
     "metadata": {
      "needs_background": "light"
     },
     "output_type": "display_data"
    },
    {
     "name": "stderr",
     "output_type": "stream",
     "text": [
      "C:\\Users\\brown\\miniforge3\\envs\\csw\\lib\\site-packages\\seaborn\\_decorators.py:36: FutureWarning: Pass the following variable as a keyword arg: x. From version 0.12, the only valid positional argument will be `data`, and passing other arguments without an explicit keyword will result in an error or misinterpretation.\n",
      "  warnings.warn(\n"
     ]
    },
    {
     "data": {
      "image/png": "[encoded data removed]",
      "text/plain": [
       "<Figure size 432x288 with 1 Axes>"
      ]
     },
     "metadata": {
      "needs_background": "light"
     },
     "output_type": "display_data"
    },
    {
     "name": "stderr",
     "output_type": "stream",
     "text": [
      "C:\\Users\\brown\\miniforge3\\envs\\csw\\lib\\site-packages\\seaborn\\_decorators.py:36: FutureWarning: Pass the following variable as a keyword arg: x. From version 0.12, the only valid positional argument will be `data`, and passing other arguments without an explicit keyword will result in an error or misinterpretation.\n",
      "  warnings.warn(\n"
     ]
    },
    {
     "data": {
      "image/png": "[encoded data removed]",
      "text/plain": [
       "<Figure size 432x288 with 1 Axes>"
      ]
     },
     "metadata": {
      "needs_background": "light"
     },
     "output_type": "display_data"
    }
   ],
   "source": [
    "for i in check_columns:\n",
    "    sns.boxplot(train_r2[i])\n",
    "    plt.show()"
   ]
  },
  {
   "cell_type": "code",
   "execution_count": 32,
   "id": "21123a7a",
   "metadata": {},
   "outputs": [
    {
     "data": {
      "image/png": "[encoded data removed]",
      "text/plain": [
       "<Figure size 432x288 with 1 Axes>"
      ]
     },
     "metadata": {
      "needs_background": "light"
     },
     "output_type": "display_data"
    },
    {
     "data": {
      "image/png": "[encoded data removed]",
      "text/plain": [
       "<Figure size 432x288 with 1 Axes>"
      ]
     },
     "metadata": {
      "needs_background": "light"
     },
     "output_type": "display_data"
    },
    {
     "data": {
      "image/png": "[encoded data removed]",
      "text/plain": [
       "<Figure size 432x288 with 1 Axes>"
      ]
     },
     "metadata": {
      "needs_background": "light"
     },
     "output_type": "display_data"
    },
    {
     "data": {
      "image/png": "[encoded data removed]",
      "text/plain": [
       "<Figure size 432x288 with 1 Axes>"
      ]
     },
     "metadata": {
      "needs_background": "light"
     },
     "output_type": "display_data"
    },
    {
     "data": {
      "image/png": "[encoded data removed]",
      "text/plain": [
       "<Figure size 432x288 with 1 Axes>"
      ]
     },
     "metadata": {
      "needs_background": "light"
     },
     "output_type": "display_data"
    },
    {
     "data": {
      "image/png": "[encoded data removed]",
      "text/plain": [
       "<Figure size 432x288 with 1 Axes>"
      ]
     },
     "metadata": {
      "needs_background": "light"
     },
     "output_type": "display_data"
    }
   ],
   "source": [
    "for i in check_columns:\n",
    "    plt.scatter(x=train_r2[i], y=train_r2.winPlacePerc)\n",
    "    plt.title(i, loc='right', pad = 20)\n",
    "    plt.show()"
   ]
  },
  {
   "cell_type": "code",
   "execution_count": 36,
   "id": "0c39a8fb",
   "metadata": {},
   "outputs": [],
   "source": [
    "# 99% 초과 수치에 대한 삭제\n",
    "\n",
    "\n",
    "# 함수 생성\n",
    "#    1) 지정한 column에서 원하는 %의 수치에 대한 상위값 추출하여 list로 반환\n",
    "#    2) 지정한 column 각각에 대해 상위값보다 큰 값들은 모두 제거\n",
    "\n",
    "def arr2_df(columns_list, want_per):\n",
    "    df = train.copy()\n",
    "    \n",
    "    value_list = []\n",
    "    \n",
    "    for i in columns_list:\n",
    "        value_list.append(df[i].quantile(want_per))\n",
    "    \n",
    "    for j in range(len(value_list)):\n",
    "        outlier_idx = df[columns_list[j]][df[columns_list[j]] > value_list[j]].index\n",
    "        df = df.drop(outlier_idx, axis=0)\n",
    "        print(f'{columns_list[j]} 컬럼의 이상치로 {len(outlier_idx)}개의 data를 삭제하였습니다.')\n",
    "    return df"
   ]
  },
  {
   "cell_type": "code",
   "execution_count": 37,
   "id": "32ba9f7c",
   "metadata": {
    "scrolled": false
   },
   "outputs": [
    {
     "name": "stdout",
     "output_type": "stream",
     "text": [
      "boosts 컬럼의 이상치로 33955개의 data를 삭제하였습니다.\n",
      "damageDealt 컬럼의 이상치로 37245개의 data를 삭제하였습니다.\n",
      "heals 컬럼의 이상치로 37692개의 data를 삭제하였습니다.\n",
      "kills 컬럼의 이상치로 5215개의 data를 삭제하였습니다.\n",
      "walkDistance 컬럼의 이상치로 38628개의 data를 삭제하였습니다.\n",
      "weaponsAcquired 컬럼의 이상치로 31342개의 data를 삭제하였습니다.\n"
     ]
    },
    {
     "data": {
      "text/html": [
       "<div>\n",
       "<style scoped>\n",
       "    .dataframe tbody tr th:only-of-type {\n",
       "        vertical-align: middle;\n",
       "    }\n",
       "\n",
       "    .dataframe tbody tr th {\n",
       "        vertical-align: top;\n",
       "    }\n",
       "\n",
       "    .dataframe thead th {\n",
       "        text-align: right;\n",
       "    }\n",
       "</style>\n",
       "<table border=\"1\" class=\"dataframe\">\n",
       "  <thead>\n",
       "    <tr style=\"text-align: right;\">\n",
       "      <th></th>\n",
       "      <th>boosts</th>\n",
       "      <th>damageDealt</th>\n",
       "      <th>heals</th>\n",
       "      <th>kills</th>\n",
       "      <th>walkDistance</th>\n",
       "      <th>weaponsAcquired</th>\n",
       "      <th>winPlacePerc</th>\n",
       "      <th>matchType_duo</th>\n",
       "      <th>matchType_duo-fpp</th>\n",
       "      <th>matchType_solo</th>\n",
       "      <th>matchType_solo-fpp</th>\n",
       "      <th>matchType_squad</th>\n",
       "      <th>matchType_squad-fpp</th>\n",
       "    </tr>\n",
       "  </thead>\n",
       "  <tbody>\n",
       "    <tr>\n",
       "      <th>0</th>\n",
       "      <td>0</td>\n",
       "      <td>0.0000</td>\n",
       "      <td>0</td>\n",
       "      <td>0</td>\n",
       "      <td>244.8000</td>\n",
       "      <td>1</td>\n",
       "      <td>0.4444</td>\n",
       "      <td>0</td>\n",
       "      <td>0</td>\n",
       "      <td>0</td>\n",
       "      <td>0</td>\n",
       "      <td>0</td>\n",
       "      <td>1</td>\n",
       "    </tr>\n",
       "    <tr>\n",
       "      <th>1</th>\n",
       "      <td>0</td>\n",
       "      <td>91.4700</td>\n",
       "      <td>0</td>\n",
       "      <td>0</td>\n",
       "      <td>1434.0000</td>\n",
       "      <td>5</td>\n",
       "      <td>0.6400</td>\n",
       "      <td>0</td>\n",
       "      <td>0</td>\n",
       "      <td>0</td>\n",
       "      <td>0</td>\n",
       "      <td>0</td>\n",
       "      <td>1</td>\n",
       "    </tr>\n",
       "    <tr>\n",
       "      <th>2</th>\n",
       "      <td>0</td>\n",
       "      <td>68.0000</td>\n",
       "      <td>0</td>\n",
       "      <td>0</td>\n",
       "      <td>161.8000</td>\n",
       "      <td>2</td>\n",
       "      <td>0.7755</td>\n",
       "      <td>1</td>\n",
       "      <td>0</td>\n",
       "      <td>0</td>\n",
       "      <td>0</td>\n",
       "      <td>0</td>\n",
       "      <td>0</td>\n",
       "    </tr>\n",
       "    <tr>\n",
       "      <th>3</th>\n",
       "      <td>0</td>\n",
       "      <td>32.9000</td>\n",
       "      <td>0</td>\n",
       "      <td>0</td>\n",
       "      <td>202.7000</td>\n",
       "      <td>3</td>\n",
       "      <td>0.1667</td>\n",
       "      <td>0</td>\n",
       "      <td>0</td>\n",
       "      <td>0</td>\n",
       "      <td>0</td>\n",
       "      <td>0</td>\n",
       "      <td>1</td>\n",
       "    </tr>\n",
       "    <tr>\n",
       "      <th>4</th>\n",
       "      <td>0</td>\n",
       "      <td>100.0000</td>\n",
       "      <td>0</td>\n",
       "      <td>1</td>\n",
       "      <td>49.7500</td>\n",
       "      <td>2</td>\n",
       "      <td>0.1875</td>\n",
       "      <td>0</td>\n",
       "      <td>0</td>\n",
       "      <td>0</td>\n",
       "      <td>1</td>\n",
       "      <td>0</td>\n",
       "      <td>0</td>\n",
       "    </tr>\n",
       "    <tr>\n",
       "      <th>...</th>\n",
       "      <td>...</td>\n",
       "      <td>...</td>\n",
       "      <td>...</td>\n",
       "      <td>...</td>\n",
       "      <td>...</td>\n",
       "      <td>...</td>\n",
       "      <td>...</td>\n",
       "      <td>...</td>\n",
       "      <td>...</td>\n",
       "      <td>...</td>\n",
       "      <td>...</td>\n",
       "      <td>...</td>\n",
       "      <td>...</td>\n",
       "    </tr>\n",
       "    <tr>\n",
       "      <th>4446961</th>\n",
       "      <td>0</td>\n",
       "      <td>0.0000</td>\n",
       "      <td>0</td>\n",
       "      <td>0</td>\n",
       "      <td>1019.0000</td>\n",
       "      <td>3</td>\n",
       "      <td>0.1786</td>\n",
       "      <td>0</td>\n",
       "      <td>0</td>\n",
       "      <td>0</td>\n",
       "      <td>0</td>\n",
       "      <td>0</td>\n",
       "      <td>1</td>\n",
       "    </tr>\n",
       "    <tr>\n",
       "      <th>4446962</th>\n",
       "      <td>1</td>\n",
       "      <td>44.1500</td>\n",
       "      <td>0</td>\n",
       "      <td>0</td>\n",
       "      <td>81.7000</td>\n",
       "      <td>6</td>\n",
       "      <td>0.2935</td>\n",
       "      <td>0</td>\n",
       "      <td>0</td>\n",
       "      <td>1</td>\n",
       "      <td>0</td>\n",
       "      <td>0</td>\n",
       "      <td>0</td>\n",
       "    </tr>\n",
       "    <tr>\n",
       "      <th>4446963</th>\n",
       "      <td>0</td>\n",
       "      <td>59.0600</td>\n",
       "      <td>0</td>\n",
       "      <td>0</td>\n",
       "      <td>788.7000</td>\n",
       "      <td>4</td>\n",
       "      <td>0.4815</td>\n",
       "      <td>0</td>\n",
       "      <td>0</td>\n",
       "      <td>0</td>\n",
       "      <td>0</td>\n",
       "      <td>0</td>\n",
       "      <td>1</td>\n",
       "    </tr>\n",
       "    <tr>\n",
       "      <th>4446964</th>\n",
       "      <td>4</td>\n",
       "      <td>180.4000</td>\n",
       "      <td>2</td>\n",
       "      <td>2</td>\n",
       "      <td>2748.0000</td>\n",
       "      <td>8</td>\n",
       "      <td>0.8000</td>\n",
       "      <td>0</td>\n",
       "      <td>0</td>\n",
       "      <td>0</td>\n",
       "      <td>0</td>\n",
       "      <td>0</td>\n",
       "      <td>1</td>\n",
       "    </tr>\n",
       "    <tr>\n",
       "      <th>4446965</th>\n",
       "      <td>2</td>\n",
       "      <td>268.0000</td>\n",
       "      <td>1</td>\n",
       "      <td>2</td>\n",
       "      <td>1244.0000</td>\n",
       "      <td>5</td>\n",
       "      <td>0.5464</td>\n",
       "      <td>0</td>\n",
       "      <td>0</td>\n",
       "      <td>0</td>\n",
       "      <td>1</td>\n",
       "      <td>0</td>\n",
       "      <td>0</td>\n",
       "    </tr>\n",
       "  </tbody>\n",
       "</table>\n",
       "<p>4206501 rows × 13 columns</p>\n",
       "</div>"
      ],
      "text/plain": [
       "         boosts  damageDealt  heals  kills  walkDistance  weaponsAcquired  \\\n",
       "0             0       0.0000      0      0      244.8000                1   \n",
       "1             0      91.4700      0      0     1434.0000                5   \n",
       "2             0      68.0000      0      0      161.8000                2   \n",
       "3             0      32.9000      0      0      202.7000                3   \n",
       "4             0     100.0000      0      1       49.7500                2   \n",
       "...         ...          ...    ...    ...           ...              ...   \n",
       "4446961       0       0.0000      0      0     1019.0000                3   \n",
       "4446962       1      44.1500      0      0       81.7000                6   \n",
       "4446963       0      59.0600      0      0      788.7000                4   \n",
       "4446964       4     180.4000      2      2     2748.0000                8   \n",
       "4446965       2     268.0000      1      2     1244.0000                5   \n",
       "\n",
       "         winPlacePerc  matchType_duo  matchType_duo-fpp  matchType_solo  \\\n",
       "0              0.4444              0                  0               0   \n",
       "1              0.6400              0                  0               0   \n",
       "2              0.7755              1                  0               0   \n",
       "3              0.1667              0                  0               0   \n",
       "4              0.1875              0                  0               0   \n",
       "...               ...            ...                ...             ...   \n",
       "4446961        0.1786              0                  0               0   \n",
       "4446962        0.2935              0                  0               1   \n",
       "4446963        0.4815              0                  0               0   \n",
       "4446964        0.8000              0                  0               0   \n",
       "4446965        0.5464              0                  0               0   \n",
       "\n",
       "         matchType_solo-fpp  matchType_squad  matchType_squad-fpp  \n",
       "0                         0                0                    1  \n",
       "1                         0                0                    1  \n",
       "2                         0                0                    0  \n",
       "3                         0                0                    1  \n",
       "4                         1                0                    0  \n",
       "...                     ...              ...                  ...  \n",
       "4446961                   0                0                    1  \n",
       "4446962                   0                0                    0  \n",
       "4446963                   0                0                    1  \n",
       "4446964                   0                0                    1  \n",
       "4446965                   1                0                    0  \n",
       "\n",
       "[4206501 rows x 13 columns]"
      ]
     },
     "execution_count": 37,
     "metadata": {},
     "output_type": "execute_result"
    }
   ],
   "source": [
    "train_r3 = arr2_df(check_columns, 0.99)\n",
    "train_r3"
   ]
  },
  {
   "cell_type": "code",
   "execution_count": 35,
   "id": "25813cf9",
   "metadata": {},
   "outputs": [
    {
     "name": "stderr",
     "output_type": "stream",
     "text": [
      "C:\\Users\\brown\\miniforge3\\envs\\csw\\lib\\site-packages\\seaborn\\_decorators.py:36: FutureWarning: Pass the following variable as a keyword arg: x. From version 0.12, the only valid positional argument will be `data`, and passing other arguments without an explicit keyword will result in an error or misinterpretation.\n",
      "  warnings.warn(\n"
     ]
    },
    {
     "data": {
      "image/png": "[encoded data removed]",
      "text/plain": [
       "<Figure size 432x288 with 1 Axes>"
      ]
     },
     "metadata": {
      "needs_background": "light"
     },
     "output_type": "display_data"
    },
    {
     "name": "stderr",
     "output_type": "stream",
     "text": [
      "C:\\Users\\brown\\miniforge3\\envs\\csw\\lib\\site-packages\\seaborn\\_decorators.py:36: FutureWarning: Pass the following variable as a keyword arg: x. From version 0.12, the only valid positional argument will be `data`, and passing other arguments without an explicit keyword will result in an error or misinterpretation.\n",
      "  warnings.warn(\n"
     ]
    },
    {
     "data": {
      "image/png": "[encoded data removed]",
      "text/plain": [
       "<Figure size 432x288 with 1 Axes>"
      ]
     },
     "metadata": {
      "needs_background": "light"
     },
     "output_type": "display_data"
    },
    {
     "name": "stderr",
     "output_type": "stream",
     "text": [
      "C:\\Users\\brown\\miniforge3\\envs\\csw\\lib\\site-packages\\seaborn\\_decorators.py:36: FutureWarning: Pass the following variable as a keyword arg: x. From version 0.12, the only valid positional argument will be `data`, and passing other arguments without an explicit keyword will result in an error or misinterpretation.\n",
      "  warnings.warn(\n"
     ]
    },
    {
     "data": {
      "image/png": "[encoded data removed]",
      "text/plain": [
       "<Figure size 432x288 with 1 Axes>"
      ]
     },
     "metadata": {
      "needs_background": "light"
     },
     "output_type": "display_data"
    },
    {
     "name": "stderr",
     "output_type": "stream",
     "text": [
      "C:\\Users\\brown\\miniforge3\\envs\\csw\\lib\\site-packages\\seaborn\\_decorators.py:36: FutureWarning: Pass the following variable as a keyword arg: x. From version 0.12, the only valid positional argument will be `data`, and passing other arguments without an explicit keyword will result in an error or misinterpretation.\n",
      "  warnings.warn(\n"
     ]
    },
    {
     "data": {
      "image/png": "[encoded data removed]",
      "text/plain": [
       "<Figure size 432x288 with 1 Axes>"
      ]
     },
     "metadata": {
      "needs_background": "light"
     },
     "output_type": "display_data"
    },
    {
     "name": "stderr",
     "output_type": "stream",
     "text": [
      "C:\\Users\\brown\\miniforge3\\envs\\csw\\lib\\site-packages\\seaborn\\_decorators.py:36: FutureWarning: Pass the following variable as a keyword arg: x. From version 0.12, the only valid positional argument will be `data`, and passing other arguments without an explicit keyword will result in an error or misinterpretation.\n",
      "  warnings.warn(\n"
     ]
    },
    {
     "data": {
      "image/png": "[encoded data removed]",
      "text/plain": [
       "<Figure size 432x288 with 1 Axes>"
      ]
     },
     "metadata": {
      "needs_background": "light"
     },
     "output_type": "display_data"
    },
    {
     "name": "stderr",
     "output_type": "stream",
     "text": [
      "C:\\Users\\brown\\miniforge3\\envs\\csw\\lib\\site-packages\\seaborn\\_decorators.py:36: FutureWarning: Pass the following variable as a keyword arg: x. From version 0.12, the only valid positional argument will be `data`, and passing other arguments without an explicit keyword will result in an error or misinterpretation.\n",
      "  warnings.warn(\n"
     ]
    },
    {
     "data": {
      "image/png": "[encoded data removed]",
      "text/plain": [
       "<Figure size 432x288 with 1 Axes>"
      ]
     },
     "metadata": {
      "needs_background": "light"
     },
     "output_type": "display_data"
    }
   ],
   "source": [
    "for i in check_columns:\n",
    "    sns.boxplot(train_r3[i])\n",
    "    plt.show()"
   ]
  },
  {
   "cell_type": "code",
   "execution_count": 36,
   "id": "9193aae9",
   "metadata": {
    "scrolled": false
   },
   "outputs": [
    {
     "data": {
      "image/png": "[encoded data removed]",
      "text/plain": [
       "<Figure size 432x288 with 1 Axes>"
      ]
     },
     "metadata": {
      "needs_background": "light"
     },
     "output_type": "display_data"
    },
    {
     "data": {
      "image/png": "[encoded data removed]",
      "text/plain": [
       "<Figure size 432x288 with 1 Axes>"
      ]
     },
     "metadata": {
      "needs_background": "light"
     },
     "output_type": "display_data"
    },
    {
     "data": {
      "image/png": "[encoded data removed]",
      "text/plain": [
       "<Figure size 432x288 with 1 Axes>"
      ]
     },
     "metadata": {
      "needs_background": "light"
     },
     "output_type": "display_data"
    },
    {
     "data": {
      "image/png": "[encoded data removed]",
      "text/plain": [
       "<Figure size 432x288 with 1 Axes>"
      ]
     },
     "metadata": {
      "needs_background": "light"
     },
     "output_type": "display_data"
    },
    {
     "data": {
      "image/png": "[encoded data removed]",
      "text/plain": [
       "<Figure size 432x288 with 1 Axes>"
      ]
     },
     "metadata": {
      "needs_background": "light"
     },
     "output_type": "display_data"
    },
    {
     "data": {
      "image/png": "[encoded data removed]",
      "text/plain": [
       "<Figure size 432x288 with 1 Axes>"
      ]
     },
     "metadata": {
      "needs_background": "light"
     },
     "output_type": "display_data"
    }
   ],
   "source": [
    "for i in check_columns:\n",
    "    plt.scatter(x=train_r3[i], y=train_r3.winPlacePerc)\n",
    "    plt.title(i, loc='right', pad = 20)\n",
    "    plt.show()"
   ]
  },
  {
   "cell_type": "markdown",
   "id": "261ab255",
   "metadata": {},
   "source": [
    "## 머신러닝"
   ]
  },
  {
   "cell_type": "code",
   "execution_count": 28,
   "id": "5adef0bf",
   "metadata": {},
   "outputs": [],
   "source": [
    "# 선형 회귀\n",
    "\n",
    "# scale을 지정하여 모델을 생성\n",
    "#   StandardScaler를 이용해서 학습하면 R-squared를 유지하면서 Cond. No.를 줄일수 있습니다.\n",
    "from sklearn.preprocessing import StandardScaler     # 평균이 0과 표준편차가 1이 되도록 변환.\n",
    "from sklearn.preprocessing import MinMaxScaler           # 최대값이 각각 1, 최소값이 0이 되도록 변환록 변환.\n",
    "from sklearn.preprocessing import RobustScaler           # 중앙값(median) 0이 되도록 변환\n",
    "from sklearn.preprocessing import Normalizer             # 0을 기준으로 절대값이 가장 큰 수가 1또는 -1이 되도록 변환\n",
    "\n",
    "new_scaler = StandardScaler()\n",
    "# new_scaler = MinMaxScaler()\n",
    "# new_scaler = RobustScaler()\n",
    "# new_scaler = mean_absolute_erro\n",
    "\n",
    "# 데이터셋 분리\n",
    "from sklearn.model_selection import train_test_split \n",
    "\n",
    "# 머신러닝 모델\n",
    "#    선형회귀\n",
    "from sklearn.linear_model import LinearRegression\n",
    "#    SVR\n",
    "from sklearn.svm import SVR\n",
    "#    Decision Tree\n",
    "from sklearn.tree import DecisionTreeRegressor\n",
    "#    RandomForest\n",
    "from sklearn.ensemble import RandomForestRegressor\n",
    "#    lightgbm\n",
    "from lightgbm.sklearn import LGBMRegressor\n",
    "#    ensenble\n",
    "from sklearn.ensemble import VotingClassifier , VotingRegressor\n",
    "#    lightgbm\n",
    "import lightgbm as lgb\n",
    "#    xgboost\n",
    "import xgboost as xgb\n",
    "#    MLPRegressor`\n",
    "from sklearn.neural_network import MLPRegressor\n",
    "\n",
    "# 머신러닝 회귀모델 평가지표\n",
    "from sklearn.metrics import mean_squared_error,r2_score, mean_absolute_error, confusion_matrix,accuracy_score"
   ]
  },
  {
   "cell_type": "code",
   "execution_count": 38,
   "id": "845559e5",
   "metadata": {},
   "outputs": [
    {
     "data": {
      "text/plain": [
       "0.12439576061823025"
      ]
     },
     "execution_count": 38,
     "metadata": {},
     "output_type": "execute_result"
    }
   ],
   "source": [
    "# 기본 데이터로 학습\n",
    "y = train[['winPlacePerc']]\n",
    "X = train.drop(columns ='winPlacePerc')\n",
    "\n",
    "# 스케일링 작업\n",
    "X = new_scaler.fit_transform(X)\n",
    "\n",
    "# 데이터셋 분리\n",
    "train_X, valid_X, train_y, valid_y = train_test_split(X, y, test_size = 0.2, random_state = 42)\n",
    "\n",
    "# 학습\n",
    "model = LinearRegression().fit(train_X, train_y)\n",
    "\n",
    "# 모델 평가\n",
    "pred_y = model.predict(valid_X)\n",
    "mean_absolute_error(valid_y, pred_y)"
   ]
  },
  {
   "cell_type": "code",
   "execution_count": 39,
   "id": "bef0ddb4",
   "metadata": {},
   "outputs": [
    {
     "data": {
      "text/plain": [
       "0.11854106148866767"
      ]
     },
     "execution_count": 39,
     "metadata": {},
     "output_type": "execute_result"
    }
   ],
   "source": [
    "# 이상치 제거 1번 데이터로 학습\n",
    "y = train_r1[['winPlacePerc']]\n",
    "X = train_r1.drop(columns ='winPlacePerc')\n",
    "\n",
    "# 스케일링 작업\n",
    "X = new_scaler.fit_transform(X)\n",
    "\n",
    "# 데이터셋 분리\n",
    "train_X, valid_X, train_y, valid_y = train_test_split(X, y, test_size = 0.2, random_state = 42)\n",
    "\n",
    "# 학습\n",
    "model = LinearRegression().fit(train_X, train_y)\n",
    "\n",
    "# 모델 평가\n",
    "pred_y = model.predict(valid_X)\n",
    "mean_absolute_error(valid_y, pred_y)"
   ]
  },
  {
   "cell_type": "code",
   "execution_count": 40,
   "id": "6f5eab3e",
   "metadata": {},
   "outputs": [
    {
     "data": {
      "text/plain": [
       "0.12423301406124913"
      ]
     },
     "execution_count": 40,
     "metadata": {},
     "output_type": "execute_result"
    }
   ],
   "source": [
    "# 이상치 제거 2번 데이터로 학습\n",
    "y = train_r2[['winPlacePerc']]\n",
    "X = train_r2.drop(columns ='winPlacePerc')\n",
    "\n",
    "# 스케일링 작업\n",
    "X = new_scaler.fit_transform(X)\n",
    "\n",
    "# 데이터셋 분리\n",
    "train_X, valid_X, train_y, valid_y = train_test_split(X, y, test_size = 0.2, random_state = 42)\n",
    "           \n",
    "# 학습\n",
    "model = LinearRegression().fit(train_X, train_y)\n",
    "\n",
    "# 모델 평가\n",
    "pred_y = model.predict(valid_X)\n",
    "mean_absolute_error(valid_y, pred_y)"
   ]
  },
  {
   "cell_type": "code",
   "execution_count": 41,
   "id": "18997821",
   "metadata": {},
   "outputs": [
    {
     "data": {
      "text/plain": [
       "0.1196667175477136"
      ]
     },
     "execution_count": 41,
     "metadata": {},
     "output_type": "execute_result"
    }
   ],
   "source": [
    "# 이상치 제거 3번 데이터로 학습\n",
    "y = train_r3[['winPlacePerc']]\n",
    "X = train_r3.drop(columns ='winPlacePerc')\n",
    "\n",
    "# 스케일링 작업\n",
    "X = new_scaler.fit_transform(X)\n",
    "\n",
    "# 데이터셋 분리\n",
    "train_X, valid_X, train_y, valid_y = train_test_split(X, y, test_size = 0.2, random_state = 42)\n",
    "\n",
    "# 학습\n",
    "model = LinearRegression().fit(train_X, train_y)\n",
    "\n",
    "# 모델 평가\n",
    "pred_y = model.predict(valid_X)\n",
    "mean_absolute_error(valid_y, pred_y)"
   ]
  },
  {
   "cell_type": "code",
   "execution_count": 42,
   "id": "06afbbf1",
   "metadata": {
    "scrolled": false
   },
   "outputs": [
    {
     "data": {
      "image/png": "[encoded data removed]",
      "text/plain": [
       "<Figure size 1080x1080 with 2 Axes>"
      ]
     },
     "metadata": {
      "needs_background": "light"
     },
     "output_type": "display_data"
    }
   ],
   "source": [
    "# feature들의 다중공선성 확인1\n",
    "\n",
    "plt.figure(figsize=(15,15))\n",
    "sns.heatmap(train.drop(columns ='winPlacePerc').corr(), annot=True)\n",
    "plt.show()"
   ]
  },
  {
   "cell_type": "markdown",
   "id": "81f57761",
   "metadata": {},
   "source": [
    "- feature들의 다중공선성 확인 방법 2\n",
    "    - VIF(Variance inflation factor)\n",
    "        - 분산 팽창 요인\n",
    "        - 변수들간의 correlation을 진단하는 방법\n",
    "        - 특정 feature를 y값으로 설정하여 모델을 만들었을때 나오는 결정계수(r-squared)로 아래의 수식을 연산"
   ]
  },
  {
   "cell_type": "code",
   "execution_count": 15,
   "id": "69f355ea",
   "metadata": {
    "scrolled": false
   },
   "outputs": [
    {
     "data": {
      "text/html": [
       "<div>\n",
       "<style scoped>\n",
       "    .dataframe tbody tr th:only-of-type {\n",
       "        vertical-align: middle;\n",
       "    }\n",
       "\n",
       "    .dataframe tbody tr th {\n",
       "        vertical-align: top;\n",
       "    }\n",
       "\n",
       "    .dataframe thead th {\n",
       "        text-align: right;\n",
       "    }\n",
       "</style>\n",
       "<table border=\"1\" class=\"dataframe\">\n",
       "  <thead>\n",
       "    <tr style=\"text-align: right;\">\n",
       "      <th></th>\n",
       "      <th>VIF Factor</th>\n",
       "      <th>features</th>\n",
       "    </tr>\n",
       "  </thead>\n",
       "  <tbody>\n",
       "    <tr>\n",
       "      <th>0</th>\n",
       "      <td>2.3004</td>\n",
       "      <td>boosts</td>\n",
       "    </tr>\n",
       "    <tr>\n",
       "      <th>1</th>\n",
       "      <td>4.8197</td>\n",
       "      <td>damageDealt</td>\n",
       "    </tr>\n",
       "    <tr>\n",
       "      <th>2</th>\n",
       "      <td>1.4491</td>\n",
       "      <td>heals</td>\n",
       "    </tr>\n",
       "    <tr>\n",
       "      <th>3</th>\n",
       "      <td>4.6636</td>\n",
       "      <td>kills</td>\n",
       "    </tr>\n",
       "    <tr>\n",
       "      <th>4</th>\n",
       "      <td>2.1442</td>\n",
       "      <td>walkDistance</td>\n",
       "    </tr>\n",
       "    <tr>\n",
       "      <th>5</th>\n",
       "      <td>1.5416</td>\n",
       "      <td>weaponsAcquired</td>\n",
       "    </tr>\n",
       "    <tr>\n",
       "      <th>6</th>\n",
       "      <td>1.1937</td>\n",
       "      <td>matchType_duo</td>\n",
       "    </tr>\n",
       "    <tr>\n",
       "      <th>7</th>\n",
       "      <td>1.5839</td>\n",
       "      <td>matchType_duo-fpp</td>\n",
       "    </tr>\n",
       "    <tr>\n",
       "      <th>8</th>\n",
       "      <td>1.1058</td>\n",
       "      <td>matchType_solo</td>\n",
       "    </tr>\n",
       "    <tr>\n",
       "      <th>9</th>\n",
       "      <td>1.2910</td>\n",
       "      <td>matchType_solo-fpp</td>\n",
       "    </tr>\n",
       "    <tr>\n",
       "      <th>10</th>\n",
       "      <td>1.4075</td>\n",
       "      <td>matchType_squad</td>\n",
       "    </tr>\n",
       "    <tr>\n",
       "      <th>11</th>\n",
       "      <td>2.0856</td>\n",
       "      <td>matchType_squad-fpp</td>\n",
       "    </tr>\n",
       "  </tbody>\n",
       "</table>\n",
       "</div>"
      ],
      "text/plain": [
       "    VIF Factor             features\n",
       "0       2.3004               boosts\n",
       "1       4.8197          damageDealt\n",
       "2       1.4491                heals\n",
       "3       4.6636                kills\n",
       "4       2.1442         walkDistance\n",
       "5       1.5416      weaponsAcquired\n",
       "6       1.1937        matchType_duo\n",
       "7       1.5839    matchType_duo-fpp\n",
       "8       1.1058       matchType_solo\n",
       "9       1.2910   matchType_solo-fpp\n",
       "10      1.4075      matchType_squad\n",
       "11      2.0856  matchType_squad-fpp"
      ]
     },
     "execution_count": 15,
     "metadata": {},
     "output_type": "execute_result"
    }
   ],
   "source": [
    "# VIF 지표\n",
    "\n",
    "# 데이터 프레임으로 출력\n",
    "\n",
    "from statsmodels.stats.outliers_influence import variance_inflation_factor\n",
    "\n",
    "pd.DataFrame({\n",
    "    \"VIF Factor\": [variance_inflation_factor(train.drop(columns ='winPlacePerc').values, idx) for idx in range(train.drop(columns ='winPlacePerc').shape[1])],\n",
    "    \"features\": train.drop(columns ='winPlacePerc').columns,\n",
    "    })"
   ]
  },
  {
   "cell_type": "code",
   "execution_count": 42,
   "id": "62d73755",
   "metadata": {},
   "outputs": [],
   "source": [
    "# 다항회귀\n",
    "#   train_X 데이터를 다항식으로 변경\n",
    "\n",
    "# feature값 행렬 데이터로 변경\n",
    "from sklearn.preprocessing import PolynomialFeatures\n",
    "\n",
    "# 모델의 학습은 선형대수로 계산이 되기 때문에 제곱한 feature를 추가\n",
    "poly_features = PolynomialFeatures(degree=2, include_bias=False)   # 2차방정식\n",
    "\n",
    "y = train[['winPlacePerc']]\n",
    "X = train.drop(columns ='winPlacePerc')"
   ]
  },
  {
   "cell_type": "code",
   "execution_count": 43,
   "id": "ab3571cd",
   "metadata": {},
   "outputs": [
    {
     "data": {
      "text/html": [
       "<div>\n",
       "<style scoped>\n",
       "    .dataframe tbody tr th:only-of-type {\n",
       "        vertical-align: middle;\n",
       "    }\n",
       "\n",
       "    .dataframe tbody tr th {\n",
       "        vertical-align: top;\n",
       "    }\n",
       "\n",
       "    .dataframe thead th {\n",
       "        text-align: right;\n",
       "    }\n",
       "</style>\n",
       "<table border=\"1\" class=\"dataframe\">\n",
       "  <thead>\n",
       "    <tr style=\"text-align: right;\">\n",
       "      <th></th>\n",
       "      <th>boosts</th>\n",
       "      <th>boosts2</th>\n",
       "      <th>damageDealt</th>\n",
       "      <th>damageDealt2</th>\n",
       "      <th>heals</th>\n",
       "      <th>heals2</th>\n",
       "      <th>kills</th>\n",
       "      <th>kills2</th>\n",
       "      <th>walkDistance</th>\n",
       "      <th>walkDistance2</th>\n",
       "      <th>...</th>\n",
       "      <th>matchType_duo-fpp</th>\n",
       "      <th>matchType_duo-fpp2</th>\n",
       "      <th>matchType_solo</th>\n",
       "      <th>matchType_solo2</th>\n",
       "      <th>matchType_solo-fpp</th>\n",
       "      <th>matchType_solo-fpp2</th>\n",
       "      <th>matchType_squad</th>\n",
       "      <th>matchType_squad2</th>\n",
       "      <th>matchType_squad-fpp</th>\n",
       "      <th>matchType_squad-fpp2</th>\n",
       "    </tr>\n",
       "  </thead>\n",
       "  <tbody>\n",
       "    <tr>\n",
       "      <th>0</th>\n",
       "      <td>0.0000</td>\n",
       "      <td>0.0000</td>\n",
       "      <td>0.0000</td>\n",
       "      <td>0.0000</td>\n",
       "      <td>0.0000</td>\n",
       "      <td>0.0000</td>\n",
       "      <td>0.0000</td>\n",
       "      <td>0.0000</td>\n",
       "      <td>244.8000</td>\n",
       "      <td>59927.0400</td>\n",
       "      <td>...</td>\n",
       "      <td>0.0000</td>\n",
       "      <td>0.0000</td>\n",
       "      <td>0.0000</td>\n",
       "      <td>0.0000</td>\n",
       "      <td>0.0000</td>\n",
       "      <td>0.0000</td>\n",
       "      <td>0.0000</td>\n",
       "      <td>0.0000</td>\n",
       "      <td>1.0000</td>\n",
       "      <td>1.0000</td>\n",
       "    </tr>\n",
       "    <tr>\n",
       "      <th>1</th>\n",
       "      <td>0.0000</td>\n",
       "      <td>0.0000</td>\n",
       "      <td>91.4700</td>\n",
       "      <td>8366.7609</td>\n",
       "      <td>0.0000</td>\n",
       "      <td>0.0000</td>\n",
       "      <td>0.0000</td>\n",
       "      <td>0.0000</td>\n",
       "      <td>1434.0000</td>\n",
       "      <td>2056356.0000</td>\n",
       "      <td>...</td>\n",
       "      <td>0.0000</td>\n",
       "      <td>0.0000</td>\n",
       "      <td>0.0000</td>\n",
       "      <td>0.0000</td>\n",
       "      <td>0.0000</td>\n",
       "      <td>0.0000</td>\n",
       "      <td>0.0000</td>\n",
       "      <td>0.0000</td>\n",
       "      <td>1.0000</td>\n",
       "      <td>1.0000</td>\n",
       "    </tr>\n",
       "    <tr>\n",
       "      <th>2</th>\n",
       "      <td>0.0000</td>\n",
       "      <td>0.0000</td>\n",
       "      <td>68.0000</td>\n",
       "      <td>4624.0000</td>\n",
       "      <td>0.0000</td>\n",
       "      <td>0.0000</td>\n",
       "      <td>0.0000</td>\n",
       "      <td>0.0000</td>\n",
       "      <td>161.8000</td>\n",
       "      <td>26179.2400</td>\n",
       "      <td>...</td>\n",
       "      <td>0.0000</td>\n",
       "      <td>0.0000</td>\n",
       "      <td>0.0000</td>\n",
       "      <td>0.0000</td>\n",
       "      <td>0.0000</td>\n",
       "      <td>0.0000</td>\n",
       "      <td>0.0000</td>\n",
       "      <td>0.0000</td>\n",
       "      <td>0.0000</td>\n",
       "      <td>0.0000</td>\n",
       "    </tr>\n",
       "    <tr>\n",
       "      <th>3</th>\n",
       "      <td>0.0000</td>\n",
       "      <td>0.0000</td>\n",
       "      <td>32.9000</td>\n",
       "      <td>1082.4100</td>\n",
       "      <td>0.0000</td>\n",
       "      <td>0.0000</td>\n",
       "      <td>0.0000</td>\n",
       "      <td>0.0000</td>\n",
       "      <td>202.7000</td>\n",
       "      <td>41087.2900</td>\n",
       "      <td>...</td>\n",
       "      <td>0.0000</td>\n",
       "      <td>0.0000</td>\n",
       "      <td>0.0000</td>\n",
       "      <td>0.0000</td>\n",
       "      <td>0.0000</td>\n",
       "      <td>0.0000</td>\n",
       "      <td>0.0000</td>\n",
       "      <td>0.0000</td>\n",
       "      <td>1.0000</td>\n",
       "      <td>1.0000</td>\n",
       "    </tr>\n",
       "    <tr>\n",
       "      <th>4</th>\n",
       "      <td>0.0000</td>\n",
       "      <td>0.0000</td>\n",
       "      <td>100.0000</td>\n",
       "      <td>10000.0000</td>\n",
       "      <td>0.0000</td>\n",
       "      <td>0.0000</td>\n",
       "      <td>1.0000</td>\n",
       "      <td>1.0000</td>\n",
       "      <td>49.7500</td>\n",
       "      <td>2475.0625</td>\n",
       "      <td>...</td>\n",
       "      <td>0.0000</td>\n",
       "      <td>0.0000</td>\n",
       "      <td>0.0000</td>\n",
       "      <td>0.0000</td>\n",
       "      <td>1.0000</td>\n",
       "      <td>1.0000</td>\n",
       "      <td>0.0000</td>\n",
       "      <td>0.0000</td>\n",
       "      <td>0.0000</td>\n",
       "      <td>0.0000</td>\n",
       "    </tr>\n",
       "  </tbody>\n",
       "</table>\n",
       "<p>5 rows × 24 columns</p>\n",
       "</div>"
      ],
      "text/plain": [
       "   boosts  boosts2  damageDealt  damageDealt2  heals  heals2  kills  kills2  \\\n",
       "0  0.0000   0.0000       0.0000        0.0000 0.0000  0.0000 0.0000  0.0000   \n",
       "1  0.0000   0.0000      91.4700     8366.7609 0.0000  0.0000 0.0000  0.0000   \n",
       "2  0.0000   0.0000      68.0000     4624.0000 0.0000  0.0000 0.0000  0.0000   \n",
       "3  0.0000   0.0000      32.9000     1082.4100 0.0000  0.0000 0.0000  0.0000   \n",
       "4  0.0000   0.0000     100.0000    10000.0000 0.0000  0.0000 1.0000  1.0000   \n",
       "\n",
       "   walkDistance  walkDistance2  ...  matchType_duo-fpp  matchType_duo-fpp2  \\\n",
       "0      244.8000     59927.0400  ...             0.0000              0.0000   \n",
       "1     1434.0000   2056356.0000  ...             0.0000              0.0000   \n",
       "2      161.8000     26179.2400  ...             0.0000              0.0000   \n",
       "3      202.7000     41087.2900  ...             0.0000              0.0000   \n",
       "4       49.7500      2475.0625  ...             0.0000              0.0000   \n",
       "\n",
       "   matchType_solo  matchType_solo2  matchType_solo-fpp  matchType_solo-fpp2  \\\n",
       "0          0.0000           0.0000              0.0000               0.0000   \n",
       "1          0.0000           0.0000              0.0000               0.0000   \n",
       "2          0.0000           0.0000              0.0000               0.0000   \n",
       "3          0.0000           0.0000              0.0000               0.0000   \n",
       "4          0.0000           0.0000              1.0000               1.0000   \n",
       "\n",
       "   matchType_squad  matchType_squad2  matchType_squad-fpp  \\\n",
       "0           0.0000            0.0000               1.0000   \n",
       "1           0.0000            0.0000               1.0000   \n",
       "2           0.0000            0.0000               0.0000   \n",
       "3           0.0000            0.0000               1.0000   \n",
       "4           0.0000            0.0000               0.0000   \n",
       "\n",
       "   matchType_squad-fpp2  \n",
       "0                1.0000  \n",
       "1                1.0000  \n",
       "2                0.0000  \n",
       "3                1.0000  \n",
       "4                0.0000  \n",
       "\n",
       "[5 rows x 24 columns]"
      ]
     },
     "execution_count": 43,
     "metadata": {},
     "output_type": "execute_result"
    }
   ],
   "source": [
    "# 2차항 : 다항회귀 적용\n",
    "\n",
    "newX = []\n",
    "columns = []\n",
    "for i in X.columns:\n",
    "    newX.append(poly_features.fit_transform(X[[i]]))\n",
    "    columns.append(i)\n",
    "    columns.append(i+\"2\")\n",
    "newX = np.column_stack(newX)\n",
    "# numpy 배열을 옆으로 붙이기https://rfriend.tistory.com/352\n",
    "newX_df = pd.DataFrame(newX, columns = columns)\n",
    "newX_df.head()"
   ]
  },
  {
   "cell_type": "code",
   "execution_count": 46,
   "id": "6108b18f",
   "metadata": {},
   "outputs": [
    {
     "data": {
      "text/plain": [
       "0.10780870889092166"
      ]
     },
     "execution_count": 46,
     "metadata": {},
     "output_type": "execute_result"
    }
   ],
   "source": [
    "# Scale 후 학습 진행\n",
    "\n",
    "y = train[['winPlacePerc']]\n",
    "X = newX_df\n",
    "\n",
    "# 데이터셋 분리\n",
    "train_X, valid_X, train_y, valid_y = train_test_split(X, y, test_size = 0.2, random_state = 42)\n",
    "           \n",
    "# 학습\n",
    "model = LinearRegression().fit(train_X, train_y)\n",
    "\n",
    "# 모델 평가\n",
    "pred_y = model.predict(valid_X)\n",
    "mean_absolute_error(valid_y, pred_y)"
   ]
  },
  {
   "cell_type": "code",
   "execution_count": 47,
   "id": "b4a56b16",
   "metadata": {},
   "outputs": [
    {
     "data": {
      "text/plain": [
       "0.10780986971789959"
      ]
     },
     "execution_count": 47,
     "metadata": {},
     "output_type": "execute_result"
    }
   ],
   "source": [
    "# Scale 후 학습 진행\n",
    "\n",
    "y = train[['winPlacePerc']]\n",
    "X = new_scaler.fit_transform(newX_df)\n",
    "\n",
    "# 데이터셋 분리\n",
    "train_X, valid_X, train_y, valid_y = train_test_split(X, y, test_size = 0.2, random_state = 42)\n",
    "           \n",
    "# 학습\n",
    "model = LinearRegression().fit(train_X, train_y)\n",
    "\n",
    "# 모델 평가\n",
    "pred_y = model.predict(valid_X)\n",
    "mean_absolute_error(valid_y, pred_y)"
   ]
  },
  {
   "cell_type": "code",
   "execution_count": 48,
   "id": "ad9b3cbd",
   "metadata": {},
   "outputs": [],
   "source": [
    "# 최적의 차원을 구하는 방법\n",
    "\n",
    "y = train[['winPlacePerc']]\n",
    "X = train.drop(columns ='winPlacePerc')\n",
    "\n",
    "def model_mae(degree):\n",
    "    poly_features = PolynomialFeatures(degree=degree, include_bias=False)   # 3차방정식\n",
    "    \n",
    "    newX = []\n",
    "    columns = []\n",
    "    for i in X.columns:\n",
    "        newX.append(poly_features.fit_transform(X[[i]]))\n",
    "    newX = np.column_stack(newX)\n",
    "    newX_df = pd.DataFrame(newX)\n",
    "    newX_df.head()\n",
    "    \n",
    "    # 데이터셋 분리\n",
    "    train_X, valid_X, train_y, valid_y = train_test_split(newX_df, y, test_size=0.2, random_state=42)\n",
    "    \n",
    "    # 학습\n",
    "    model = LinearRegression().fit(train_X, train_y)\n",
    "    \n",
    "    # 모델 평가\n",
    "    pred_y = model.predict(valid_X)\n",
    "    return mean_absolute_error(valid_y, pred_y)"
   ]
  },
  {
   "cell_type": "code",
   "execution_count": 49,
   "id": "60d2a14e",
   "metadata": {},
   "outputs": [
    {
     "data": {
      "text/html": [
       "<div>\n",
       "<style scoped>\n",
       "    .dataframe tbody tr th:only-of-type {\n",
       "        vertical-align: middle;\n",
       "    }\n",
       "\n",
       "    .dataframe tbody tr th {\n",
       "        vertical-align: top;\n",
       "    }\n",
       "\n",
       "    .dataframe thead th {\n",
       "        text-align: right;\n",
       "    }\n",
       "</style>\n",
       "<table border=\"1\" class=\"dataframe\">\n",
       "  <thead>\n",
       "    <tr style=\"text-align: right;\">\n",
       "      <th></th>\n",
       "      <th>degree</th>\n",
       "      <th>mae</th>\n",
       "    </tr>\n",
       "  </thead>\n",
       "  <tbody>\n",
       "    <tr>\n",
       "      <th>0</th>\n",
       "      <td>1.0000</td>\n",
       "      <td>0.1244</td>\n",
       "    </tr>\n",
       "    <tr>\n",
       "      <th>1</th>\n",
       "      <td>2.0000</td>\n",
       "      <td>0.1078</td>\n",
       "    </tr>\n",
       "    <tr>\n",
       "      <th>2</th>\n",
       "      <td>3.0000</td>\n",
       "      <td>0.1044</td>\n",
       "    </tr>\n",
       "    <tr>\n",
       "      <th>3</th>\n",
       "      <td>4.0000</td>\n",
       "      <td>0.1034</td>\n",
       "    </tr>\n",
       "    <tr>\n",
       "      <th>4</th>\n",
       "      <td>5.0000</td>\n",
       "      <td>0.1308</td>\n",
       "    </tr>\n",
       "    <tr>\n",
       "      <th>5</th>\n",
       "      <td>6.0000</td>\n",
       "      <td>0.1691</td>\n",
       "    </tr>\n",
       "    <tr>\n",
       "      <th>6</th>\n",
       "      <td>7.0000</td>\n",
       "      <td>0.2257</td>\n",
       "    </tr>\n",
       "    <tr>\n",
       "      <th>7</th>\n",
       "      <td>8.0000</td>\n",
       "      <td>0.2899</td>\n",
       "    </tr>\n",
       "    <tr>\n",
       "      <th>8</th>\n",
       "      <td>9.0000</td>\n",
       "      <td>0.4116</td>\n",
       "    </tr>\n",
       "    <tr>\n",
       "      <th>9</th>\n",
       "      <td>10.0000</td>\n",
       "      <td>0.6107</td>\n",
       "    </tr>\n",
       "  </tbody>\n",
       "</table>\n",
       "</div>"
      ],
      "text/plain": [
       "   degree    mae\n",
       "0  1.0000 0.1244\n",
       "1  2.0000 0.1078\n",
       "2  3.0000 0.1044\n",
       "3  4.0000 0.1034\n",
       "4  5.0000 0.1308\n",
       "5  6.0000 0.1691\n",
       "6  7.0000 0.2257\n",
       "7  8.0000 0.2899\n",
       "8  9.0000 0.4116\n",
       "9 10.0000 0.6107"
      ]
     },
     "execution_count": 49,
     "metadata": {},
     "output_type": "execute_result"
    }
   ],
   "source": [
    "# 1차원에서 10차원까지 학습\n",
    "\n",
    "evaluation_df = pd.DataFrame(columns=[\"degree\", \"mae\"])\n",
    "for degree in range(1, 11):\n",
    "    mae = model_mae(degree)\n",
    "    evaluation_df.loc[len(evaluation_df)] = [degree, mae]\n",
    "evaluation_df"
   ]
  },
  {
   "cell_type": "code",
   "execution_count": 50,
   "id": "de0e57cb",
   "metadata": {},
   "outputs": [
    {
     "name": "stdout",
     "output_type": "stream",
     "text": [
      "0.10780870889092166\n",
      "0.10442595043662384\n",
      "0.10344780096794153\n"
     ]
    }
   ],
   "source": [
    "# 2차원 ~ 4차원 mae 수치 각각 확인\n",
    "\n",
    "print(model_mae(2))\n",
    "print(model_mae(3))\n",
    "print(model_mae(4))"
   ]
  },
  {
   "cell_type": "code",
   "execution_count": 51,
   "id": "d2e42b86",
   "metadata": {
    "scrolled": true
   },
   "outputs": [
    {
     "data": {
      "image/png": "[encoded data removed]",
      "text/plain": [
       "<Figure size 432x288 with 1 Axes>"
      ]
     },
     "metadata": {
      "needs_background": "light"
     },
     "output_type": "display_data"
    }
   ],
   "source": [
    "# degree 3이 가장 적당\n",
    "# 차원이 증가함에 따라 계산량이 많아짐, 계산량이 많아지면 모델성능의 이득도 증가해야 함\n",
    "# 차원이 증가할수록 모델에 대한 성능의 이득이 가장 많은 차원을 결정\n",
    "plt.plot(evaluation_df[\"degree\"], evaluation_df[\"mae\"])\n",
    "plt.xticks(list(range(11)))\n",
    "plt.show()\n",
    "\n",
    "# 선형회귀보다는 3차원으로 해석하는 것이 좋은데, 그렇게 해석하려고 하니 무엇이 문제인가?\n",
    "# 선형회귀를 쓰자니 속도가 빠르고, 3차원으로 하자니 계산 양이 많아짐. -> 예측 속도에 대한 고민"
   ]
  },
  {
   "cell_type": "code",
   "execution_count": null,
   "id": "ff9e3ef4",
   "metadata": {},
   "outputs": [],
   "source": [
    "# SVR\n",
    "#   참고 사이트 : https://data-workspace.tistory.com/33\n",
    "\n",
    "# # rbf kernel\n",
    "# svr_rbf = SVR(kernel='rbf', C=100, gamma=0.1, epsilon=.1)\n",
    "\n",
    "# # 기본 데이터로 학습\n",
    "# y = train[['winPlacePerc']]\n",
    "# X = train.drop(columns ='winPlacePerc')\n",
    "\n",
    "# # 스케일링 작업\n",
    "# X = new_scaler.fit_transform(X)\n",
    "\n",
    "# # 데이터셋 분리\n",
    "# train_X, valid_X, train_y, valid_y = train_test_split(X, y, test_size = 0.2, random_state = 42)\n",
    "\n",
    "# # 학습\n",
    "# # model = svr_rbf.fit(train_X, np.ravel(train_y))\n",
    "# model = svr_rbf.fit(train_X, train_y)\n",
    "\n",
    "# # 모델 평가\n",
    "# pred_y = model.predict(valid_X)\n",
    "# print(mean_absolute_error(valid_y, pred_y))\n",
    "\n",
    "    \n",
    "# #  -------------------------------------\n",
    "\n",
    "# linear kernel\n",
    "svr_lin = SVR(kernel='linear', C=100, gamma='auto')\n",
    "\n",
    "# 기본 데이터로 학습\n",
    "y = train[['winPlacePerc']]\n",
    "X = train.drop(columns ='winPlacePerc')\n",
    "\n",
    "# 스케일링 작업\n",
    "X = new_scaler.fit_transform(X)\n",
    "\n",
    "# 데이터셋 분리\n",
    "train_X, valid_X, train_y, valid_y = train_test_split(X, y, test_size = 0.2, random_state = 42)\n",
    "\n",
    "# 학습\n",
    "model = svr_lin.fit(train_X, train_y.values.ravel)\n",
    "\n",
    "# 모델 평가\n",
    "pred_y = model.predict(valid_X)\n",
    "print(mean_absolute_error(valid_y, pred_y))\n",
    "\n",
    "# #  -------------------------------------\n",
    "    \n",
    "# # polynomial kernel\n",
    "# svr_poly = SVR(kernel='poly', C=100, gamma=0.1, degree=3, epsilon=.1, coef0=1)\n",
    "\n",
    "# # 기본 데이터로 학습\n",
    "# y = train[['winPlacePerc']]\n",
    "# X = train.drop(columns ='winPlacePerc')\n",
    "\n",
    "# # 스케일링 작업\n",
    "# X = new_scaler.fit_transform(X)\n",
    "\n",
    "# # 데이터셋 분리\n",
    "# train_X, valid_X, train_y, valid_y = train_test_split(X, y, test_size = 0.2, random_state = 42)\n",
    "\n",
    "# # 학습\n",
    "# model = svr_poly.fit(train_X, train_y)\n",
    "\n",
    "# # 모델 평가\n",
    "# pred_y = model.predict(valid_X)\n",
    "# print(mean_absolute_error(valid_y, pred_y))"
   ]
  },
  {
   "cell_type": "code",
   "execution_count": 27,
   "id": "3d92db92",
   "metadata": {},
   "outputs": [
    {
     "name": "stdout",
     "output_type": "stream",
     "text": [
      "0.1383259644991267\n"
     ]
    }
   ],
   "source": [
    "# Decision Tree\n",
    "\n",
    "# 기본 데이터로 학습\n",
    "y = train[['winPlacePerc']]\n",
    "X = train.drop(columns ='winPlacePerc')\n",
    "\n",
    "# 데이터셋 분리\n",
    "train_X, valid_X, train_y, valid_y = train_test_split(X, y, test_size = 0.2, random_state = 42)\n",
    "\n",
    "# 학습\n",
    "model = DecisionTreeRegressor().fit(train_X, train_y)\n",
    "\n",
    "# 모델 평가\n",
    "pred_y = model.predict(valid_X)\n",
    "print(mean_absolute_error(valid_y, pred_y))"
   ]
  },
  {
   "cell_type": "code",
   "execution_count": 24,
   "id": "21eafac2",
   "metadata": {
    "scrolled": true
   },
   "outputs": [
    {
     "name": "stderr",
     "output_type": "stream",
     "text": [
      "C:\\Users\\brown\\AppData\\Local\\Temp\\ipykernel_5864\\3418650538.py:9: DataConversionWarning: A column-vector y was passed when a 1d array was expected. Please change the shape of y to (n_samples,), for example using ravel().\n",
      "  rf.fit(train_X, train_y)\n"
     ]
    },
    {
     "name": "stdout",
     "output_type": "stream",
     "text": [
      "0.10763311363778762\n"
     ]
    }
   ],
   "source": [
    "# RandomForest\n",
    "\n",
    "y = train[['winPlacePerc']]\n",
    "X = train.drop(columns ='winPlacePerc')\n",
    "\n",
    "# 데이터셋 분리\n",
    "train_X, valid_X, train_y, valid_y = train_test_split(X, y, test_size = 0.2, random_state = 42)\n",
    "\n",
    "# 학습\n",
    "model = RandomForestRegressor(n_estimators=100,random_state=0,\n",
    "                           max_features='sqrt',max_leaf_nodes=100,\n",
    "                           oob_score=True)\n",
    "model.fit(train_X, train_y)\n",
    "\n",
    "# 모델 평가\n",
    "pred_y = model.predict(valid_X)\n",
    "print(mean_absolute_error(valid_y, pred_y))"
   ]
  },
  {
   "cell_type": "code",
   "execution_count": 29,
   "id": "487e6006",
   "metadata": {},
   "outputs": [
    {
     "name": "stdout",
     "output_type": "stream",
     "text": [
      "0.09899322431408357\n"
     ]
    }
   ],
   "source": [
    "# XGBoost\n",
    "model = xgb.XGBRegressor(\n",
    "    eval_metric=mean_absolute_error\n",
    "    ,random_state=42)\n",
    "\n",
    "y = train[['winPlacePerc']]\n",
    "X = train.drop(columns ='winPlacePerc')\n",
    "\n",
    "X = new_scaler.fit_transform(X)\n",
    "\n",
    "train_X, valid_X, train_y, valid_y = train_test_split(X, y, test_size = 0.2, random_state = 42)\n",
    "\n",
    "model.fit(train_X, train_y)\n",
    "\n",
    "pred_y = model.predict(valid_X)\n",
    "print(mean_absolute_error(valid_y, pred_y))"
   ]
  },
  {
   "cell_type": "code",
   "execution_count": 52,
   "id": "2181c873",
   "metadata": {},
   "outputs": [
    {
     "name": "stdout",
     "output_type": "stream",
     "text": [
      "0.10129369003235766\n"
     ]
    }
   ],
   "source": [
    "# XGBoost\n",
    "model = xgb.XGBRegressor(\n",
    "    eval_metric=mean_absolute_error\n",
    "    ,random_state=42)\n",
    "\n",
    "y = train_r1[['winPlacePerc']]\n",
    "X = train_r1.drop(columns ='winPlacePerc')\n",
    "\n",
    "X = new_scaler.fit_transform(X)\n",
    "\n",
    "train_X, valid_X, train_y, valid_y = train_test_split(X, y, test_size = 0.2, random_state = 42)\n",
    "\n",
    "model.fit(train_X, train_y)\n",
    "\n",
    "pred_y = model.predict(valid_X)\n",
    "print(mean_absolute_error(valid_y, pred_y))"
   ]
  },
  {
   "cell_type": "code",
   "execution_count": 53,
   "id": "da642469",
   "metadata": {},
   "outputs": [
    {
     "name": "stdout",
     "output_type": "stream",
     "text": [
      "0.0988513871165171\n"
     ]
    }
   ],
   "source": [
    "# XGBoost\n",
    "model = xgb.XGBRegressor(\n",
    "    eval_metric=mean_absolute_error\n",
    "    ,random_state=42)\n",
    "\n",
    "y = train_r2[['winPlacePerc']]\n",
    "X = train_r2.drop(columns ='winPlacePerc')\n",
    "\n",
    "X = new_scaler.fit_transform(X)\n",
    "\n",
    "train_X, valid_X, train_y, valid_y = train_test_split(X, y, test_size = 0.2, random_state = 42)\n",
    "\n",
    "model.fit(train_X, train_y)\n",
    "\n",
    "pred_y = model.predict(valid_X)\n",
    "print(mean_absolute_error(valid_y, pred_y))"
   ]
  },
  {
   "cell_type": "code",
   "execution_count": 54,
   "id": "9a5b887f",
   "metadata": {},
   "outputs": [
    {
     "name": "stdout",
     "output_type": "stream",
     "text": [
      "0.09989462338055394\n"
     ]
    }
   ],
   "source": [
    "# XGBoost\n",
    "model = xgb.XGBRegressor(\n",
    "    eval_metric=mean_absolute_error\n",
    "    ,random_state=42)\n",
    "\n",
    "y = train_r3[['winPlacePerc']]\n",
    "X = train_r3.drop(columns ='winPlacePerc')\n",
    "\n",
    "X = new_scaler.fit_transform(X)\n",
    "\n",
    "train_X, valid_X, train_y, valid_y = train_test_split(X, y, test_size = 0.2, random_state = 42)\n",
    "\n",
    "model.fit(train_X, train_y)\n",
    "\n",
    "pred_y = model.predict(valid_X)\n",
    "print(mean_absolute_error(valid_y, pred_y))"
   ]
  },
  {
   "cell_type": "code",
   "execution_count": 55,
   "id": "dd92a169",
   "metadata": {},
   "outputs": [
    {
     "name": "stderr",
     "output_type": "stream",
     "text": [
      "C:\\Users\\brown\\miniforge3\\envs\\csw\\lib\\site-packages\\sklearn\\neural_network\\_multilayer_perceptron.py:1599: DataConversionWarning: A column-vector y was passed when a 1d array was expected. Please change the shape of y to (n_samples, ), for example using ravel().\n",
      "  y = column_or_1d(y, warn=True)\n"
     ]
    },
    {
     "name": "stdout",
     "output_type": "stream",
     "text": [
      "0.1048743161905631\n"
     ]
    }
   ],
   "source": [
    "# MLPRegressor\n",
    "\n",
    "y = train_r3[['winPlacePerc']]\n",
    "X = train_r3.drop(columns ='winPlacePerc')\n",
    "\n",
    "X = new_scaler.fit_transform(X)\n",
    "\n",
    "train_X, valid_X, train_y, valid_y = train_test_split(X, y, test_size = 0.2, random_state = 42)\n",
    "\n",
    "model = MLPRegressor(hidden_layer_sizes=(32, 32), activation='relu', solver='adam', learning_rate='constant', \\\n",
    "                     learning_rate_init=0.01, max_iter=50, batch_size=32, shuffle=True, random_state=777)\n",
    "\n",
    "model.fit(train_X, train_y)\n",
    "\n",
    "pred_y = model.predict(valid_X)\n",
    "print(mean_absolute_error(valid_y, pred_y))"
   ]
  },
  {
   "cell_type": "code",
   "execution_count": null,
   "id": "33cec797",
   "metadata": {},
   "outputs": [],
   "source": []
  }
 ],
 "metadata": {
  "kernelspec": {
   "display_name": "Python 3 (ipykernel)",
   "language": "python",
   "name": "python3"
  },
  "language_info": {
   "codemirror_mode": {
    "name": "ipython",
    "version": 3
   },
   "file_extension": ".py",
   "mimetype": "text/x-python",
   "name": "python",
   "nbconvert_exporter": "python",
   "pygments_lexer": "ipython3",
   "version": "3.8.13"
  }
 },
 "nbformat": 4,
 "nbformat_minor": 5
}
