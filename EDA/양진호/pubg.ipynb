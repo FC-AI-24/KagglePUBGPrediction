{
  "nbformat": 4,
  "nbformat_minor": 0,
  "metadata": {
    "colab": {
      "name": "pubg.ipynb",
      "provenance": [],
      "collapsed_sections": [
        "zojjgPab3W-d"
      ],
      "mount_file_id": "1EBpy4PyZWG2WXOtkmItgT2uXPDqnBeGj",
      "authorship_tag": "ABX9TyMIQsNkI6x60I8j7KZwC7xe"
    },
    "kernelspec": {
      "name": "python3",
      "display_name": "Python 3"
    },
    "language_info": {
      "name": "python"
    }
  },
  "cells": [
    {
      "cell_type": "markdown",
      "source": [
        "# **import**"
      ],
      "metadata": {
        "id": "zojjgPab3W-d"
      }
    },
    {
      "cell_type": "code",
      "source": [
        "import pandas as pd\n",
        "import numpy as np\n",
        "import matplotlib.pyplot as plt\n",
        "import seaborn as sns\n",
        "from sklearn.svm import SVC\n",
        "from sklearn.preprocessing import OrdinalEncoder,StandardScaler,RobustScaler,MinMaxScaler,Normalizer\n",
        "from sklearn.model_selection import train_test_split,KFold,cross_val_score\n",
        "from sklearn.linear_model import LinearRegression\n",
        "from sklearn.metrics import mean_squared_error,r2_score,mean_absolute_error,confusion_matrix,accuracy_score\n",
        "from lightgbm.sklearn import LGBMRegressor\n",
        "from sklearn.ensemble import VotingClassifier , VotingRegressor,RandomForestRegressor\n",
        "import lightgbm as lgb\n",
        "import xgboost as xgb\n",
        "from xgboost import XGBClassifier,XGBRegressor\n",
        "from xgboost import plot_importance , plot_tree\n",
        "from sklearn.neighbors import KNeighborsRegressor\n",
        "\n",
        "import graphviz"
      ],
      "metadata": {
        "id": "GCjYo1wB3cbR"
      },
      "execution_count": 2,
      "outputs": []
    },
    {
      "cell_type": "markdown",
      "source": [
        "# **데이터로드**"
      ],
      "metadata": {
        "id": "wNK6pctLEhYR"
      }
    },
    {
      "cell_type": "markdown",
      "source": [
        "\n",
        "PUBG Finish Placement Prediction\n",
        "\n",
        "사용자가 몇 등으로 게임을 종료할지를 예측 하는 과제\n"
      ],
      "metadata": {
        "id": "f13aemB5206D"
      }
    },
    {
      "cell_type": "code",
      "execution_count": 3,
      "metadata": {
        "id": "j8w0kUWz2uXn"
      },
      "outputs": [],
      "source": [
        "path ='/content/drive/MyDrive/모델링 프로젝트/'\n",
        "#testv2 = pd.read_csv(path+'test_V2.csv')\n",
        "trainv2 = pd.read_csv(path+'train_V2.csv')"
      ]
    },
    {
      "cell_type": "markdown",
      "source": [
        "# **데이터 구조 파악**"
      ],
      "metadata": {
        "id": "B293JMxp4VlC"
      }
    },
    {
      "cell_type": "code",
      "source": [
        "# trainv2.shape"
      ],
      "metadata": {
        "id": "35gN5lnY4UF1"
      },
      "execution_count": null,
      "outputs": []
    },
    {
      "cell_type": "code",
      "source": [
        "# trainv2.info()"
      ],
      "metadata": {
        "id": "ywpLb-bH33O4"
      },
      "execution_count": null,
      "outputs": []
    },
    {
      "cell_type": "code",
      "source": [
        "# trainv2.describe()"
      ],
      "metadata": {
        "id": "HIgMhlTf4H8i"
      },
      "execution_count": null,
      "outputs": []
    },
    {
      "cell_type": "code",
      "source": [
        " #trainv2.describe(include=[\"O\"])"
      ],
      "metadata": {
        "id": "JXE_OTJ_dVG3",
        "colab": {
          "base_uri": "https://localhost:8080/",
          "height": 175
        },
        "outputId": "b7508fa4-6bb5-4a1d-e018-91659074e241"
      },
      "execution_count": null,
      "outputs": [
        {
          "output_type": "execute_result",
          "data": {
            "text/plain": [
              "                    Id         groupId         matchId\n",
              "count          4390578         4390578         4390578\n",
              "unique         4390578         2005842           46421\n",
              "top     7f96b2f878858a  b8275198faa03b  d94def2ad4f3c8\n",
              "freq                 1              72             100"
            ],
            "text/html": [
              "\n",
              "  <div id=\"df-a4ff5666-82e0-42d6-a3e2-8a7b784615c1\">\n",
              "    <div class=\"colab-df-container\">\n",
              "      <div>\n",
              "<style scoped>\n",
              "    .dataframe tbody tr th:only-of-type {\n",
              "        vertical-align: middle;\n",
              "    }\n",
              "\n",
              "    .dataframe tbody tr th {\n",
              "        vertical-align: top;\n",
              "    }\n",
              "\n",
              "    .dataframe thead th {\n",
              "        text-align: right;\n",
              "    }\n",
              "</style>\n",
              "<table border=\"1\" class=\"dataframe\">\n",
              "  <thead>\n",
              "    <tr style=\"text-align: right;\">\n",
              "      <th></th>\n",
              "      <th>Id</th>\n",
              "      <th>groupId</th>\n",
              "      <th>matchId</th>\n",
              "    </tr>\n",
              "  </thead>\n",
              "  <tbody>\n",
              "    <tr>\n",
              "      <th>count</th>\n",
              "      <td>4390578</td>\n",
              "      <td>4390578</td>\n",
              "      <td>4390578</td>\n",
              "    </tr>\n",
              "    <tr>\n",
              "      <th>unique</th>\n",
              "      <td>4390578</td>\n",
              "      <td>2005842</td>\n",
              "      <td>46421</td>\n",
              "    </tr>\n",
              "    <tr>\n",
              "      <th>top</th>\n",
              "      <td>7f96b2f878858a</td>\n",
              "      <td>b8275198faa03b</td>\n",
              "      <td>d94def2ad4f3c8</td>\n",
              "    </tr>\n",
              "    <tr>\n",
              "      <th>freq</th>\n",
              "      <td>1</td>\n",
              "      <td>72</td>\n",
              "      <td>100</td>\n",
              "    </tr>\n",
              "  </tbody>\n",
              "</table>\n",
              "</div>\n",
              "      <button class=\"colab-df-convert\" onclick=\"convertToInteractive('df-a4ff5666-82e0-42d6-a3e2-8a7b784615c1')\"\n",
              "              title=\"Convert this dataframe to an interactive table.\"\n",
              "              style=\"display:none;\">\n",
              "        \n",
              "  <svg xmlns=\"http://www.w3.org/2000/svg\" height=\"24px\"viewBox=\"0 0 24 24\"\n",
              "       width=\"24px\">\n",
              "    <path d=\"M0 0h24v24H0V0z\" fill=\"none\"/>\n",
              "    <path d=\"M18.56 5.44l.94 2.06.94-2.06 2.06-.94-2.06-.94-.94-2.06-.94 2.06-2.06.94zm-11 1L8.5 8.5l.94-2.06 2.06-.94-2.06-.94L8.5 2.5l-.94 2.06-2.06.94zm10 10l.94 2.06.94-2.06 2.06-.94-2.06-.94-.94-2.06-.94 2.06-2.06.94z\"/><path d=\"M17.41 7.96l-1.37-1.37c-.4-.4-.92-.59-1.43-.59-.52 0-1.04.2-1.43.59L10.3 9.45l-7.72 7.72c-.78.78-.78 2.05 0 2.83L4 21.41c.39.39.9.59 1.41.59.51 0 1.02-.2 1.41-.59l7.78-7.78 2.81-2.81c.8-.78.8-2.07 0-2.86zM5.41 20L4 18.59l7.72-7.72 1.47 1.35L5.41 20z\"/>\n",
              "  </svg>\n",
              "      </button>\n",
              "      \n",
              "  <style>\n",
              "    .colab-df-container {\n",
              "      display:flex;\n",
              "      flex-wrap:wrap;\n",
              "      gap: 12px;\n",
              "    }\n",
              "\n",
              "    .colab-df-convert {\n",
              "      background-color: #E8F0FE;\n",
              "      border: none;\n",
              "      border-radius: 50%;\n",
              "      cursor: pointer;\n",
              "      display: none;\n",
              "      fill: #1967D2;\n",
              "      height: 32px;\n",
              "      padding: 0 0 0 0;\n",
              "      width: 32px;\n",
              "    }\n",
              "\n",
              "    .colab-df-convert:hover {\n",
              "      background-color: #E2EBFA;\n",
              "      box-shadow: 0px 1px 2px rgba(60, 64, 67, 0.3), 0px 1px 3px 1px rgba(60, 64, 67, 0.15);\n",
              "      fill: #174EA6;\n",
              "    }\n",
              "\n",
              "    [theme=dark] .colab-df-convert {\n",
              "      background-color: #3B4455;\n",
              "      fill: #D2E3FC;\n",
              "    }\n",
              "\n",
              "    [theme=dark] .colab-df-convert:hover {\n",
              "      background-color: #434B5C;\n",
              "      box-shadow: 0px 1px 3px 1px rgba(0, 0, 0, 0.15);\n",
              "      filter: drop-shadow(0px 1px 2px rgba(0, 0, 0, 0.3));\n",
              "      fill: #FFFFFF;\n",
              "    }\n",
              "  </style>\n",
              "\n",
              "      <script>\n",
              "        const buttonEl =\n",
              "          document.querySelector('#df-a4ff5666-82e0-42d6-a3e2-8a7b784615c1 button.colab-df-convert');\n",
              "        buttonEl.style.display =\n",
              "          google.colab.kernel.accessAllowed ? 'block' : 'none';\n",
              "\n",
              "        async function convertToInteractive(key) {\n",
              "          const element = document.querySelector('#df-a4ff5666-82e0-42d6-a3e2-8a7b784615c1');\n",
              "          const dataTable =\n",
              "            await google.colab.kernel.invokeFunction('convertToInteractive',\n",
              "                                                     [key], {});\n",
              "          if (!dataTable) return;\n",
              "\n",
              "          const docLinkHtml = 'Like what you see? Visit the ' +\n",
              "            '<a target=\"_blank\" href=https://colab.research.google.com/notebooks/data_table.ipynb>data table notebook</a>'\n",
              "            + ' to learn more about interactive tables.';\n",
              "          element.innerHTML = '';\n",
              "          dataTable['output_type'] = 'display_data';\n",
              "          await google.colab.output.renderOutput(dataTable, element);\n",
              "          const docLink = document.createElement('div');\n",
              "          docLink.innerHTML = docLinkHtml;\n",
              "          element.appendChild(docLink);\n",
              "        }\n",
              "      </script>\n",
              "    </div>\n",
              "  </div>\n",
              "  "
            ]
          },
          "metadata": {},
          "execution_count": 44
        }
      ]
    },
    {
      "cell_type": "code",
      "source": [
        "# trainv2.sample(2)"
      ],
      "metadata": {
        "id": "HPjyCwlTo7c4"
      },
      "execution_count": null,
      "outputs": []
    },
    {
      "cell_type": "markdown",
      "source": [
        "# **전처리**"
      ],
      "metadata": {
        "id": "SHT_ijz1Vwbx"
      }
    },
    {
      "cell_type": "markdown",
      "source": [
        "고정"
      ],
      "metadata": {
        "id": "c0NQ770BWc39"
      }
    },
    {
      "cell_type": "code",
      "source": [
        "trainv2[trainv2.isnull().any(axis=1)]\n",
        "trainv2 =trainv2.drop(index=2744604) #결측치 제거"
      ],
      "metadata": {
        "id": "ALwCA1G2U8jL"
      },
      "execution_count": 4,
      "outputs": []
    },
    {
      "cell_type": "code",
      "source": [
        "cond=trainv2.matchType.isin(['squad-fpp','duo-fpp','squad','solo-fpp','duo','solo'])#캐쥬얼,사용자 지정 모드를 제외시킨다"
      ],
      "metadata": {
        "id": "MI5IeHuj22Ad"
      },
      "execution_count": 5,
      "outputs": []
    },
    {
      "cell_type": "code",
      "source": [
        "trainv2 = trainv2[cond]"
      ],
      "metadata": {
        "id": "uEj7srXn65h-"
      },
      "execution_count": 6,
      "outputs": []
    },
    {
      "cell_type": "code",
      "source": [
        "cond2 = trainv2['matchId'].value_counts().loc[trainv2['matchId'].value_counts()>60].index #한게임당 60명 이하 참여한 게임을 제외시킨다\n",
        "trainv2 = trainv2.loc[trainv2['matchId'].isin(cond2)]"
      ],
      "metadata": {
        "id": "vUhc4HgNxaET"
      },
      "execution_count": 7,
      "outputs": []
    },
    {
      "cell_type": "code",
      "source": [
        "#ordinal encoding\n",
        "ordi = trainv2[['matchType']]\n",
        "ordinalencoder = OrdinalEncoder()\n",
        "raw_ordi = ordinalencoder.fit_transform(ordi)\n",
        "trainv2[\"matchtype\"]=raw_ordi\n",
        "trainv2 =trainv2.drop(columns=\"matchType\")"
      ],
      "metadata": {
        "id": "FP5tHYylhyb7"
      },
      "execution_count": 8,
      "outputs": []
    },
    {
      "cell_type": "markdown",
      "source": [
        "# **전처리**"
      ],
      "metadata": {
        "id": "Wqp8LN4JY7sa"
      }
    },
    {
      "cell_type": "markdown",
      "source": [
        "수정"
      ],
      "metadata": {
        "id": "5y0tfKf_Y0Mt"
      }
    },
    {
      "cell_type": "markdown",
      "source": [
        "보류데이터를 제외한 필요데이터만 v3담아 작업한다"
      ],
      "metadata": {
        "id": "U46vYvbWzWqq"
      }
    },
    {
      "cell_type": "code",
      "source": [
        "#trainv3 =trainv2.loc[:,['boosts','damageDealt','heals','killPlace','kills','walkDistance','weaponsAcquired','matchType','winPlacePerc']]"
      ],
      "metadata": {
        "id": "5ASlA8guzgcE"
      },
      "execution_count": null,
      "outputs": []
    },
    {
      "cell_type": "code",
      "source": [
        "#ordinal encoding\n",
        "# ordi = trainv3[['matchType']]\n",
        "# ordinalencoder = OrdinalEncoder()\n",
        "# raw_ordi = ordinalencoder.fit_transform(ordi)\n",
        "# trainv3[\"matchtype\"]=raw_ordi\n",
        "# trainv3 =trainv3.drop(columns=\"matchType\")"
      ],
      "metadata": {
        "id": "3HUEkEiR4ihl"
      },
      "execution_count": null,
      "outputs": []
    },
    {
      "cell_type": "code",
      "source": [
        "# x=trainv2[feature_names]\n",
        "# y=trainv2['winPlacePerc']\n",
        "# x_train,x_test,y_train,y_test = train_test_split(x,y,test_size=0.2,random_state=24)\n",
        "#k_fold = KFold(n_splits=10,shuffle=True,random_state=0)"
      ],
      "metadata": {
        "id": "dPpJslaNkOos"
      },
      "execution_count": null,
      "outputs": []
    },
    {
      "cell_type": "markdown",
      "source": [
        "# **모델학습**\n",
        "모든 수치형 컬럼을 넣고 모델링\n",
        "\n",
        "LinearRegression MAE : 0.1138\n",
        "LGBMRegressor MAE : 0.0898\n",
        "\n",
        "60명 이하 데이터 drop시 \n",
        "\n",
        "LinearRegression MAE : 0.1136\n",
        "LGBMRegressor MAE : 0.0897\n",
        "\n",
        "LinearRegression StandardScaler MAE : 0.3159\n",
        "LGBMRegressor StandardScaler MAE : 0.3842\n",
        "\n",
        "LinearRegression RobustScaler MAE : 1.6347\n",
        "LGBMRegressor RobustScaler MAE : 0.3323\n",
        "\n",
        "LinearRegression MinMaxScaler MAE : 0.3340\n",
        "LGBMRegressor MinMaxScaler MAE : 0.3600\n",
        "\n",
        "LinearRegression Normalizer MAE : 0.3358\n",
        "LGBMRegressor Normalizer MAE : 0.3587\n",
        "\n",
        "0.8343877091375983"
      ],
      "metadata": {
        "id": "R3ar-nU-Nfo3"
      }
    },
    {
      "cell_type": "code",
      "source": [
        "feature_names = ['assists','boosts','damageDealt','DBNOs','headshotKills','heals','killPoints','kills','killStreaks','longestKill','matchDuration','maxPlace','numGroups','rankPoints','revives','rideDistance','roadKills',\n",
        "                 'swimDistance','teamKills','vehicleDestroys','walkDistance','weaponsAcquired','winPoints']# 모델에 넣을 컬럼만 선택한다     \n",
        "x=trainv2[feature_names]\n",
        "y=trainv2['winPlacePerc']\n",
        "x_train,x_test,y_train,y_test = train_test_split(x,y,test_size=0.2,random_state=24)      "
      ],
      "metadata": {
        "id": "TpccH6Tly_mT"
      },
      "execution_count": 9,
      "outputs": []
    },
    {
      "cell_type": "code",
      "source": [
        "model1 = LinearRegression()\n",
        "model2 = LGBMRegressor()\n",
        "model3 = LinearRegression()\n",
        "model4 = LGBMRegressor()\n",
        "model5 = LinearRegression()\n",
        "model6 = LGBMRegressor()\n",
        "model7 = LinearRegression()\n",
        "model8 = LGBMRegressor()\n",
        "model9 = LinearRegression()\n",
        "model10 = LGBMRegressor()\n",
        "SS = StandardScaler()\n",
        "RS = RobustScaler()\n",
        "MMS = MinMaxScaler()\n",
        "NL = Normalizer()\n",
        "\n",
        "x_train_SS = SS.fit_transform(x_train)\n",
        "x_test_SS = SS.transform(x_test)\n",
        "x_train_RS = RS.fit_transform(x_train)\n",
        "x_test_RS =RS.transform(x_test)\n",
        "x_train_MMS = MMS.fit_transform(x_train)\n",
        "x_test_MMS = MMS.transform(x_test)\n",
        "x_train_NL =NL.fit_transform(x_train)\n",
        "x_test_NL = NL.transform(x_test)\n",
        "\n",
        "#model3 = xgb.XGBRegressor(max_depth=3,n_jobs=-1,random_state=42)\n",
        "model1.fit(x_train,y_train)\n",
        "model2.fit(x_train,y_train)\n",
        "model3.fit(x_train_SS,y_train)\n",
        "model4.fit(x_train_SS,y_train)\n",
        "model5.fit(x_train_RS,y_train)\n",
        "model6.fit(x_train_RS,y_train)\n",
        "model7.fit(x_train_MMS,y_train)\n",
        "model8.fit(x_train_MMS,y_train)\n",
        "model9.fit(x_train_NL,y_train)\n",
        "model10.fit(x_train_NL,y_train)\n",
        "#model3.fit(x_train,y_train)"
      ],
      "metadata": {
        "id": "oDicAcTJbkx3",
        "colab": {
          "base_uri": "https://localhost:8080/"
        },
        "outputId": "155a1398-9224-431b-bee5-ff20df4bd8df"
      },
      "execution_count": null,
      "outputs": [
        {
          "output_type": "execute_result",
          "data": {
            "text/plain": [
              "LGBMRegressor()"
            ]
          },
          "metadata": {},
          "execution_count": 20
        }
      ]
    },
    {
      "cell_type": "markdown",
      "source": [
        "평가\n"
      ],
      "metadata": {
        "id": "_PZEFXTLcRTm"
      }
    },
    {
      "cell_type": "code",
      "source": [
        "pred1 = model1.predict(x_train)\n",
        "pred2 = model2.predict(x_train)\n",
        "pred3 = model3.predict(x_train_SS)\n",
        "pred4 = model4.predict(x_train_SS)\n",
        "pred5 = model3.predict(x_train_RS)\n",
        "pred6 = model4.predict(x_train_RS)\n",
        "pred7 = model3.predict(x_train_MMS)\n",
        "pred8 = model4.predict(x_train_MMS)\n",
        "pred9 = model3.predict(x_train_NL)\n",
        "pred10 = model4.predict(x_train_NL)\n",
        "#pred3 = model3.predict(x_train)\n",
        "print(\"LinearRegression MAE : %.4f\" % mean_absolute_error(y_train,pred1))\n",
        "print(\"LGBMRegressor MAE : %.4f\" % mean_absolute_error(y_train,pred2))\n",
        "print(\"LinearRegression StandardScaler MAE : %.4f\" % mean_absolute_error(y_train,pred3))\n",
        "print(\"LGBMRegressor StandardScaler MAE : %.4f\" % mean_absolute_error(y_train,pred4))\n",
        "print(\"LinearRegression RobustScaler MAE : %.4f\" % mean_absolute_error(y_train,pred5))\n",
        "print(\"LGBMRegressor RobustScaler MAE : %.4f\" % mean_absolute_error(y_train,pred6))\n",
        "print(\"LinearRegression MinMaxScaler MAE : %.4f\" % mean_absolute_error(y_train,pred7))\n",
        "print(\"LGBMRegressor MinMaxScaler MAE : %.4f\" % mean_absolute_error(y_train,pred8))\n",
        "print(\"LinearRegression Normalizer MAE : %.4f\" % mean_absolute_error(y_train,pred9))\n",
        "print(\"LGBMRegressor Normalizer MAE : %.4f\" % mean_absolute_error(y_train,pred10))\n",
        "#print(\"XGBRegressor MAE : %.4f\" % mean_absolute_error(y_train,pred3))"
      ],
      "metadata": {
        "id": "dMTF163JcKUz",
        "colab": {
          "base_uri": "https://localhost:8080/"
        },
        "outputId": "e3c74b97-3364-4859-e722-367b03814225"
      },
      "execution_count": null,
      "outputs": [
        {
          "output_type": "stream",
          "name": "stdout",
          "text": [
            "LinearRegression MAE : 0.1136\n",
            "LGBMRegressor MAE : 0.0895\n",
            "LinearRegression StandardScaler MAE : 0.1136\n",
            "LGBMRegressor StandardScaler MAE : 0.0894\n",
            "LinearRegression RobustScaler MAE : 2303.3750\n",
            "LGBMRegressor RobustScaler MAE : 0.2299\n",
            "LinearRegression MinMaxScaler MAE : 0.2635\n",
            "LGBMRegressor MinMaxScaler MAE : 0.2695\n",
            "LinearRegression Normalizer MAE : 0.2450\n",
            "LGBMRegressor Normalizer MAE : 0.2368\n"
          ]
        }
      ]
    },
    {
      "cell_type": "markdown",
      "source": [
        "예측"
      ],
      "metadata": {
        "id": "H0U_6vuBdh1o"
      }
    },
    {
      "cell_type": "code",
      "source": [
        "result1 = model1.predict(x_test)\n",
        "result2 = model2.predict(x_test)\n",
        "result3 = model1.predict(x_test_SS)\n",
        "result4 = model2.predict(x_test_SS)\n",
        "result5 = model1.predict(x_test_RS)\n",
        "result6 = model2.predict(x_test_RS)\n",
        "result7 = model1.predict(x_test_MMS)\n",
        "result8 = model2.predict(x_test_MMS)\n",
        "result9 = model1.predict(x_test_NL)\n",
        "result10 = model2.predict(x_test_NL)\n",
        "#result3 = model3.predict(x_test)\n",
        "print(\"LinearRegression MAE : %.4f\" % mean_absolute_error(y_test,result1))\n",
        "print(\"LGBMRegressor MAE : %.4f\" % mean_absolute_error(y_test,result2))\n",
        "print(\"LinearRegression StandardScaler MAE : %.4f\" % mean_absolute_error(y_test,result3))\n",
        "print(\"LGBMRegressor StandardScaler MAE : %.4f\" % mean_absolute_error(y_test,result4))\n",
        "print(\"LinearRegression RobustScaler MAE : %.4f\" % mean_absolute_error(y_test,result5))\n",
        "print(\"LGBMRegressor RobustScaler MAE : %.4f\" % mean_absolute_error(y_test,result6))\n",
        "print(\"LinearRegression MinMaxScaler MAE : %.4f\" % mean_absolute_error(y_test,result7))\n",
        "print(\"LGBMRegressor MinMaxScaler MAE : %.4f\" % mean_absolute_error(y_test,result8))\n",
        "print(\"LinearRegression Normalizer MAE : %.4f\" % mean_absolute_error(y_test,result9))\n",
        "print(\"LGBMRegressor Normalizer MAE : %.4f\" % mean_absolute_error(y_test,result10))\n",
        "#print(\"XGBRegressor MAE : %.4f\" % mean_absolute_error(y_train,result3))"
      ],
      "metadata": {
        "id": "BbHppJjQdl7-",
        "colab": {
          "base_uri": "https://localhost:8080/"
        },
        "outputId": "a1df267a-9a25-4606-aef3-42cbeaea9210"
      },
      "execution_count": null,
      "outputs": [
        {
          "output_type": "stream",
          "name": "stderr",
          "text": [
            "/usr/local/lib/python3.7/dist-packages/sklearn/base.py:451: UserWarning: X does not have valid feature names, but LinearRegression was fitted with feature names\n",
            "  \"X does not have valid feature names, but\"\n",
            "/usr/local/lib/python3.7/dist-packages/sklearn/base.py:451: UserWarning: X does not have valid feature names, but LinearRegression was fitted with feature names\n",
            "  \"X does not have valid feature names, but\"\n",
            "/usr/local/lib/python3.7/dist-packages/sklearn/base.py:451: UserWarning: X does not have valid feature names, but LinearRegression was fitted with feature names\n",
            "  \"X does not have valid feature names, but\"\n",
            "/usr/local/lib/python3.7/dist-packages/sklearn/base.py:451: UserWarning: X does not have valid feature names, but LinearRegression was fitted with feature names\n",
            "  \"X does not have valid feature names, but\"\n"
          ]
        },
        {
          "output_type": "stream",
          "name": "stdout",
          "text": [
            "LinearRegression MAE : 0.1136\n",
            "LGBMRegressor MAE : 0.0897\n",
            "LinearRegression StandardScaler MAE : 0.3159\n",
            "LGBMRegressor StandardScaler MAE : 0.3842\n",
            "LinearRegression RobustScaler MAE : 1.6347\n",
            "LGBMRegressor RobustScaler MAE : 0.3323\n",
            "LinearRegression MinMaxScaler MAE : 0.3340\n",
            "LGBMRegressor MinMaxScaler MAE : 0.3600\n",
            "LinearRegression Normalizer MAE : 0.3358\n",
            "LGBMRegressor Normalizer MAE : 0.3587\n"
          ]
        }
      ]
    },
    {
      "cell_type": "code",
      "source": [
        "model2 = LGBMRegressor()\n",
        "model1 = LinearRegression()\n",
        "scores=cross_val_score(model1,x,y,cv=5)\n",
        "scores.mean()\n"
      ],
      "metadata": {
        "colab": {
          "base_uri": "https://localhost:8080/"
        },
        "id": "q4kED73UR_RM",
        "outputId": "576fee81-331d-48dd-bef9-8ff8790ac855"
      },
      "execution_count": 12,
      "outputs": [
        {
          "output_type": "execute_result",
          "data": {
            "text/plain": [
              "0.7631322058302187"
            ]
          },
          "metadata": {},
          "execution_count": 12
        }
      ]
    },
    {
      "cell_type": "markdown",
      "source": [
        "# **모델학습**\n",
        "importance 하위6개 컬럼을 drop시킨후 모델링\n",
        "\n",
        "LinearRegression MAE : 0.1146\n",
        "LGBMRegressor MAE : 0.0899\n",
        "\n",
        "60명 이하 데이터 drop시\n",
        "\n",
        "LinearRegression MAE : 0.1144\n",
        "LGBMRegressor MAE : 0.0898"
      ],
      "metadata": {
        "id": "1BWhBi9DFYfv"
      }
    },
    {
      "cell_type": "code",
      "source": [
        "feature_names = ['assists','boosts','damageDealt','DBNOs','headshotKills','heals','kills','longestKill','matchDuration','maxPlace','numGroups','rankPoints','rideDistance',\n",
        "                 'swimDistance','walkDistance','weaponsAcquired','winPoints']# 인스턴스데이터로 1차 컬럼 걸러냄'roadKills',,'vehicleDestroys''killStreaks', 'revives',   'killPoints',  'teamKills',  \n",
        "x=trainv2[feature_names]\n",
        "y=trainv2['winPlacePerc']\n",
        "x_train,x_test,y_train,y_test = train_test_split(x,y,test_size=0.2,random_state=24)  "
      ],
      "metadata": {
        "id": "RHvHTcmmFVyR"
      },
      "execution_count": null,
      "outputs": []
    },
    {
      "cell_type": "code",
      "source": [
        "model1 = LinearRegression()\n",
        "model2 = LGBMRegressor()\n",
        "model1.fit(x_train,y_train)\n",
        "model2.fit(x_train,y_train)"
      ],
      "metadata": {
        "colab": {
          "base_uri": "https://localhost:8080/"
        },
        "id": "HFbSR3PEG6yf",
        "outputId": "056b3b48-8693-4ed0-cf94-52ed69507721"
      },
      "execution_count": null,
      "outputs": [
        {
          "output_type": "execute_result",
          "data": {
            "text/plain": [
              "LGBMRegressor()"
            ]
          },
          "metadata": {},
          "execution_count": 21
        }
      ]
    },
    {
      "cell_type": "code",
      "source": [
        "pred1 = model1.predict(x_train)\n",
        "pred2 = model2.predict(x_train)\n",
        "print(\"LinearRegression MAE : %.4f\" % mean_absolute_error(y_train,pred1))\n",
        "print(\"LGBMRegressor MAE : %.4f\" % mean_absolute_error(y_train,pred2))"
      ],
      "metadata": {
        "colab": {
          "base_uri": "https://localhost:8080/"
        },
        "id": "rmpg0A-8G65j",
        "outputId": "3ae1e425-dae6-4083-f5e2-ccc660a708f7"
      },
      "execution_count": null,
      "outputs": [
        {
          "output_type": "stream",
          "name": "stdout",
          "text": [
            "LinearRegression MAE : 0.1144\n",
            "LGBMRegressor MAE : 0.0896\n"
          ]
        }
      ]
    },
    {
      "cell_type": "code",
      "source": [
        "result1 = model1.predict(x_test)\n",
        "result2 = model2.predict(x_test)\n",
        "print(\"LinearRegression MAE : %.4f\" % mean_absolute_error(y_test,result1))\n",
        "print(\"LGBMRegressor MAE : %.4f\" % mean_absolute_error(y_test,result2))"
      ],
      "metadata": {
        "colab": {
          "base_uri": "https://localhost:8080/"
        },
        "id": "AZBiWyBXG9Ul",
        "outputId": "7e132b03-76ac-40d3-a04b-256a7a577f40"
      },
      "execution_count": null,
      "outputs": [
        {
          "output_type": "stream",
          "name": "stdout",
          "text": [
            "LinearRegression MAE : 0.1144\n",
            "LGBMRegressor MAE : 0.0898\n"
          ]
        }
      ]
    },
    {
      "cell_type": "markdown",
      "source": [
        "# **모델학습**\n",
        "importance 하위3개 컬럼을 drop시킨후 모델링\n",
        "\n",
        "LinearRegression MAE : 0.1138\n",
        "LGBMRegressor MAE : 0.0898\n",
        "\n",
        "60명 이하 데이터 drop시\n",
        "\n",
        "LinearRegression MAE : 0.1136\n",
        "LGBMRegressor MAE : 0.0897"
      ],
      "metadata": {
        "id": "KfqZewt4IBun"
      }
    },
    {
      "cell_type": "code",
      "source": [
        "feature_names = ['assists','boosts','damageDealt','DBNOs','headshotKills','heals','kills','longestKill','matchDuration','maxPlace','numGroups','rankPoints','rideDistance','killStreaks','revives','killPoints',\n",
        "                 'swimDistance','walkDistance','weaponsAcquired','winPoints']# 인스턴스데이터로 1차 컬럼 걸러냄'roadKills',,'vehicleDestroys''teamKills',  \n",
        "x=trainv2[feature_names]\n",
        "y=trainv2['winPlacePerc']\n",
        "x_train,x_test,y_train,y_test = train_test_split(x,y,test_size=0.2,random_state=24)  "
      ],
      "metadata": {
        "id": "Yl69wX5aIB_o"
      },
      "execution_count": null,
      "outputs": []
    },
    {
      "cell_type": "code",
      "source": [
        "model1 = LinearRegression()\n",
        "model2 = LGBMRegressor()\n",
        "model1.fit(x_train,y_train)\n",
        "model2.fit(x_train,y_train)"
      ],
      "metadata": {
        "colab": {
          "base_uri": "https://localhost:8080/"
        },
        "id": "pBzzdrHKICGd",
        "outputId": "806dd46f-eb5f-44d9-e901-38c11a5e40ab"
      },
      "execution_count": null,
      "outputs": [
        {
          "output_type": "execute_result",
          "data": {
            "text/plain": [
              "LGBMRegressor()"
            ]
          },
          "metadata": {},
          "execution_count": 25
        }
      ]
    },
    {
      "cell_type": "code",
      "source": [
        "pred1 = model1.predict(x_train)\n",
        "pred2 = model2.predict(x_train)\n",
        "print(\"LinearRegression MAE : %.4f\" % mean_absolute_error(y_train,pred1))\n",
        "print(\"LGBMRegressor MAE : %.4f\" % mean_absolute_error(y_train,pred2))"
      ],
      "metadata": {
        "colab": {
          "base_uri": "https://localhost:8080/"
        },
        "id": "IkL619KlICIv",
        "outputId": "9c9b33bc-29ac-4187-964d-45389bda6690"
      },
      "execution_count": null,
      "outputs": [
        {
          "output_type": "stream",
          "name": "stdout",
          "text": [
            "LinearRegression MAE : 0.1136\n",
            "LGBMRegressor MAE : 0.0895\n"
          ]
        }
      ]
    },
    {
      "cell_type": "code",
      "source": [
        "result1 = model1.predict(x_test)\n",
        "result2 = model2.predict(x_test)\n",
        "print(\"LinearRegression MAE : %.4f\" % mean_absolute_error(y_test,result1))\n",
        "print(\"LGBMRegressor MAE : %.4f\" % mean_absolute_error(y_test,result2))"
      ],
      "metadata": {
        "colab": {
          "base_uri": "https://localhost:8080/"
        },
        "id": "syK42uB7ICLC",
        "outputId": "0d0e414d-352c-4d3d-9f32-bf9c68b47357"
      },
      "execution_count": null,
      "outputs": [
        {
          "output_type": "stream",
          "name": "stdout",
          "text": [
            "LinearRegression MAE : 0.1136\n",
            "LGBMRegressor MAE : 0.0897\n"
          ]
        }
      ]
    },
    {
      "cell_type": "markdown",
      "source": [
        "# **모델학습**\n",
        "importance 하위3개 컬럼을 drop시킨후,matchDuration drop 모델링\n",
        "\n",
        "LinearRegression MAE : 0.1227\n",
        "LGBMRegressor MAE : 0.0969\n",
        "\n",
        "60명 이하 데이터 drop시\n",
        "\n",
        "LinearRegression MAE : 0.1225\n",
        "LGBMRegressor MAE : 0.0968\n",
        "\n",
        "변화가 심하게 없다 적은컬럼에서 추가하는 방식으로 변경"
      ],
      "metadata": {
        "id": "F271-iqXM-G3"
      }
    },
    {
      "cell_type": "code",
      "source": [
        "feature_names = ['assists','boosts','damageDealt','DBNOs','headshotKills','heals','kills','longestKill','maxPlace','numGroups','rankPoints','rideDistance','killStreaks','revives','killPoints',\n",
        "                 'swimDistance','walkDistance','weaponsAcquired','winPoints']# 인스턴스데이터로 1차 컬럼 걸러냄'roadKills',,'vehicleDestroys''teamKills',  'matchDuration',\n",
        "x=trainv2[feature_names]\n",
        "y=trainv2['winPlacePerc']\n",
        "x_train,x_test,y_train,y_test = train_test_split(x,y,test_size=0.2,random_state=24) "
      ],
      "metadata": {
        "id": "FNIx4l8zICNA"
      },
      "execution_count": null,
      "outputs": []
    },
    {
      "cell_type": "code",
      "source": [
        "model1 = LinearRegression()\n",
        "model2 = LGBMRegressor()\n",
        "model1.fit(x_train,y_train)\n",
        "model2.fit(x_train,y_train)"
      ],
      "metadata": {
        "colab": {
          "base_uri": "https://localhost:8080/"
        },
        "id": "dTEUT-5DICO9",
        "outputId": "990a3f7a-b62e-441a-d05e-e7e523657251"
      },
      "execution_count": null,
      "outputs": [
        {
          "output_type": "execute_result",
          "data": {
            "text/plain": [
              "LGBMRegressor()"
            ]
          },
          "metadata": {},
          "execution_count": 29
        }
      ]
    },
    {
      "cell_type": "code",
      "source": [
        "pred1 = model1.predict(x_train)\n",
        "pred2 = model2.predict(x_train)\n",
        "print(\"LinearRegression MAE : %.4f\" % mean_absolute_error(y_train,pred1))\n",
        "print(\"LGBMRegressor MAE : %.4f\" % mean_absolute_error(y_train,pred2))"
      ],
      "metadata": {
        "colab": {
          "base_uri": "https://localhost:8080/"
        },
        "id": "-KcAGeiMICQ_",
        "outputId": "e76fa582-79cd-477c-e870-00da26d682d6"
      },
      "execution_count": null,
      "outputs": [
        {
          "output_type": "stream",
          "name": "stdout",
          "text": [
            "LinearRegression MAE : 0.1225\n",
            "LGBMRegressor MAE : 0.0966\n"
          ]
        }
      ]
    },
    {
      "cell_type": "code",
      "source": [
        "result1 = model1.predict(x_test)\n",
        "result2 = model2.predict(x_test)\n",
        "print(\"LinearRegression MAE : %.4f\" % mean_absolute_error(y_test,result1))\n",
        "print(\"LGBMRegressor MAE : %.4f\" % mean_absolute_error(y_test,result2))"
      ],
      "metadata": {
        "colab": {
          "base_uri": "https://localhost:8080/"
        },
        "id": "sMUjjjKrICS0",
        "outputId": "74d08644-7efa-4ece-8f8f-5192ba7405bc"
      },
      "execution_count": null,
      "outputs": [
        {
          "output_type": "stream",
          "name": "stdout",
          "text": [
            "LinearRegression MAE : 0.1225\n",
            "LGBMRegressor MAE : 0.0968\n"
          ]
        }
      ]
    },
    {
      "cell_type": "markdown",
      "source": [
        "# **모델학습**\n",
        "처음 y데이터 까지 9개로 걸러낸 컬럼 killPlace 때문인지 수치가 확 내려감\n",
        "\n",
        "LinearRegression MAE : 0.1064\n",
        "LGBMRegressor MAE : 0.0676\n",
        "\n",
        "60명 이하 데이터 drop시\n",
        "\n",
        "LinearRegression MAE : 0.1050\n",
        "LGBMRegressor MAE : 0.0667\n",
        "\n",
        "LinearRegression MAE : 0.1266\n",
        "LGBMRegressor MAE : 0.0989"
      ],
      "metadata": {
        "id": "uUse1AseOECi"
      }
    },
    {
      "cell_type": "code",
      "source": [
        "#ordinal encoding\n",
        "feature_names = ['boosts','damageDealt','heals','kills','walkDistance','weaponsAcquired','matchtype']# 처음 y데이터 까지 9개로 걸러낸 컬럼\n",
        "x=trainv2[feature_names]\n",
        "y=trainv2['winPlacePerc']\n",
        "x_train,x_test,y_train,y_test = train_test_split(x,y,test_size=0.2,random_state=24) "
      ],
      "metadata": {
        "id": "W9d1yy6WICUy"
      },
      "execution_count": null,
      "outputs": []
    },
    {
      "cell_type": "code",
      "source": [
        "model1 = LinearRegression()\n",
        "model2 = LGBMRegressor()\n",
        "model1.fit(x_train,y_train)\n",
        "model2.fit(x_train,y_train)"
      ],
      "metadata": {
        "colab": {
          "base_uri": "https://localhost:8080/"
        },
        "id": "Fma50xj7ICW1",
        "outputId": "7782c22a-a297-4a66-ecf3-48562fbdbe0c"
      },
      "execution_count": null,
      "outputs": [
        {
          "output_type": "execute_result",
          "data": {
            "text/plain": [
              "LGBMRegressor()"
            ]
          },
          "metadata": {},
          "execution_count": 9
        }
      ]
    },
    {
      "cell_type": "code",
      "source": [
        "pred1 = model1.predict(x_train)\n",
        "pred2 = model2.predict(x_train)\n",
        "print(\"LinearRegression MAE : %.4f\" % mean_absolute_error(y_train,pred1))\n",
        "print(\"LGBMRegressor MAE : %.4f\" % mean_absolute_error(y_train,pred2))"
      ],
      "metadata": {
        "colab": {
          "base_uri": "https://localhost:8080/"
        },
        "id": "JQ8xPzGUICYw",
        "outputId": "19d8eff2-4c26-47b8-f8cf-ca5cea45ae3f"
      },
      "execution_count": null,
      "outputs": [
        {
          "output_type": "stream",
          "name": "stdout",
          "text": [
            "LinearRegression MAE : 0.1266\n",
            "LGBMRegressor MAE : 0.0988\n"
          ]
        }
      ]
    },
    {
      "cell_type": "code",
      "source": [
        "result1 = model1.predict(x_test)\n",
        "result2 = model2.predict(x_test)\n",
        "print(\"LinearRegression MAE : %.4f\" % mean_absolute_error(y_test,result1))\n",
        "print(\"LGBMRegressor MAE : %.4f\" % mean_absolute_error(y_test,result2))"
      ],
      "metadata": {
        "colab": {
          "base_uri": "https://localhost:8080/"
        },
        "id": "ulDK1vVaICac",
        "outputId": "3faedf21-6dd7-4fed-bc3e-2ddfc20c60d6"
      },
      "execution_count": null,
      "outputs": [
        {
          "output_type": "stream",
          "name": "stdout",
          "text": [
            "LinearRegression MAE : 0.1266\n",
            "LGBMRegressor MAE : 0.0989\n"
          ]
        }
      ]
    },
    {
      "cell_type": "markdown",
      "source": [
        "# **모델학습**\n",
        "importance 상위 컬럼을 하나씩 포함시켜 모델링 matchDuration\n",
        "\n",
        "LinearRegression MAE : 0.1025\n",
        "LGBMRegressor MAE : 0.0638\n",
        "\n",
        "60명 이하 데이터 drop시\n",
        "\n",
        "LinearRegression MAE : 0.1014\n",
        "LGBMRegressor MAE : 0.0629\n",
        "\n",
        "LinearRegression MAE : 0.1201\n",
        "LGBMRegressor MAE : 0.0930\n"
      ],
      "metadata": {
        "id": "Dw-74KgfPp2o"
      }
    },
    {
      "cell_type": "code",
      "source": [
        "#ordinal encoding\n",
        "feature_names = ['boosts','damageDealt','heals','kills','walkDistance','weaponsAcquired','matchtype','matchDuration']# matchDuration 컬럼 추가\n",
        "x=trainv2[feature_names]\n",
        "y=trainv2['winPlacePerc']\n",
        "x_train,x_test,y_train,y_test = train_test_split(x,y,test_size=0.2,random_state=24) "
      ],
      "metadata": {
        "id": "M29mJBJsICcV"
      },
      "execution_count": null,
      "outputs": []
    },
    {
      "cell_type": "code",
      "source": [
        "model1 = LinearRegression()\n",
        "model2 = LGBMRegressor()\n",
        "model1.fit(x_train,y_train)\n",
        "model2.fit(x_train,y_train)"
      ],
      "metadata": {
        "colab": {
          "base_uri": "https://localhost:8080/"
        },
        "id": "2Xzlg-21ICeF",
        "outputId": "bf95b786-a72b-4d87-bf40-5a98a36d40f7"
      },
      "execution_count": null,
      "outputs": [
        {
          "output_type": "execute_result",
          "data": {
            "text/plain": [
              "LGBMRegressor()"
            ]
          },
          "metadata": {},
          "execution_count": 13
        }
      ]
    },
    {
      "cell_type": "code",
      "source": [
        "pred1 = model1.predict(x_train)\n",
        "pred2 = model2.predict(x_train)\n",
        "print(\"LinearRegression MAE : %.4f\" % mean_absolute_error(y_train,pred1))\n",
        "print(\"LGBMRegressor MAE : %.4f\" % mean_absolute_error(y_train,pred2))"
      ],
      "metadata": {
        "colab": {
          "base_uri": "https://localhost:8080/"
        },
        "id": "waNGmoW6ICgJ",
        "outputId": "da693993-00fa-45aa-e2fa-ee3594725f7b"
      },
      "execution_count": null,
      "outputs": [
        {
          "output_type": "stream",
          "name": "stdout",
          "text": [
            "LinearRegression MAE : 0.1201\n",
            "LGBMRegressor MAE : 0.0929\n"
          ]
        }
      ]
    },
    {
      "cell_type": "code",
      "source": [
        "result1 = model1.predict(x_test)\n",
        "result2 = model2.predict(x_test)\n",
        "print(\"LinearRegression MAE : %.4f\" % mean_absolute_error(y_test,result1))\n",
        "print(\"LGBMRegressor MAE : %.4f\" % mean_absolute_error(y_test,result2))"
      ],
      "metadata": {
        "colab": {
          "base_uri": "https://localhost:8080/"
        },
        "id": "Iqw7P4EiICiA",
        "outputId": "c03c3b4e-7ea9-4e8f-8737-fbd6496b8553"
      },
      "execution_count": null,
      "outputs": [
        {
          "output_type": "stream",
          "name": "stdout",
          "text": [
            "LinearRegression MAE : 0.1201\n",
            "LGBMRegressor MAE : 0.0930\n"
          ]
        }
      ]
    },
    {
      "cell_type": "markdown",
      "source": [
        "# **모델학습**\n",
        "importance 상위 컬럼을 하나씩 포함시켜 모델링 matchDuration ,rideDistance\n",
        "\n",
        "LinearRegression MAE : 0.1009\n",
        "LGBMRegressor MAE : 0.0631\n",
        "\n",
        "60명 이하 데이터 drop시\n",
        "\n",
        "LinearRegression MAE : 0.0998\n",
        "LGBMRegressor MAE : 0.0620\n",
        "\n",
        "LinearRegression MAE : 0.1171\n",
        "LGBMRegressor MAE : 0.0905\n"
      ],
      "metadata": {
        "id": "2eLFQFyIQr9L"
      }
    },
    {
      "cell_type": "code",
      "source": [
        "#ordinal encoding\n",
        "feature_names = ['boosts','damageDealt','heals','kills','walkDistance','weaponsAcquired','matchtype','matchDuration','rideDistance']# rideDistance 컬럼추가\n",
        "x=trainv2[feature_names]\n",
        "y=trainv2['winPlacePerc']\n",
        "x_train,x_test,y_train,y_test = train_test_split(x,y,test_size=0.2,random_state=24) "
      ],
      "metadata": {
        "id": "C4ISDSOKICj_"
      },
      "execution_count": null,
      "outputs": []
    },
    {
      "cell_type": "code",
      "source": [
        "model1 = LinearRegression()\n",
        "model2 = LGBMRegressor()\n",
        "model1.fit(x_train,y_train)\n",
        "model2.fit(x_train,y_train)"
      ],
      "metadata": {
        "colab": {
          "base_uri": "https://localhost:8080/"
        },
        "id": "fkF8_9yVIClr",
        "outputId": "e66b48db-c8d6-46c1-bbe6-65a23e57db04"
      },
      "execution_count": null,
      "outputs": [
        {
          "output_type": "execute_result",
          "data": {
            "text/plain": [
              "LGBMRegressor()"
            ]
          },
          "metadata": {},
          "execution_count": 17
        }
      ]
    },
    {
      "cell_type": "code",
      "source": [
        "pred1 = model1.predict(x_train)\n",
        "pred2 = model2.predict(x_train)\n",
        "print(\"LinearRegression MAE : %.4f\" % mean_absolute_error(y_train,pred1))\n",
        "print(\"LGBMRegressor MAE : %.4f\" % mean_absolute_error(y_train,pred2))"
      ],
      "metadata": {
        "colab": {
          "base_uri": "https://localhost:8080/"
        },
        "id": "zThowAt4ICnr",
        "outputId": "a130a954-bd5f-4b32-b96f-075162dd024d"
      },
      "execution_count": null,
      "outputs": [
        {
          "output_type": "stream",
          "name": "stdout",
          "text": [
            "LinearRegression MAE : 0.1171\n",
            "LGBMRegressor MAE : 0.0903\n"
          ]
        }
      ]
    },
    {
      "cell_type": "code",
      "source": [
        "result1 = model1.predict(x_test)\n",
        "result2 = model2.predict(x_test)\n",
        "print(\"LinearRegression MAE : %.4f\" % mean_absolute_error(y_test,result1))\n",
        "print(\"LGBMRegressor MAE : %.4f\" % mean_absolute_error(y_test,result2))"
      ],
      "metadata": {
        "colab": {
          "base_uri": "https://localhost:8080/"
        },
        "id": "ZWkYHbBNICpf",
        "outputId": "a25ab3f6-1253-4370-fc4b-b194e582b3c2"
      },
      "execution_count": null,
      "outputs": [
        {
          "output_type": "stream",
          "name": "stdout",
          "text": [
            "LinearRegression MAE : 0.1171\n",
            "LGBMRegressor MAE : 0.0905\n"
          ]
        }
      ]
    },
    {
      "cell_type": "markdown",
      "source": [
        "# **모델학습**\n",
        "importance 상위 컬럼을 하나씩 포함시켜 모델링 matchDuration ,rideDistance,maxPlace\n",
        "\n",
        "LinearRegression MAE : 0.0986\n",
        "LGBMRegressor MAE : 0.0597\n",
        "\n",
        "60명 이하 데이터 drop시\n",
        "\n",
        "LinearRegression MAE : 0.0998\n",
        "LGBMRegressor MAE : 0.0620\n",
        "\n",
        "LinearRegression MAE : 0.1145\n",
        "LGBMRegressor MAE : 0.0904"
      ],
      "metadata": {
        "id": "rDpVje3XRwHm"
      }
    },
    {
      "cell_type": "code",
      "source": [
        "#ordinal encoding\n",
        "feature_names = ['boosts','damageDealt','heals','kills','walkDistance','weaponsAcquired','matchtype','matchDuration','rideDistance','maxPlace']# maxPlace 컬럼추가\n",
        "x=trainv2[feature_names]\n",
        "y=trainv2['winPlacePerc']\n",
        "x_train,x_test,y_train,y_test = train_test_split(x,y,test_size=0.2,random_state=24) "
      ],
      "metadata": {
        "id": "5Ym9U2gRR2b5"
      },
      "execution_count": null,
      "outputs": []
    },
    {
      "cell_type": "code",
      "source": [
        "model1 = LinearRegression()\n",
        "model2 = LGBMRegressor()\n",
        "model1.fit(x_train,y_train)\n",
        "model2.fit(x_train,y_train)"
      ],
      "metadata": {
        "colab": {
          "base_uri": "https://localhost:8080/"
        },
        "id": "OHuReYgGR2eM",
        "outputId": "659bcae1-ff17-432c-b74e-4e4f1cc885fa"
      },
      "execution_count": null,
      "outputs": [
        {
          "output_type": "execute_result",
          "data": {
            "text/plain": [
              "LGBMRegressor()"
            ]
          },
          "metadata": {},
          "execution_count": 21
        }
      ]
    },
    {
      "cell_type": "code",
      "source": [
        "pred1 = model1.predict(x_train)\n",
        "pred2 = model2.predict(x_train)\n",
        "print(\"LinearRegression MAE : %.4f\" % mean_absolute_error(y_train,pred1))\n",
        "print(\"LGBMRegressor MAE : %.4f\" % mean_absolute_error(y_train,pred2))"
      ],
      "metadata": {
        "colab": {
          "base_uri": "https://localhost:8080/"
        },
        "id": "7rU20MksR2gE",
        "outputId": "4c5428f0-8b49-48d7-e181-76074e7b664a"
      },
      "execution_count": null,
      "outputs": [
        {
          "output_type": "stream",
          "name": "stdout",
          "text": [
            "LinearRegression MAE : 0.1144\n",
            "LGBMRegressor MAE : 0.0902\n"
          ]
        }
      ]
    },
    {
      "cell_type": "code",
      "source": [
        "result1 = model1.predict(x_test)\n",
        "result2 = model2.predict(x_test)\n",
        "print(\"LinearRegression MAE : %.4f\" % mean_absolute_error(y_test,result1))\n",
        "print(\"LGBMRegressor MAE : %.4f\" % mean_absolute_error(y_test,result2))"
      ],
      "metadata": {
        "colab": {
          "base_uri": "https://localhost:8080/"
        },
        "id": "z_X-e_cBR2iB",
        "outputId": "10f5ba7e-7b42-4a48-93f9-293721911bae"
      },
      "execution_count": null,
      "outputs": [
        {
          "output_type": "stream",
          "name": "stdout",
          "text": [
            "LinearRegression MAE : 0.1145\n",
            "LGBMRegressor MAE : 0.0904\n"
          ]
        }
      ]
    },
    {
      "cell_type": "markdown",
      "source": [
        "# **모델학습**\n",
        "importance 상위 컬럼을 하나씩 포함시켜 모델링 matchDuration ,rideDistance,maxPlace,numGroups\n",
        "\n",
        "LinearRegression MAE : 0.0983\n",
        "LGBMRegressor MAE : 0.0589\n",
        "\n",
        "60명 이하 데이터 drop시\n",
        "\n",
        "LinearRegression MAE : 0.0975\n",
        "LGBMRegressor MAE : 0.0584\n",
        "\n",
        "LinearRegression MAE : 0.1144\n",
        "LGBMRegressor MAE : 0.0904"
      ],
      "metadata": {
        "id": "6MYFe2gtStX7"
      }
    },
    {
      "cell_type": "code",
      "source": [
        "#ordinal encoding\n",
        "feature_names = ['boosts','damageDealt','heals','kills','walkDistance','weaponsAcquired','matchtype','matchDuration','rideDistance','maxPlace','numGroups']# numGroups 컬럼추가\n",
        "x=trainv2[feature_names]\n",
        "y=trainv2['winPlacePerc']\n",
        "x_train,x_test,y_train,y_test = train_test_split(x,y,test_size=0.2,random_state=24) "
      ],
      "metadata": {
        "id": "t5tWNZ5nR2kF"
      },
      "execution_count": null,
      "outputs": []
    },
    {
      "cell_type": "code",
      "source": [
        "model1 = LinearRegression()\n",
        "model2 = LGBMRegressor()\n",
        "model1.fit(x_train,y_train)\n",
        "model2.fit(x_train,y_train)"
      ],
      "metadata": {
        "colab": {
          "base_uri": "https://localhost:8080/"
        },
        "id": "ZJ3wnYaTR2lu",
        "outputId": "facb8a9b-8d95-4d82-ab7c-e72f33a0a772"
      },
      "execution_count": null,
      "outputs": [
        {
          "output_type": "execute_result",
          "data": {
            "text/plain": [
              "LGBMRegressor()"
            ]
          },
          "metadata": {},
          "execution_count": 25
        }
      ]
    },
    {
      "cell_type": "code",
      "source": [
        "pred1 = model1.predict(x_train)\n",
        "pred2 = model2.predict(x_train)\n",
        "print(\"LinearRegression MAE : %.4f\" % mean_absolute_error(y_train,pred1))\n",
        "print(\"LGBMRegressor MAE : %.4f\" % mean_absolute_error(y_train,pred2))"
      ],
      "metadata": {
        "colab": {
          "base_uri": "https://localhost:8080/"
        },
        "id": "4PN6O5RaR2ne",
        "outputId": "26b77eec-c651-474e-db39-18c7e7e3d577"
      },
      "execution_count": null,
      "outputs": [
        {
          "output_type": "stream",
          "name": "stdout",
          "text": [
            "LinearRegression MAE : 0.1144\n",
            "LGBMRegressor MAE : 0.0902\n"
          ]
        }
      ]
    },
    {
      "cell_type": "code",
      "source": [
        "result1 = model1.predict(x_test)\n",
        "result2 = model2.predict(x_test)\n",
        "print(\"LinearRegression MAE : %.4f\" % mean_absolute_error(y_test,result1))\n",
        "print(\"LGBMRegressor MAE : %.4f\" % mean_absolute_error(y_test,result2))"
      ],
      "metadata": {
        "colab": {
          "base_uri": "https://localhost:8080/"
        },
        "id": "MUaSVIotR2pQ",
        "outputId": "5bbd4958-746f-4d98-f2cb-dba63cc4dca0"
      },
      "execution_count": null,
      "outputs": [
        {
          "output_type": "stream",
          "name": "stdout",
          "text": [
            "LinearRegression MAE : 0.1144\n",
            "LGBMRegressor MAE : 0.0904\n"
          ]
        }
      ]
    },
    {
      "cell_type": "markdown",
      "source": [
        "# **모델학습**\n",
        "importance 상위 컬럼을 하나씩 포함시켜 모델링 matchDuration ,rideDistance,maxPlace,numGroups,rankPoints\n",
        "\n",
        "LinearRegression MAE : 0.0983\n",
        "LGBMRegressor MAE : 0.0589\n",
        "\n",
        "60명 이하 데이터 drop시\n",
        "\n",
        "LinearRegression MAE : 0.0975\n",
        "LGBMRegressor MAE : 0.0585\n",
        "\n",
        "LinearRegression MAE : 0.1144\n",
        "LGBMRegressor MAE : 0.0903"
      ],
      "metadata": {
        "id": "fZf_ze_0TJVR"
      }
    },
    {
      "cell_type": "code",
      "source": [
        "#ordinal encoding\n",
        "feature_names = ['boosts','damageDealt','heals','kills','walkDistance','weaponsAcquired','matchtype','matchDuration','rideDistance','maxPlace','numGroups','rankPoints']# rankPoints 컬럼추가\n",
        "x=trainv2[feature_names]\n",
        "y=trainv2['winPlacePerc']\n",
        "x_train,x_test,y_train,y_test = train_test_split(x,y,test_size=0.2,random_state=24) "
      ],
      "metadata": {
        "id": "e9dKYMVkR2rJ"
      },
      "execution_count": null,
      "outputs": []
    },
    {
      "cell_type": "code",
      "source": [
        "model1 = LinearRegression()\n",
        "model2 = LGBMRegressor()\n",
        "model1.fit(x_train,y_train)\n",
        "model2.fit(x_train,y_train)"
      ],
      "metadata": {
        "colab": {
          "base_uri": "https://localhost:8080/"
        },
        "id": "dUTsV49wR2s5",
        "outputId": "5590ca76-3ac7-4d32-a8fa-5ed6ff6e15e1"
      },
      "execution_count": null,
      "outputs": [
        {
          "output_type": "execute_result",
          "data": {
            "text/plain": [
              "LGBMRegressor()"
            ]
          },
          "metadata": {},
          "execution_count": 29
        }
      ]
    },
    {
      "cell_type": "code",
      "source": [
        "pred1 = model1.predict(x_train)\n",
        "pred2 = model2.predict(x_train)\n",
        "print(\"LinearRegression MAE : %.4f\" % mean_absolute_error(y_train,pred1))\n",
        "print(\"LGBMRegressor MAE : %.4f\" % mean_absolute_error(y_train,pred2))"
      ],
      "metadata": {
        "colab": {
          "base_uri": "https://localhost:8080/"
        },
        "id": "WSebjTo3R2u8",
        "outputId": "63a7fa7a-e6c4-4aef-a79e-b6a0bf9fe21d"
      },
      "execution_count": null,
      "outputs": [
        {
          "output_type": "stream",
          "name": "stdout",
          "text": [
            "LinearRegression MAE : 0.1144\n",
            "LGBMRegressor MAE : 0.0901\n"
          ]
        }
      ]
    },
    {
      "cell_type": "code",
      "source": [
        "result1 = model1.predict(x_test)\n",
        "result2 = model2.predict(x_test)\n",
        "print(\"LinearRegression MAE : %.4f\" % mean_absolute_error(y_test,result1))\n",
        "print(\"LGBMRegressor MAE : %.4f\" % mean_absolute_error(y_test,result2))"
      ],
      "metadata": {
        "colab": {
          "base_uri": "https://localhost:8080/"
        },
        "id": "IZ4spC3rR2wb",
        "outputId": "883d5b21-af56-4ede-d6d8-519d1f8459f7"
      },
      "execution_count": null,
      "outputs": [
        {
          "output_type": "stream",
          "name": "stdout",
          "text": [
            "LinearRegression MAE : 0.1144\n",
            "LGBMRegressor MAE : 0.0903\n"
          ]
        }
      ]
    },
    {
      "cell_type": "markdown",
      "source": [
        "# **모델학습**\n",
        "importance 상위 컬럼을 하나씩 포함시켜 모델링 matchDuration ,rideDistance,maxPlace,numGroups,rankPoints,swimDistance\n",
        "\n",
        "LinearRegression MAE : 0.0982\n",
        "LGBMRegressor MAE : 0.0588\n",
        "\n",
        "60명 이하 데이터 drop시\n",
        "\n",
        "LinearRegression MAE : 0.0975\n",
        "LGBMRegressor MAE : 0.0584\n",
        "\n",
        "LinearRegression MAE : 0.1143\n",
        "LGBMRegressor MAE : 0.0901\n",
        "\n",
        "\n",
        "수치 내려가는 폭이 확연히 줄어들어 컬럼추가를 stop"
      ],
      "metadata": {
        "id": "iWdewrVNT6J1"
      }
    },
    {
      "cell_type": "code",
      "source": [
        "#ordinal encoding\n",
        "feature_names = ['boosts','damageDealt','heals','kills','walkDistance','weaponsAcquired','matchtype','matchDuration','rideDistance','maxPlace','numGroups','rankPoints','swimDistance']# swimDistance 컬럼추가\n",
        "x=trainv2[feature_names]\n",
        "y=trainv2['winPlacePerc']\n",
        "x_train,x_test,y_train,y_test = train_test_split(x,y,test_size=0.2,random_state=24) "
      ],
      "metadata": {
        "id": "oB4RhMjtR2yp"
      },
      "execution_count": null,
      "outputs": []
    },
    {
      "cell_type": "code",
      "source": [
        "model1 = LinearRegression()\n",
        "model2 = LGBMRegressor()\n",
        "model1.fit(x_train,y_train)\n",
        "model2.fit(x_train,y_train)"
      ],
      "metadata": {
        "colab": {
          "base_uri": "https://localhost:8080/"
        },
        "id": "2WaIy1pvR24H",
        "outputId": "4a0b58fa-d994-46be-f33e-0eceb9150f67"
      },
      "execution_count": null,
      "outputs": [
        {
          "output_type": "execute_result",
          "data": {
            "text/plain": [
              "LGBMRegressor()"
            ]
          },
          "metadata": {},
          "execution_count": 33
        }
      ]
    },
    {
      "cell_type": "code",
      "source": [
        "pred1 = model1.predict(x_train)\n",
        "pred2 = model2.predict(x_train)\n",
        "print(\"LinearRegression MAE : %.4f\" % mean_absolute_error(y_train,pred1))\n",
        "print(\"LGBMRegressor MAE : %.4f\" % mean_absolute_error(y_train,pred2))"
      ],
      "metadata": {
        "colab": {
          "base_uri": "https://localhost:8080/"
        },
        "id": "lES0GDX6R251",
        "outputId": "c487cbb9-5533-422c-9076-583a87c14de1"
      },
      "execution_count": null,
      "outputs": [
        {
          "output_type": "stream",
          "name": "stdout",
          "text": [
            "LinearRegression MAE : 0.1143\n",
            "LGBMRegressor MAE : 0.0899\n"
          ]
        }
      ]
    },
    {
      "cell_type": "code",
      "source": [
        "result1 = model1.predict(x_test)\n",
        "result2 = model2.predict(x_test)\n",
        "print(\"LinearRegression MAE : %.4f\" % mean_absolute_error(y_test,result1))\n",
        "print(\"LGBMRegressor MAE : %.4f\" % mean_absolute_error(y_test,result2))"
      ],
      "metadata": {
        "colab": {
          "base_uri": "https://localhost:8080/"
        },
        "id": "8RqNLLFLR277",
        "outputId": "f2fa15c3-089f-405b-af6e-e1eb53427480"
      },
      "execution_count": null,
      "outputs": [
        {
          "output_type": "stream",
          "name": "stdout",
          "text": [
            "LinearRegression MAE : 0.1143\n",
            "LGBMRegressor MAE : 0.0901\n"
          ]
        }
      ]
    },
    {
      "cell_type": "markdown",
      "source": [
        "# **모델학습**\n",
        "거리컬럼을 모두 더해서 모델링 walkDistance+rideDistance+swimDistance\n",
        "\n",
        "LinearRegression MAE : 0.1143\n",
        "LGBMRegressor MAE : 0.0609\n",
        "\n",
        "60명 이하 데이터 drop시\n",
        "\n",
        "LinearRegression MAE : 0.1132\n",
        "LGBMRegressor MAE : 0.0604\n",
        "\n",
        "LinearRegression MAE : 0.1369\n",
        "LGBMRegressor MAE : 0.0960\n",
        "\n",
        "거리컬럼을 합쳐서 모델링하니 수치가 더 안좋아졌다\n",
        "\n",
        " 소수점이 길어 에러를 만난듯하여 round 처리하였다"
      ],
      "metadata": {
        "id": "z7EoPrUTWGYQ"
      }
    },
    {
      "cell_type": "code",
      "source": [
        "trainv2[\"plus\"]=trainv2.loc[:,['walkDistance','rideDistance','swimDistance']].sum(axis=1).round()\n",
        "#ordinal encoding\n",
        "feature_names = ['boosts','damageDealt','heals','kills','weaponsAcquired','matchtype','matchDuration','maxPlace','numGroups','rankPoints','plus']# plus 컬럼추가\n",
        "x=trainv2[feature_names]\n",
        "y=trainv2['winPlacePerc']\n",
        "x_train,x_test,y_train,y_test = train_test_split(x,y,test_size=0.2,random_state=24) "
      ],
      "metadata": {
        "id": "MpsdIwXOR3Aw",
        "colab": {
          "base_uri": "https://localhost:8080/",
          "height": 250
        },
        "outputId": "e26ed840-36ee-428a-d8be-837f6fdce378"
      },
      "execution_count": null,
      "outputs": [
        {
          "output_type": "error",
          "ename": "NameError",
          "evalue": "ignored",
          "traceback": [
            "\u001b[0;31m---------------------------------------------------------------------------\u001b[0m",
            "\u001b[0;31mNameError\u001b[0m                                 Traceback (most recent call last)",
            "\u001b[0;32m<ipython-input-1-94508f9d5c58>\u001b[0m in \u001b[0;36m<module>\u001b[0;34m()\u001b[0m\n\u001b[0;32m----> 1\u001b[0;31m \u001b[0mtrainv2\u001b[0m\u001b[0;34m[\u001b[0m\u001b[0;34m\"plus\"\u001b[0m\u001b[0;34m]\u001b[0m\u001b[0;34m=\u001b[0m\u001b[0mtrainv2\u001b[0m\u001b[0;34m.\u001b[0m\u001b[0mloc\u001b[0m\u001b[0;34m[\u001b[0m\u001b[0;34m:\u001b[0m\u001b[0;34m,\u001b[0m\u001b[0;34m[\u001b[0m\u001b[0;34m'walkDistance'\u001b[0m\u001b[0;34m,\u001b[0m\u001b[0;34m'rideDistance'\u001b[0m\u001b[0;34m,\u001b[0m\u001b[0;34m'swimDistance'\u001b[0m\u001b[0;34m]\u001b[0m\u001b[0;34m]\u001b[0m\u001b[0;34m.\u001b[0m\u001b[0msum\u001b[0m\u001b[0;34m(\u001b[0m\u001b[0maxis\u001b[0m\u001b[0;34m=\u001b[0m\u001b[0;36m1\u001b[0m\u001b[0;34m)\u001b[0m\u001b[0;34m.\u001b[0m\u001b[0mround\u001b[0m\u001b[0;34m(\u001b[0m\u001b[0;34m)\u001b[0m\u001b[0;34m\u001b[0m\u001b[0;34m\u001b[0m\u001b[0m\n\u001b[0m\u001b[1;32m      2\u001b[0m \u001b[0;31m#ordinal encoding\u001b[0m\u001b[0;34m\u001b[0m\u001b[0;34m\u001b[0m\u001b[0;34m\u001b[0m\u001b[0m\n\u001b[1;32m      3\u001b[0m \u001b[0mfeature_names\u001b[0m \u001b[0;34m=\u001b[0m \u001b[0;34m[\u001b[0m\u001b[0;34m'boosts'\u001b[0m\u001b[0;34m,\u001b[0m\u001b[0;34m'damageDealt'\u001b[0m\u001b[0;34m,\u001b[0m\u001b[0;34m'heals'\u001b[0m\u001b[0;34m,\u001b[0m\u001b[0;34m'kills'\u001b[0m\u001b[0;34m,\u001b[0m\u001b[0;34m'weaponsAcquired'\u001b[0m\u001b[0;34m,\u001b[0m\u001b[0;34m'matchtype'\u001b[0m\u001b[0;34m,\u001b[0m\u001b[0;34m'matchDuration'\u001b[0m\u001b[0;34m,\u001b[0m\u001b[0;34m'maxPlace'\u001b[0m\u001b[0;34m,\u001b[0m\u001b[0;34m'numGroups'\u001b[0m\u001b[0;34m,\u001b[0m\u001b[0;34m'rankPoints'\u001b[0m\u001b[0;34m,\u001b[0m\u001b[0;34m'plus'\u001b[0m\u001b[0;34m]\u001b[0m\u001b[0;31m# plus 컬럼추가\u001b[0m\u001b[0;34m\u001b[0m\u001b[0;34m\u001b[0m\u001b[0m\n\u001b[1;32m      4\u001b[0m \u001b[0mx\u001b[0m\u001b[0;34m=\u001b[0m\u001b[0mtrainv2\u001b[0m\u001b[0;34m[\u001b[0m\u001b[0mfeature_names\u001b[0m\u001b[0;34m]\u001b[0m\u001b[0;34m\u001b[0m\u001b[0;34m\u001b[0m\u001b[0m\n\u001b[1;32m      5\u001b[0m \u001b[0my\u001b[0m\u001b[0;34m=\u001b[0m\u001b[0mtrainv2\u001b[0m\u001b[0;34m[\u001b[0m\u001b[0;34m'winPlacePerc'\u001b[0m\u001b[0;34m]\u001b[0m\u001b[0;34m\u001b[0m\u001b[0;34m\u001b[0m\u001b[0m\n",
            "\u001b[0;31mNameError\u001b[0m: name 'trainv2' is not defined"
          ]
        }
      ]
    },
    {
      "cell_type": "code",
      "source": [
        "model1 = LinearRegression()\n",
        "model2 = LGBMRegressor()\n",
        "model1.fit(x_train,y_train)\n",
        "model2.fit(x_train,y_train)"
      ],
      "metadata": {
        "colab": {
          "base_uri": "https://localhost:8080/"
        },
        "id": "ZdDUaMmFR3Ct",
        "outputId": "2124469c-23e2-4834-c30b-fcbaf21ec390"
      },
      "execution_count": null,
      "outputs": [
        {
          "output_type": "execute_result",
          "data": {
            "text/plain": [
              "LGBMRegressor()"
            ]
          },
          "metadata": {},
          "execution_count": 37
        }
      ]
    },
    {
      "cell_type": "code",
      "source": [
        "pred1 = model1.predict(x_train)\n",
        "pred2 = model2.predict(x_train)\n",
        "print(\"LinearRegression MAE : %.4f\" % mean_absolute_error(y_train,pred1))\n",
        "print(\"LGBMRegressor MAE : %.4f\" % mean_absolute_error(y_train,pred2))"
      ],
      "metadata": {
        "colab": {
          "base_uri": "https://localhost:8080/"
        },
        "id": "nETgEfUpICrO",
        "outputId": "cf670684-1daa-4cc9-912a-2f2704315a3e"
      },
      "execution_count": null,
      "outputs": [
        {
          "output_type": "stream",
          "name": "stdout",
          "text": [
            "LinearRegression MAE : 0.1367\n",
            "LGBMRegressor MAE : 0.0958\n"
          ]
        }
      ]
    },
    {
      "cell_type": "code",
      "source": [
        "result1 = model1.predict(x_test)\n",
        "result2 = model2.predict(x_test)\n",
        "print(\"LinearRegression MAE : %.4f\" % mean_absolute_error(y_test,result1))\n",
        "print(\"LGBMRegressor MAE : %.4f\" % mean_absolute_error(y_test,result2))"
      ],
      "metadata": {
        "colab": {
          "base_uri": "https://localhost:8080/"
        },
        "id": "_d_6SweMWV7i",
        "outputId": "9bfc17c6-b620-4dc5-dd00-fdb97e32f433"
      },
      "execution_count": null,
      "outputs": [
        {
          "output_type": "stream",
          "name": "stdout",
          "text": [
            "LinearRegression MAE : 0.1369\n",
            "LGBMRegressor MAE : 0.0960\n"
          ]
        }
      ]
    },
    {
      "cell_type": "markdown",
      "source": [
        "/usr/local/lib/python3.7/dist-packages/ipykernel_launcher.py:1: SettingWithCopyWarning: \n",
        "A value is trying to be set on a copy of a slice from a DataFrame.\n",
        "Try using .loc[row_indexer,col_indexer] = value instead\n",
        "\n",
        "See the caveats in the documentation: https://pandas.pydata.org/pandas-docs/stable/user_guide/indexing.html#returning-a-view-versus-a-copy\n",
        "  \"\"\"Entry point for launching an IPython kernel.\n",
        "  "
      ],
      "metadata": {
        "id": "1f4jgiTsYlYZ"
      }
    },
    {
      "cell_type": "markdown",
      "source": [
        "# **모델학습**\n",
        "범주형 데이터들을 넣어서 모델링을 해보려한다 \n",
        "\n",
        "LinearRegression MAE : 0.1559\n",
        "LGBMRegressor MAE : 0.1325"
      ],
      "metadata": {
        "id": "5Y27GXIbsgC3"
      }
    },
    {
      "cell_type": "code",
      "source": [
        "trainv2['groupcnt']=trainv2.groupby('groupId').groupId.transform('count')\n",
        "#ordinal encoding\n",
        "feature_names = ['boosts','damageDealt','heals','kills','weaponsAcquired','matchtype','matchDuration','maxPlace','numGroups','rankPoints','groupcnt']# groupcnt 컬럼추가\n",
        "x=trainv2[feature_names]\n",
        "y=trainv2['winPlacePerc']\n",
        "x_train,x_test,y_train,y_test = train_test_split(x,y,test_size=0.2,random_state=24) "
      ],
      "metadata": {
        "id": "d3yL4ZPZavcp"
      },
      "execution_count": null,
      "outputs": []
    },
    {
      "cell_type": "code",
      "source": [
        "model1 = LinearRegression()\n",
        "model2 = LGBMRegressor()\n",
        "model1.fit(x_train,y_train)\n",
        "model2.fit(x_train,y_train)"
      ],
      "metadata": {
        "id": "4zHLYduCavek",
        "colab": {
          "base_uri": "https://localhost:8080/"
        },
        "outputId": "8fcae2d6-e8e5-49ee-feca-81ad37901a84"
      },
      "execution_count": null,
      "outputs": [
        {
          "output_type": "execute_result",
          "data": {
            "text/plain": [
              "LGBMRegressor()"
            ]
          },
          "metadata": {},
          "execution_count": 41
        }
      ]
    },
    {
      "cell_type": "code",
      "source": [
        "pred1 = model1.predict(x_train)\n",
        "pred2 = model2.predict(x_train)\n",
        "print(\"LinearRegression MAE : %.4f\" % mean_absolute_error(y_train,pred1))\n",
        "print(\"LGBMRegressor MAE : %.4f\" % mean_absolute_error(y_train,pred2))"
      ],
      "metadata": {
        "id": "8GbUm3j2avgU",
        "colab": {
          "base_uri": "https://localhost:8080/"
        },
        "outputId": "1f3c3689-2d89-4abd-8656-1b1e6229dac7"
      },
      "execution_count": null,
      "outputs": [
        {
          "output_type": "stream",
          "name": "stdout",
          "text": [
            "LinearRegression MAE : 0.1560\n",
            "LGBMRegressor MAE : 0.1325\n"
          ]
        }
      ]
    },
    {
      "cell_type": "code",
      "source": [
        "result1 = model1.predict(x_test)\n",
        "result2 = model2.predict(x_test)\n",
        "print(\"LinearRegression MAE : %.4f\" % mean_absolute_error(y_test,result1))\n",
        "print(\"LGBMRegressor MAE : %.4f\" % mean_absolute_error(y_test,result2))"
      ],
      "metadata": {
        "colab": {
          "base_uri": "https://localhost:8080/"
        },
        "id": "uPqrLOJTweeV",
        "outputId": "6326bea9-a8f0-4691-fc42-7c1125180e01"
      },
      "execution_count": null,
      "outputs": [
        {
          "output_type": "stream",
          "name": "stdout",
          "text": [
            "LinearRegression MAE : 0.1559\n",
            "LGBMRegressor MAE : 0.1325\n"
          ]
        }
      ]
    },
    {
      "cell_type": "markdown",
      "source": [
        "# **XGB** \n",
        "\n",
        "XGBRegressor MAE : 0.0903 400\n",
        "\n",
        "XGBRegressor MAE : 0.0920 100\n",
        "\n",
        "XGBRegressor MAE : 0.0904 depth 5\n",
        "\n",
        "XGBRegressor MAE : 0.0896 400 5"
      ],
      "metadata": {
        "id": "YjS9zKyrxD8n"
      }
    },
    {
      "cell_type": "code",
      "source": [
        "feature_names = ['boosts','damageDealt','heals','kills','walkDistance','weaponsAcquired','matchtype','matchDuration','rideDistance','maxPlace','numGroups','rankPoints','swimDistance']  \n",
        "x=trainv2[feature_names]\n",
        "y=trainv2['winPlacePerc']\n",
        "x_train,x_test,y_train,y_test = train_test_split(x,y,test_size=0.2,random_state=24)\n",
        "xgbr = XGBRegressor(n_estimators=400,learning_rate=0.1,max_depth=5,objective='reg:squarederror')"
      ],
      "metadata": {
        "id": "fpNOi-7EJFIj"
      },
      "execution_count": null,
      "outputs": []
    },
    {
      "cell_type": "code",
      "source": [
        "xgbr.fit(x_train,y_train)"
      ],
      "metadata": {
        "colab": {
          "base_uri": "https://localhost:8080/"
        },
        "id": "3_srvqZoM5Lv",
        "outputId": "20ea9965-ef0e-4865-9db3-7c7ae72d1a46"
      },
      "execution_count": null,
      "outputs": [
        {
          "output_type": "execute_result",
          "data": {
            "text/plain": [
              "XGBRegressor(max_depth=5, n_estimators=400, objective='reg:squarederror')"
            ]
          },
          "metadata": {},
          "execution_count": 29
        }
      ]
    },
    {
      "cell_type": "code",
      "source": [
        "preds=xgbr.predict(x_test)\n",
        "print(\"XGBRegressor MAE : %.4f\" % mean_absolute_error(y_test,preds))"
      ],
      "metadata": {
        "colab": {
          "base_uri": "https://localhost:8080/"
        },
        "id": "6SQfcMSrKPdB",
        "outputId": "33da79f6-2a9f-4988-91b0-56929a7f39b7"
      },
      "execution_count": null,
      "outputs": [
        {
          "output_type": "stream",
          "name": "stdout",
          "text": [
            "XGBRegressor MAE : 0.0896\n"
          ]
        }
      ]
    },
    {
      "cell_type": "code",
      "source": [
        "fig,ax=plt.subplots(figsize=(20,15))\n",
        "plot_importance(xgbr,ax=ax)#n_estimators=400"
      ],
      "metadata": {
        "colab": {
          "base_uri": "https://localhost:8080/",
          "height": 912
        },
        "id": "N6qw-LBXKPey",
        "outputId": "583104cb-275e-4210-c6e6-43d1e374bf7c"
      },
      "execution_count": null,
      "outputs": [
        {
          "output_type": "execute_result",
          "data": {
            "text/plain": [
              "<matplotlib.axes._subplots.AxesSubplot at 0x7f03b6d49cd0>"
            ]
          },
          "metadata": {},
          "execution_count": 12
        },
        {
          "output_type": "display_data",
          "data": {
            "text/plain": [
              "<Figure size 1440x1080 with 1 Axes>"
            ],
            "image/png": "[encoded data removed]"
          },
          "metadata": {
            "needs_background": "light"
          }
        }
      ]
    },
    {
      "cell_type": "code",
      "source": [
        "fig,ax=plt.subplots(figsize=(20,15))\n",
        "plot_importance(xgbr,ax=ax)#n_estimators=100"
      ],
      "metadata": {
        "colab": {
          "base_uri": "https://localhost:8080/",
          "height": 912
        },
        "id": "BkHBvyn_Y0qd",
        "outputId": "3ecbb493-f423-43d7-89ab-ac123994db03"
      },
      "execution_count": null,
      "outputs": [
        {
          "output_type": "execute_result",
          "data": {
            "text/plain": [
              "<matplotlib.axes._subplots.AxesSubplot at 0x7f03c0c8d190>"
            ]
          },
          "metadata": {},
          "execution_count": 18
        },
        {
          "output_type": "display_data",
          "data": {
            "text/plain": [
              "<Figure size 1440x1080 with 1 Axes>"
            ],
            "image/png": "[encoded data removed]"
          },
          "metadata": {
            "needs_background": "light"
          }
        }
      ]
    },
    {
      "cell_type": "code",
      "source": [
        "fig,ax=plt.subplots(figsize=(20,15))\n",
        "plot_importance(xgbr,ax=ax)#maxdepth"
      ],
      "metadata": {
        "colab": {
          "base_uri": "https://localhost:8080/",
          "height": 912
        },
        "id": "cxU1jzUYcGNL",
        "outputId": "a1303ae4-e677-4d71-e6bc-2e95e2a18e38"
      },
      "execution_count": null,
      "outputs": [
        {
          "output_type": "execute_result",
          "data": {
            "text/plain": [
              "<matplotlib.axes._subplots.AxesSubplot at 0x7f03c9221c10>"
            ]
          },
          "metadata": {},
          "execution_count": 23
        },
        {
          "output_type": "display_data",
          "data": {
            "text/plain": [
              "<Figure size 1440x1080 with 1 Axes>"
            ],
            "image/png": "[encoded data removed]"
          },
          "metadata": {
            "needs_background": "light"
          }
        }
      ]
    },
    {
      "cell_type": "code",
      "source": [
        "fig,ax=plt.subplots(figsize=(20,15))\n",
        "plot_importance(xgbr,ax=ax)\n"
      ],
      "metadata": {
        "id": "V3pAEyApql9N",
        "outputId": "9e743fe1-eedb-43eb-b6fe-fd912bce8270",
        "colab": {
          "base_uri": "https://localhost:8080/",
          "height": 912
        }
      },
      "execution_count": null,
      "outputs": [
        {
          "output_type": "execute_result",
          "data": {
            "text/plain": [
              "<matplotlib.axes._subplots.AxesSubplot at 0x7f03d0b2f390>"
            ]
          },
          "metadata": {},
          "execution_count": 31
        },
        {
          "output_type": "display_data",
          "data": {
            "text/plain": [
              "<Figure size 1440x1080 with 1 Axes>"
            ],
            "image/png": "[encoded data removed]"
          },
          "metadata": {
            "needs_background": "light"
          }
        }
      ]
    },
    {
      "cell_type": "code",
      "source": [
        "dot_data = xgb.to_graphviz(xgbr)\n",
        "graph = graphviz.Source(dot_data)\n",
        "graph"
      ],
      "metadata": {
        "colab": {
          "base_uri": "https://localhost:8080/",
          "height": 427
        },
        "id": "5P9n4fiUWYMW",
        "outputId": "d81914a6-c3b3-4e7b-a139-d757ab8213af"
      },
      "execution_count": null,
      "outputs": [
        {
          "output_type": "execute_result",
          "data": {
            "text/plain": [
              "<graphviz.files.Source at 0x7f03bec0a450>"
            ],
            "image/svg+xml": "<?xml version=\"1.0\" encoding=\"UTF-8\" standalone=\"no\"?>\n<!DOCTYPE svg PUBLIC \"-//W3C//DTD SVG 1.1//EN\"\n \"http://www.w3.org/Graphics/SVG/1.1/DTD/svg11.dtd\">\n<!-- Generated by graphviz version 2.40.1 (20161225.0304)\n -->\n<!-- Title: %3 Pages: 1 -->\n<svg width=\"1523pt\" height=\"305pt\"\n viewBox=\"0.00 0.00 1522.53 305.00\" xmlns=\"http://www.w3.org/2000/svg\" xmlns:xlink=\"http://www.w3.org/1999/xlink\">\n<g id=\"graph0\" class=\"graph\" transform=\"scale(1 1) rotate(0) translate(4 301)\">\n<title>%3</title>\n<polygon fill=\"#ffffff\" stroke=\"transparent\" points=\"-4,4 -4,-301 1518.5346,-301 1518.5346,4 -4,4\"/>\n<!-- 0 -->\n<g id=\"node1\" class=\"node\">\n<title>0</title>\n<ellipse fill=\"none\" stroke=\"#000000\" cx=\"728.3922\" cy=\"-279\" rx=\"112.3801\" ry=\"18\"/>\n<text text-anchor=\"middle\" x=\"728.3922\" y=\"-275.3\" font-family=\"Times,serif\" font-size=\"14.00\" fill=\"#000000\">walkDistance&lt;832.049988</text>\n</g>\n<!-- 1 -->\n<g id=\"node2\" class=\"node\">\n<title>1</title>\n<ellipse fill=\"none\" stroke=\"#000000\" cx=\"557.3922\" cy=\"-192\" rx=\"112.3801\" ry=\"18\"/>\n<text text-anchor=\"middle\" x=\"557.3922\" y=\"-188.3\" font-family=\"Times,serif\" font-size=\"14.00\" fill=\"#000000\">walkDistance&lt;206.649994</text>\n</g>\n<!-- 0&#45;&gt;1 -->\n<g id=\"edge1\" class=\"edge\">\n<title>0&#45;&gt;1</title>\n<path fill=\"none\" stroke=\"#0000ff\" d=\"M694.6081,-261.8116C667.6448,-248.0935 629.6903,-228.7832 600.5313,-213.948\"/>\n<polygon fill=\"#0000ff\" stroke=\"#0000ff\" points=\"601.8982,-210.7165 591.3983,-209.3014 598.724,-216.9555 601.8982,-210.7165\"/>\n<text text-anchor=\"middle\" x=\"688.8922\" y=\"-231.8\" font-family=\"Times,serif\" font-size=\"14.00\" fill=\"#000000\">yes, missing</text>\n</g>\n<!-- 2 -->\n<g id=\"node3\" class=\"node\">\n<title>2</title>\n<ellipse fill=\"none\" stroke=\"#000000\" cx=\"939.3922\" cy=\"-192\" rx=\"92.8835\" ry=\"18\"/>\n<text text-anchor=\"middle\" x=\"939.3922\" y=\"-188.3\" font-family=\"Times,serif\" font-size=\"14.00\" fill=\"#000000\">walkDistance&lt;1849.5</text>\n</g>\n<!-- 0&#45;&gt;2 -->\n<g id=\"edge2\" class=\"edge\">\n<title>0&#45;&gt;2</title>\n<path fill=\"none\" stroke=\"#ff0000\" d=\"M769.3253,-262.1224C803.8693,-247.8791 853.4194,-227.4485 890.1312,-212.3114\"/>\n<polygon fill=\"#ff0000\" stroke=\"#ff0000\" points=\"891.7348,-215.4361 899.6456,-208.3884 889.0665,-208.9646 891.7348,-215.4361\"/>\n<text text-anchor=\"middle\" x=\"855.3922\" y=\"-231.8\" font-family=\"Times,serif\" font-size=\"14.00\" fill=\"#000000\">no</text>\n</g>\n<!-- 3 -->\n<g id=\"node4\" class=\"node\">\n<title>3</title>\n<ellipse fill=\"none\" stroke=\"#000000\" cx=\"283.3922\" cy=\"-105\" rx=\"112.3801\" ry=\"18\"/>\n<text text-anchor=\"middle\" x=\"283.3922\" y=\"-101.3\" font-family=\"Times,serif\" font-size=\"14.00\" fill=\"#000000\">walkDistance&lt;76.4349976</text>\n</g>\n<!-- 1&#45;&gt;3 -->\n<g id=\"edge3\" class=\"edge\">\n<title>1&#45;&gt;3</title>\n<path fill=\"none\" stroke=\"#0000ff\" d=\"M506.497,-175.8399C460.4544,-161.2205 392.5913,-139.6727 343.8115,-124.1842\"/>\n<polygon fill=\"#0000ff\" stroke=\"#0000ff\" points=\"344.6051,-120.7641 334.0148,-121.0736 342.4866,-127.4358 344.6051,-120.7641\"/>\n<text text-anchor=\"middle\" x=\"472.8922\" y=\"-144.8\" font-family=\"Times,serif\" font-size=\"14.00\" fill=\"#000000\">yes, missing</text>\n</g>\n<!-- 4 -->\n<g id=\"node5\" class=\"node\">\n<title>4</title>\n<ellipse fill=\"none\" stroke=\"#000000\" cx=\"557.3922\" cy=\"-105\" rx=\"112.3801\" ry=\"18\"/>\n<text text-anchor=\"middle\" x=\"557.3922\" y=\"-101.3\" font-family=\"Times,serif\" font-size=\"14.00\" fill=\"#000000\">walkDistance&lt;440.650024</text>\n</g>\n<!-- 1&#45;&gt;4 -->\n<g id=\"edge4\" class=\"edge\">\n<title>1&#45;&gt;4</title>\n<path fill=\"none\" stroke=\"#ff0000\" d=\"M557.3922,-173.9735C557.3922,-162.1918 557.3922,-146.5607 557.3922,-133.1581\"/>\n<polygon fill=\"#ff0000\" stroke=\"#ff0000\" points=\"560.8923,-133.0033 557.3922,-123.0034 553.8923,-133.0034 560.8923,-133.0033\"/>\n<text text-anchor=\"middle\" x=\"565.3922\" y=\"-144.8\" font-family=\"Times,serif\" font-size=\"14.00\" fill=\"#000000\">no</text>\n</g>\n<!-- 5 -->\n<g id=\"node10\" class=\"node\">\n<title>5</title>\n<ellipse fill=\"none\" stroke=\"#000000\" cx=\"939.3922\" cy=\"-105\" rx=\"92.8835\" ry=\"18\"/>\n<text text-anchor=\"middle\" x=\"939.3922\" y=\"-101.3\" font-family=\"Times,serif\" font-size=\"14.00\" fill=\"#000000\">walkDistance&lt;1302.5</text>\n</g>\n<!-- 2&#45;&gt;5 -->\n<g id=\"edge9\" class=\"edge\">\n<title>2&#45;&gt;5</title>\n<path fill=\"none\" stroke=\"#0000ff\" d=\"M939.3922,-173.9735C939.3922,-162.1918 939.3922,-146.5607 939.3922,-133.1581\"/>\n<polygon fill=\"#0000ff\" stroke=\"#0000ff\" points=\"942.8923,-133.0033 939.3922,-123.0034 935.8923,-133.0034 942.8923,-133.0033\"/>\n<text text-anchor=\"middle\" x=\"974.8922\" y=\"-144.8\" font-family=\"Times,serif\" font-size=\"14.00\" fill=\"#000000\">yes, missing</text>\n</g>\n<!-- 6 -->\n<g id=\"node11\" class=\"node\">\n<title>6</title>\n<ellipse fill=\"none\" stroke=\"#000000\" cx=\"1245.3922\" cy=\"-105\" rx=\"44.6926\" ry=\"18\"/>\n<text text-anchor=\"middle\" x=\"1245.3922\" y=\"-101.3\" font-family=\"Times,serif\" font-size=\"14.00\" fill=\"#000000\">boosts&lt;3</text>\n</g>\n<!-- 2&#45;&gt;6 -->\n<g id=\"edge10\" class=\"edge\">\n<title>2&#45;&gt;6</title>\n<path fill=\"none\" stroke=\"#ff0000\" d=\"M991.9954,-177.0442C1050.0682,-160.5333 1142.6901,-134.1996 1198.4103,-118.3576\"/>\n<polygon fill=\"#ff0000\" stroke=\"#ff0000\" points=\"1199.7068,-121.6278 1208.3684,-115.5264 1197.7924,-114.8946 1199.7068,-121.6278\"/>\n<text text-anchor=\"middle\" x=\"1119.3922\" y=\"-144.8\" font-family=\"Times,serif\" font-size=\"14.00\" fill=\"#000000\">no</text>\n</g>\n<!-- 7 -->\n<g id=\"node6\" class=\"node\">\n<title>7</title>\n<ellipse fill=\"none\" stroke=\"#000000\" cx=\"88.3922\" cy=\"-18\" rx=\"88.2844\" ry=\"18\"/>\n<text text-anchor=\"middle\" x=\"88.3922\" y=\"-14.3\" font-family=\"Times,serif\" font-size=\"14.00\" fill=\"#000000\">leaf=&#45;0.0389151461</text>\n</g>\n<!-- 3&#45;&gt;7 -->\n<g id=\"edge5\" class=\"edge\">\n<title>3&#45;&gt;7</title>\n<path fill=\"none\" stroke=\"#0000ff\" d=\"M245.3313,-88.019C213.6206,-73.8712 168.3453,-53.6714 134.5665,-38.6009\"/>\n<polygon fill=\"#0000ff\" stroke=\"#0000ff\" points=\"135.9233,-35.3737 125.3649,-34.4955 133.0711,-41.7663 135.9233,-35.3737\"/>\n<text text-anchor=\"middle\" x=\"233.8922\" y=\"-57.8\" font-family=\"Times,serif\" font-size=\"14.00\" fill=\"#000000\">yes, missing</text>\n</g>\n<!-- 8 -->\n<g id=\"node7\" class=\"node\">\n<title>8</title>\n<ellipse fill=\"none\" stroke=\"#000000\" cx=\"283.3922\" cy=\"-18\" rx=\"88.2844\" ry=\"18\"/>\n<text text-anchor=\"middle\" x=\"283.3922\" y=\"-14.3\" font-family=\"Times,serif\" font-size=\"14.00\" fill=\"#000000\">leaf=&#45;0.0292954743</text>\n</g>\n<!-- 3&#45;&gt;8 -->\n<g id=\"edge6\" class=\"edge\">\n<title>3&#45;&gt;8</title>\n<path fill=\"none\" stroke=\"#ff0000\" d=\"M283.3922,-86.9735C283.3922,-75.1918 283.3922,-59.5607 283.3922,-46.1581\"/>\n<polygon fill=\"#ff0000\" stroke=\"#ff0000\" points=\"286.8923,-46.0033 283.3922,-36.0034 279.8923,-46.0034 286.8923,-46.0033\"/>\n<text text-anchor=\"middle\" x=\"291.3922\" y=\"-57.8\" font-family=\"Times,serif\" font-size=\"14.00\" fill=\"#000000\">no</text>\n</g>\n<!-- 9 -->\n<g id=\"node8\" class=\"node\">\n<title>9</title>\n<ellipse fill=\"none\" stroke=\"#000000\" cx=\"473.3922\" cy=\"-18\" rx=\"83.3857\" ry=\"18\"/>\n<text text-anchor=\"middle\" x=\"473.3922\" y=\"-14.3\" font-family=\"Times,serif\" font-size=\"14.00\" fill=\"#000000\">leaf=&#45;0.018835159</text>\n</g>\n<!-- 4&#45;&gt;9 -->\n<g id=\"edge7\" class=\"edge\">\n<title>4&#45;&gt;9</title>\n<path fill=\"none\" stroke=\"#0000ff\" d=\"M539.9873,-86.9735C527.7423,-74.2912 511.1908,-57.1486 497.6523,-43.1265\"/>\n<polygon fill=\"#0000ff\" stroke=\"#0000ff\" points=\"499.9512,-40.4686 490.4873,-35.7057 494.9154,-45.3308 499.9512,-40.4686\"/>\n<text text-anchor=\"middle\" x=\"556.8922\" y=\"-57.8\" font-family=\"Times,serif\" font-size=\"14.00\" fill=\"#000000\">yes, missing</text>\n</g>\n<!-- 10 -->\n<g id=\"node9\" class=\"node\">\n<title>10</title>\n<ellipse fill=\"none\" stroke=\"#000000\" cx=\"667.3922\" cy=\"-18\" rx=\"92.8835\" ry=\"18\"/>\n<text text-anchor=\"middle\" x=\"667.3922\" y=\"-14.3\" font-family=\"Times,serif\" font-size=\"14.00\" fill=\"#000000\">leaf=&#45;0.00763717527</text>\n</g>\n<!-- 4&#45;&gt;10 -->\n<g id=\"edge8\" class=\"edge\">\n<title>4&#45;&gt;10</title>\n<path fill=\"none\" stroke=\"#ff0000\" d=\"M579.9177,-87.1843C596.488,-74.0788 619.1852,-56.1274 637.3068,-41.7948\"/>\n<polygon fill=\"#ff0000\" stroke=\"#ff0000\" points=\"639.6004,-44.4432 645.2726,-35.4946 635.258,-38.9528 639.6004,-44.4432\"/>\n<text text-anchor=\"middle\" x=\"627.3922\" y=\"-57.8\" font-family=\"Times,serif\" font-size=\"14.00\" fill=\"#000000\">no</text>\n</g>\n<!-- 11 -->\n<g id=\"node12\" class=\"node\">\n<title>11</title>\n<ellipse fill=\"none\" stroke=\"#000000\" cx=\"868.3922\" cy=\"-18\" rx=\"90.1842\" ry=\"18\"/>\n<text text-anchor=\"middle\" x=\"868.3922\" y=\"-14.3\" font-family=\"Times,serif\" font-size=\"14.00\" fill=\"#000000\">leaf=0.00483553065</text>\n</g>\n<!-- 5&#45;&gt;11 -->\n<g id=\"edge11\" class=\"edge\">\n<title>5&#45;&gt;11</title>\n<path fill=\"none\" stroke=\"#0000ff\" d=\"M924.6809,-86.9735C914.4947,-74.4919 900.7828,-57.6899 889.4427,-43.7944\"/>\n<polygon fill=\"#0000ff\" stroke=\"#0000ff\" points=\"892.1189,-41.5379 883.0846,-36.0034 886.6956,-45.9638 892.1189,-41.5379\"/>\n<text text-anchor=\"middle\" x=\"943.8922\" y=\"-57.8\" font-family=\"Times,serif\" font-size=\"14.00\" fill=\"#000000\">yes, missing</text>\n</g>\n<!-- 12 -->\n<g id=\"node13\" class=\"node\">\n<title>12</title>\n<ellipse fill=\"none\" stroke=\"#000000\" cx=\"1061.3922\" cy=\"-18\" rx=\"85.2851\" ry=\"18\"/>\n<text text-anchor=\"middle\" x=\"1061.3922\" y=\"-14.3\" font-family=\"Times,serif\" font-size=\"14.00\" fill=\"#000000\">leaf=0.0160370786</text>\n</g>\n<!-- 5&#45;&gt;12 -->\n<g id=\"edge12\" class=\"edge\">\n<title>5&#45;&gt;12</title>\n<path fill=\"none\" stroke=\"#ff0000\" d=\"M963.7875,-87.6033C982.4059,-74.3263 1008.2438,-55.9008 1028.6588,-41.3427\"/>\n<polygon fill=\"#ff0000\" stroke=\"#ff0000\" points=\"1030.9294,-44.0223 1037.0391,-35.3665 1026.8651,-38.323 1030.9294,-44.0223\"/>\n<text text-anchor=\"middle\" x=\"1016.3922\" y=\"-57.8\" font-family=\"Times,serif\" font-size=\"14.00\" fill=\"#000000\">no</text>\n</g>\n<!-- 13 -->\n<g id=\"node14\" class=\"node\">\n<title>13</title>\n<ellipse fill=\"none\" stroke=\"#000000\" cx=\"1245.3922\" cy=\"-18\" rx=\"80.6858\" ry=\"18\"/>\n<text text-anchor=\"middle\" x=\"1245.3922\" y=\"-14.3\" font-family=\"Times,serif\" font-size=\"14.00\" fill=\"#000000\">leaf=0.026983222</text>\n</g>\n<!-- 6&#45;&gt;13 -->\n<g id=\"edge13\" class=\"edge\">\n<title>6&#45;&gt;13</title>\n<path fill=\"none\" stroke=\"#0000ff\" d=\"M1245.3922,-86.9735C1245.3922,-75.1918 1245.3922,-59.5607 1245.3922,-46.1581\"/>\n<polygon fill=\"#0000ff\" stroke=\"#0000ff\" points=\"1248.8923,-46.0033 1245.3922,-36.0034 1241.8923,-46.0034 1248.8923,-46.0033\"/>\n<text text-anchor=\"middle\" x=\"1280.8922\" y=\"-57.8\" font-family=\"Times,serif\" font-size=\"14.00\" fill=\"#000000\">yes, missing</text>\n</g>\n<!-- 14 -->\n<g id=\"node15\" class=\"node\">\n<title>14</title>\n<ellipse fill=\"none\" stroke=\"#000000\" cx=\"1429.3922\" cy=\"-18\" rx=\"85.2851\" ry=\"18\"/>\n<text text-anchor=\"middle\" x=\"1429.3922\" y=\"-14.3\" font-family=\"Times,serif\" font-size=\"14.00\" fill=\"#000000\">leaf=0.0371174775</text>\n</g>\n<!-- 6&#45;&gt;14 -->\n<g id=\"edge14\" class=\"edge\">\n<title>6&#45;&gt;14</title>\n<path fill=\"none\" stroke=\"#ff0000\" d=\"M1274.5475,-91.2146C1304.2803,-77.1561 1350.7881,-55.166 1385.0795,-38.9522\"/>\n<polygon fill=\"#ff0000\" stroke=\"#ff0000\" points=\"1386.8592,-41.9823 1394.4035,-34.5436 1383.867,-35.654 1386.8592,-41.9823\"/>\n<text text-anchor=\"middle\" x=\"1356.3922\" y=\"-57.8\" font-family=\"Times,serif\" font-size=\"14.00\" fill=\"#000000\">no</text>\n</g>\n</g>\n</svg>\n"
          },
          "metadata": {},
          "execution_count": 13
        }
      ]
    },
    {
      "cell_type": "code",
      "source": [
        "dot_data = xgb.to_graphviz(xgbr)\n",
        "graph = graphviz.Source(dot_data)\n",
        "graph"
      ],
      "metadata": {
        "colab": {
          "base_uri": "https://localhost:8080/",
          "height": 427
        },
        "id": "QsGj3FtFW4DA",
        "outputId": "3fbddeb1-dfc0-418b-aeb6-cee4955f0800"
      },
      "execution_count": null,
      "outputs": [
        {
          "output_type": "execute_result",
          "data": {
            "text/plain": [
              "<graphviz.files.Source at 0x7f03c7016750>"
            ],
            "image/svg+xml": "<?xml version=\"1.0\" encoding=\"UTF-8\" standalone=\"no\"?>\n<!DOCTYPE svg PUBLIC \"-//W3C//DTD SVG 1.1//EN\"\n \"http://www.w3.org/Graphics/SVG/1.1/DTD/svg11.dtd\">\n<!-- Generated by graphviz version 2.40.1 (20161225.0304)\n -->\n<!-- Title: %3 Pages: 1 -->\n<svg width=\"1523pt\" height=\"305pt\"\n viewBox=\"0.00 0.00 1522.53 305.00\" xmlns=\"http://www.w3.org/2000/svg\" xmlns:xlink=\"http://www.w3.org/1999/xlink\">\n<g id=\"graph0\" class=\"graph\" transform=\"scale(1 1) rotate(0) translate(4 301)\">\n<title>%3</title>\n<polygon fill=\"#ffffff\" stroke=\"transparent\" points=\"-4,4 -4,-301 1518.5346,-301 1518.5346,4 -4,4\"/>\n<!-- 0 -->\n<g id=\"node1\" class=\"node\">\n<title>0</title>\n<ellipse fill=\"none\" stroke=\"#000000\" cx=\"728.3922\" cy=\"-279\" rx=\"112.3801\" ry=\"18\"/>\n<text text-anchor=\"middle\" x=\"728.3922\" y=\"-275.3\" font-family=\"Times,serif\" font-size=\"14.00\" fill=\"#000000\">walkDistance&lt;832.049988</text>\n</g>\n<!-- 1 -->\n<g id=\"node2\" class=\"node\">\n<title>1</title>\n<ellipse fill=\"none\" stroke=\"#000000\" cx=\"557.3922\" cy=\"-192\" rx=\"112.3801\" ry=\"18\"/>\n<text text-anchor=\"middle\" x=\"557.3922\" y=\"-188.3\" font-family=\"Times,serif\" font-size=\"14.00\" fill=\"#000000\">walkDistance&lt;206.649994</text>\n</g>\n<!-- 0&#45;&gt;1 -->\n<g id=\"edge1\" class=\"edge\">\n<title>0&#45;&gt;1</title>\n<path fill=\"none\" stroke=\"#0000ff\" d=\"M694.6081,-261.8116C667.6448,-248.0935 629.6903,-228.7832 600.5313,-213.948\"/>\n<polygon fill=\"#0000ff\" stroke=\"#0000ff\" points=\"601.8982,-210.7165 591.3983,-209.3014 598.724,-216.9555 601.8982,-210.7165\"/>\n<text text-anchor=\"middle\" x=\"688.8922\" y=\"-231.8\" font-family=\"Times,serif\" font-size=\"14.00\" fill=\"#000000\">yes, missing</text>\n</g>\n<!-- 2 -->\n<g id=\"node3\" class=\"node\">\n<title>2</title>\n<ellipse fill=\"none\" stroke=\"#000000\" cx=\"939.3922\" cy=\"-192\" rx=\"92.8835\" ry=\"18\"/>\n<text text-anchor=\"middle\" x=\"939.3922\" y=\"-188.3\" font-family=\"Times,serif\" font-size=\"14.00\" fill=\"#000000\">walkDistance&lt;1849.5</text>\n</g>\n<!-- 0&#45;&gt;2 -->\n<g id=\"edge2\" class=\"edge\">\n<title>0&#45;&gt;2</title>\n<path fill=\"none\" stroke=\"#ff0000\" d=\"M769.3253,-262.1224C803.8693,-247.8791 853.4194,-227.4485 890.1312,-212.3114\"/>\n<polygon fill=\"#ff0000\" stroke=\"#ff0000\" points=\"891.7348,-215.4361 899.6456,-208.3884 889.0665,-208.9646 891.7348,-215.4361\"/>\n<text text-anchor=\"middle\" x=\"855.3922\" y=\"-231.8\" font-family=\"Times,serif\" font-size=\"14.00\" fill=\"#000000\">no</text>\n</g>\n<!-- 3 -->\n<g id=\"node4\" class=\"node\">\n<title>3</title>\n<ellipse fill=\"none\" stroke=\"#000000\" cx=\"283.3922\" cy=\"-105\" rx=\"112.3801\" ry=\"18\"/>\n<text text-anchor=\"middle\" x=\"283.3922\" y=\"-101.3\" font-family=\"Times,serif\" font-size=\"14.00\" fill=\"#000000\">walkDistance&lt;76.4349976</text>\n</g>\n<!-- 1&#45;&gt;3 -->\n<g id=\"edge3\" class=\"edge\">\n<title>1&#45;&gt;3</title>\n<path fill=\"none\" stroke=\"#0000ff\" d=\"M506.497,-175.8399C460.4544,-161.2205 392.5913,-139.6727 343.8115,-124.1842\"/>\n<polygon fill=\"#0000ff\" stroke=\"#0000ff\" points=\"344.6051,-120.7641 334.0148,-121.0736 342.4866,-127.4358 344.6051,-120.7641\"/>\n<text text-anchor=\"middle\" x=\"472.8922\" y=\"-144.8\" font-family=\"Times,serif\" font-size=\"14.00\" fill=\"#000000\">yes, missing</text>\n</g>\n<!-- 4 -->\n<g id=\"node5\" class=\"node\">\n<title>4</title>\n<ellipse fill=\"none\" stroke=\"#000000\" cx=\"557.3922\" cy=\"-105\" rx=\"112.3801\" ry=\"18\"/>\n<text text-anchor=\"middle\" x=\"557.3922\" y=\"-101.3\" font-family=\"Times,serif\" font-size=\"14.00\" fill=\"#000000\">walkDistance&lt;440.650024</text>\n</g>\n<!-- 1&#45;&gt;4 -->\n<g id=\"edge4\" class=\"edge\">\n<title>1&#45;&gt;4</title>\n<path fill=\"none\" stroke=\"#ff0000\" d=\"M557.3922,-173.9735C557.3922,-162.1918 557.3922,-146.5607 557.3922,-133.1581\"/>\n<polygon fill=\"#ff0000\" stroke=\"#ff0000\" points=\"560.8923,-133.0033 557.3922,-123.0034 553.8923,-133.0034 560.8923,-133.0033\"/>\n<text text-anchor=\"middle\" x=\"565.3922\" y=\"-144.8\" font-family=\"Times,serif\" font-size=\"14.00\" fill=\"#000000\">no</text>\n</g>\n<!-- 5 -->\n<g id=\"node10\" class=\"node\">\n<title>5</title>\n<ellipse fill=\"none\" stroke=\"#000000\" cx=\"939.3922\" cy=\"-105\" rx=\"92.8835\" ry=\"18\"/>\n<text text-anchor=\"middle\" x=\"939.3922\" y=\"-101.3\" font-family=\"Times,serif\" font-size=\"14.00\" fill=\"#000000\">walkDistance&lt;1302.5</text>\n</g>\n<!-- 2&#45;&gt;5 -->\n<g id=\"edge9\" class=\"edge\">\n<title>2&#45;&gt;5</title>\n<path fill=\"none\" stroke=\"#0000ff\" d=\"M939.3922,-173.9735C939.3922,-162.1918 939.3922,-146.5607 939.3922,-133.1581\"/>\n<polygon fill=\"#0000ff\" stroke=\"#0000ff\" points=\"942.8923,-133.0033 939.3922,-123.0034 935.8923,-133.0034 942.8923,-133.0033\"/>\n<text text-anchor=\"middle\" x=\"974.8922\" y=\"-144.8\" font-family=\"Times,serif\" font-size=\"14.00\" fill=\"#000000\">yes, missing</text>\n</g>\n<!-- 6 -->\n<g id=\"node11\" class=\"node\">\n<title>6</title>\n<ellipse fill=\"none\" stroke=\"#000000\" cx=\"1245.3922\" cy=\"-105\" rx=\"44.6926\" ry=\"18\"/>\n<text text-anchor=\"middle\" x=\"1245.3922\" y=\"-101.3\" font-family=\"Times,serif\" font-size=\"14.00\" fill=\"#000000\">boosts&lt;3</text>\n</g>\n<!-- 2&#45;&gt;6 -->\n<g id=\"edge10\" class=\"edge\">\n<title>2&#45;&gt;6</title>\n<path fill=\"none\" stroke=\"#ff0000\" d=\"M991.9954,-177.0442C1050.0682,-160.5333 1142.6901,-134.1996 1198.4103,-118.3576\"/>\n<polygon fill=\"#ff0000\" stroke=\"#ff0000\" points=\"1199.7068,-121.6278 1208.3684,-115.5264 1197.7924,-114.8946 1199.7068,-121.6278\"/>\n<text text-anchor=\"middle\" x=\"1119.3922\" y=\"-144.8\" font-family=\"Times,serif\" font-size=\"14.00\" fill=\"#000000\">no</text>\n</g>\n<!-- 7 -->\n<g id=\"node6\" class=\"node\">\n<title>7</title>\n<ellipse fill=\"none\" stroke=\"#000000\" cx=\"88.3922\" cy=\"-18\" rx=\"88.2844\" ry=\"18\"/>\n<text text-anchor=\"middle\" x=\"88.3922\" y=\"-14.3\" font-family=\"Times,serif\" font-size=\"14.00\" fill=\"#000000\">leaf=&#45;0.0389151461</text>\n</g>\n<!-- 3&#45;&gt;7 -->\n<g id=\"edge5\" class=\"edge\">\n<title>3&#45;&gt;7</title>\n<path fill=\"none\" stroke=\"#0000ff\" d=\"M245.3313,-88.019C213.6206,-73.8712 168.3453,-53.6714 134.5665,-38.6009\"/>\n<polygon fill=\"#0000ff\" stroke=\"#0000ff\" points=\"135.9233,-35.3737 125.3649,-34.4955 133.0711,-41.7663 135.9233,-35.3737\"/>\n<text text-anchor=\"middle\" x=\"233.8922\" y=\"-57.8\" font-family=\"Times,serif\" font-size=\"14.00\" fill=\"#000000\">yes, missing</text>\n</g>\n<!-- 8 -->\n<g id=\"node7\" class=\"node\">\n<title>8</title>\n<ellipse fill=\"none\" stroke=\"#000000\" cx=\"283.3922\" cy=\"-18\" rx=\"88.2844\" ry=\"18\"/>\n<text text-anchor=\"middle\" x=\"283.3922\" y=\"-14.3\" font-family=\"Times,serif\" font-size=\"14.00\" fill=\"#000000\">leaf=&#45;0.0292954743</text>\n</g>\n<!-- 3&#45;&gt;8 -->\n<g id=\"edge6\" class=\"edge\">\n<title>3&#45;&gt;8</title>\n<path fill=\"none\" stroke=\"#ff0000\" d=\"M283.3922,-86.9735C283.3922,-75.1918 283.3922,-59.5607 283.3922,-46.1581\"/>\n<polygon fill=\"#ff0000\" stroke=\"#ff0000\" points=\"286.8923,-46.0033 283.3922,-36.0034 279.8923,-46.0034 286.8923,-46.0033\"/>\n<text text-anchor=\"middle\" x=\"291.3922\" y=\"-57.8\" font-family=\"Times,serif\" font-size=\"14.00\" fill=\"#000000\">no</text>\n</g>\n<!-- 9 -->\n<g id=\"node8\" class=\"node\">\n<title>9</title>\n<ellipse fill=\"none\" stroke=\"#000000\" cx=\"473.3922\" cy=\"-18\" rx=\"83.3857\" ry=\"18\"/>\n<text text-anchor=\"middle\" x=\"473.3922\" y=\"-14.3\" font-family=\"Times,serif\" font-size=\"14.00\" fill=\"#000000\">leaf=&#45;0.018835159</text>\n</g>\n<!-- 4&#45;&gt;9 -->\n<g id=\"edge7\" class=\"edge\">\n<title>4&#45;&gt;9</title>\n<path fill=\"none\" stroke=\"#0000ff\" d=\"M539.9873,-86.9735C527.7423,-74.2912 511.1908,-57.1486 497.6523,-43.1265\"/>\n<polygon fill=\"#0000ff\" stroke=\"#0000ff\" points=\"499.9512,-40.4686 490.4873,-35.7057 494.9154,-45.3308 499.9512,-40.4686\"/>\n<text text-anchor=\"middle\" x=\"556.8922\" y=\"-57.8\" font-family=\"Times,serif\" font-size=\"14.00\" fill=\"#000000\">yes, missing</text>\n</g>\n<!-- 10 -->\n<g id=\"node9\" class=\"node\">\n<title>10</title>\n<ellipse fill=\"none\" stroke=\"#000000\" cx=\"667.3922\" cy=\"-18\" rx=\"92.8835\" ry=\"18\"/>\n<text text-anchor=\"middle\" x=\"667.3922\" y=\"-14.3\" font-family=\"Times,serif\" font-size=\"14.00\" fill=\"#000000\">leaf=&#45;0.00763717527</text>\n</g>\n<!-- 4&#45;&gt;10 -->\n<g id=\"edge8\" class=\"edge\">\n<title>4&#45;&gt;10</title>\n<path fill=\"none\" stroke=\"#ff0000\" d=\"M579.9177,-87.1843C596.488,-74.0788 619.1852,-56.1274 637.3068,-41.7948\"/>\n<polygon fill=\"#ff0000\" stroke=\"#ff0000\" points=\"639.6004,-44.4432 645.2726,-35.4946 635.258,-38.9528 639.6004,-44.4432\"/>\n<text text-anchor=\"middle\" x=\"627.3922\" y=\"-57.8\" font-family=\"Times,serif\" font-size=\"14.00\" fill=\"#000000\">no</text>\n</g>\n<!-- 11 -->\n<g id=\"node12\" class=\"node\">\n<title>11</title>\n<ellipse fill=\"none\" stroke=\"#000000\" cx=\"868.3922\" cy=\"-18\" rx=\"90.1842\" ry=\"18\"/>\n<text text-anchor=\"middle\" x=\"868.3922\" y=\"-14.3\" font-family=\"Times,serif\" font-size=\"14.00\" fill=\"#000000\">leaf=0.00483553065</text>\n</g>\n<!-- 5&#45;&gt;11 -->\n<g id=\"edge11\" class=\"edge\">\n<title>5&#45;&gt;11</title>\n<path fill=\"none\" stroke=\"#0000ff\" d=\"M924.6809,-86.9735C914.4947,-74.4919 900.7828,-57.6899 889.4427,-43.7944\"/>\n<polygon fill=\"#0000ff\" stroke=\"#0000ff\" points=\"892.1189,-41.5379 883.0846,-36.0034 886.6956,-45.9638 892.1189,-41.5379\"/>\n<text text-anchor=\"middle\" x=\"943.8922\" y=\"-57.8\" font-family=\"Times,serif\" font-size=\"14.00\" fill=\"#000000\">yes, missing</text>\n</g>\n<!-- 12 -->\n<g id=\"node13\" class=\"node\">\n<title>12</title>\n<ellipse fill=\"none\" stroke=\"#000000\" cx=\"1061.3922\" cy=\"-18\" rx=\"85.2851\" ry=\"18\"/>\n<text text-anchor=\"middle\" x=\"1061.3922\" y=\"-14.3\" font-family=\"Times,serif\" font-size=\"14.00\" fill=\"#000000\">leaf=0.0160370786</text>\n</g>\n<!-- 5&#45;&gt;12 -->\n<g id=\"edge12\" class=\"edge\">\n<title>5&#45;&gt;12</title>\n<path fill=\"none\" stroke=\"#ff0000\" d=\"M963.7875,-87.6033C982.4059,-74.3263 1008.2438,-55.9008 1028.6588,-41.3427\"/>\n<polygon fill=\"#ff0000\" stroke=\"#ff0000\" points=\"1030.9294,-44.0223 1037.0391,-35.3665 1026.8651,-38.323 1030.9294,-44.0223\"/>\n<text text-anchor=\"middle\" x=\"1016.3922\" y=\"-57.8\" font-family=\"Times,serif\" font-size=\"14.00\" fill=\"#000000\">no</text>\n</g>\n<!-- 13 -->\n<g id=\"node14\" class=\"node\">\n<title>13</title>\n<ellipse fill=\"none\" stroke=\"#000000\" cx=\"1245.3922\" cy=\"-18\" rx=\"80.6858\" ry=\"18\"/>\n<text text-anchor=\"middle\" x=\"1245.3922\" y=\"-14.3\" font-family=\"Times,serif\" font-size=\"14.00\" fill=\"#000000\">leaf=0.026983222</text>\n</g>\n<!-- 6&#45;&gt;13 -->\n<g id=\"edge13\" class=\"edge\">\n<title>6&#45;&gt;13</title>\n<path fill=\"none\" stroke=\"#0000ff\" d=\"M1245.3922,-86.9735C1245.3922,-75.1918 1245.3922,-59.5607 1245.3922,-46.1581\"/>\n<polygon fill=\"#0000ff\" stroke=\"#0000ff\" points=\"1248.8923,-46.0033 1245.3922,-36.0034 1241.8923,-46.0034 1248.8923,-46.0033\"/>\n<text text-anchor=\"middle\" x=\"1280.8922\" y=\"-57.8\" font-family=\"Times,serif\" font-size=\"14.00\" fill=\"#000000\">yes, missing</text>\n</g>\n<!-- 14 -->\n<g id=\"node15\" class=\"node\">\n<title>14</title>\n<ellipse fill=\"none\" stroke=\"#000000\" cx=\"1429.3922\" cy=\"-18\" rx=\"85.2851\" ry=\"18\"/>\n<text text-anchor=\"middle\" x=\"1429.3922\" y=\"-14.3\" font-family=\"Times,serif\" font-size=\"14.00\" fill=\"#000000\">leaf=0.0371174775</text>\n</g>\n<!-- 6&#45;&gt;14 -->\n<g id=\"edge14\" class=\"edge\">\n<title>6&#45;&gt;14</title>\n<path fill=\"none\" stroke=\"#ff0000\" d=\"M1274.5475,-91.2146C1304.2803,-77.1561 1350.7881,-55.166 1385.0795,-38.9522\"/>\n<polygon fill=\"#ff0000\" stroke=\"#ff0000\" points=\"1386.8592,-41.9823 1394.4035,-34.5436 1383.867,-35.654 1386.8592,-41.9823\"/>\n<text text-anchor=\"middle\" x=\"1356.3922\" y=\"-57.8\" font-family=\"Times,serif\" font-size=\"14.00\" fill=\"#000000\">no</text>\n</g>\n</g>\n</svg>\n"
          },
          "metadata": {},
          "execution_count": 19
        }
      ]
    },
    {
      "cell_type": "code",
      "source": [
        "dot_data = xgb.to_graphviz(xgbr)\n",
        "graph = graphviz.Source(dot_data)\n",
        "graph"
      ],
      "metadata": {
        "colab": {
          "base_uri": "https://localhost:8080/",
          "height": 679
        },
        "id": "tN7YmKPEcLD3",
        "outputId": "9807c38d-df9d-4b05-8454-81f697c1c31e"
      },
      "execution_count": null,
      "outputs": [
        {
          "output_type": "execute_result",
          "data": {
            "text/plain": [
              "<graphviz.files.Source at 0x7f03cf005650>"
            ],
            "image/svg+xml": "<?xml version=\"1.0\" encoding=\"UTF-8\" standalone=\"no\"?>\n<!DOCTYPE svg PUBLIC \"-//W3C//DTD SVG 1.1//EN\"\n \"http://www.w3.org/Graphics/SVG/1.1/DTD/svg11.dtd\">\n<!-- Generated by graphviz version 2.40.1 (20161225.0304)\n -->\n<!-- Title: %3 Pages: 1 -->\n<svg width=\"6168pt\" height=\"479pt\"\n viewBox=\"0.00 0.00 6167.53 479.00\" xmlns=\"http://www.w3.org/2000/svg\" xmlns:xlink=\"http://www.w3.org/1999/xlink\">\n<g id=\"graph0\" class=\"graph\" transform=\"scale(1 1) rotate(0) translate(4 475)\">\n<title>%3</title>\n<polygon fill=\"#ffffff\" stroke=\"transparent\" points=\"-4,4 -4,-475 6163.5346,-475 6163.5346,4 -4,4\"/>\n<!-- 0 -->\n<g id=\"node1\" class=\"node\">\n<title>0</title>\n<ellipse fill=\"none\" stroke=\"#000000\" cx=\"3103.3922\" cy=\"-453\" rx=\"112.3801\" ry=\"18\"/>\n<text text-anchor=\"middle\" x=\"3103.3922\" y=\"-449.3\" font-family=\"Times,serif\" font-size=\"14.00\" fill=\"#000000\">walkDistance&lt;832.049988</text>\n</g>\n<!-- 1 -->\n<g id=\"node2\" class=\"node\">\n<title>1</title>\n<ellipse fill=\"none\" stroke=\"#000000\" cx=\"2327.3922\" cy=\"-366\" rx=\"112.3801\" ry=\"18\"/>\n<text text-anchor=\"middle\" x=\"2327.3922\" y=\"-362.3\" font-family=\"Times,serif\" font-size=\"14.00\" fill=\"#000000\">walkDistance&lt;206.649994</text>\n</g>\n<!-- 0&#45;&gt;1 -->\n<g id=\"edge1\" class=\"edge\">\n<title>0&#45;&gt;1</title>\n<path fill=\"none\" stroke=\"#0000ff\" d=\"M3010.9437,-442.6353C2864.8984,-426.2617 2581.8179,-394.5245 2429.8009,-377.4814\"/>\n<polygon fill=\"#0000ff\" stroke=\"#0000ff\" points=\"2429.8608,-373.9663 2419.5331,-376.3302 2429.0808,-380.9227 2429.8608,-373.9663\"/>\n<text text-anchor=\"middle\" x=\"2797.8922\" y=\"-405.8\" font-family=\"Times,serif\" font-size=\"14.00\" fill=\"#000000\">yes, missing</text>\n</g>\n<!-- 2 -->\n<g id=\"node3\" class=\"node\">\n<title>2</title>\n<ellipse fill=\"none\" stroke=\"#000000\" cx=\"3878.3922\" cy=\"-366\" rx=\"92.8835\" ry=\"18\"/>\n<text text-anchor=\"middle\" x=\"3878.3922\" y=\"-362.3\" font-family=\"Times,serif\" font-size=\"14.00\" fill=\"#000000\">walkDistance&lt;1849.5</text>\n</g>\n<!-- 0&#45;&gt;2 -->\n<g id=\"edge2\" class=\"edge\">\n<title>0&#45;&gt;2</title>\n<path fill=\"none\" stroke=\"#ff0000\" d=\"M3195.7215,-442.6353C3345.404,-425.8322 3639.2181,-392.8492 3787.786,-376.1713\"/>\n<polygon fill=\"#ff0000\" stroke=\"#ff0000\" points=\"3788.2463,-379.6417 3797.7934,-375.0479 3787.4653,-372.6854 3788.2463,-379.6417\"/>\n<text text-anchor=\"middle\" x=\"3545.3922\" y=\"-405.8\" font-family=\"Times,serif\" font-size=\"14.00\" fill=\"#000000\">no</text>\n</g>\n<!-- 3 -->\n<g id=\"node4\" class=\"node\">\n<title>3</title>\n<ellipse fill=\"none\" stroke=\"#000000\" cx=\"1148.3922\" cy=\"-279\" rx=\"112.3801\" ry=\"18\"/>\n<text text-anchor=\"middle\" x=\"1148.3922\" y=\"-275.3\" font-family=\"Times,serif\" font-size=\"14.00\" fill=\"#000000\">walkDistance&lt;76.4349976</text>\n</g>\n<!-- 1&#45;&gt;3 -->\n<g id=\"edge3\" class=\"edge\">\n<title>1&#45;&gt;3</title>\n<path fill=\"none\" stroke=\"#0000ff\" d=\"M2225.0827,-358.4504C2005.2616,-342.2295 1489.3388,-304.1589 1260.7776,-287.2931\"/>\n<polygon fill=\"#0000ff\" stroke=\"#0000ff\" points=\"1261.007,-283.8006 1250.7765,-286.5551 1260.4918,-290.7816 1261.007,-283.8006\"/>\n<text text-anchor=\"middle\" x=\"1844.8922\" y=\"-318.8\" font-family=\"Times,serif\" font-size=\"14.00\" fill=\"#000000\">yes, missing</text>\n</g>\n<!-- 4 -->\n<g id=\"node5\" class=\"node\">\n<title>4</title>\n<ellipse fill=\"none\" stroke=\"#000000\" cx=\"2327.3922\" cy=\"-279\" rx=\"112.3801\" ry=\"18\"/>\n<text text-anchor=\"middle\" x=\"2327.3922\" y=\"-275.3\" font-family=\"Times,serif\" font-size=\"14.00\" fill=\"#000000\">walkDistance&lt;440.650024</text>\n</g>\n<!-- 1&#45;&gt;4 -->\n<g id=\"edge4\" class=\"edge\">\n<title>1&#45;&gt;4</title>\n<path fill=\"none\" stroke=\"#ff0000\" d=\"M2327.3922,-347.9735C2327.3922,-336.1918 2327.3922,-320.5607 2327.3922,-307.1581\"/>\n<polygon fill=\"#ff0000\" stroke=\"#ff0000\" points=\"2330.8923,-307.0033 2327.3922,-297.0034 2323.8923,-307.0034 2330.8923,-307.0033\"/>\n<text text-anchor=\"middle\" x=\"2335.3922\" y=\"-318.8\" font-family=\"Times,serif\" font-size=\"14.00\" fill=\"#000000\">no</text>\n</g>\n<!-- 5 -->\n<g id=\"node34\" class=\"node\">\n<title>5</title>\n<ellipse fill=\"none\" stroke=\"#000000\" cx=\"3878.3922\" cy=\"-279\" rx=\"92.8835\" ry=\"18\"/>\n<text text-anchor=\"middle\" x=\"3878.3922\" y=\"-275.3\" font-family=\"Times,serif\" font-size=\"14.00\" fill=\"#000000\">walkDistance&lt;1302.5</text>\n</g>\n<!-- 2&#45;&gt;5 -->\n<g id=\"edge33\" class=\"edge\">\n<title>2&#45;&gt;5</title>\n<path fill=\"none\" stroke=\"#0000ff\" d=\"M3878.3922,-347.9735C3878.3922,-336.1918 3878.3922,-320.5607 3878.3922,-307.1581\"/>\n<polygon fill=\"#0000ff\" stroke=\"#0000ff\" points=\"3881.8923,-307.0033 3878.3922,-297.0034 3874.8923,-307.0034 3881.8923,-307.0033\"/>\n<text text-anchor=\"middle\" x=\"3913.8922\" y=\"-318.8\" font-family=\"Times,serif\" font-size=\"14.00\" fill=\"#000000\">yes, missing</text>\n</g>\n<!-- 6 -->\n<g id=\"node35\" class=\"node\">\n<title>6</title>\n<ellipse fill=\"none\" stroke=\"#000000\" cx=\"5041.3922\" cy=\"-279\" rx=\"44.6926\" ry=\"18\"/>\n<text text-anchor=\"middle\" x=\"5041.3922\" y=\"-275.3\" font-family=\"Times,serif\" font-size=\"14.00\" fill=\"#000000\">boosts&lt;3</text>\n</g>\n<!-- 2&#45;&gt;6 -->\n<g id=\"edge34\" class=\"edge\">\n<title>2&#45;&gt;6</title>\n<path fill=\"none\" stroke=\"#ff0000\" d=\"M3965.3306,-359.4964C4193.056,-342.4611 4802.1223,-296.8989 4987.2634,-283.0492\"/>\n<polygon fill=\"#ff0000\" stroke=\"#ff0000\" points=\"4987.5929,-286.5344 4997.3039,-282.2981 4987.0706,-279.5539 4987.5929,-286.5344\"/>\n<text text-anchor=\"middle\" x=\"4538.3922\" y=\"-318.8\" font-family=\"Times,serif\" font-size=\"14.00\" fill=\"#000000\">no</text>\n</g>\n<!-- 7 -->\n<g id=\"node6\" class=\"node\">\n<title>7</title>\n<ellipse fill=\"none\" stroke=\"#000000\" cx=\"610.3922\" cy=\"-192\" rx=\"128.8774\" ry=\"18\"/>\n<text text-anchor=\"middle\" x=\"610.3922\" y=\"-188.3\" font-family=\"Times,serif\" font-size=\"14.00\" fill=\"#000000\">walkDistance&lt;4.99999987e&#45;05</text>\n</g>\n<!-- 3&#45;&gt;7 -->\n<g id=\"edge5\" class=\"edge\">\n<title>3&#45;&gt;7</title>\n<path fill=\"none\" stroke=\"#0000ff\" d=\"M1069.0084,-266.1629C972.1245,-250.4957 808.4725,-224.0316 705.1072,-207.3164\"/>\n<polygon fill=\"#0000ff\" stroke=\"#0000ff\" points=\"705.4168,-203.8211 694.9863,-205.6797 704.2993,-210.7313 705.4168,-203.8211\"/>\n<text text-anchor=\"middle\" x=\"947.8922\" y=\"-231.8\" font-family=\"Times,serif\" font-size=\"14.00\" fill=\"#000000\">yes, missing</text>\n</g>\n<!-- 8 -->\n<g id=\"node7\" class=\"node\">\n<title>8</title>\n<ellipse fill=\"none\" stroke=\"#000000\" cx=\"1148.3922\" cy=\"-192\" rx=\"90.9839\" ry=\"18\"/>\n<text text-anchor=\"middle\" x=\"1148.3922\" y=\"-188.3\" font-family=\"Times,serif\" font-size=\"14.00\" fill=\"#000000\">matchDuration&lt;1573</text>\n</g>\n<!-- 3&#45;&gt;8 -->\n<g id=\"edge6\" class=\"edge\">\n<title>3&#45;&gt;8</title>\n<path fill=\"none\" stroke=\"#ff0000\" d=\"M1148.3922,-260.9735C1148.3922,-249.1918 1148.3922,-233.5607 1148.3922,-220.1581\"/>\n<polygon fill=\"#ff0000\" stroke=\"#ff0000\" points=\"1151.8923,-220.0033 1148.3922,-210.0034 1144.8923,-220.0034 1151.8923,-220.0033\"/>\n<text text-anchor=\"middle\" x=\"1156.3922\" y=\"-231.8\" font-family=\"Times,serif\" font-size=\"14.00\" fill=\"#000000\">no</text>\n</g>\n<!-- 9 -->\n<g id=\"node20\" class=\"node\">\n<title>9</title>\n<ellipse fill=\"none\" stroke=\"#000000\" cx=\"2166.3922\" cy=\"-192\" rx=\"90.9839\" ry=\"18\"/>\n<text text-anchor=\"middle\" x=\"2166.3922\" y=\"-188.3\" font-family=\"Times,serif\" font-size=\"14.00\" fill=\"#000000\">matchDuration&lt;1568</text>\n</g>\n<!-- 4&#45;&gt;9 -->\n<g id=\"edge19\" class=\"edge\">\n<title>4&#45;&gt;9</title>\n<path fill=\"none\" stroke=\"#0000ff\" d=\"M2295.1984,-261.6033C2269.7227,-247.837 2234.0044,-228.5358 2206.641,-213.7494\"/>\n<polygon fill=\"#0000ff\" stroke=\"#0000ff\" points=\"2208.17,-210.5973 2197.7084,-208.9224 2204.8421,-216.7557 2208.17,-210.5973\"/>\n<text text-anchor=\"middle\" x=\"2292.8922\" y=\"-231.8\" font-family=\"Times,serif\" font-size=\"14.00\" fill=\"#000000\">yes, missing</text>\n</g>\n<!-- 10 -->\n<g id=\"node21\" class=\"node\">\n<title>10</title>\n<ellipse fill=\"none\" stroke=\"#000000\" cx=\"2565.3922\" cy=\"-192\" rx=\"90.9839\" ry=\"18\"/>\n<text text-anchor=\"middle\" x=\"2565.3922\" y=\"-188.3\" font-family=\"Times,serif\" font-size=\"14.00\" fill=\"#000000\">matchDuration&lt;1568</text>\n</g>\n<!-- 4&#45;&gt;10 -->\n<g id=\"edge20\" class=\"edge\">\n<title>4&#45;&gt;10</title>\n<path fill=\"none\" stroke=\"#ff0000\" d=\"M2372.7183,-262.4312C2412.5077,-247.8863 2470.4142,-226.7188 2512.3484,-211.3899\"/>\n<polygon fill=\"#ff0000\" stroke=\"#ff0000\" points=\"2513.6505,-214.6406 2521.841,-207.92 2511.2471,-208.066 2513.6505,-214.6406\"/>\n<text text-anchor=\"middle\" x=\"2469.3922\" y=\"-231.8\" font-family=\"Times,serif\" font-size=\"14.00\" fill=\"#000000\">no</text>\n</g>\n<!-- 15 -->\n<g id=\"node8\" class=\"node\">\n<title>15</title>\n<ellipse fill=\"none\" stroke=\"#000000\" cx=\"283.3922\" cy=\"-105\" rx=\"133.7763\" ry=\"18\"/>\n<text text-anchor=\"middle\" x=\"283.3922\" y=\"-101.3\" font-family=\"Times,serif\" font-size=\"14.00\" fill=\"#000000\">swimDistance&lt;0.000149999993</text>\n</g>\n<!-- 7&#45;&gt;15 -->\n<g id=\"edge7\" class=\"edge\">\n<title>7&#45;&gt;15</title>\n<path fill=\"none\" stroke=\"#0000ff\" d=\"M550.4153,-176.0429C494.9021,-161.2733 412.3404,-139.3073 353.7387,-123.7161\"/>\n<polygon fill=\"#0000ff\" stroke=\"#0000ff\" points=\"354.3824,-120.2656 343.8186,-121.0768 352.5825,-127.0303 354.3824,-120.2656\"/>\n<text text-anchor=\"middle\" x=\"502.8922\" y=\"-144.8\" font-family=\"Times,serif\" font-size=\"14.00\" fill=\"#000000\">yes, missing</text>\n</g>\n<!-- 16 -->\n<g id=\"node9\" class=\"node\">\n<title>16</title>\n<ellipse fill=\"none\" stroke=\"#000000\" cx=\"610.3922\" cy=\"-105\" rx=\"111.5806\" ry=\"18\"/>\n<text text-anchor=\"middle\" x=\"610.3922\" y=\"-101.3\" font-family=\"Times,serif\" font-size=\"14.00\" fill=\"#000000\">walkDistance&lt;42.1149979</text>\n</g>\n<!-- 7&#45;&gt;16 -->\n<g id=\"edge8\" class=\"edge\">\n<title>7&#45;&gt;16</title>\n<path fill=\"none\" stroke=\"#ff0000\" d=\"M610.3922,-173.9735C610.3922,-162.1918 610.3922,-146.5607 610.3922,-133.1581\"/>\n<polygon fill=\"#ff0000\" stroke=\"#ff0000\" points=\"613.8923,-133.0033 610.3922,-123.0034 606.8923,-133.0034 613.8923,-133.0033\"/>\n<text text-anchor=\"middle\" x=\"618.3922\" y=\"-144.8\" font-family=\"Times,serif\" font-size=\"14.00\" fill=\"#000000\">no</text>\n</g>\n<!-- 17 -->\n<g id=\"node14\" class=\"node\">\n<title>17</title>\n<ellipse fill=\"none\" stroke=\"#000000\" cx=\"1063.3922\" cy=\"-105\" rx=\"61.99\" ry=\"18\"/>\n<text text-anchor=\"middle\" x=\"1063.3922\" y=\"-101.3\" font-family=\"Times,serif\" font-size=\"14.00\" fill=\"#000000\">maxPlace&lt;57</text>\n</g>\n<!-- 8&#45;&gt;17 -->\n<g id=\"edge13\" class=\"edge\">\n<title>8&#45;&gt;17</title>\n<path fill=\"none\" stroke=\"#0000ff\" d=\"M1130.7801,-173.9735C1118.3073,-161.2072 1101.4188,-143.9214 1087.6693,-129.8484\"/>\n<polygon fill=\"#0000ff\" stroke=\"#0000ff\" points=\"1089.8935,-127.1166 1080.4016,-122.4097 1084.8865,-132.0085 1089.8935,-127.1166\"/>\n<text text-anchor=\"middle\" x=\"1146.8922\" y=\"-144.8\" font-family=\"Times,serif\" font-size=\"14.00\" fill=\"#000000\">yes, missing</text>\n</g>\n<!-- 18 -->\n<g id=\"node15\" class=\"node\">\n<title>18</title>\n<ellipse fill=\"none\" stroke=\"#000000\" cx=\"1258.3922\" cy=\"-105\" rx=\"70.6878\" ry=\"18\"/>\n<text text-anchor=\"middle\" x=\"1258.3922\" y=\"-101.3\" font-family=\"Times,serif\" font-size=\"14.00\" fill=\"#000000\">numGroups&lt;40</text>\n</g>\n<!-- 8&#45;&gt;18 -->\n<g id=\"edge14\" class=\"edge\">\n<title>8&#45;&gt;18</title>\n<path fill=\"none\" stroke=\"#ff0000\" d=\"M1170.6523,-174.3943C1187.311,-161.2187 1210.2702,-143.0601 1228.5242,-128.6229\"/>\n<polygon fill=\"#ff0000\" stroke=\"#ff0000\" points=\"1230.8683,-131.2313 1236.5405,-122.2827 1226.526,-125.7409 1230.8683,-131.2313\"/>\n<text text-anchor=\"middle\" x=\"1218.3922\" y=\"-144.8\" font-family=\"Times,serif\" font-size=\"14.00\" fill=\"#000000\">no</text>\n</g>\n<!-- 31 -->\n<g id=\"node10\" class=\"node\">\n<title>31</title>\n<ellipse fill=\"none\" stroke=\"#000000\" cx=\"88.3922\" cy=\"-18\" rx=\"88.2844\" ry=\"18\"/>\n<text text-anchor=\"middle\" x=\"88.3922\" y=\"-14.3\" font-family=\"Times,serif\" font-size=\"14.00\" fill=\"#000000\">leaf=&#45;0.0474237464</text>\n</g>\n<!-- 15&#45;&gt;31 -->\n<g id=\"edge9\" class=\"edge\">\n<title>15&#45;&gt;31</title>\n<path fill=\"none\" stroke=\"#0000ff\" d=\"M244.3997,-87.6033C212.8381,-73.522 168.2968,-53.6497 134.8821,-38.7417\"/>\n<polygon fill=\"#0000ff\" stroke=\"#0000ff\" points=\"135.8937,-35.3605 125.3353,-34.4823 133.0415,-41.7531 135.8937,-35.3605\"/>\n<text text-anchor=\"middle\" x=\"233.8922\" y=\"-57.8\" font-family=\"Times,serif\" font-size=\"14.00\" fill=\"#000000\">yes, missing</text>\n</g>\n<!-- 32 -->\n<g id=\"node11\" class=\"node\">\n<title>32</title>\n<ellipse fill=\"none\" stroke=\"#000000\" cx=\"283.3922\" cy=\"-18\" rx=\"88.2844\" ry=\"18\"/>\n<text text-anchor=\"middle\" x=\"283.3922\" y=\"-14.3\" font-family=\"Times,serif\" font-size=\"14.00\" fill=\"#000000\">leaf=&#45;0.0274983644</text>\n</g>\n<!-- 15&#45;&gt;32 -->\n<g id=\"edge10\" class=\"edge\">\n<title>15&#45;&gt;32</title>\n<path fill=\"none\" stroke=\"#ff0000\" d=\"M283.3922,-86.9735C283.3922,-75.1918 283.3922,-59.5607 283.3922,-46.1581\"/>\n<polygon fill=\"#ff0000\" stroke=\"#ff0000\" points=\"286.8923,-46.0033 283.3922,-36.0034 279.8923,-46.0034 286.8923,-46.0033\"/>\n<text text-anchor=\"middle\" x=\"291.3922\" y=\"-57.8\" font-family=\"Times,serif\" font-size=\"14.00\" fill=\"#000000\">no</text>\n</g>\n<!-- 33 -->\n<g id=\"node12\" class=\"node\">\n<title>33</title>\n<ellipse fill=\"none\" stroke=\"#000000\" cx=\"478.3922\" cy=\"-18\" rx=\"88.2844\" ry=\"18\"/>\n<text text-anchor=\"middle\" x=\"478.3922\" y=\"-14.3\" font-family=\"Times,serif\" font-size=\"14.00\" fill=\"#000000\">leaf=&#45;0.0389886126</text>\n</g>\n<!-- 16&#45;&gt;33 -->\n<g id=\"edge11\" class=\"edge\">\n<title>16&#45;&gt;33</title>\n<path fill=\"none\" stroke=\"#0000ff\" d=\"M583.68,-87.3943C563.3293,-73.9813 535.1433,-55.4042 513.0553,-40.8461\"/>\n<polygon fill=\"#0000ff\" stroke=\"#0000ff\" points=\"514.8898,-37.8635 504.6141,-35.2827 511.0376,-43.7082 514.8898,-37.8635\"/>\n<text text-anchor=\"middle\" x=\"587.8922\" y=\"-57.8\" font-family=\"Times,serif\" font-size=\"14.00\" fill=\"#000000\">yes, missing</text>\n</g>\n<!-- 34 -->\n<g id=\"node13\" class=\"node\">\n<title>34</title>\n<ellipse fill=\"none\" stroke=\"#000000\" cx=\"673.3922\" cy=\"-18\" rx=\"88.2844\" ry=\"18\"/>\n<text text-anchor=\"middle\" x=\"673.3922\" y=\"-14.3\" font-family=\"Times,serif\" font-size=\"14.00\" fill=\"#000000\">leaf=&#45;0.0358034484</text>\n</g>\n<!-- 16&#45;&gt;34 -->\n<g id=\"edge12\" class=\"edge\">\n<title>16&#45;&gt;34</title>\n<path fill=\"none\" stroke=\"#ff0000\" d=\"M623.4458,-86.9735C632.3998,-74.6085 644.424,-58.0036 654.4308,-44.1847\"/>\n<polygon fill=\"#ff0000\" stroke=\"#ff0000\" points=\"657.3249,-46.1556 660.3552,-36.0034 651.6553,-42.05 657.3249,-46.1556\"/>\n<text text-anchor=\"middle\" x=\"654.3922\" y=\"-57.8\" font-family=\"Times,serif\" font-size=\"14.00\" fill=\"#000000\">no</text>\n</g>\n<!-- 35 -->\n<g id=\"node16\" class=\"node\">\n<title>35</title>\n<ellipse fill=\"none\" stroke=\"#000000\" cx=\"868.3922\" cy=\"-18\" rx=\"88.2844\" ry=\"18\"/>\n<text text-anchor=\"middle\" x=\"868.3922\" y=\"-14.3\" font-family=\"Times,serif\" font-size=\"14.00\" fill=\"#000000\">leaf=&#45;0.0286551323</text>\n</g>\n<!-- 17&#45;&gt;35 -->\n<g id=\"edge15\" class=\"edge\">\n<title>17&#45;&gt;35</title>\n<path fill=\"none\" stroke=\"#0000ff\" d=\"M1029.4257,-89.8458C997.5725,-75.6343 949.6948,-54.2735 914.4195,-38.5353\"/>\n<polygon fill=\"#0000ff\" stroke=\"#0000ff\" points=\"915.8435,-35.3381 905.2851,-34.4599 912.9913,-41.7307 915.8435,-35.3381\"/>\n<text text-anchor=\"middle\" x=\"1013.8922\" y=\"-57.8\" font-family=\"Times,serif\" font-size=\"14.00\" fill=\"#000000\">yes, missing</text>\n</g>\n<!-- 36 -->\n<g id=\"node17\" class=\"node\">\n<title>36</title>\n<ellipse fill=\"none\" stroke=\"#000000\" cx=\"1063.3922\" cy=\"-18\" rx=\"88.2844\" ry=\"18\"/>\n<text text-anchor=\"middle\" x=\"1063.3922\" y=\"-14.3\" font-family=\"Times,serif\" font-size=\"14.00\" fill=\"#000000\">leaf=&#45;0.0188938957</text>\n</g>\n<!-- 17&#45;&gt;36 -->\n<g id=\"edge16\" class=\"edge\">\n<title>17&#45;&gt;36</title>\n<path fill=\"none\" stroke=\"#ff0000\" d=\"M1063.3922,-86.9735C1063.3922,-75.1918 1063.3922,-59.5607 1063.3922,-46.1581\"/>\n<polygon fill=\"#ff0000\" stroke=\"#ff0000\" points=\"1066.8923,-46.0033 1063.3922,-36.0034 1059.8923,-46.0034 1066.8923,-46.0033\"/>\n<text text-anchor=\"middle\" x=\"1071.3922\" y=\"-57.8\" font-family=\"Times,serif\" font-size=\"14.00\" fill=\"#000000\">no</text>\n</g>\n<!-- 37 -->\n<g id=\"node18\" class=\"node\">\n<title>37</title>\n<ellipse fill=\"none\" stroke=\"#000000\" cx=\"1258.3922\" cy=\"-18\" rx=\"88.2844\" ry=\"18\"/>\n<text text-anchor=\"middle\" x=\"1258.3922\" y=\"-14.3\" font-family=\"Times,serif\" font-size=\"14.00\" fill=\"#000000\">leaf=&#45;0.0359779075</text>\n</g>\n<!-- 18&#45;&gt;37 -->\n<g id=\"edge17\" class=\"edge\">\n<title>18&#45;&gt;37</title>\n<path fill=\"none\" stroke=\"#0000ff\" d=\"M1258.3922,-86.9735C1258.3922,-75.1918 1258.3922,-59.5607 1258.3922,-46.1581\"/>\n<polygon fill=\"#0000ff\" stroke=\"#0000ff\" points=\"1261.8923,-46.0033 1258.3922,-36.0034 1254.8923,-46.0034 1261.8923,-46.0033\"/>\n<text text-anchor=\"middle\" x=\"1293.8922\" y=\"-57.8\" font-family=\"Times,serif\" font-size=\"14.00\" fill=\"#000000\">yes, missing</text>\n</g>\n<!-- 38 -->\n<g id=\"node19\" class=\"node\">\n<title>38</title>\n<ellipse fill=\"none\" stroke=\"#000000\" cx=\"1453.3922\" cy=\"-18\" rx=\"88.2844\" ry=\"18\"/>\n<text text-anchor=\"middle\" x=\"1453.3922\" y=\"-14.3\" font-family=\"Times,serif\" font-size=\"14.00\" fill=\"#000000\">leaf=&#45;0.0312862508</text>\n</g>\n<!-- 18&#45;&gt;38 -->\n<g id=\"edge18\" class=\"edge\">\n<title>18&#45;&gt;38</title>\n<path fill=\"none\" stroke=\"#ff0000\" d=\"M1293.7052,-89.245C1325.507,-75.0564 1372.458,-54.1091 1407.2259,-38.5973\"/>\n<polygon fill=\"#ff0000\" stroke=\"#ff0000\" points=\"1408.9802,-41.6472 1416.6864,-34.3764 1406.128,-35.2546 1408.9802,-41.6472\"/>\n<text text-anchor=\"middle\" x=\"1376.3922\" y=\"-57.8\" font-family=\"Times,serif\" font-size=\"14.00\" fill=\"#000000\">no</text>\n</g>\n<!-- 19 -->\n<g id=\"node22\" class=\"node\">\n<title>19</title>\n<ellipse fill=\"none\" stroke=\"#000000\" cx=\"1847.3922\" cy=\"-105\" rx=\"70.6878\" ry=\"18\"/>\n<text text-anchor=\"middle\" x=\"1847.3922\" y=\"-101.3\" font-family=\"Times,serif\" font-size=\"14.00\" fill=\"#000000\">numGroups&lt;42</text>\n</g>\n<!-- 9&#45;&gt;19 -->\n<g id=\"edge21\" class=\"edge\">\n<title>9&#45;&gt;19</title>\n<path fill=\"none\" stroke=\"#0000ff\" d=\"M2112.6389,-177.34C2055.3171,-161.7068 1964.8309,-137.0288 1905.7901,-120.9267\"/>\n<polygon fill=\"#0000ff\" stroke=\"#0000ff\" points=\"1906.4401,-117.4762 1895.8715,-118.2216 1904.5982,-124.2296 1906.4401,-117.4762\"/>\n<text text-anchor=\"middle\" x=\"2061.8922\" y=\"-144.8\" font-family=\"Times,serif\" font-size=\"14.00\" fill=\"#000000\">yes, missing</text>\n</g>\n<!-- 20 -->\n<g id=\"node23\" class=\"node\">\n<title>20</title>\n<ellipse fill=\"none\" stroke=\"#000000\" cx=\"2166.3922\" cy=\"-105\" rx=\"66.8882\" ry=\"18\"/>\n<text text-anchor=\"middle\" x=\"2166.3922\" y=\"-101.3\" font-family=\"Times,serif\" font-size=\"14.00\" fill=\"#000000\">matchtype&lt;3.5</text>\n</g>\n<!-- 9&#45;&gt;20 -->\n<g id=\"edge22\" class=\"edge\">\n<title>9&#45;&gt;20</title>\n<path fill=\"none\" stroke=\"#ff0000\" d=\"M2166.3922,-173.9735C2166.3922,-162.1918 2166.3922,-146.5607 2166.3922,-133.1581\"/>\n<polygon fill=\"#ff0000\" stroke=\"#ff0000\" points=\"2169.8923,-133.0033 2166.3922,-123.0034 2162.8923,-133.0034 2169.8923,-133.0033\"/>\n<text text-anchor=\"middle\" x=\"2174.3922\" y=\"-144.8\" font-family=\"Times,serif\" font-size=\"14.00\" fill=\"#000000\">no</text>\n</g>\n<!-- 21 -->\n<g id=\"node28\" class=\"node\">\n<title>21</title>\n<ellipse fill=\"none\" stroke=\"#000000\" cx=\"2565.3922\" cy=\"-105\" rx=\"70.6878\" ry=\"18\"/>\n<text text-anchor=\"middle\" x=\"2565.3922\" y=\"-101.3\" font-family=\"Times,serif\" font-size=\"14.00\" fill=\"#000000\">numGroups&lt;42</text>\n</g>\n<!-- 10&#45;&gt;21 -->\n<g id=\"edge27\" class=\"edge\">\n<title>10&#45;&gt;21</title>\n<path fill=\"none\" stroke=\"#0000ff\" d=\"M2565.3922,-173.9735C2565.3922,-162.1918 2565.3922,-146.5607 2565.3922,-133.1581\"/>\n<polygon fill=\"#0000ff\" stroke=\"#0000ff\" points=\"2568.8923,-133.0033 2565.3922,-123.0034 2561.8923,-133.0034 2568.8923,-133.0033\"/>\n<text text-anchor=\"middle\" x=\"2600.8922\" y=\"-144.8\" font-family=\"Times,serif\" font-size=\"14.00\" fill=\"#000000\">yes, missing</text>\n</g>\n<!-- 22 -->\n<g id=\"node29\" class=\"node\">\n<title>22</title>\n<ellipse fill=\"none\" stroke=\"#000000\" cx=\"2838.3922\" cy=\"-105\" rx=\"70.6878\" ry=\"18\"/>\n<text text-anchor=\"middle\" x=\"2838.3922\" y=\"-101.3\" font-family=\"Times,serif\" font-size=\"14.00\" fill=\"#000000\">numGroups&lt;38</text>\n</g>\n<!-- 10&#45;&gt;22 -->\n<g id=\"edge28\" class=\"edge\">\n<title>10&#45;&gt;22</title>\n<path fill=\"none\" stroke=\"#ff0000\" d=\"M2613.5707,-176.6464C2661.3578,-161.4175 2734.4545,-138.123 2784.2297,-122.2606\"/>\n<polygon fill=\"#ff0000\" stroke=\"#ff0000\" points=\"2785.3942,-125.563 2793.8593,-119.1918 2783.2687,-118.8934 2785.3942,-125.563\"/>\n<text text-anchor=\"middle\" x=\"2726.3922\" y=\"-144.8\" font-family=\"Times,serif\" font-size=\"14.00\" fill=\"#000000\">no</text>\n</g>\n<!-- 39 -->\n<g id=\"node24\" class=\"node\">\n<title>39</title>\n<ellipse fill=\"none\" stroke=\"#000000\" cx=\"1648.3922\" cy=\"-18\" rx=\"88.2844\" ry=\"18\"/>\n<text text-anchor=\"middle\" x=\"1648.3922\" y=\"-14.3\" font-family=\"Times,serif\" font-size=\"14.00\" fill=\"#000000\">leaf=&#45;0.0187603831</text>\n</g>\n<!-- 19&#45;&gt;39 -->\n<g id=\"edge23\" class=\"edge\">\n<title>19&#45;&gt;39</title>\n<path fill=\"none\" stroke=\"#0000ff\" d=\"M1811.3548,-89.245C1778.7619,-74.9958 1730.5766,-53.9299 1695.0512,-38.3987\"/>\n<polygon fill=\"#0000ff\" stroke=\"#0000ff\" points=\"1696.4155,-35.1753 1685.8508,-34.3764 1693.6114,-41.5892 1696.4155,-35.1753\"/>\n<text text-anchor=\"middle\" x=\"1795.8922\" y=\"-57.8\" font-family=\"Times,serif\" font-size=\"14.00\" fill=\"#000000\">yes, missing</text>\n</g>\n<!-- 40 -->\n<g id=\"node25\" class=\"node\">\n<title>40</title>\n<ellipse fill=\"none\" stroke=\"#000000\" cx=\"1847.3922\" cy=\"-18\" rx=\"92.8835\" ry=\"18\"/>\n<text text-anchor=\"middle\" x=\"1847.3922\" y=\"-14.3\" font-family=\"Times,serif\" font-size=\"14.00\" fill=\"#000000\">leaf=&#45;0.00970115326</text>\n</g>\n<!-- 19&#45;&gt;40 -->\n<g id=\"edge24\" class=\"edge\">\n<title>19&#45;&gt;40</title>\n<path fill=\"none\" stroke=\"#ff0000\" d=\"M1847.3922,-86.9735C1847.3922,-75.1918 1847.3922,-59.5607 1847.3922,-46.1581\"/>\n<polygon fill=\"#ff0000\" stroke=\"#ff0000\" points=\"1850.8923,-46.0033 1847.3922,-36.0034 1843.8923,-46.0034 1850.8923,-46.0033\"/>\n<text text-anchor=\"middle\" x=\"1855.3922\" y=\"-57.8\" font-family=\"Times,serif\" font-size=\"14.00\" fill=\"#000000\">no</text>\n</g>\n<!-- 41 -->\n<g id=\"node26\" class=\"node\">\n<title>41</title>\n<ellipse fill=\"none\" stroke=\"#000000\" cx=\"2046.3922\" cy=\"-18\" rx=\"88.2844\" ry=\"18\"/>\n<text text-anchor=\"middle\" x=\"2046.3922\" y=\"-14.3\" font-family=\"Times,serif\" font-size=\"14.00\" fill=\"#000000\">leaf=&#45;0.0204036701</text>\n</g>\n<!-- 20&#45;&gt;41 -->\n<g id=\"edge25\" class=\"edge\">\n<title>20&#45;&gt;41</title>\n<path fill=\"none\" stroke=\"#0000ff\" d=\"M2142.9701,-88.019C2124.7075,-74.7787 2099.134,-56.2379 2078.8904,-41.5613\"/>\n<polygon fill=\"#0000ff\" stroke=\"#0000ff\" points=\"2080.7283,-38.5707 2070.5778,-35.5346 2076.6195,-44.238 2080.7283,-38.5707\"/>\n<text text-anchor=\"middle\" x=\"2149.8922\" y=\"-57.8\" font-family=\"Times,serif\" font-size=\"14.00\" fill=\"#000000\">yes, missing</text>\n</g>\n<!-- 42 -->\n<g id=\"node27\" class=\"node\">\n<title>42</title>\n<ellipse fill=\"none\" stroke=\"#000000\" cx=\"2241.3922\" cy=\"-18\" rx=\"88.2844\" ry=\"18\"/>\n<text text-anchor=\"middle\" x=\"2241.3922\" y=\"-14.3\" font-family=\"Times,serif\" font-size=\"14.00\" fill=\"#000000\">leaf=&#45;0.0288509615</text>\n</g>\n<!-- 20&#45;&gt;42 -->\n<g id=\"edge26\" class=\"edge\">\n<title>20&#45;&gt;42</title>\n<path fill=\"none\" stroke=\"#ff0000\" d=\"M2181.5695,-87.3943C2192.3753,-74.8595 2207.0691,-57.8147 2219.1897,-43.7548\"/>\n<polygon fill=\"#ff0000\" stroke=\"#ff0000\" points=\"2222.1015,-45.7376 2225.9799,-35.8782 2216.7996,-41.167 2222.1015,-45.7376\"/>\n<text text-anchor=\"middle\" x=\"2216.3922\" y=\"-57.8\" font-family=\"Times,serif\" font-size=\"14.00\" fill=\"#000000\">no</text>\n</g>\n<!-- 43 -->\n<g id=\"node30\" class=\"node\">\n<title>43</title>\n<ellipse fill=\"none\" stroke=\"#000000\" cx=\"2440.3922\" cy=\"-18\" rx=\"92.8835\" ry=\"18\"/>\n<text text-anchor=\"middle\" x=\"2440.3922\" y=\"-14.3\" font-family=\"Times,serif\" font-size=\"14.00\" fill=\"#000000\">leaf=&#45;0.00759176258</text>\n</g>\n<!-- 21&#45;&gt;43 -->\n<g id=\"edge29\" class=\"edge\">\n<title>21&#45;&gt;43</title>\n<path fill=\"none\" stroke=\"#0000ff\" d=\"M2540.9942,-88.019C2521.8858,-74.7195 2495.0936,-56.0722 2473.9625,-41.3649\"/>\n<polygon fill=\"#0000ff\" stroke=\"#0000ff\" points=\"2475.7927,-38.3745 2465.5855,-35.5346 2471.7939,-44.1199 2475.7927,-38.3745\"/>\n<text text-anchor=\"middle\" x=\"2545.8922\" y=\"-57.8\" font-family=\"Times,serif\" font-size=\"14.00\" fill=\"#000000\">yes, missing</text>\n</g>\n<!-- 44 -->\n<g id=\"node31\" class=\"node\">\n<title>44</title>\n<ellipse fill=\"none\" stroke=\"#000000\" cx=\"2641.3922\" cy=\"-18\" rx=\"90.1842\" ry=\"18\"/>\n<text text-anchor=\"middle\" x=\"2641.3922\" y=\"-14.3\" font-family=\"Times,serif\" font-size=\"14.00\" fill=\"#000000\">leaf=0.00293149496</text>\n</g>\n<!-- 21&#45;&gt;44 -->\n<g id=\"edge30\" class=\"edge\">\n<title>21&#45;&gt;44</title>\n<path fill=\"none\" stroke=\"#ff0000\" d=\"M2580.7719,-87.3943C2591.7218,-74.8595 2606.6115,-57.8147 2618.8937,-43.7548\"/>\n<polygon fill=\"#ff0000\" stroke=\"#ff0000\" points=\"2621.8314,-45.712 2625.7744,-35.8782 2616.5596,-41.1067 2621.8314,-45.712\"/>\n<text text-anchor=\"middle\" x=\"2616.3922\" y=\"-57.8\" font-family=\"Times,serif\" font-size=\"14.00\" fill=\"#000000\">no</text>\n</g>\n<!-- 45 -->\n<g id=\"node32\" class=\"node\">\n<title>45</title>\n<ellipse fill=\"none\" stroke=\"#000000\" cx=\"2838.3922\" cy=\"-18\" rx=\"88.2844\" ry=\"18\"/>\n<text text-anchor=\"middle\" x=\"2838.3922\" y=\"-14.3\" font-family=\"Times,serif\" font-size=\"14.00\" fill=\"#000000\">leaf=&#45;0.0185022131</text>\n</g>\n<!-- 22&#45;&gt;45 -->\n<g id=\"edge31\" class=\"edge\">\n<title>22&#45;&gt;45</title>\n<path fill=\"none\" stroke=\"#0000ff\" d=\"M2838.3922,-86.9735C2838.3922,-75.1918 2838.3922,-59.5607 2838.3922,-46.1581\"/>\n<polygon fill=\"#0000ff\" stroke=\"#0000ff\" points=\"2841.8923,-46.0033 2838.3922,-36.0034 2834.8923,-46.0034 2841.8923,-46.0033\"/>\n<text text-anchor=\"middle\" x=\"2873.8922\" y=\"-57.8\" font-family=\"Times,serif\" font-size=\"14.00\" fill=\"#000000\">yes, missing</text>\n</g>\n<!-- 46 -->\n<g id=\"node33\" class=\"node\">\n<title>46</title>\n<ellipse fill=\"none\" stroke=\"#000000\" cx=\"3037.3922\" cy=\"-18\" rx=\"92.8835\" ry=\"18\"/>\n<text text-anchor=\"middle\" x=\"3037.3922\" y=\"-14.3\" font-family=\"Times,serif\" font-size=\"14.00\" fill=\"#000000\">leaf=&#45;0.00808671396</text>\n</g>\n<!-- 22&#45;&gt;46 -->\n<g id=\"edge32\" class=\"edge\">\n<title>22&#45;&gt;46</title>\n<path fill=\"none\" stroke=\"#ff0000\" d=\"M2874.4296,-89.245C2906.9196,-75.0408 2954.9038,-54.0627 2990.3965,-38.5458\"/>\n<polygon fill=\"#ff0000\" stroke=\"#ff0000\" points=\"2991.8317,-41.7383 2999.5923,-34.5255 2989.0277,-35.3245 2991.8317,-41.7383\"/>\n<text text-anchor=\"middle\" x=\"2958.3922\" y=\"-57.8\" font-family=\"Times,serif\" font-size=\"14.00\" fill=\"#000000\">no</text>\n</g>\n<!-- 11 -->\n<g id=\"node36\" class=\"node\">\n<title>11</title>\n<ellipse fill=\"none\" stroke=\"#000000\" cx=\"3681.3922\" cy=\"-192\" rx=\"70.6878\" ry=\"18\"/>\n<text text-anchor=\"middle\" x=\"3681.3922\" y=\"-188.3\" font-family=\"Times,serif\" font-size=\"14.00\" fill=\"#000000\">numGroups&lt;44</text>\n</g>\n<!-- 5&#45;&gt;11 -->\n<g id=\"edge35\" class=\"edge\">\n<title>5&#45;&gt;11</title>\n<path fill=\"none\" stroke=\"#0000ff\" d=\"M3840.8743,-262.4312C3808.2207,-248.0106 3760.826,-227.0799 3726.1903,-211.7839\"/>\n<polygon fill=\"#0000ff\" stroke=\"#0000ff\" points=\"3727.344,-208.4674 3716.7824,-207.6292 3724.5161,-214.8708 3727.344,-208.4674\"/>\n<text text-anchor=\"middle\" x=\"3827.8922\" y=\"-231.8\" font-family=\"Times,serif\" font-size=\"14.00\" fill=\"#000000\">yes, missing</text>\n</g>\n<!-- 12 -->\n<g id=\"node37\" class=\"node\">\n<title>12</title>\n<ellipse fill=\"none\" stroke=\"#000000\" cx=\"4164.3922\" cy=\"-192\" rx=\"61.99\" ry=\"18\"/>\n<text text-anchor=\"middle\" x=\"4164.3922\" y=\"-188.3\" font-family=\"Times,serif\" font-size=\"14.00\" fill=\"#000000\">maxPlace&lt;43</text>\n</g>\n<!-- 5&#45;&gt;12 -->\n<g id=\"edge36\" class=\"edge\">\n<title>5&#45;&gt;12</title>\n<path fill=\"none\" stroke=\"#ff0000\" d=\"M3928.5368,-263.7462C3979.8582,-248.1345 4059.2916,-223.9711 4111.5665,-208.0693\"/>\n<polygon fill=\"#ff0000\" stroke=\"#ff0000\" points=\"4112.772,-211.3611 4121.3205,-205.1022 4110.7347,-204.6641 4112.772,-211.3611\"/>\n<text text-anchor=\"middle\" x=\"4047.3922\" y=\"-231.8\" font-family=\"Times,serif\" font-size=\"14.00\" fill=\"#000000\">no</text>\n</g>\n<!-- 13 -->\n<g id=\"node50\" class=\"node\">\n<title>13</title>\n<ellipse fill=\"none\" stroke=\"#000000\" cx=\"5041.3922\" cy=\"-192\" rx=\"92.8835\" ry=\"18\"/>\n<text text-anchor=\"middle\" x=\"5041.3922\" y=\"-188.3\" font-family=\"Times,serif\" font-size=\"14.00\" fill=\"#000000\">walkDistance&lt;2453.5</text>\n</g>\n<!-- 6&#45;&gt;13 -->\n<g id=\"edge49\" class=\"edge\">\n<title>6&#45;&gt;13</title>\n<path fill=\"none\" stroke=\"#0000ff\" d=\"M5041.3922,-260.9735C5041.3922,-249.1918 5041.3922,-233.5607 5041.3922,-220.1581\"/>\n<polygon fill=\"#0000ff\" stroke=\"#0000ff\" points=\"5044.8923,-220.0033 5041.3922,-210.0034 5037.8923,-220.0034 5044.8923,-220.0033\"/>\n<text text-anchor=\"middle\" x=\"5076.8922\" y=\"-231.8\" font-family=\"Times,serif\" font-size=\"14.00\" fill=\"#000000\">yes, missing</text>\n</g>\n<!-- 14 -->\n<g id=\"node51\" class=\"node\">\n<title>14</title>\n<ellipse fill=\"none\" stroke=\"#000000\" cx=\"5580.3922\" cy=\"-192\" rx=\"92.8835\" ry=\"18\"/>\n<text text-anchor=\"middle\" x=\"5580.3922\" y=\"-188.3\" font-family=\"Times,serif\" font-size=\"14.00\" fill=\"#000000\">walkDistance&lt;2555.5</text>\n</g>\n<!-- 6&#45;&gt;14 -->\n<g id=\"edge50\" class=\"edge\">\n<title>6&#45;&gt;14</title>\n<path fill=\"none\" stroke=\"#ff0000\" d=\"M5083.2381,-272.2456C5172.4041,-257.8534 5382.4679,-223.947 5498.9809,-205.1406\"/>\n<polygon fill=\"#ff0000\" stroke=\"#ff0000\" points=\"5499.6103,-208.5844 5508.9247,-203.5356 5498.4948,-201.6738 5499.6103,-208.5844\"/>\n<text text-anchor=\"middle\" x=\"5351.3922\" y=\"-231.8\" font-family=\"Times,serif\" font-size=\"14.00\" fill=\"#000000\">no</text>\n</g>\n<!-- 23 -->\n<g id=\"node38\" class=\"node\">\n<title>23</title>\n<ellipse fill=\"none\" stroke=\"#000000\" cx=\"3421.3922\" cy=\"-105\" rx=\"90.9839\" ry=\"18\"/>\n<text text-anchor=\"middle\" x=\"3421.3922\" y=\"-101.3\" font-family=\"Times,serif\" font-size=\"14.00\" fill=\"#000000\">matchDuration&lt;1632</text>\n</g>\n<!-- 11&#45;&gt;23 -->\n<g id=\"edge37\" class=\"edge\">\n<title>11&#45;&gt;23</title>\n<path fill=\"none\" stroke=\"#0000ff\" d=\"M3638.4584,-177.6337C3594.4691,-162.9142 3525.8642,-139.958 3477.5787,-123.8009\"/>\n<polygon fill=\"#0000ff\" stroke=\"#0000ff\" points=\"3478.4969,-120.4174 3467.9031,-120.5633 3476.2756,-127.0557 3478.4969,-120.4174\"/>\n<text text-anchor=\"middle\" x=\"3602.8922\" y=\"-144.8\" font-family=\"Times,serif\" font-size=\"14.00\" fill=\"#000000\">yes, missing</text>\n</g>\n<!-- 24 -->\n<g id=\"node39\" class=\"node\">\n<title>24</title>\n<ellipse fill=\"none\" stroke=\"#000000\" cx=\"3681.3922\" cy=\"-105\" rx=\"90.9839\" ry=\"18\"/>\n<text text-anchor=\"middle\" x=\"3681.3922\" y=\"-101.3\" font-family=\"Times,serif\" font-size=\"14.00\" fill=\"#000000\">matchDuration&lt;1600</text>\n</g>\n<!-- 11&#45;&gt;24 -->\n<g id=\"edge38\" class=\"edge\">\n<title>11&#45;&gt;24</title>\n<path fill=\"none\" stroke=\"#ff0000\" d=\"M3681.3922,-173.9735C3681.3922,-162.1918 3681.3922,-146.5607 3681.3922,-133.1581\"/>\n<polygon fill=\"#ff0000\" stroke=\"#ff0000\" points=\"3684.8923,-133.0033 3681.3922,-123.0034 3677.8923,-133.0034 3684.8923,-133.0033\"/>\n<text text-anchor=\"middle\" x=\"3689.3922\" y=\"-144.8\" font-family=\"Times,serif\" font-size=\"14.00\" fill=\"#000000\">no</text>\n</g>\n<!-- 25 -->\n<g id=\"node44\" class=\"node\">\n<title>25</title>\n<ellipse fill=\"none\" stroke=\"#000000\" cx=\"4164.3922\" cy=\"-105\" rx=\"44.6926\" ry=\"18\"/>\n<text text-anchor=\"middle\" x=\"4164.3922\" y=\"-101.3\" font-family=\"Times,serif\" font-size=\"14.00\" fill=\"#000000\">boosts&lt;2</text>\n</g>\n<!-- 12&#45;&gt;25 -->\n<g id=\"edge43\" class=\"edge\">\n<title>12&#45;&gt;25</title>\n<path fill=\"none\" stroke=\"#0000ff\" d=\"M4164.3922,-173.9735C4164.3922,-162.1918 4164.3922,-146.5607 4164.3922,-133.1581\"/>\n<polygon fill=\"#0000ff\" stroke=\"#0000ff\" points=\"4167.8923,-133.0033 4164.3922,-123.0034 4160.8923,-133.0034 4167.8923,-133.0033\"/>\n<text text-anchor=\"middle\" x=\"4199.8922\" y=\"-144.8\" font-family=\"Times,serif\" font-size=\"14.00\" fill=\"#000000\">yes, missing</text>\n</g>\n<!-- 26 -->\n<g id=\"node45\" class=\"node\">\n<title>26</title>\n<ellipse fill=\"none\" stroke=\"#000000\" cx=\"4382.3922\" cy=\"-105\" rx=\"44.6926\" ry=\"18\"/>\n<text text-anchor=\"middle\" x=\"4382.3922\" y=\"-101.3\" font-family=\"Times,serif\" font-size=\"14.00\" fill=\"#000000\">boosts&lt;3</text>\n</g>\n<!-- 12&#45;&gt;26 -->\n<g id=\"edge44\" class=\"edge\">\n<title>12&#45;&gt;26</title>\n<path fill=\"none\" stroke=\"#ff0000\" d=\"M4200.8805,-177.4382C4239.5941,-161.9882 4300.6422,-137.625 4341.0942,-121.4813\"/>\n<polygon fill=\"#ff0000\" stroke=\"#ff0000\" points=\"4342.4135,-124.7233 4350.4039,-117.766 4339.8189,-118.2219 4342.4135,-124.7233\"/>\n<text text-anchor=\"middle\" x=\"4295.3922\" y=\"-144.8\" font-family=\"Times,serif\" font-size=\"14.00\" fill=\"#000000\">no</text>\n</g>\n<!-- 47 -->\n<g id=\"node40\" class=\"node\">\n<title>47</title>\n<ellipse fill=\"none\" stroke=\"#000000\" cx=\"3229.3922\" cy=\"-18\" rx=\"80.6858\" ry=\"18\"/>\n<text text-anchor=\"middle\" x=\"3229.3922\" y=\"-14.3\" font-family=\"Times,serif\" font-size=\"14.00\" fill=\"#000000\">leaf=0.004506364</text>\n</g>\n<!-- 23&#45;&gt;47 -->\n<g id=\"edge39\" class=\"edge\">\n<title>23&#45;&gt;47</title>\n<path fill=\"none\" stroke=\"#0000ff\" d=\"M3384.8265,-88.4312C3353.3995,-74.1908 3307.9625,-53.6022 3274.3249,-38.3602\"/>\n<polygon fill=\"#0000ff\" stroke=\"#0000ff\" points=\"3275.7249,-35.152 3265.1717,-34.2126 3272.8357,-41.528 3275.7249,-35.152\"/>\n<text text-anchor=\"middle\" x=\"3372.8922\" y=\"-57.8\" font-family=\"Times,serif\" font-size=\"14.00\" fill=\"#000000\">yes, missing</text>\n</g>\n<!-- 48 -->\n<g id=\"node41\" class=\"node\">\n<title>48</title>\n<ellipse fill=\"none\" stroke=\"#000000\" cx=\"3421.3922\" cy=\"-18\" rx=\"92.8835\" ry=\"18\"/>\n<text text-anchor=\"middle\" x=\"3421.3922\" y=\"-14.3\" font-family=\"Times,serif\" font-size=\"14.00\" fill=\"#000000\">leaf=&#45;0.00496975332</text>\n</g>\n<!-- 23&#45;&gt;48 -->\n<g id=\"edge40\" class=\"edge\">\n<title>23&#45;&gt;48</title>\n<path fill=\"none\" stroke=\"#ff0000\" d=\"M3421.3922,-86.9735C3421.3922,-75.1918 3421.3922,-59.5607 3421.3922,-46.1581\"/>\n<polygon fill=\"#ff0000\" stroke=\"#ff0000\" points=\"3424.8923,-46.0033 3421.3922,-36.0034 3417.8923,-46.0034 3424.8923,-46.0033\"/>\n<text text-anchor=\"middle\" x=\"3429.3922\" y=\"-57.8\" font-family=\"Times,serif\" font-size=\"14.00\" fill=\"#000000\">no</text>\n</g>\n<!-- 49 -->\n<g id=\"node42\" class=\"node\">\n<title>49</title>\n<ellipse fill=\"none\" stroke=\"#000000\" cx=\"3613.3922\" cy=\"-18\" rx=\"80.6858\" ry=\"18\"/>\n<text text-anchor=\"middle\" x=\"3613.3922\" y=\"-14.3\" font-family=\"Times,serif\" font-size=\"14.00\" fill=\"#000000\">leaf=0.015224576</text>\n</g>\n<!-- 24&#45;&gt;49 -->\n<g id=\"edge41\" class=\"edge\">\n<title>24&#45;&gt;49</title>\n<path fill=\"none\" stroke=\"#0000ff\" d=\"M3667.3025,-86.9735C3657.6379,-74.6085 3644.6593,-58.0036 3633.8584,-44.1847\"/>\n<polygon fill=\"#0000ff\" stroke=\"#0000ff\" points=\"3636.3796,-41.7269 3627.4638,-36.0034 3630.8644,-46.0376 3636.3796,-41.7269\"/>\n<text text-anchor=\"middle\" x=\"3687.8922\" y=\"-57.8\" font-family=\"Times,serif\" font-size=\"14.00\" fill=\"#000000\">yes, missing</text>\n</g>\n<!-- 50 -->\n<g id=\"node43\" class=\"node\">\n<title>50</title>\n<ellipse fill=\"none\" stroke=\"#000000\" cx=\"3802.3922\" cy=\"-18\" rx=\"90.1842\" ry=\"18\"/>\n<text text-anchor=\"middle\" x=\"3802.3922\" y=\"-14.3\" font-family=\"Times,serif\" font-size=\"14.00\" fill=\"#000000\">leaf=0.00558645278</text>\n</g>\n<!-- 24&#45;&gt;50 -->\n<g id=\"edge42\" class=\"edge\">\n<title>24&#45;&gt;50</title>\n<path fill=\"none\" stroke=\"#ff0000\" d=\"M3705.5875,-87.6033C3724.0533,-74.3263 3749.6795,-55.9008 3769.9271,-41.3427\"/>\n<polygon fill=\"#ff0000\" stroke=\"#ff0000\" points=\"3772.1628,-44.046 3778.2388,-35.3665 3768.0763,-38.3626 3772.1628,-44.046\"/>\n<text text-anchor=\"middle\" x=\"3757.3922\" y=\"-57.8\" font-family=\"Times,serif\" font-size=\"14.00\" fill=\"#000000\">no</text>\n</g>\n<!-- 51 -->\n<g id=\"node46\" class=\"node\">\n<title>51</title>\n<ellipse fill=\"none\" stroke=\"#000000\" cx=\"4001.3922\" cy=\"-18\" rx=\"90.1842\" ry=\"18\"/>\n<text text-anchor=\"middle\" x=\"4001.3922\" y=\"-14.3\" font-family=\"Times,serif\" font-size=\"14.00\" fill=\"#000000\">leaf=0.00790676475</text>\n</g>\n<!-- 25&#45;&gt;51 -->\n<g id=\"edge45\" class=\"edge\">\n<title>25&#45;&gt;51</title>\n<path fill=\"none\" stroke=\"#0000ff\" d=\"M4137.1096,-90.4382C4111.1557,-76.5855 4071.7766,-55.5671 4042.1099,-39.7328\"/>\n<polygon fill=\"#0000ff\" stroke=\"#0000ff\" points=\"4043.7106,-36.6198 4033.2405,-34.9988 4040.4145,-42.7953 4043.7106,-36.6198\"/>\n<text text-anchor=\"middle\" x=\"4128.8922\" y=\"-57.8\" font-family=\"Times,serif\" font-size=\"14.00\" fill=\"#000000\">yes, missing</text>\n</g>\n<!-- 52 -->\n<g id=\"node47\" class=\"node\">\n<title>52</title>\n<ellipse fill=\"none\" stroke=\"#000000\" cx=\"4194.3922\" cy=\"-18\" rx=\"85.2851\" ry=\"18\"/>\n<text text-anchor=\"middle\" x=\"4194.3922\" y=\"-14.3\" font-family=\"Times,serif\" font-size=\"14.00\" fill=\"#000000\">leaf=0.0166365691</text>\n</g>\n<!-- 25&#45;&gt;52 -->\n<g id=\"edge46\" class=\"edge\">\n<title>25&#45;&gt;52</title>\n<path fill=\"none\" stroke=\"#ff0000\" d=\"M4170.6082,-86.9735C4174.7111,-75.0751 4180.1678,-59.2508 4184.8195,-45.7606\"/>\n<polygon fill=\"#ff0000\" stroke=\"#ff0000\" points=\"4188.2329,-46.5981 4188.1841,-36.0034 4181.6153,-44.3161 4188.2329,-46.5981\"/>\n<text text-anchor=\"middle\" x=\"4189.3922\" y=\"-57.8\" font-family=\"Times,serif\" font-size=\"14.00\" fill=\"#000000\">no</text>\n</g>\n<!-- 53 -->\n<g id=\"node48\" class=\"node\">\n<title>53</title>\n<ellipse fill=\"none\" stroke=\"#000000\" cx=\"4382.3922\" cy=\"-18\" rx=\"85.2851\" ry=\"18\"/>\n<text text-anchor=\"middle\" x=\"4382.3922\" y=\"-14.3\" font-family=\"Times,serif\" font-size=\"14.00\" fill=\"#000000\">leaf=0.0185655244</text>\n</g>\n<!-- 26&#45;&gt;53 -->\n<g id=\"edge47\" class=\"edge\">\n<title>26&#45;&gt;53</title>\n<path fill=\"none\" stroke=\"#0000ff\" d=\"M4382.3922,-86.9735C4382.3922,-75.1918 4382.3922,-59.5607 4382.3922,-46.1581\"/>\n<polygon fill=\"#0000ff\" stroke=\"#0000ff\" points=\"4385.8923,-46.0033 4382.3922,-36.0034 4378.8923,-46.0034 4385.8923,-46.0033\"/>\n<text text-anchor=\"middle\" x=\"4417.8922\" y=\"-57.8\" font-family=\"Times,serif\" font-size=\"14.00\" fill=\"#000000\">yes, missing</text>\n</g>\n<!-- 54 -->\n<g id=\"node49\" class=\"node\">\n<title>54</title>\n<ellipse fill=\"none\" stroke=\"#000000\" cx=\"4570.3922\" cy=\"-18\" rx=\"85.2851\" ry=\"18\"/>\n<text text-anchor=\"middle\" x=\"4570.3922\" y=\"-14.3\" font-family=\"Times,serif\" font-size=\"14.00\" fill=\"#000000\">leaf=0.0296022929</text>\n</g>\n<!-- 26&#45;&gt;54 -->\n<g id=\"edge48\" class=\"edge\">\n<title>26&#45;&gt;54</title>\n<path fill=\"none\" stroke=\"#ff0000\" d=\"M4412.1813,-91.2146C4442.7854,-77.0521 4490.7837,-54.8401 4525.8922,-38.5931\"/>\n<polygon fill=\"#ff0000\" stroke=\"#ff0000\" points=\"4527.3684,-41.7666 4534.9739,-34.3904 4524.4286,-35.4138 4527.3684,-41.7666\"/>\n<text text-anchor=\"middle\" x=\"4496.3922\" y=\"-57.8\" font-family=\"Times,serif\" font-size=\"14.00\" fill=\"#000000\">no</text>\n</g>\n<!-- 27 -->\n<g id=\"node52\" class=\"node\">\n<title>27</title>\n<ellipse fill=\"none\" stroke=\"#000000\" cx=\"4940.3922\" cy=\"-105\" rx=\"90.9839\" ry=\"18\"/>\n<text text-anchor=\"middle\" x=\"4940.3922\" y=\"-101.3\" font-family=\"Times,serif\" font-size=\"14.00\" fill=\"#000000\">matchDuration&lt;1592</text>\n</g>\n<!-- 13&#45;&gt;27 -->\n<g id=\"edge51\" class=\"edge\">\n<title>13&#45;&gt;27</title>\n<path fill=\"none\" stroke=\"#0000ff\" d=\"M5020.9533,-174.3943C5005.8944,-161.4228 4985.2284,-143.6213 4968.5981,-129.2962\"/>\n<polygon fill=\"#0000ff\" stroke=\"#0000ff\" points=\"4970.6616,-126.4542 4960.8006,-122.5796 4966.093,-131.7579 4970.6616,-126.4542\"/>\n<text text-anchor=\"middle\" x=\"5032.8922\" y=\"-144.8\" font-family=\"Times,serif\" font-size=\"14.00\" fill=\"#000000\">yes, missing</text>\n</g>\n<!-- 28 -->\n<g id=\"node53\" class=\"node\">\n<title>28</title>\n<ellipse fill=\"none\" stroke=\"#000000\" cx=\"5140.3922\" cy=\"-105\" rx=\"90.9839\" ry=\"18\"/>\n<text text-anchor=\"middle\" x=\"5140.3922\" y=\"-101.3\" font-family=\"Times,serif\" font-size=\"14.00\" fill=\"#000000\">matchDuration&lt;1612</text>\n</g>\n<!-- 13&#45;&gt;28 -->\n<g id=\"edge52\" class=\"edge\">\n<title>13&#45;&gt;28</title>\n<path fill=\"none\" stroke=\"#ff0000\" d=\"M5061.4263,-174.3943C5076.187,-161.4228 5096.4437,-143.6213 5112.7447,-129.2962\"/>\n<polygon fill=\"#ff0000\" stroke=\"#ff0000\" points=\"5115.1866,-131.8098 5120.3878,-122.5796 5110.5657,-126.5517 5115.1866,-131.8098\"/>\n<text text-anchor=\"middle\" x=\"5105.3922\" y=\"-144.8\" font-family=\"Times,serif\" font-size=\"14.00\" fill=\"#000000\">no</text>\n</g>\n<!-- 29 -->\n<g id=\"node58\" class=\"node\">\n<title>29</title>\n<ellipse fill=\"none\" stroke=\"#000000\" cx=\"5580.3922\" cy=\"-105\" rx=\"44.6926\" ry=\"18\"/>\n<text text-anchor=\"middle\" x=\"5580.3922\" y=\"-101.3\" font-family=\"Times,serif\" font-size=\"14.00\" fill=\"#000000\">boosts&lt;5</text>\n</g>\n<!-- 14&#45;&gt;29 -->\n<g id=\"edge57\" class=\"edge\">\n<title>14&#45;&gt;29</title>\n<path fill=\"none\" stroke=\"#0000ff\" d=\"M5580.3922,-173.9735C5580.3922,-162.1918 5580.3922,-146.5607 5580.3922,-133.1581\"/>\n<polygon fill=\"#0000ff\" stroke=\"#0000ff\" points=\"5583.8923,-133.0033 5580.3922,-123.0034 5576.8923,-133.0034 5583.8923,-133.0033\"/>\n<text text-anchor=\"middle\" x=\"5615.8922\" y=\"-144.8\" font-family=\"Times,serif\" font-size=\"14.00\" fill=\"#000000\">yes, missing</text>\n</g>\n<!-- 30 -->\n<g id=\"node59\" class=\"node\">\n<title>30</title>\n<ellipse fill=\"none\" stroke=\"#000000\" cx=\"5886.3922\" cy=\"-105\" rx=\"36.2938\" ry=\"18\"/>\n<text text-anchor=\"middle\" x=\"5886.3922\" y=\"-101.3\" font-family=\"Times,serif\" font-size=\"14.00\" fill=\"#000000\">kills&lt;3</text>\n</g>\n<!-- 14&#45;&gt;30 -->\n<g id=\"edge58\" class=\"edge\">\n<title>14&#45;&gt;30</title>\n<path fill=\"none\" stroke=\"#ff0000\" d=\"M5632.9954,-177.0442C5692.9986,-159.9845 5789.886,-132.438 5844.8419,-116.8133\"/>\n<polygon fill=\"#ff0000\" stroke=\"#ff0000\" points=\"5845.9355,-120.1412 5854.5971,-114.0398 5844.0211,-113.408 5845.9355,-120.1412\"/>\n<text text-anchor=\"middle\" x=\"5760.3922\" y=\"-144.8\" font-family=\"Times,serif\" font-size=\"14.00\" fill=\"#000000\">no</text>\n</g>\n<!-- 55 -->\n<g id=\"node54\" class=\"node\">\n<title>55</title>\n<ellipse fill=\"none\" stroke=\"#000000\" cx=\"4758.3922\" cy=\"-18\" rx=\"85.2851\" ry=\"18\"/>\n<text text-anchor=\"middle\" x=\"4758.3922\" y=\"-14.3\" font-family=\"Times,serif\" font-size=\"14.00\" fill=\"#000000\">leaf=0.0262614191</text>\n</g>\n<!-- 27&#45;&gt;55 -->\n<g id=\"edge53\" class=\"edge\">\n<title>27&#45;&gt;55</title>\n<path fill=\"none\" stroke=\"#0000ff\" d=\"M4905.3007,-88.2255C4875.8741,-74.159 4833.7129,-54.005 4802.0983,-38.8925\"/>\n<polygon fill=\"#0000ff\" stroke=\"#0000ff\" points=\"4803.5985,-35.7303 4793.0668,-34.5752 4800.5795,-42.0459 4803.5985,-35.7303\"/>\n<text text-anchor=\"middle\" x=\"4895.8922\" y=\"-57.8\" font-family=\"Times,serif\" font-size=\"14.00\" fill=\"#000000\">yes, missing</text>\n</g>\n<!-- 56 -->\n<g id=\"node55\" class=\"node\">\n<title>56</title>\n<ellipse fill=\"none\" stroke=\"#000000\" cx=\"4946.3922\" cy=\"-18\" rx=\"85.2851\" ry=\"18\"/>\n<text text-anchor=\"middle\" x=\"4946.3922\" y=\"-14.3\" font-family=\"Times,serif\" font-size=\"14.00\" fill=\"#000000\">leaf=0.0168212634</text>\n</g>\n<!-- 27&#45;&gt;56 -->\n<g id=\"edge54\" class=\"edge\">\n<title>27&#45;&gt;56</title>\n<path fill=\"none\" stroke=\"#ff0000\" d=\"M4941.6354,-86.9735C4942.4479,-75.1918 4943.5259,-59.5607 4944.4502,-46.1581\"/>\n<polygon fill=\"#ff0000\" stroke=\"#ff0000\" points=\"4947.9541,-46.2205 4945.1505,-36.0034 4940.9707,-45.7388 4947.9541,-46.2205\"/>\n<text text-anchor=\"middle\" x=\"4952.3922\" y=\"-57.8\" font-family=\"Times,serif\" font-size=\"14.00\" fill=\"#000000\">no</text>\n</g>\n<!-- 57 -->\n<g id=\"node56\" class=\"node\">\n<title>57</title>\n<ellipse fill=\"none\" stroke=\"#000000\" cx=\"5134.3922\" cy=\"-18\" rx=\"85.2851\" ry=\"18\"/>\n<text text-anchor=\"middle\" x=\"5134.3922\" y=\"-14.3\" font-family=\"Times,serif\" font-size=\"14.00\" fill=\"#000000\">leaf=0.0354988091</text>\n</g>\n<!-- 28&#45;&gt;57 -->\n<g id=\"edge55\" class=\"edge\">\n<title>28&#45;&gt;57</title>\n<path fill=\"none\" stroke=\"#0000ff\" d=\"M5139.149,-86.9735C5138.3364,-75.1918 5137.2584,-59.5607 5136.3341,-46.1581\"/>\n<polygon fill=\"#0000ff\" stroke=\"#0000ff\" points=\"5139.8136,-45.7388 5135.6338,-36.0034 5132.8302,-46.2205 5139.8136,-45.7388\"/>\n<text text-anchor=\"middle\" x=\"5173.8922\" y=\"-57.8\" font-family=\"Times,serif\" font-size=\"14.00\" fill=\"#000000\">yes, missing</text>\n</g>\n<!-- 58 -->\n<g id=\"node57\" class=\"node\">\n<title>58</title>\n<ellipse fill=\"none\" stroke=\"#000000\" cx=\"5322.3922\" cy=\"-18\" rx=\"85.2851\" ry=\"18\"/>\n<text text-anchor=\"middle\" x=\"5322.3922\" y=\"-14.3\" font-family=\"Times,serif\" font-size=\"14.00\" fill=\"#000000\">leaf=0.0273427367</text>\n</g>\n<!-- 28&#45;&gt;58 -->\n<g id=\"edge56\" class=\"edge\">\n<title>28&#45;&gt;58</title>\n<path fill=\"none\" stroke=\"#ff0000\" d=\"M5175.4836,-88.2255C5204.9102,-74.159 5247.0714,-54.005 5278.686,-38.8925\"/>\n<polygon fill=\"#ff0000\" stroke=\"#ff0000\" points=\"5280.2048,-42.0459 5287.7175,-34.5752 5277.1858,-35.7303 5280.2048,-42.0459\"/>\n<text text-anchor=\"middle\" x=\"5250.3922\" y=\"-57.8\" font-family=\"Times,serif\" font-size=\"14.00\" fill=\"#000000\">no</text>\n</g>\n<!-- 59 -->\n<g id=\"node60\" class=\"node\">\n<title>59</title>\n<ellipse fill=\"none\" stroke=\"#000000\" cx=\"5510.3922\" cy=\"-18\" rx=\"85.2851\" ry=\"18\"/>\n<text text-anchor=\"middle\" x=\"5510.3922\" y=\"-14.3\" font-family=\"Times,serif\" font-size=\"14.00\" fill=\"#000000\">leaf=0.0307567418</text>\n</g>\n<!-- 29&#45;&gt;59 -->\n<g id=\"edge59\" class=\"edge\">\n<title>29&#45;&gt;59</title>\n<path fill=\"none\" stroke=\"#0000ff\" d=\"M5566.5624,-87.8116C5556.437,-75.2272 5542.5253,-57.9369 5531.0802,-43.7122\"/>\n<polygon fill=\"#0000ff\" stroke=\"#0000ff\" points=\"5533.6695,-41.3471 5524.6738,-35.75 5528.2156,-45.7353 5533.6695,-41.3471\"/>\n<text text-anchor=\"middle\" x=\"5585.8922\" y=\"-57.8\" font-family=\"Times,serif\" font-size=\"14.00\" fill=\"#000000\">yes, missing</text>\n</g>\n<!-- 60 -->\n<g id=\"node61\" class=\"node\">\n<title>60</title>\n<ellipse fill=\"none\" stroke=\"#000000\" cx=\"5698.3922\" cy=\"-18\" rx=\"85.2851\" ry=\"18\"/>\n<text text-anchor=\"middle\" x=\"5698.3922\" y=\"-14.3\" font-family=\"Times,serif\" font-size=\"14.00\" fill=\"#000000\">leaf=0.0373624302</text>\n</g>\n<!-- 29&#45;&gt;60 -->\n<g id=\"edge60\" class=\"edge\">\n<title>29&#45;&gt;60</title>\n<path fill=\"none\" stroke=\"#ff0000\" d=\"M5602.0352,-89.0429C5620.1632,-75.6773 5646.2843,-56.4185 5666.7579,-41.3236\"/>\n<polygon fill=\"#ff0000\" stroke=\"#ff0000\" points=\"5668.8912,-44.0992 5674.863,-35.3478 5664.7371,-38.465 5668.8912,-44.0992\"/>\n<text text-anchor=\"middle\" x=\"5655.3922\" y=\"-57.8\" font-family=\"Times,serif\" font-size=\"14.00\" fill=\"#000000\">no</text>\n</g>\n<!-- 61 -->\n<g id=\"node62\" class=\"node\">\n<title>61</title>\n<ellipse fill=\"none\" stroke=\"#000000\" cx=\"5886.3922\" cy=\"-18\" rx=\"85.2851\" ry=\"18\"/>\n<text text-anchor=\"middle\" x=\"5886.3922\" y=\"-14.3\" font-family=\"Times,serif\" font-size=\"14.00\" fill=\"#000000\">leaf=0.0369577371</text>\n</g>\n<!-- 30&#45;&gt;61 -->\n<g id=\"edge61\" class=\"edge\">\n<title>30&#45;&gt;61</title>\n<path fill=\"none\" stroke=\"#0000ff\" d=\"M5886.3922,-86.9735C5886.3922,-75.1918 5886.3922,-59.5607 5886.3922,-46.1581\"/>\n<polygon fill=\"#0000ff\" stroke=\"#0000ff\" points=\"5889.8923,-46.0033 5886.3922,-36.0034 5882.8923,-46.0034 5889.8923,-46.0033\"/>\n<text text-anchor=\"middle\" x=\"5921.8922\" y=\"-57.8\" font-family=\"Times,serif\" font-size=\"14.00\" fill=\"#000000\">yes, missing</text>\n</g>\n<!-- 62 -->\n<g id=\"node63\" class=\"node\">\n<title>62</title>\n<ellipse fill=\"none\" stroke=\"#000000\" cx=\"6074.3922\" cy=\"-18\" rx=\"85.2851\" ry=\"18\"/>\n<text text-anchor=\"middle\" x=\"6074.3922\" y=\"-14.3\" font-family=\"Times,serif\" font-size=\"14.00\" fill=\"#000000\">leaf=0.0424767993</text>\n</g>\n<!-- 30&#45;&gt;62 -->\n<g id=\"edge62\" class=\"edge\">\n<title>30&#45;&gt;62</title>\n<path fill=\"none\" stroke=\"#ff0000\" d=\"M5913.328,-92.535C5943.6186,-78.5175 5993.2955,-55.5288 6029.4815,-38.7831\"/>\n<polygon fill=\"#ff0000\" stroke=\"#ff0000\" points=\"6031.2303,-41.8305 6038.8357,-34.4543 6028.2904,-35.4778 6031.2303,-41.8305\"/>\n<text text-anchor=\"middle\" x=\"5999.3922\" y=\"-57.8\" font-family=\"Times,serif\" font-size=\"14.00\" fill=\"#000000\">no</text>\n</g>\n</g>\n</svg>\n"
          },
          "metadata": {},
          "execution_count": 24
        }
      ]
    },
    {
      "cell_type": "code",
      "source": [
        "dot_data = xgb.to_graphviz(xgbr)\n",
        "graph = graphviz.Source(dot_data)\n",
        "graph"
      ],
      "metadata": {
        "id": "u1TgvPnvqo8l",
        "outputId": "e6db39e4-69b2-4b3a-9d0e-757faee71f61",
        "colab": {
          "base_uri": "https://localhost:8080/",
          "height": 679
        }
      },
      "execution_count": null,
      "outputs": [
        {
          "output_type": "execute_result",
          "data": {
            "text/plain": [
              "<graphviz.files.Source at 0x7f03d69f1890>"
            ],
            "image/svg+xml": "<?xml version=\"1.0\" encoding=\"UTF-8\" standalone=\"no\"?>\n<!DOCTYPE svg PUBLIC \"-//W3C//DTD SVG 1.1//EN\"\n \"http://www.w3.org/Graphics/SVG/1.1/DTD/svg11.dtd\">\n<!-- Generated by graphviz version 2.40.1 (20161225.0304)\n -->\n<!-- Title: %3 Pages: 1 -->\n<svg width=\"6168pt\" height=\"479pt\"\n viewBox=\"0.00 0.00 6167.53 479.00\" xmlns=\"http://www.w3.org/2000/svg\" xmlns:xlink=\"http://www.w3.org/1999/xlink\">\n<g id=\"graph0\" class=\"graph\" transform=\"scale(1 1) rotate(0) translate(4 475)\">\n<title>%3</title>\n<polygon fill=\"#ffffff\" stroke=\"transparent\" points=\"-4,4 -4,-475 6163.5346,-475 6163.5346,4 -4,4\"/>\n<!-- 0 -->\n<g id=\"node1\" class=\"node\">\n<title>0</title>\n<ellipse fill=\"none\" stroke=\"#000000\" cx=\"3103.3922\" cy=\"-453\" rx=\"112.3801\" ry=\"18\"/>\n<text text-anchor=\"middle\" x=\"3103.3922\" y=\"-449.3\" font-family=\"Times,serif\" font-size=\"14.00\" fill=\"#000000\">walkDistance&lt;832.049988</text>\n</g>\n<!-- 1 -->\n<g id=\"node2\" class=\"node\">\n<title>1</title>\n<ellipse fill=\"none\" stroke=\"#000000\" cx=\"2327.3922\" cy=\"-366\" rx=\"112.3801\" ry=\"18\"/>\n<text text-anchor=\"middle\" x=\"2327.3922\" y=\"-362.3\" font-family=\"Times,serif\" font-size=\"14.00\" fill=\"#000000\">walkDistance&lt;206.649994</text>\n</g>\n<!-- 0&#45;&gt;1 -->\n<g id=\"edge1\" class=\"edge\">\n<title>0&#45;&gt;1</title>\n<path fill=\"none\" stroke=\"#0000ff\" d=\"M3010.9437,-442.6353C2864.8984,-426.2617 2581.8179,-394.5245 2429.8009,-377.4814\"/>\n<polygon fill=\"#0000ff\" stroke=\"#0000ff\" points=\"2429.8608,-373.9663 2419.5331,-376.3302 2429.0808,-380.9227 2429.8608,-373.9663\"/>\n<text text-anchor=\"middle\" x=\"2797.8922\" y=\"-405.8\" font-family=\"Times,serif\" font-size=\"14.00\" fill=\"#000000\">yes, missing</text>\n</g>\n<!-- 2 -->\n<g id=\"node3\" class=\"node\">\n<title>2</title>\n<ellipse fill=\"none\" stroke=\"#000000\" cx=\"3878.3922\" cy=\"-366\" rx=\"92.8835\" ry=\"18\"/>\n<text text-anchor=\"middle\" x=\"3878.3922\" y=\"-362.3\" font-family=\"Times,serif\" font-size=\"14.00\" fill=\"#000000\">walkDistance&lt;1849.5</text>\n</g>\n<!-- 0&#45;&gt;2 -->\n<g id=\"edge2\" class=\"edge\">\n<title>0&#45;&gt;2</title>\n<path fill=\"none\" stroke=\"#ff0000\" d=\"M3195.7215,-442.6353C3345.404,-425.8322 3639.2181,-392.8492 3787.786,-376.1713\"/>\n<polygon fill=\"#ff0000\" stroke=\"#ff0000\" points=\"3788.2463,-379.6417 3797.7934,-375.0479 3787.4653,-372.6854 3788.2463,-379.6417\"/>\n<text text-anchor=\"middle\" x=\"3545.3922\" y=\"-405.8\" font-family=\"Times,serif\" font-size=\"14.00\" fill=\"#000000\">no</text>\n</g>\n<!-- 3 -->\n<g id=\"node4\" class=\"node\">\n<title>3</title>\n<ellipse fill=\"none\" stroke=\"#000000\" cx=\"1148.3922\" cy=\"-279\" rx=\"112.3801\" ry=\"18\"/>\n<text text-anchor=\"middle\" x=\"1148.3922\" y=\"-275.3\" font-family=\"Times,serif\" font-size=\"14.00\" fill=\"#000000\">walkDistance&lt;76.4349976</text>\n</g>\n<!-- 1&#45;&gt;3 -->\n<g id=\"edge3\" class=\"edge\">\n<title>1&#45;&gt;3</title>\n<path fill=\"none\" stroke=\"#0000ff\" d=\"M2225.0827,-358.4504C2005.2616,-342.2295 1489.3388,-304.1589 1260.7776,-287.2931\"/>\n<polygon fill=\"#0000ff\" stroke=\"#0000ff\" points=\"1261.007,-283.8006 1250.7765,-286.5551 1260.4918,-290.7816 1261.007,-283.8006\"/>\n<text text-anchor=\"middle\" x=\"1844.8922\" y=\"-318.8\" font-family=\"Times,serif\" font-size=\"14.00\" fill=\"#000000\">yes, missing</text>\n</g>\n<!-- 4 -->\n<g id=\"node5\" class=\"node\">\n<title>4</title>\n<ellipse fill=\"none\" stroke=\"#000000\" cx=\"2327.3922\" cy=\"-279\" rx=\"112.3801\" ry=\"18\"/>\n<text text-anchor=\"middle\" x=\"2327.3922\" y=\"-275.3\" font-family=\"Times,serif\" font-size=\"14.00\" fill=\"#000000\">walkDistance&lt;440.650024</text>\n</g>\n<!-- 1&#45;&gt;4 -->\n<g id=\"edge4\" class=\"edge\">\n<title>1&#45;&gt;4</title>\n<path fill=\"none\" stroke=\"#ff0000\" d=\"M2327.3922,-347.9735C2327.3922,-336.1918 2327.3922,-320.5607 2327.3922,-307.1581\"/>\n<polygon fill=\"#ff0000\" stroke=\"#ff0000\" points=\"2330.8923,-307.0033 2327.3922,-297.0034 2323.8923,-307.0034 2330.8923,-307.0033\"/>\n<text text-anchor=\"middle\" x=\"2335.3922\" y=\"-318.8\" font-family=\"Times,serif\" font-size=\"14.00\" fill=\"#000000\">no</text>\n</g>\n<!-- 5 -->\n<g id=\"node34\" class=\"node\">\n<title>5</title>\n<ellipse fill=\"none\" stroke=\"#000000\" cx=\"3878.3922\" cy=\"-279\" rx=\"92.8835\" ry=\"18\"/>\n<text text-anchor=\"middle\" x=\"3878.3922\" y=\"-275.3\" font-family=\"Times,serif\" font-size=\"14.00\" fill=\"#000000\">walkDistance&lt;1302.5</text>\n</g>\n<!-- 2&#45;&gt;5 -->\n<g id=\"edge33\" class=\"edge\">\n<title>2&#45;&gt;5</title>\n<path fill=\"none\" stroke=\"#0000ff\" d=\"M3878.3922,-347.9735C3878.3922,-336.1918 3878.3922,-320.5607 3878.3922,-307.1581\"/>\n<polygon fill=\"#0000ff\" stroke=\"#0000ff\" points=\"3881.8923,-307.0033 3878.3922,-297.0034 3874.8923,-307.0034 3881.8923,-307.0033\"/>\n<text text-anchor=\"middle\" x=\"3913.8922\" y=\"-318.8\" font-family=\"Times,serif\" font-size=\"14.00\" fill=\"#000000\">yes, missing</text>\n</g>\n<!-- 6 -->\n<g id=\"node35\" class=\"node\">\n<title>6</title>\n<ellipse fill=\"none\" stroke=\"#000000\" cx=\"5041.3922\" cy=\"-279\" rx=\"44.6926\" ry=\"18\"/>\n<text text-anchor=\"middle\" x=\"5041.3922\" y=\"-275.3\" font-family=\"Times,serif\" font-size=\"14.00\" fill=\"#000000\">boosts&lt;3</text>\n</g>\n<!-- 2&#45;&gt;6 -->\n<g id=\"edge34\" class=\"edge\">\n<title>2&#45;&gt;6</title>\n<path fill=\"none\" stroke=\"#ff0000\" d=\"M3965.3306,-359.4964C4193.056,-342.4611 4802.1223,-296.8989 4987.2634,-283.0492\"/>\n<polygon fill=\"#ff0000\" stroke=\"#ff0000\" points=\"4987.5929,-286.5344 4997.3039,-282.2981 4987.0706,-279.5539 4987.5929,-286.5344\"/>\n<text text-anchor=\"middle\" x=\"4538.3922\" y=\"-318.8\" font-family=\"Times,serif\" font-size=\"14.00\" fill=\"#000000\">no</text>\n</g>\n<!-- 7 -->\n<g id=\"node6\" class=\"node\">\n<title>7</title>\n<ellipse fill=\"none\" stroke=\"#000000\" cx=\"610.3922\" cy=\"-192\" rx=\"128.8774\" ry=\"18\"/>\n<text text-anchor=\"middle\" x=\"610.3922\" y=\"-188.3\" font-family=\"Times,serif\" font-size=\"14.00\" fill=\"#000000\">walkDistance&lt;4.99999987e&#45;05</text>\n</g>\n<!-- 3&#45;&gt;7 -->\n<g id=\"edge5\" class=\"edge\">\n<title>3&#45;&gt;7</title>\n<path fill=\"none\" stroke=\"#0000ff\" d=\"M1069.0084,-266.1629C972.1245,-250.4957 808.4725,-224.0316 705.1072,-207.3164\"/>\n<polygon fill=\"#0000ff\" stroke=\"#0000ff\" points=\"705.4168,-203.8211 694.9863,-205.6797 704.2993,-210.7313 705.4168,-203.8211\"/>\n<text text-anchor=\"middle\" x=\"947.8922\" y=\"-231.8\" font-family=\"Times,serif\" font-size=\"14.00\" fill=\"#000000\">yes, missing</text>\n</g>\n<!-- 8 -->\n<g id=\"node7\" class=\"node\">\n<title>8</title>\n<ellipse fill=\"none\" stroke=\"#000000\" cx=\"1148.3922\" cy=\"-192\" rx=\"90.9839\" ry=\"18\"/>\n<text text-anchor=\"middle\" x=\"1148.3922\" y=\"-188.3\" font-family=\"Times,serif\" font-size=\"14.00\" fill=\"#000000\">matchDuration&lt;1573</text>\n</g>\n<!-- 3&#45;&gt;8 -->\n<g id=\"edge6\" class=\"edge\">\n<title>3&#45;&gt;8</title>\n<path fill=\"none\" stroke=\"#ff0000\" d=\"M1148.3922,-260.9735C1148.3922,-249.1918 1148.3922,-233.5607 1148.3922,-220.1581\"/>\n<polygon fill=\"#ff0000\" stroke=\"#ff0000\" points=\"1151.8923,-220.0033 1148.3922,-210.0034 1144.8923,-220.0034 1151.8923,-220.0033\"/>\n<text text-anchor=\"middle\" x=\"1156.3922\" y=\"-231.8\" font-family=\"Times,serif\" font-size=\"14.00\" fill=\"#000000\">no</text>\n</g>\n<!-- 9 -->\n<g id=\"node20\" class=\"node\">\n<title>9</title>\n<ellipse fill=\"none\" stroke=\"#000000\" cx=\"2166.3922\" cy=\"-192\" rx=\"90.9839\" ry=\"18\"/>\n<text text-anchor=\"middle\" x=\"2166.3922\" y=\"-188.3\" font-family=\"Times,serif\" font-size=\"14.00\" fill=\"#000000\">matchDuration&lt;1568</text>\n</g>\n<!-- 4&#45;&gt;9 -->\n<g id=\"edge19\" class=\"edge\">\n<title>4&#45;&gt;9</title>\n<path fill=\"none\" stroke=\"#0000ff\" d=\"M2295.1984,-261.6033C2269.7227,-247.837 2234.0044,-228.5358 2206.641,-213.7494\"/>\n<polygon fill=\"#0000ff\" stroke=\"#0000ff\" points=\"2208.17,-210.5973 2197.7084,-208.9224 2204.8421,-216.7557 2208.17,-210.5973\"/>\n<text text-anchor=\"middle\" x=\"2292.8922\" y=\"-231.8\" font-family=\"Times,serif\" font-size=\"14.00\" fill=\"#000000\">yes, missing</text>\n</g>\n<!-- 10 -->\n<g id=\"node21\" class=\"node\">\n<title>10</title>\n<ellipse fill=\"none\" stroke=\"#000000\" cx=\"2565.3922\" cy=\"-192\" rx=\"90.9839\" ry=\"18\"/>\n<text text-anchor=\"middle\" x=\"2565.3922\" y=\"-188.3\" font-family=\"Times,serif\" font-size=\"14.00\" fill=\"#000000\">matchDuration&lt;1568</text>\n</g>\n<!-- 4&#45;&gt;10 -->\n<g id=\"edge20\" class=\"edge\">\n<title>4&#45;&gt;10</title>\n<path fill=\"none\" stroke=\"#ff0000\" d=\"M2372.7183,-262.4312C2412.5077,-247.8863 2470.4142,-226.7188 2512.3484,-211.3899\"/>\n<polygon fill=\"#ff0000\" stroke=\"#ff0000\" points=\"2513.6505,-214.6406 2521.841,-207.92 2511.2471,-208.066 2513.6505,-214.6406\"/>\n<text text-anchor=\"middle\" x=\"2469.3922\" y=\"-231.8\" font-family=\"Times,serif\" font-size=\"14.00\" fill=\"#000000\">no</text>\n</g>\n<!-- 15 -->\n<g id=\"node8\" class=\"node\">\n<title>15</title>\n<ellipse fill=\"none\" stroke=\"#000000\" cx=\"283.3922\" cy=\"-105\" rx=\"133.7763\" ry=\"18\"/>\n<text text-anchor=\"middle\" x=\"283.3922\" y=\"-101.3\" font-family=\"Times,serif\" font-size=\"14.00\" fill=\"#000000\">swimDistance&lt;0.000149999993</text>\n</g>\n<!-- 7&#45;&gt;15 -->\n<g id=\"edge7\" class=\"edge\">\n<title>7&#45;&gt;15</title>\n<path fill=\"none\" stroke=\"#0000ff\" d=\"M550.4153,-176.0429C494.9021,-161.2733 412.3404,-139.3073 353.7387,-123.7161\"/>\n<polygon fill=\"#0000ff\" stroke=\"#0000ff\" points=\"354.3824,-120.2656 343.8186,-121.0768 352.5825,-127.0303 354.3824,-120.2656\"/>\n<text text-anchor=\"middle\" x=\"502.8922\" y=\"-144.8\" font-family=\"Times,serif\" font-size=\"14.00\" fill=\"#000000\">yes, missing</text>\n</g>\n<!-- 16 -->\n<g id=\"node9\" class=\"node\">\n<title>16</title>\n<ellipse fill=\"none\" stroke=\"#000000\" cx=\"610.3922\" cy=\"-105\" rx=\"111.5806\" ry=\"18\"/>\n<text text-anchor=\"middle\" x=\"610.3922\" y=\"-101.3\" font-family=\"Times,serif\" font-size=\"14.00\" fill=\"#000000\">walkDistance&lt;42.1149979</text>\n</g>\n<!-- 7&#45;&gt;16 -->\n<g id=\"edge8\" class=\"edge\">\n<title>7&#45;&gt;16</title>\n<path fill=\"none\" stroke=\"#ff0000\" d=\"M610.3922,-173.9735C610.3922,-162.1918 610.3922,-146.5607 610.3922,-133.1581\"/>\n<polygon fill=\"#ff0000\" stroke=\"#ff0000\" points=\"613.8923,-133.0033 610.3922,-123.0034 606.8923,-133.0034 613.8923,-133.0033\"/>\n<text text-anchor=\"middle\" x=\"618.3922\" y=\"-144.8\" font-family=\"Times,serif\" font-size=\"14.00\" fill=\"#000000\">no</text>\n</g>\n<!-- 17 -->\n<g id=\"node14\" class=\"node\">\n<title>17</title>\n<ellipse fill=\"none\" stroke=\"#000000\" cx=\"1063.3922\" cy=\"-105\" rx=\"61.99\" ry=\"18\"/>\n<text text-anchor=\"middle\" x=\"1063.3922\" y=\"-101.3\" font-family=\"Times,serif\" font-size=\"14.00\" fill=\"#000000\">maxPlace&lt;57</text>\n</g>\n<!-- 8&#45;&gt;17 -->\n<g id=\"edge13\" class=\"edge\">\n<title>8&#45;&gt;17</title>\n<path fill=\"none\" stroke=\"#0000ff\" d=\"M1130.7801,-173.9735C1118.3073,-161.2072 1101.4188,-143.9214 1087.6693,-129.8484\"/>\n<polygon fill=\"#0000ff\" stroke=\"#0000ff\" points=\"1089.8935,-127.1166 1080.4016,-122.4097 1084.8865,-132.0085 1089.8935,-127.1166\"/>\n<text text-anchor=\"middle\" x=\"1146.8922\" y=\"-144.8\" font-family=\"Times,serif\" font-size=\"14.00\" fill=\"#000000\">yes, missing</text>\n</g>\n<!-- 18 -->\n<g id=\"node15\" class=\"node\">\n<title>18</title>\n<ellipse fill=\"none\" stroke=\"#000000\" cx=\"1258.3922\" cy=\"-105\" rx=\"70.6878\" ry=\"18\"/>\n<text text-anchor=\"middle\" x=\"1258.3922\" y=\"-101.3\" font-family=\"Times,serif\" font-size=\"14.00\" fill=\"#000000\">numGroups&lt;40</text>\n</g>\n<!-- 8&#45;&gt;18 -->\n<g id=\"edge14\" class=\"edge\">\n<title>8&#45;&gt;18</title>\n<path fill=\"none\" stroke=\"#ff0000\" d=\"M1170.6523,-174.3943C1187.311,-161.2187 1210.2702,-143.0601 1228.5242,-128.6229\"/>\n<polygon fill=\"#ff0000\" stroke=\"#ff0000\" points=\"1230.8683,-131.2313 1236.5405,-122.2827 1226.526,-125.7409 1230.8683,-131.2313\"/>\n<text text-anchor=\"middle\" x=\"1218.3922\" y=\"-144.8\" font-family=\"Times,serif\" font-size=\"14.00\" fill=\"#000000\">no</text>\n</g>\n<!-- 31 -->\n<g id=\"node10\" class=\"node\">\n<title>31</title>\n<ellipse fill=\"none\" stroke=\"#000000\" cx=\"88.3922\" cy=\"-18\" rx=\"88.2844\" ry=\"18\"/>\n<text text-anchor=\"middle\" x=\"88.3922\" y=\"-14.3\" font-family=\"Times,serif\" font-size=\"14.00\" fill=\"#000000\">leaf=&#45;0.0474237464</text>\n</g>\n<!-- 15&#45;&gt;31 -->\n<g id=\"edge9\" class=\"edge\">\n<title>15&#45;&gt;31</title>\n<path fill=\"none\" stroke=\"#0000ff\" d=\"M244.3997,-87.6033C212.8381,-73.522 168.2968,-53.6497 134.8821,-38.7417\"/>\n<polygon fill=\"#0000ff\" stroke=\"#0000ff\" points=\"135.8937,-35.3605 125.3353,-34.4823 133.0415,-41.7531 135.8937,-35.3605\"/>\n<text text-anchor=\"middle\" x=\"233.8922\" y=\"-57.8\" font-family=\"Times,serif\" font-size=\"14.00\" fill=\"#000000\">yes, missing</text>\n</g>\n<!-- 32 -->\n<g id=\"node11\" class=\"node\">\n<title>32</title>\n<ellipse fill=\"none\" stroke=\"#000000\" cx=\"283.3922\" cy=\"-18\" rx=\"88.2844\" ry=\"18\"/>\n<text text-anchor=\"middle\" x=\"283.3922\" y=\"-14.3\" font-family=\"Times,serif\" font-size=\"14.00\" fill=\"#000000\">leaf=&#45;0.0274983644</text>\n</g>\n<!-- 15&#45;&gt;32 -->\n<g id=\"edge10\" class=\"edge\">\n<title>15&#45;&gt;32</title>\n<path fill=\"none\" stroke=\"#ff0000\" d=\"M283.3922,-86.9735C283.3922,-75.1918 283.3922,-59.5607 283.3922,-46.1581\"/>\n<polygon fill=\"#ff0000\" stroke=\"#ff0000\" points=\"286.8923,-46.0033 283.3922,-36.0034 279.8923,-46.0034 286.8923,-46.0033\"/>\n<text text-anchor=\"middle\" x=\"291.3922\" y=\"-57.8\" font-family=\"Times,serif\" font-size=\"14.00\" fill=\"#000000\">no</text>\n</g>\n<!-- 33 -->\n<g id=\"node12\" class=\"node\">\n<title>33</title>\n<ellipse fill=\"none\" stroke=\"#000000\" cx=\"478.3922\" cy=\"-18\" rx=\"88.2844\" ry=\"18\"/>\n<text text-anchor=\"middle\" x=\"478.3922\" y=\"-14.3\" font-family=\"Times,serif\" font-size=\"14.00\" fill=\"#000000\">leaf=&#45;0.0389886126</text>\n</g>\n<!-- 16&#45;&gt;33 -->\n<g id=\"edge11\" class=\"edge\">\n<title>16&#45;&gt;33</title>\n<path fill=\"none\" stroke=\"#0000ff\" d=\"M583.68,-87.3943C563.3293,-73.9813 535.1433,-55.4042 513.0553,-40.8461\"/>\n<polygon fill=\"#0000ff\" stroke=\"#0000ff\" points=\"514.8898,-37.8635 504.6141,-35.2827 511.0376,-43.7082 514.8898,-37.8635\"/>\n<text text-anchor=\"middle\" x=\"587.8922\" y=\"-57.8\" font-family=\"Times,serif\" font-size=\"14.00\" fill=\"#000000\">yes, missing</text>\n</g>\n<!-- 34 -->\n<g id=\"node13\" class=\"node\">\n<title>34</title>\n<ellipse fill=\"none\" stroke=\"#000000\" cx=\"673.3922\" cy=\"-18\" rx=\"88.2844\" ry=\"18\"/>\n<text text-anchor=\"middle\" x=\"673.3922\" y=\"-14.3\" font-family=\"Times,serif\" font-size=\"14.00\" fill=\"#000000\">leaf=&#45;0.0358034484</text>\n</g>\n<!-- 16&#45;&gt;34 -->\n<g id=\"edge12\" class=\"edge\">\n<title>16&#45;&gt;34</title>\n<path fill=\"none\" stroke=\"#ff0000\" d=\"M623.4458,-86.9735C632.3998,-74.6085 644.424,-58.0036 654.4308,-44.1847\"/>\n<polygon fill=\"#ff0000\" stroke=\"#ff0000\" points=\"657.3249,-46.1556 660.3552,-36.0034 651.6553,-42.05 657.3249,-46.1556\"/>\n<text text-anchor=\"middle\" x=\"654.3922\" y=\"-57.8\" font-family=\"Times,serif\" font-size=\"14.00\" fill=\"#000000\">no</text>\n</g>\n<!-- 35 -->\n<g id=\"node16\" class=\"node\">\n<title>35</title>\n<ellipse fill=\"none\" stroke=\"#000000\" cx=\"868.3922\" cy=\"-18\" rx=\"88.2844\" ry=\"18\"/>\n<text text-anchor=\"middle\" x=\"868.3922\" y=\"-14.3\" font-family=\"Times,serif\" font-size=\"14.00\" fill=\"#000000\">leaf=&#45;0.0286551323</text>\n</g>\n<!-- 17&#45;&gt;35 -->\n<g id=\"edge15\" class=\"edge\">\n<title>17&#45;&gt;35</title>\n<path fill=\"none\" stroke=\"#0000ff\" d=\"M1029.4257,-89.8458C997.5725,-75.6343 949.6948,-54.2735 914.4195,-38.5353\"/>\n<polygon fill=\"#0000ff\" stroke=\"#0000ff\" points=\"915.8435,-35.3381 905.2851,-34.4599 912.9913,-41.7307 915.8435,-35.3381\"/>\n<text text-anchor=\"middle\" x=\"1013.8922\" y=\"-57.8\" font-family=\"Times,serif\" font-size=\"14.00\" fill=\"#000000\">yes, missing</text>\n</g>\n<!-- 36 -->\n<g id=\"node17\" class=\"node\">\n<title>36</title>\n<ellipse fill=\"none\" stroke=\"#000000\" cx=\"1063.3922\" cy=\"-18\" rx=\"88.2844\" ry=\"18\"/>\n<text text-anchor=\"middle\" x=\"1063.3922\" y=\"-14.3\" font-family=\"Times,serif\" font-size=\"14.00\" fill=\"#000000\">leaf=&#45;0.0188938957</text>\n</g>\n<!-- 17&#45;&gt;36 -->\n<g id=\"edge16\" class=\"edge\">\n<title>17&#45;&gt;36</title>\n<path fill=\"none\" stroke=\"#ff0000\" d=\"M1063.3922,-86.9735C1063.3922,-75.1918 1063.3922,-59.5607 1063.3922,-46.1581\"/>\n<polygon fill=\"#ff0000\" stroke=\"#ff0000\" points=\"1066.8923,-46.0033 1063.3922,-36.0034 1059.8923,-46.0034 1066.8923,-46.0033\"/>\n<text text-anchor=\"middle\" x=\"1071.3922\" y=\"-57.8\" font-family=\"Times,serif\" font-size=\"14.00\" fill=\"#000000\">no</text>\n</g>\n<!-- 37 -->\n<g id=\"node18\" class=\"node\">\n<title>37</title>\n<ellipse fill=\"none\" stroke=\"#000000\" cx=\"1258.3922\" cy=\"-18\" rx=\"88.2844\" ry=\"18\"/>\n<text text-anchor=\"middle\" x=\"1258.3922\" y=\"-14.3\" font-family=\"Times,serif\" font-size=\"14.00\" fill=\"#000000\">leaf=&#45;0.0359779075</text>\n</g>\n<!-- 18&#45;&gt;37 -->\n<g id=\"edge17\" class=\"edge\">\n<title>18&#45;&gt;37</title>\n<path fill=\"none\" stroke=\"#0000ff\" d=\"M1258.3922,-86.9735C1258.3922,-75.1918 1258.3922,-59.5607 1258.3922,-46.1581\"/>\n<polygon fill=\"#0000ff\" stroke=\"#0000ff\" points=\"1261.8923,-46.0033 1258.3922,-36.0034 1254.8923,-46.0034 1261.8923,-46.0033\"/>\n<text text-anchor=\"middle\" x=\"1293.8922\" y=\"-57.8\" font-family=\"Times,serif\" font-size=\"14.00\" fill=\"#000000\">yes, missing</text>\n</g>\n<!-- 38 -->\n<g id=\"node19\" class=\"node\">\n<title>38</title>\n<ellipse fill=\"none\" stroke=\"#000000\" cx=\"1453.3922\" cy=\"-18\" rx=\"88.2844\" ry=\"18\"/>\n<text text-anchor=\"middle\" x=\"1453.3922\" y=\"-14.3\" font-family=\"Times,serif\" font-size=\"14.00\" fill=\"#000000\">leaf=&#45;0.0312862508</text>\n</g>\n<!-- 18&#45;&gt;38 -->\n<g id=\"edge18\" class=\"edge\">\n<title>18&#45;&gt;38</title>\n<path fill=\"none\" stroke=\"#ff0000\" d=\"M1293.7052,-89.245C1325.507,-75.0564 1372.458,-54.1091 1407.2259,-38.5973\"/>\n<polygon fill=\"#ff0000\" stroke=\"#ff0000\" points=\"1408.9802,-41.6472 1416.6864,-34.3764 1406.128,-35.2546 1408.9802,-41.6472\"/>\n<text text-anchor=\"middle\" x=\"1376.3922\" y=\"-57.8\" font-family=\"Times,serif\" font-size=\"14.00\" fill=\"#000000\">no</text>\n</g>\n<!-- 19 -->\n<g id=\"node22\" class=\"node\">\n<title>19</title>\n<ellipse fill=\"none\" stroke=\"#000000\" cx=\"1847.3922\" cy=\"-105\" rx=\"70.6878\" ry=\"18\"/>\n<text text-anchor=\"middle\" x=\"1847.3922\" y=\"-101.3\" font-family=\"Times,serif\" font-size=\"14.00\" fill=\"#000000\">numGroups&lt;42</text>\n</g>\n<!-- 9&#45;&gt;19 -->\n<g id=\"edge21\" class=\"edge\">\n<title>9&#45;&gt;19</title>\n<path fill=\"none\" stroke=\"#0000ff\" d=\"M2112.6389,-177.34C2055.3171,-161.7068 1964.8309,-137.0288 1905.7901,-120.9267\"/>\n<polygon fill=\"#0000ff\" stroke=\"#0000ff\" points=\"1906.4401,-117.4762 1895.8715,-118.2216 1904.5982,-124.2296 1906.4401,-117.4762\"/>\n<text text-anchor=\"middle\" x=\"2061.8922\" y=\"-144.8\" font-family=\"Times,serif\" font-size=\"14.00\" fill=\"#000000\">yes, missing</text>\n</g>\n<!-- 20 -->\n<g id=\"node23\" class=\"node\">\n<title>20</title>\n<ellipse fill=\"none\" stroke=\"#000000\" cx=\"2166.3922\" cy=\"-105\" rx=\"66.8882\" ry=\"18\"/>\n<text text-anchor=\"middle\" x=\"2166.3922\" y=\"-101.3\" font-family=\"Times,serif\" font-size=\"14.00\" fill=\"#000000\">matchtype&lt;3.5</text>\n</g>\n<!-- 9&#45;&gt;20 -->\n<g id=\"edge22\" class=\"edge\">\n<title>9&#45;&gt;20</title>\n<path fill=\"none\" stroke=\"#ff0000\" d=\"M2166.3922,-173.9735C2166.3922,-162.1918 2166.3922,-146.5607 2166.3922,-133.1581\"/>\n<polygon fill=\"#ff0000\" stroke=\"#ff0000\" points=\"2169.8923,-133.0033 2166.3922,-123.0034 2162.8923,-133.0034 2169.8923,-133.0033\"/>\n<text text-anchor=\"middle\" x=\"2174.3922\" y=\"-144.8\" font-family=\"Times,serif\" font-size=\"14.00\" fill=\"#000000\">no</text>\n</g>\n<!-- 21 -->\n<g id=\"node28\" class=\"node\">\n<title>21</title>\n<ellipse fill=\"none\" stroke=\"#000000\" cx=\"2565.3922\" cy=\"-105\" rx=\"70.6878\" ry=\"18\"/>\n<text text-anchor=\"middle\" x=\"2565.3922\" y=\"-101.3\" font-family=\"Times,serif\" font-size=\"14.00\" fill=\"#000000\">numGroups&lt;42</text>\n</g>\n<!-- 10&#45;&gt;21 -->\n<g id=\"edge27\" class=\"edge\">\n<title>10&#45;&gt;21</title>\n<path fill=\"none\" stroke=\"#0000ff\" d=\"M2565.3922,-173.9735C2565.3922,-162.1918 2565.3922,-146.5607 2565.3922,-133.1581\"/>\n<polygon fill=\"#0000ff\" stroke=\"#0000ff\" points=\"2568.8923,-133.0033 2565.3922,-123.0034 2561.8923,-133.0034 2568.8923,-133.0033\"/>\n<text text-anchor=\"middle\" x=\"2600.8922\" y=\"-144.8\" font-family=\"Times,serif\" font-size=\"14.00\" fill=\"#000000\">yes, missing</text>\n</g>\n<!-- 22 -->\n<g id=\"node29\" class=\"node\">\n<title>22</title>\n<ellipse fill=\"none\" stroke=\"#000000\" cx=\"2838.3922\" cy=\"-105\" rx=\"70.6878\" ry=\"18\"/>\n<text text-anchor=\"middle\" x=\"2838.3922\" y=\"-101.3\" font-family=\"Times,serif\" font-size=\"14.00\" fill=\"#000000\">numGroups&lt;38</text>\n</g>\n<!-- 10&#45;&gt;22 -->\n<g id=\"edge28\" class=\"edge\">\n<title>10&#45;&gt;22</title>\n<path fill=\"none\" stroke=\"#ff0000\" d=\"M2613.5707,-176.6464C2661.3578,-161.4175 2734.4545,-138.123 2784.2297,-122.2606\"/>\n<polygon fill=\"#ff0000\" stroke=\"#ff0000\" points=\"2785.3942,-125.563 2793.8593,-119.1918 2783.2687,-118.8934 2785.3942,-125.563\"/>\n<text text-anchor=\"middle\" x=\"2726.3922\" y=\"-144.8\" font-family=\"Times,serif\" font-size=\"14.00\" fill=\"#000000\">no</text>\n</g>\n<!-- 39 -->\n<g id=\"node24\" class=\"node\">\n<title>39</title>\n<ellipse fill=\"none\" stroke=\"#000000\" cx=\"1648.3922\" cy=\"-18\" rx=\"88.2844\" ry=\"18\"/>\n<text text-anchor=\"middle\" x=\"1648.3922\" y=\"-14.3\" font-family=\"Times,serif\" font-size=\"14.00\" fill=\"#000000\">leaf=&#45;0.0187603831</text>\n</g>\n<!-- 19&#45;&gt;39 -->\n<g id=\"edge23\" class=\"edge\">\n<title>19&#45;&gt;39</title>\n<path fill=\"none\" stroke=\"#0000ff\" d=\"M1811.3548,-89.245C1778.7619,-74.9958 1730.5766,-53.9299 1695.0512,-38.3987\"/>\n<polygon fill=\"#0000ff\" stroke=\"#0000ff\" points=\"1696.4155,-35.1753 1685.8508,-34.3764 1693.6114,-41.5892 1696.4155,-35.1753\"/>\n<text text-anchor=\"middle\" x=\"1795.8922\" y=\"-57.8\" font-family=\"Times,serif\" font-size=\"14.00\" fill=\"#000000\">yes, missing</text>\n</g>\n<!-- 40 -->\n<g id=\"node25\" class=\"node\">\n<title>40</title>\n<ellipse fill=\"none\" stroke=\"#000000\" cx=\"1847.3922\" cy=\"-18\" rx=\"92.8835\" ry=\"18\"/>\n<text text-anchor=\"middle\" x=\"1847.3922\" y=\"-14.3\" font-family=\"Times,serif\" font-size=\"14.00\" fill=\"#000000\">leaf=&#45;0.00970115326</text>\n</g>\n<!-- 19&#45;&gt;40 -->\n<g id=\"edge24\" class=\"edge\">\n<title>19&#45;&gt;40</title>\n<path fill=\"none\" stroke=\"#ff0000\" d=\"M1847.3922,-86.9735C1847.3922,-75.1918 1847.3922,-59.5607 1847.3922,-46.1581\"/>\n<polygon fill=\"#ff0000\" stroke=\"#ff0000\" points=\"1850.8923,-46.0033 1847.3922,-36.0034 1843.8923,-46.0034 1850.8923,-46.0033\"/>\n<text text-anchor=\"middle\" x=\"1855.3922\" y=\"-57.8\" font-family=\"Times,serif\" font-size=\"14.00\" fill=\"#000000\">no</text>\n</g>\n<!-- 41 -->\n<g id=\"node26\" class=\"node\">\n<title>41</title>\n<ellipse fill=\"none\" stroke=\"#000000\" cx=\"2046.3922\" cy=\"-18\" rx=\"88.2844\" ry=\"18\"/>\n<text text-anchor=\"middle\" x=\"2046.3922\" y=\"-14.3\" font-family=\"Times,serif\" font-size=\"14.00\" fill=\"#000000\">leaf=&#45;0.0204036701</text>\n</g>\n<!-- 20&#45;&gt;41 -->\n<g id=\"edge25\" class=\"edge\">\n<title>20&#45;&gt;41</title>\n<path fill=\"none\" stroke=\"#0000ff\" d=\"M2142.9701,-88.019C2124.7075,-74.7787 2099.134,-56.2379 2078.8904,-41.5613\"/>\n<polygon fill=\"#0000ff\" stroke=\"#0000ff\" points=\"2080.7283,-38.5707 2070.5778,-35.5346 2076.6195,-44.238 2080.7283,-38.5707\"/>\n<text text-anchor=\"middle\" x=\"2149.8922\" y=\"-57.8\" font-family=\"Times,serif\" font-size=\"14.00\" fill=\"#000000\">yes, missing</text>\n</g>\n<!-- 42 -->\n<g id=\"node27\" class=\"node\">\n<title>42</title>\n<ellipse fill=\"none\" stroke=\"#000000\" cx=\"2241.3922\" cy=\"-18\" rx=\"88.2844\" ry=\"18\"/>\n<text text-anchor=\"middle\" x=\"2241.3922\" y=\"-14.3\" font-family=\"Times,serif\" font-size=\"14.00\" fill=\"#000000\">leaf=&#45;0.0288509615</text>\n</g>\n<!-- 20&#45;&gt;42 -->\n<g id=\"edge26\" class=\"edge\">\n<title>20&#45;&gt;42</title>\n<path fill=\"none\" stroke=\"#ff0000\" d=\"M2181.5695,-87.3943C2192.3753,-74.8595 2207.0691,-57.8147 2219.1897,-43.7548\"/>\n<polygon fill=\"#ff0000\" stroke=\"#ff0000\" points=\"2222.1015,-45.7376 2225.9799,-35.8782 2216.7996,-41.167 2222.1015,-45.7376\"/>\n<text text-anchor=\"middle\" x=\"2216.3922\" y=\"-57.8\" font-family=\"Times,serif\" font-size=\"14.00\" fill=\"#000000\">no</text>\n</g>\n<!-- 43 -->\n<g id=\"node30\" class=\"node\">\n<title>43</title>\n<ellipse fill=\"none\" stroke=\"#000000\" cx=\"2440.3922\" cy=\"-18\" rx=\"92.8835\" ry=\"18\"/>\n<text text-anchor=\"middle\" x=\"2440.3922\" y=\"-14.3\" font-family=\"Times,serif\" font-size=\"14.00\" fill=\"#000000\">leaf=&#45;0.00759176258</text>\n</g>\n<!-- 21&#45;&gt;43 -->\n<g id=\"edge29\" class=\"edge\">\n<title>21&#45;&gt;43</title>\n<path fill=\"none\" stroke=\"#0000ff\" d=\"M2540.9942,-88.019C2521.8858,-74.7195 2495.0936,-56.0722 2473.9625,-41.3649\"/>\n<polygon fill=\"#0000ff\" stroke=\"#0000ff\" points=\"2475.7927,-38.3745 2465.5855,-35.5346 2471.7939,-44.1199 2475.7927,-38.3745\"/>\n<text text-anchor=\"middle\" x=\"2545.8922\" y=\"-57.8\" font-family=\"Times,serif\" font-size=\"14.00\" fill=\"#000000\">yes, missing</text>\n</g>\n<!-- 44 -->\n<g id=\"node31\" class=\"node\">\n<title>44</title>\n<ellipse fill=\"none\" stroke=\"#000000\" cx=\"2641.3922\" cy=\"-18\" rx=\"90.1842\" ry=\"18\"/>\n<text text-anchor=\"middle\" x=\"2641.3922\" y=\"-14.3\" font-family=\"Times,serif\" font-size=\"14.00\" fill=\"#000000\">leaf=0.00293149496</text>\n</g>\n<!-- 21&#45;&gt;44 -->\n<g id=\"edge30\" class=\"edge\">\n<title>21&#45;&gt;44</title>\n<path fill=\"none\" stroke=\"#ff0000\" d=\"M2580.7719,-87.3943C2591.7218,-74.8595 2606.6115,-57.8147 2618.8937,-43.7548\"/>\n<polygon fill=\"#ff0000\" stroke=\"#ff0000\" points=\"2621.8314,-45.712 2625.7744,-35.8782 2616.5596,-41.1067 2621.8314,-45.712\"/>\n<text text-anchor=\"middle\" x=\"2616.3922\" y=\"-57.8\" font-family=\"Times,serif\" font-size=\"14.00\" fill=\"#000000\">no</text>\n</g>\n<!-- 45 -->\n<g id=\"node32\" class=\"node\">\n<title>45</title>\n<ellipse fill=\"none\" stroke=\"#000000\" cx=\"2838.3922\" cy=\"-18\" rx=\"88.2844\" ry=\"18\"/>\n<text text-anchor=\"middle\" x=\"2838.3922\" y=\"-14.3\" font-family=\"Times,serif\" font-size=\"14.00\" fill=\"#000000\">leaf=&#45;0.0185022131</text>\n</g>\n<!-- 22&#45;&gt;45 -->\n<g id=\"edge31\" class=\"edge\">\n<title>22&#45;&gt;45</title>\n<path fill=\"none\" stroke=\"#0000ff\" d=\"M2838.3922,-86.9735C2838.3922,-75.1918 2838.3922,-59.5607 2838.3922,-46.1581\"/>\n<polygon fill=\"#0000ff\" stroke=\"#0000ff\" points=\"2841.8923,-46.0033 2838.3922,-36.0034 2834.8923,-46.0034 2841.8923,-46.0033\"/>\n<text text-anchor=\"middle\" x=\"2873.8922\" y=\"-57.8\" font-family=\"Times,serif\" font-size=\"14.00\" fill=\"#000000\">yes, missing</text>\n</g>\n<!-- 46 -->\n<g id=\"node33\" class=\"node\">\n<title>46</title>\n<ellipse fill=\"none\" stroke=\"#000000\" cx=\"3037.3922\" cy=\"-18\" rx=\"92.8835\" ry=\"18\"/>\n<text text-anchor=\"middle\" x=\"3037.3922\" y=\"-14.3\" font-family=\"Times,serif\" font-size=\"14.00\" fill=\"#000000\">leaf=&#45;0.00808671396</text>\n</g>\n<!-- 22&#45;&gt;46 -->\n<g id=\"edge32\" class=\"edge\">\n<title>22&#45;&gt;46</title>\n<path fill=\"none\" stroke=\"#ff0000\" d=\"M2874.4296,-89.245C2906.9196,-75.0408 2954.9038,-54.0627 2990.3965,-38.5458\"/>\n<polygon fill=\"#ff0000\" stroke=\"#ff0000\" points=\"2991.8317,-41.7383 2999.5923,-34.5255 2989.0277,-35.3245 2991.8317,-41.7383\"/>\n<text text-anchor=\"middle\" x=\"2958.3922\" y=\"-57.8\" font-family=\"Times,serif\" font-size=\"14.00\" fill=\"#000000\">no</text>\n</g>\n<!-- 11 -->\n<g id=\"node36\" class=\"node\">\n<title>11</title>\n<ellipse fill=\"none\" stroke=\"#000000\" cx=\"3681.3922\" cy=\"-192\" rx=\"70.6878\" ry=\"18\"/>\n<text text-anchor=\"middle\" x=\"3681.3922\" y=\"-188.3\" font-family=\"Times,serif\" font-size=\"14.00\" fill=\"#000000\">numGroups&lt;44</text>\n</g>\n<!-- 5&#45;&gt;11 -->\n<g id=\"edge35\" class=\"edge\">\n<title>5&#45;&gt;11</title>\n<path fill=\"none\" stroke=\"#0000ff\" d=\"M3840.8743,-262.4312C3808.2207,-248.0106 3760.826,-227.0799 3726.1903,-211.7839\"/>\n<polygon fill=\"#0000ff\" stroke=\"#0000ff\" points=\"3727.344,-208.4674 3716.7824,-207.6292 3724.5161,-214.8708 3727.344,-208.4674\"/>\n<text text-anchor=\"middle\" x=\"3827.8922\" y=\"-231.8\" font-family=\"Times,serif\" font-size=\"14.00\" fill=\"#000000\">yes, missing</text>\n</g>\n<!-- 12 -->\n<g id=\"node37\" class=\"node\">\n<title>12</title>\n<ellipse fill=\"none\" stroke=\"#000000\" cx=\"4164.3922\" cy=\"-192\" rx=\"61.99\" ry=\"18\"/>\n<text text-anchor=\"middle\" x=\"4164.3922\" y=\"-188.3\" font-family=\"Times,serif\" font-size=\"14.00\" fill=\"#000000\">maxPlace&lt;43</text>\n</g>\n<!-- 5&#45;&gt;12 -->\n<g id=\"edge36\" class=\"edge\">\n<title>5&#45;&gt;12</title>\n<path fill=\"none\" stroke=\"#ff0000\" d=\"M3928.5368,-263.7462C3979.8582,-248.1345 4059.2916,-223.9711 4111.5665,-208.0693\"/>\n<polygon fill=\"#ff0000\" stroke=\"#ff0000\" points=\"4112.772,-211.3611 4121.3205,-205.1022 4110.7347,-204.6641 4112.772,-211.3611\"/>\n<text text-anchor=\"middle\" x=\"4047.3922\" y=\"-231.8\" font-family=\"Times,serif\" font-size=\"14.00\" fill=\"#000000\">no</text>\n</g>\n<!-- 13 -->\n<g id=\"node50\" class=\"node\">\n<title>13</title>\n<ellipse fill=\"none\" stroke=\"#000000\" cx=\"5041.3922\" cy=\"-192\" rx=\"92.8835\" ry=\"18\"/>\n<text text-anchor=\"middle\" x=\"5041.3922\" y=\"-188.3\" font-family=\"Times,serif\" font-size=\"14.00\" fill=\"#000000\">walkDistance&lt;2453.5</text>\n</g>\n<!-- 6&#45;&gt;13 -->\n<g id=\"edge49\" class=\"edge\">\n<title>6&#45;&gt;13</title>\n<path fill=\"none\" stroke=\"#0000ff\" d=\"M5041.3922,-260.9735C5041.3922,-249.1918 5041.3922,-233.5607 5041.3922,-220.1581\"/>\n<polygon fill=\"#0000ff\" stroke=\"#0000ff\" points=\"5044.8923,-220.0033 5041.3922,-210.0034 5037.8923,-220.0034 5044.8923,-220.0033\"/>\n<text text-anchor=\"middle\" x=\"5076.8922\" y=\"-231.8\" font-family=\"Times,serif\" font-size=\"14.00\" fill=\"#000000\">yes, missing</text>\n</g>\n<!-- 14 -->\n<g id=\"node51\" class=\"node\">\n<title>14</title>\n<ellipse fill=\"none\" stroke=\"#000000\" cx=\"5580.3922\" cy=\"-192\" rx=\"92.8835\" ry=\"18\"/>\n<text text-anchor=\"middle\" x=\"5580.3922\" y=\"-188.3\" font-family=\"Times,serif\" font-size=\"14.00\" fill=\"#000000\">walkDistance&lt;2555.5</text>\n</g>\n<!-- 6&#45;&gt;14 -->\n<g id=\"edge50\" class=\"edge\">\n<title>6&#45;&gt;14</title>\n<path fill=\"none\" stroke=\"#ff0000\" d=\"M5083.2381,-272.2456C5172.4041,-257.8534 5382.4679,-223.947 5498.9809,-205.1406\"/>\n<polygon fill=\"#ff0000\" stroke=\"#ff0000\" points=\"5499.6103,-208.5844 5508.9247,-203.5356 5498.4948,-201.6738 5499.6103,-208.5844\"/>\n<text text-anchor=\"middle\" x=\"5351.3922\" y=\"-231.8\" font-family=\"Times,serif\" font-size=\"14.00\" fill=\"#000000\">no</text>\n</g>\n<!-- 23 -->\n<g id=\"node38\" class=\"node\">\n<title>23</title>\n<ellipse fill=\"none\" stroke=\"#000000\" cx=\"3421.3922\" cy=\"-105\" rx=\"90.9839\" ry=\"18\"/>\n<text text-anchor=\"middle\" x=\"3421.3922\" y=\"-101.3\" font-family=\"Times,serif\" font-size=\"14.00\" fill=\"#000000\">matchDuration&lt;1632</text>\n</g>\n<!-- 11&#45;&gt;23 -->\n<g id=\"edge37\" class=\"edge\">\n<title>11&#45;&gt;23</title>\n<path fill=\"none\" stroke=\"#0000ff\" d=\"M3638.4584,-177.6337C3594.4691,-162.9142 3525.8642,-139.958 3477.5787,-123.8009\"/>\n<polygon fill=\"#0000ff\" stroke=\"#0000ff\" points=\"3478.4969,-120.4174 3467.9031,-120.5633 3476.2756,-127.0557 3478.4969,-120.4174\"/>\n<text text-anchor=\"middle\" x=\"3602.8922\" y=\"-144.8\" font-family=\"Times,serif\" font-size=\"14.00\" fill=\"#000000\">yes, missing</text>\n</g>\n<!-- 24 -->\n<g id=\"node39\" class=\"node\">\n<title>24</title>\n<ellipse fill=\"none\" stroke=\"#000000\" cx=\"3681.3922\" cy=\"-105\" rx=\"90.9839\" ry=\"18\"/>\n<text text-anchor=\"middle\" x=\"3681.3922\" y=\"-101.3\" font-family=\"Times,serif\" font-size=\"14.00\" fill=\"#000000\">matchDuration&lt;1600</text>\n</g>\n<!-- 11&#45;&gt;24 -->\n<g id=\"edge38\" class=\"edge\">\n<title>11&#45;&gt;24</title>\n<path fill=\"none\" stroke=\"#ff0000\" d=\"M3681.3922,-173.9735C3681.3922,-162.1918 3681.3922,-146.5607 3681.3922,-133.1581\"/>\n<polygon fill=\"#ff0000\" stroke=\"#ff0000\" points=\"3684.8923,-133.0033 3681.3922,-123.0034 3677.8923,-133.0034 3684.8923,-133.0033\"/>\n<text text-anchor=\"middle\" x=\"3689.3922\" y=\"-144.8\" font-family=\"Times,serif\" font-size=\"14.00\" fill=\"#000000\">no</text>\n</g>\n<!-- 25 -->\n<g id=\"node44\" class=\"node\">\n<title>25</title>\n<ellipse fill=\"none\" stroke=\"#000000\" cx=\"4164.3922\" cy=\"-105\" rx=\"44.6926\" ry=\"18\"/>\n<text text-anchor=\"middle\" x=\"4164.3922\" y=\"-101.3\" font-family=\"Times,serif\" font-size=\"14.00\" fill=\"#000000\">boosts&lt;2</text>\n</g>\n<!-- 12&#45;&gt;25 -->\n<g id=\"edge43\" class=\"edge\">\n<title>12&#45;&gt;25</title>\n<path fill=\"none\" stroke=\"#0000ff\" d=\"M4164.3922,-173.9735C4164.3922,-162.1918 4164.3922,-146.5607 4164.3922,-133.1581\"/>\n<polygon fill=\"#0000ff\" stroke=\"#0000ff\" points=\"4167.8923,-133.0033 4164.3922,-123.0034 4160.8923,-133.0034 4167.8923,-133.0033\"/>\n<text text-anchor=\"middle\" x=\"4199.8922\" y=\"-144.8\" font-family=\"Times,serif\" font-size=\"14.00\" fill=\"#000000\">yes, missing</text>\n</g>\n<!-- 26 -->\n<g id=\"node45\" class=\"node\">\n<title>26</title>\n<ellipse fill=\"none\" stroke=\"#000000\" cx=\"4382.3922\" cy=\"-105\" rx=\"44.6926\" ry=\"18\"/>\n<text text-anchor=\"middle\" x=\"4382.3922\" y=\"-101.3\" font-family=\"Times,serif\" font-size=\"14.00\" fill=\"#000000\">boosts&lt;3</text>\n</g>\n<!-- 12&#45;&gt;26 -->\n<g id=\"edge44\" class=\"edge\">\n<title>12&#45;&gt;26</title>\n<path fill=\"none\" stroke=\"#ff0000\" d=\"M4200.8805,-177.4382C4239.5941,-161.9882 4300.6422,-137.625 4341.0942,-121.4813\"/>\n<polygon fill=\"#ff0000\" stroke=\"#ff0000\" points=\"4342.4135,-124.7233 4350.4039,-117.766 4339.8189,-118.2219 4342.4135,-124.7233\"/>\n<text text-anchor=\"middle\" x=\"4295.3922\" y=\"-144.8\" font-family=\"Times,serif\" font-size=\"14.00\" fill=\"#000000\">no</text>\n</g>\n<!-- 47 -->\n<g id=\"node40\" class=\"node\">\n<title>47</title>\n<ellipse fill=\"none\" stroke=\"#000000\" cx=\"3229.3922\" cy=\"-18\" rx=\"80.6858\" ry=\"18\"/>\n<text text-anchor=\"middle\" x=\"3229.3922\" y=\"-14.3\" font-family=\"Times,serif\" font-size=\"14.00\" fill=\"#000000\">leaf=0.004506364</text>\n</g>\n<!-- 23&#45;&gt;47 -->\n<g id=\"edge39\" class=\"edge\">\n<title>23&#45;&gt;47</title>\n<path fill=\"none\" stroke=\"#0000ff\" d=\"M3384.8265,-88.4312C3353.3995,-74.1908 3307.9625,-53.6022 3274.3249,-38.3602\"/>\n<polygon fill=\"#0000ff\" stroke=\"#0000ff\" points=\"3275.7249,-35.152 3265.1717,-34.2126 3272.8357,-41.528 3275.7249,-35.152\"/>\n<text text-anchor=\"middle\" x=\"3372.8922\" y=\"-57.8\" font-family=\"Times,serif\" font-size=\"14.00\" fill=\"#000000\">yes, missing</text>\n</g>\n<!-- 48 -->\n<g id=\"node41\" class=\"node\">\n<title>48</title>\n<ellipse fill=\"none\" stroke=\"#000000\" cx=\"3421.3922\" cy=\"-18\" rx=\"92.8835\" ry=\"18\"/>\n<text text-anchor=\"middle\" x=\"3421.3922\" y=\"-14.3\" font-family=\"Times,serif\" font-size=\"14.00\" fill=\"#000000\">leaf=&#45;0.00496975332</text>\n</g>\n<!-- 23&#45;&gt;48 -->\n<g id=\"edge40\" class=\"edge\">\n<title>23&#45;&gt;48</title>\n<path fill=\"none\" stroke=\"#ff0000\" d=\"M3421.3922,-86.9735C3421.3922,-75.1918 3421.3922,-59.5607 3421.3922,-46.1581\"/>\n<polygon fill=\"#ff0000\" stroke=\"#ff0000\" points=\"3424.8923,-46.0033 3421.3922,-36.0034 3417.8923,-46.0034 3424.8923,-46.0033\"/>\n<text text-anchor=\"middle\" x=\"3429.3922\" y=\"-57.8\" font-family=\"Times,serif\" font-size=\"14.00\" fill=\"#000000\">no</text>\n</g>\n<!-- 49 -->\n<g id=\"node42\" class=\"node\">\n<title>49</title>\n<ellipse fill=\"none\" stroke=\"#000000\" cx=\"3613.3922\" cy=\"-18\" rx=\"80.6858\" ry=\"18\"/>\n<text text-anchor=\"middle\" x=\"3613.3922\" y=\"-14.3\" font-family=\"Times,serif\" font-size=\"14.00\" fill=\"#000000\">leaf=0.015224576</text>\n</g>\n<!-- 24&#45;&gt;49 -->\n<g id=\"edge41\" class=\"edge\">\n<title>24&#45;&gt;49</title>\n<path fill=\"none\" stroke=\"#0000ff\" d=\"M3667.3025,-86.9735C3657.6379,-74.6085 3644.6593,-58.0036 3633.8584,-44.1847\"/>\n<polygon fill=\"#0000ff\" stroke=\"#0000ff\" points=\"3636.3796,-41.7269 3627.4638,-36.0034 3630.8644,-46.0376 3636.3796,-41.7269\"/>\n<text text-anchor=\"middle\" x=\"3687.8922\" y=\"-57.8\" font-family=\"Times,serif\" font-size=\"14.00\" fill=\"#000000\">yes, missing</text>\n</g>\n<!-- 50 -->\n<g id=\"node43\" class=\"node\">\n<title>50</title>\n<ellipse fill=\"none\" stroke=\"#000000\" cx=\"3802.3922\" cy=\"-18\" rx=\"90.1842\" ry=\"18\"/>\n<text text-anchor=\"middle\" x=\"3802.3922\" y=\"-14.3\" font-family=\"Times,serif\" font-size=\"14.00\" fill=\"#000000\">leaf=0.00558645278</text>\n</g>\n<!-- 24&#45;&gt;50 -->\n<g id=\"edge42\" class=\"edge\">\n<title>24&#45;&gt;50</title>\n<path fill=\"none\" stroke=\"#ff0000\" d=\"M3705.5875,-87.6033C3724.0533,-74.3263 3749.6795,-55.9008 3769.9271,-41.3427\"/>\n<polygon fill=\"#ff0000\" stroke=\"#ff0000\" points=\"3772.1628,-44.046 3778.2388,-35.3665 3768.0763,-38.3626 3772.1628,-44.046\"/>\n<text text-anchor=\"middle\" x=\"3757.3922\" y=\"-57.8\" font-family=\"Times,serif\" font-size=\"14.00\" fill=\"#000000\">no</text>\n</g>\n<!-- 51 -->\n<g id=\"node46\" class=\"node\">\n<title>51</title>\n<ellipse fill=\"none\" stroke=\"#000000\" cx=\"4001.3922\" cy=\"-18\" rx=\"90.1842\" ry=\"18\"/>\n<text text-anchor=\"middle\" x=\"4001.3922\" y=\"-14.3\" font-family=\"Times,serif\" font-size=\"14.00\" fill=\"#000000\">leaf=0.00790676475</text>\n</g>\n<!-- 25&#45;&gt;51 -->\n<g id=\"edge45\" class=\"edge\">\n<title>25&#45;&gt;51</title>\n<path fill=\"none\" stroke=\"#0000ff\" d=\"M4137.1096,-90.4382C4111.1557,-76.5855 4071.7766,-55.5671 4042.1099,-39.7328\"/>\n<polygon fill=\"#0000ff\" stroke=\"#0000ff\" points=\"4043.7106,-36.6198 4033.2405,-34.9988 4040.4145,-42.7953 4043.7106,-36.6198\"/>\n<text text-anchor=\"middle\" x=\"4128.8922\" y=\"-57.8\" font-family=\"Times,serif\" font-size=\"14.00\" fill=\"#000000\">yes, missing</text>\n</g>\n<!-- 52 -->\n<g id=\"node47\" class=\"node\">\n<title>52</title>\n<ellipse fill=\"none\" stroke=\"#000000\" cx=\"4194.3922\" cy=\"-18\" rx=\"85.2851\" ry=\"18\"/>\n<text text-anchor=\"middle\" x=\"4194.3922\" y=\"-14.3\" font-family=\"Times,serif\" font-size=\"14.00\" fill=\"#000000\">leaf=0.0166365691</text>\n</g>\n<!-- 25&#45;&gt;52 -->\n<g id=\"edge46\" class=\"edge\">\n<title>25&#45;&gt;52</title>\n<path fill=\"none\" stroke=\"#ff0000\" d=\"M4170.6082,-86.9735C4174.7111,-75.0751 4180.1678,-59.2508 4184.8195,-45.7606\"/>\n<polygon fill=\"#ff0000\" stroke=\"#ff0000\" points=\"4188.2329,-46.5981 4188.1841,-36.0034 4181.6153,-44.3161 4188.2329,-46.5981\"/>\n<text text-anchor=\"middle\" x=\"4189.3922\" y=\"-57.8\" font-family=\"Times,serif\" font-size=\"14.00\" fill=\"#000000\">no</text>\n</g>\n<!-- 53 -->\n<g id=\"node48\" class=\"node\">\n<title>53</title>\n<ellipse fill=\"none\" stroke=\"#000000\" cx=\"4382.3922\" cy=\"-18\" rx=\"85.2851\" ry=\"18\"/>\n<text text-anchor=\"middle\" x=\"4382.3922\" y=\"-14.3\" font-family=\"Times,serif\" font-size=\"14.00\" fill=\"#000000\">leaf=0.0185655244</text>\n</g>\n<!-- 26&#45;&gt;53 -->\n<g id=\"edge47\" class=\"edge\">\n<title>26&#45;&gt;53</title>\n<path fill=\"none\" stroke=\"#0000ff\" d=\"M4382.3922,-86.9735C4382.3922,-75.1918 4382.3922,-59.5607 4382.3922,-46.1581\"/>\n<polygon fill=\"#0000ff\" stroke=\"#0000ff\" points=\"4385.8923,-46.0033 4382.3922,-36.0034 4378.8923,-46.0034 4385.8923,-46.0033\"/>\n<text text-anchor=\"middle\" x=\"4417.8922\" y=\"-57.8\" font-family=\"Times,serif\" font-size=\"14.00\" fill=\"#000000\">yes, missing</text>\n</g>\n<!-- 54 -->\n<g id=\"node49\" class=\"node\">\n<title>54</title>\n<ellipse fill=\"none\" stroke=\"#000000\" cx=\"4570.3922\" cy=\"-18\" rx=\"85.2851\" ry=\"18\"/>\n<text text-anchor=\"middle\" x=\"4570.3922\" y=\"-14.3\" font-family=\"Times,serif\" font-size=\"14.00\" fill=\"#000000\">leaf=0.0296022929</text>\n</g>\n<!-- 26&#45;&gt;54 -->\n<g id=\"edge48\" class=\"edge\">\n<title>26&#45;&gt;54</title>\n<path fill=\"none\" stroke=\"#ff0000\" d=\"M4412.1813,-91.2146C4442.7854,-77.0521 4490.7837,-54.8401 4525.8922,-38.5931\"/>\n<polygon fill=\"#ff0000\" stroke=\"#ff0000\" points=\"4527.3684,-41.7666 4534.9739,-34.3904 4524.4286,-35.4138 4527.3684,-41.7666\"/>\n<text text-anchor=\"middle\" x=\"4496.3922\" y=\"-57.8\" font-family=\"Times,serif\" font-size=\"14.00\" fill=\"#000000\">no</text>\n</g>\n<!-- 27 -->\n<g id=\"node52\" class=\"node\">\n<title>27</title>\n<ellipse fill=\"none\" stroke=\"#000000\" cx=\"4940.3922\" cy=\"-105\" rx=\"90.9839\" ry=\"18\"/>\n<text text-anchor=\"middle\" x=\"4940.3922\" y=\"-101.3\" font-family=\"Times,serif\" font-size=\"14.00\" fill=\"#000000\">matchDuration&lt;1592</text>\n</g>\n<!-- 13&#45;&gt;27 -->\n<g id=\"edge51\" class=\"edge\">\n<title>13&#45;&gt;27</title>\n<path fill=\"none\" stroke=\"#0000ff\" d=\"M5020.9533,-174.3943C5005.8944,-161.4228 4985.2284,-143.6213 4968.5981,-129.2962\"/>\n<polygon fill=\"#0000ff\" stroke=\"#0000ff\" points=\"4970.6616,-126.4542 4960.8006,-122.5796 4966.093,-131.7579 4970.6616,-126.4542\"/>\n<text text-anchor=\"middle\" x=\"5032.8922\" y=\"-144.8\" font-family=\"Times,serif\" font-size=\"14.00\" fill=\"#000000\">yes, missing</text>\n</g>\n<!-- 28 -->\n<g id=\"node53\" class=\"node\">\n<title>28</title>\n<ellipse fill=\"none\" stroke=\"#000000\" cx=\"5140.3922\" cy=\"-105\" rx=\"90.9839\" ry=\"18\"/>\n<text text-anchor=\"middle\" x=\"5140.3922\" y=\"-101.3\" font-family=\"Times,serif\" font-size=\"14.00\" fill=\"#000000\">matchDuration&lt;1612</text>\n</g>\n<!-- 13&#45;&gt;28 -->\n<g id=\"edge52\" class=\"edge\">\n<title>13&#45;&gt;28</title>\n<path fill=\"none\" stroke=\"#ff0000\" d=\"M5061.4263,-174.3943C5076.187,-161.4228 5096.4437,-143.6213 5112.7447,-129.2962\"/>\n<polygon fill=\"#ff0000\" stroke=\"#ff0000\" points=\"5115.1866,-131.8098 5120.3878,-122.5796 5110.5657,-126.5517 5115.1866,-131.8098\"/>\n<text text-anchor=\"middle\" x=\"5105.3922\" y=\"-144.8\" font-family=\"Times,serif\" font-size=\"14.00\" fill=\"#000000\">no</text>\n</g>\n<!-- 29 -->\n<g id=\"node58\" class=\"node\">\n<title>29</title>\n<ellipse fill=\"none\" stroke=\"#000000\" cx=\"5580.3922\" cy=\"-105\" rx=\"44.6926\" ry=\"18\"/>\n<text text-anchor=\"middle\" x=\"5580.3922\" y=\"-101.3\" font-family=\"Times,serif\" font-size=\"14.00\" fill=\"#000000\">boosts&lt;5</text>\n</g>\n<!-- 14&#45;&gt;29 -->\n<g id=\"edge57\" class=\"edge\">\n<title>14&#45;&gt;29</title>\n<path fill=\"none\" stroke=\"#0000ff\" d=\"M5580.3922,-173.9735C5580.3922,-162.1918 5580.3922,-146.5607 5580.3922,-133.1581\"/>\n<polygon fill=\"#0000ff\" stroke=\"#0000ff\" points=\"5583.8923,-133.0033 5580.3922,-123.0034 5576.8923,-133.0034 5583.8923,-133.0033\"/>\n<text text-anchor=\"middle\" x=\"5615.8922\" y=\"-144.8\" font-family=\"Times,serif\" font-size=\"14.00\" fill=\"#000000\">yes, missing</text>\n</g>\n<!-- 30 -->\n<g id=\"node59\" class=\"node\">\n<title>30</title>\n<ellipse fill=\"none\" stroke=\"#000000\" cx=\"5886.3922\" cy=\"-105\" rx=\"36.2938\" ry=\"18\"/>\n<text text-anchor=\"middle\" x=\"5886.3922\" y=\"-101.3\" font-family=\"Times,serif\" font-size=\"14.00\" fill=\"#000000\">kills&lt;3</text>\n</g>\n<!-- 14&#45;&gt;30 -->\n<g id=\"edge58\" class=\"edge\">\n<title>14&#45;&gt;30</title>\n<path fill=\"none\" stroke=\"#ff0000\" d=\"M5632.9954,-177.0442C5692.9986,-159.9845 5789.886,-132.438 5844.8419,-116.8133\"/>\n<polygon fill=\"#ff0000\" stroke=\"#ff0000\" points=\"5845.9355,-120.1412 5854.5971,-114.0398 5844.0211,-113.408 5845.9355,-120.1412\"/>\n<text text-anchor=\"middle\" x=\"5760.3922\" y=\"-144.8\" font-family=\"Times,serif\" font-size=\"14.00\" fill=\"#000000\">no</text>\n</g>\n<!-- 55 -->\n<g id=\"node54\" class=\"node\">\n<title>55</title>\n<ellipse fill=\"none\" stroke=\"#000000\" cx=\"4758.3922\" cy=\"-18\" rx=\"85.2851\" ry=\"18\"/>\n<text text-anchor=\"middle\" x=\"4758.3922\" y=\"-14.3\" font-family=\"Times,serif\" font-size=\"14.00\" fill=\"#000000\">leaf=0.0262614191</text>\n</g>\n<!-- 27&#45;&gt;55 -->\n<g id=\"edge53\" class=\"edge\">\n<title>27&#45;&gt;55</title>\n<path fill=\"none\" stroke=\"#0000ff\" d=\"M4905.3007,-88.2255C4875.8741,-74.159 4833.7129,-54.005 4802.0983,-38.8925\"/>\n<polygon fill=\"#0000ff\" stroke=\"#0000ff\" points=\"4803.5985,-35.7303 4793.0668,-34.5752 4800.5795,-42.0459 4803.5985,-35.7303\"/>\n<text text-anchor=\"middle\" x=\"4895.8922\" y=\"-57.8\" font-family=\"Times,serif\" font-size=\"14.00\" fill=\"#000000\">yes, missing</text>\n</g>\n<!-- 56 -->\n<g id=\"node55\" class=\"node\">\n<title>56</title>\n<ellipse fill=\"none\" stroke=\"#000000\" cx=\"4946.3922\" cy=\"-18\" rx=\"85.2851\" ry=\"18\"/>\n<text text-anchor=\"middle\" x=\"4946.3922\" y=\"-14.3\" font-family=\"Times,serif\" font-size=\"14.00\" fill=\"#000000\">leaf=0.0168212634</text>\n</g>\n<!-- 27&#45;&gt;56 -->\n<g id=\"edge54\" class=\"edge\">\n<title>27&#45;&gt;56</title>\n<path fill=\"none\" stroke=\"#ff0000\" d=\"M4941.6354,-86.9735C4942.4479,-75.1918 4943.5259,-59.5607 4944.4502,-46.1581\"/>\n<polygon fill=\"#ff0000\" stroke=\"#ff0000\" points=\"4947.9541,-46.2205 4945.1505,-36.0034 4940.9707,-45.7388 4947.9541,-46.2205\"/>\n<text text-anchor=\"middle\" x=\"4952.3922\" y=\"-57.8\" font-family=\"Times,serif\" font-size=\"14.00\" fill=\"#000000\">no</text>\n</g>\n<!-- 57 -->\n<g id=\"node56\" class=\"node\">\n<title>57</title>\n<ellipse fill=\"none\" stroke=\"#000000\" cx=\"5134.3922\" cy=\"-18\" rx=\"85.2851\" ry=\"18\"/>\n<text text-anchor=\"middle\" x=\"5134.3922\" y=\"-14.3\" font-family=\"Times,serif\" font-size=\"14.00\" fill=\"#000000\">leaf=0.0354988091</text>\n</g>\n<!-- 28&#45;&gt;57 -->\n<g id=\"edge55\" class=\"edge\">\n<title>28&#45;&gt;57</title>\n<path fill=\"none\" stroke=\"#0000ff\" d=\"M5139.149,-86.9735C5138.3364,-75.1918 5137.2584,-59.5607 5136.3341,-46.1581\"/>\n<polygon fill=\"#0000ff\" stroke=\"#0000ff\" points=\"5139.8136,-45.7388 5135.6338,-36.0034 5132.8302,-46.2205 5139.8136,-45.7388\"/>\n<text text-anchor=\"middle\" x=\"5173.8922\" y=\"-57.8\" font-family=\"Times,serif\" font-size=\"14.00\" fill=\"#000000\">yes, missing</text>\n</g>\n<!-- 58 -->\n<g id=\"node57\" class=\"node\">\n<title>58</title>\n<ellipse fill=\"none\" stroke=\"#000000\" cx=\"5322.3922\" cy=\"-18\" rx=\"85.2851\" ry=\"18\"/>\n<text text-anchor=\"middle\" x=\"5322.3922\" y=\"-14.3\" font-family=\"Times,serif\" font-size=\"14.00\" fill=\"#000000\">leaf=0.0273427367</text>\n</g>\n<!-- 28&#45;&gt;58 -->\n<g id=\"edge56\" class=\"edge\">\n<title>28&#45;&gt;58</title>\n<path fill=\"none\" stroke=\"#ff0000\" d=\"M5175.4836,-88.2255C5204.9102,-74.159 5247.0714,-54.005 5278.686,-38.8925\"/>\n<polygon fill=\"#ff0000\" stroke=\"#ff0000\" points=\"5280.2048,-42.0459 5287.7175,-34.5752 5277.1858,-35.7303 5280.2048,-42.0459\"/>\n<text text-anchor=\"middle\" x=\"5250.3922\" y=\"-57.8\" font-family=\"Times,serif\" font-size=\"14.00\" fill=\"#000000\">no</text>\n</g>\n<!-- 59 -->\n<g id=\"node60\" class=\"node\">\n<title>59</title>\n<ellipse fill=\"none\" stroke=\"#000000\" cx=\"5510.3922\" cy=\"-18\" rx=\"85.2851\" ry=\"18\"/>\n<text text-anchor=\"middle\" x=\"5510.3922\" y=\"-14.3\" font-family=\"Times,serif\" font-size=\"14.00\" fill=\"#000000\">leaf=0.0307567418</text>\n</g>\n<!-- 29&#45;&gt;59 -->\n<g id=\"edge59\" class=\"edge\">\n<title>29&#45;&gt;59</title>\n<path fill=\"none\" stroke=\"#0000ff\" d=\"M5566.5624,-87.8116C5556.437,-75.2272 5542.5253,-57.9369 5531.0802,-43.7122\"/>\n<polygon fill=\"#0000ff\" stroke=\"#0000ff\" points=\"5533.6695,-41.3471 5524.6738,-35.75 5528.2156,-45.7353 5533.6695,-41.3471\"/>\n<text text-anchor=\"middle\" x=\"5585.8922\" y=\"-57.8\" font-family=\"Times,serif\" font-size=\"14.00\" fill=\"#000000\">yes, missing</text>\n</g>\n<!-- 60 -->\n<g id=\"node61\" class=\"node\">\n<title>60</title>\n<ellipse fill=\"none\" stroke=\"#000000\" cx=\"5698.3922\" cy=\"-18\" rx=\"85.2851\" ry=\"18\"/>\n<text text-anchor=\"middle\" x=\"5698.3922\" y=\"-14.3\" font-family=\"Times,serif\" font-size=\"14.00\" fill=\"#000000\">leaf=0.0373624302</text>\n</g>\n<!-- 29&#45;&gt;60 -->\n<g id=\"edge60\" class=\"edge\">\n<title>29&#45;&gt;60</title>\n<path fill=\"none\" stroke=\"#ff0000\" d=\"M5602.0352,-89.0429C5620.1632,-75.6773 5646.2843,-56.4185 5666.7579,-41.3236\"/>\n<polygon fill=\"#ff0000\" stroke=\"#ff0000\" points=\"5668.8912,-44.0992 5674.863,-35.3478 5664.7371,-38.465 5668.8912,-44.0992\"/>\n<text text-anchor=\"middle\" x=\"5655.3922\" y=\"-57.8\" font-family=\"Times,serif\" font-size=\"14.00\" fill=\"#000000\">no</text>\n</g>\n<!-- 61 -->\n<g id=\"node62\" class=\"node\">\n<title>61</title>\n<ellipse fill=\"none\" stroke=\"#000000\" cx=\"5886.3922\" cy=\"-18\" rx=\"85.2851\" ry=\"18\"/>\n<text text-anchor=\"middle\" x=\"5886.3922\" y=\"-14.3\" font-family=\"Times,serif\" font-size=\"14.00\" fill=\"#000000\">leaf=0.0369577371</text>\n</g>\n<!-- 30&#45;&gt;61 -->\n<g id=\"edge61\" class=\"edge\">\n<title>30&#45;&gt;61</title>\n<path fill=\"none\" stroke=\"#0000ff\" d=\"M5886.3922,-86.9735C5886.3922,-75.1918 5886.3922,-59.5607 5886.3922,-46.1581\"/>\n<polygon fill=\"#0000ff\" stroke=\"#0000ff\" points=\"5889.8923,-46.0033 5886.3922,-36.0034 5882.8923,-46.0034 5889.8923,-46.0033\"/>\n<text text-anchor=\"middle\" x=\"5921.8922\" y=\"-57.8\" font-family=\"Times,serif\" font-size=\"14.00\" fill=\"#000000\">yes, missing</text>\n</g>\n<!-- 62 -->\n<g id=\"node63\" class=\"node\">\n<title>62</title>\n<ellipse fill=\"none\" stroke=\"#000000\" cx=\"6074.3922\" cy=\"-18\" rx=\"85.2851\" ry=\"18\"/>\n<text text-anchor=\"middle\" x=\"6074.3922\" y=\"-14.3\" font-family=\"Times,serif\" font-size=\"14.00\" fill=\"#000000\">leaf=0.0424767993</text>\n</g>\n<!-- 30&#45;&gt;62 -->\n<g id=\"edge62\" class=\"edge\">\n<title>30&#45;&gt;62</title>\n<path fill=\"none\" stroke=\"#ff0000\" d=\"M5913.328,-92.535C5943.6186,-78.5175 5993.2955,-55.5288 6029.4815,-38.7831\"/>\n<polygon fill=\"#ff0000\" stroke=\"#ff0000\" points=\"6031.2303,-41.8305 6038.8357,-34.4543 6028.2904,-35.4778 6031.2303,-41.8305\"/>\n<text text-anchor=\"middle\" x=\"5999.3922\" y=\"-57.8\" font-family=\"Times,serif\" font-size=\"14.00\" fill=\"#000000\">no</text>\n</g>\n</g>\n</svg>\n"
          },
          "metadata": {},
          "execution_count": 32
        }
      ]
    }
  ]
}