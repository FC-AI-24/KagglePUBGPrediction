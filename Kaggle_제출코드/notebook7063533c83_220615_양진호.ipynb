{
 "cells": [
  {
   "cell_type": "code",
   "execution_count": 15,
   "metadata": {
    "ExecuteTime": {
     "end_time": "2022-06-15T14:52:28.249030Z",
     "start_time": "2022-06-15T14:52:28.240146Z"
    },
    "_cell_guid": "b1076dfc-b9ad-4769-8c92-a6c4dae69d19",
    "_uuid": "8f2839f25d086af736a60e9eeb907d3b93b6e0e5",
    "execution": {
     "iopub.execute_input": "2022-06-15T10:47:10.601018Z",
     "iopub.status.busy": "2022-06-15T10:47:10.600411Z",
     "iopub.status.idle": "2022-06-15T10:47:10.640207Z",
     "shell.execute_reply": "2022-06-15T10:47:10.638765Z",
     "shell.execute_reply.started": "2022-06-15T10:47:10.600912Z"
    }
   },
   "outputs": [],
   "source": [
    "# This Python 3 environment comes with many helpful analytics libraries installed\n",
    "# It is defined by the kaggle/python Docker image: https://github.com/kaggle/docker-python\n",
    "# For example, here's several helpful packages to load\n",
    "\n",
    "import numpy as np # linear algebra\n",
    "import pandas as pd # data processing, CSV file I/O (e.g. pd.read_csv)\n",
    "\n",
    "# Input data files are available in the read-only \"../input/\" directory\n",
    "# For example, running this (by clicking run or pressing Shift+Enter) will list all files under the input directory\n",
    "\n",
    "import os\n",
    "for dirname, _, filenames in os.walk('/kaggle/input'):\n",
    "    for filename in filenames:\n",
    "        print(os.path.join(dirname, filename))\n",
    "\n",
    "# You can write up to 20GB to the current directory (/kaggle/working/) that gets preserved as output when you create a version using \"Save & Run All\" \n",
    "# You can also write temporary files to /kaggle/temp/, but they won't be saved outside of the current session"
   ]
  },
  {
   "cell_type": "code",
   "execution_count": 16,
   "metadata": {
    "ExecuteTime": {
     "end_time": "2022-06-15T14:52:44.558544Z",
     "start_time": "2022-06-15T14:52:28.405582Z"
    },
    "execution": {
     "iopub.execute_input": "2022-06-15T10:47:10.644065Z",
     "iopub.status.busy": "2022-06-15T10:47:10.642808Z",
     "iopub.status.idle": "2022-06-15T10:48:14.014167Z",
     "shell.execute_reply": "2022-06-15T10:48:14.011582Z",
     "shell.execute_reply.started": "2022-06-15T10:47:10.644011Z"
    }
   },
   "outputs": [],
   "source": [
    "# 데이터 불러오기\n",
    "\n",
    "base_path = '../../../Machine-Running_LJW/Group Project/'\n",
    "\n",
    "submission_path = base_path + 'sample_submission_V2.csv' \n",
    "train_path = base_path + 'train_V2.csv'\n",
    "test_path = base_path + 'test_V2.csv'\n",
    "\n",
    "submission = pd.read_csv(submission_path)\n",
    "train= pd.read_csv(train_path)\n",
    "test=pd.read_csv(test_path)"
   ]
  },
  {
   "cell_type": "code",
   "execution_count": null,
   "metadata": {},
   "outputs": [],
   "source": [
    "# # Kaggle 제출 시\n",
    "\n",
    "# # 데이터 불러오기\n",
    "\n",
    "# submission_path = '/kaggle/input/pubg-finish-placement-prediction/sample_submission_V2.csv' \n",
    "# train_path = '/kaggle/input/pubg-finish-placement-prediction/train_V2.csv'\n",
    "# test_path = '/kaggle/input/pubg-finish-placement-prediction/test_V2.csv'\n",
    "\n",
    "# submission = pd.read_csv(submission_path)\n",
    "# train= pd.read_csv(train_path)\n",
    "# test=pd.read_csv(test_path)"
   ]
  },
  {
   "cell_type": "code",
   "execution_count": 17,
   "metadata": {
    "ExecuteTime": {
     "end_time": "2022-06-15T14:52:44.573362Z",
     "start_time": "2022-06-15T14:52:44.560994Z"
    },
    "execution": {
     "iopub.execute_input": "2022-06-15T10:48:14.018327Z",
     "iopub.status.busy": "2022-06-15T10:48:14.017719Z",
     "iopub.status.idle": "2022-06-15T10:48:15.774299Z",
     "shell.execute_reply": "2022-06-15T10:48:15.772757Z",
     "shell.execute_reply.started": "2022-06-15T10:48:14.018262Z"
    }
   },
   "outputs": [],
   "source": [
    "from sklearn.preprocessing import StandardScaler\n",
    "from sklearn.model_selection import train_test_split\n",
    "import xgboost\n",
    "from sklearn.metrics import mean_absolute_error"
   ]
  },
  {
   "cell_type": "code",
   "execution_count": 18,
   "metadata": {
    "ExecuteTime": {
     "end_time": "2022-06-15T14:52:44.588984Z",
     "start_time": "2022-06-15T14:52:44.575139Z"
    },
    "execution": {
     "iopub.execute_input": "2022-06-15T10:48:15.778428Z",
     "iopub.status.busy": "2022-06-15T10:48:15.777788Z",
     "iopub.status.idle": "2022-06-15T10:48:15.791575Z",
     "shell.execute_reply": "2022-06-15T10:48:15.789901Z",
     "shell.execute_reply.started": "2022-06-15T10:48:15.778373Z"
    }
   },
   "outputs": [
    {
     "data": {
      "text/plain": [
       "((1934174, 28), (4446966, 29), (1934174, 2))"
      ]
     },
     "execution_count": 18,
     "metadata": {},
     "output_type": "execute_result"
    }
   ],
   "source": [
    "# 데이터프레임 각각의 행과 열 개수 확인\n",
    "\n",
    "test.shape,train.shape,submission.shape"
   ]
  },
  {
   "cell_type": "code",
   "execution_count": 19,
   "metadata": {
    "ExecuteTime": {
     "end_time": "2022-06-15T14:52:46.990863Z",
     "start_time": "2022-06-15T14:52:44.591732Z"
    },
    "execution": {
     "iopub.execute_input": "2022-06-15T10:48:15.794641Z",
     "iopub.status.busy": "2022-06-15T10:48:15.793945Z",
     "iopub.status.idle": "2022-06-15T10:48:19.113588Z",
     "shell.execute_reply": "2022-06-15T10:48:19.111955Z",
     "shell.execute_reply.started": "2022-06-15T10:48:15.794586Z"
    }
   },
   "outputs": [],
   "source": [
    "# 결측치 제거\n",
    "\n",
    "train01 = train.dropna()"
   ]
  },
  {
   "cell_type": "code",
   "execution_count": 20,
   "metadata": {
    "ExecuteTime": {
     "end_time": "2022-06-15T14:52:47.006536Z",
     "start_time": "2022-06-15T14:52:46.992872Z"
    },
    "execution": {
     "iopub.execute_input": "2022-06-15T10:48:19.115636Z",
     "iopub.status.busy": "2022-06-15T10:48:19.115187Z",
     "iopub.status.idle": "2022-06-15T10:48:19.124295Z",
     "shell.execute_reply": "2022-06-15T10:48:19.122509Z",
     "shell.execute_reply.started": "2022-06-15T10:48:19.115580Z"
    }
   },
   "outputs": [],
   "source": [
    "# train data에서 사용할 feature columns 정의\n",
    "\n",
    "df_col = [ 'assists', 'boosts', 'damageDealt', 'DBNOs',\n",
    "       'headshotKills', 'heals', 'killPlace', 'killPoints', 'kills',\n",
    "       'killStreaks', 'longestKill', 'matchDuration', 'maxPlace',\n",
    "       'numGroups', 'rankPoints', 'revives', 'rideDistance', 'roadKills',\n",
    "       'swimDistance', 'teamKills', 'vehicleDestroys', 'walkDistance',\n",
    "       'weaponsAcquired', 'winPoints', 'winPlacePerc']"
   ]
  },
  {
   "cell_type": "code",
   "execution_count": 21,
   "metadata": {
    "ExecuteTime": {
     "end_time": "2022-06-15T14:52:56.586656Z",
     "start_time": "2022-06-15T14:52:47.008669Z"
    },
    "execution": {
     "iopub.execute_input": "2022-06-15T10:48:19.126634Z",
     "iopub.status.busy": "2022-06-15T10:48:19.126035Z",
     "iopub.status.idle": "2022-06-15T10:48:44.295834Z",
     "shell.execute_reply": "2022-06-15T10:48:44.294140Z",
     "shell.execute_reply.started": "2022-06-15T10:48:19.126562Z"
    }
   },
   "outputs": [],
   "source": [
    "# train data에서 위에서 정의한 'df_col' columns에 대해 'groupId' 기준으로 집계하여 평균값으로 채운다.\n",
    "\n",
    "train02 = train01.groupby(['groupId'])[df_col].agg('mean').reset_index()"
   ]
  },
  {
   "cell_type": "code",
   "execution_count": 22,
   "metadata": {
    "ExecuteTime": {
     "end_time": "2022-06-15T14:52:57.348690Z",
     "start_time": "2022-06-15T14:52:56.588538Z"
    }
   },
   "outputs": [
    {
     "data": {
      "text/html": [
       "<div>\n",
       "<style scoped>\n",
       "    .dataframe tbody tr th:only-of-type {\n",
       "        vertical-align: middle;\n",
       "    }\n",
       "\n",
       "    .dataframe tbody tr th {\n",
       "        vertical-align: top;\n",
       "    }\n",
       "\n",
       "    .dataframe thead th {\n",
       "        text-align: right;\n",
       "    }\n",
       "</style>\n",
       "<table border=\"1\" class=\"dataframe\">\n",
       "  <thead>\n",
       "    <tr style=\"text-align: right;\">\n",
       "      <th></th>\n",
       "      <th>groupId</th>\n",
       "      <th>assists</th>\n",
       "      <th>boosts</th>\n",
       "      <th>damageDealt</th>\n",
       "      <th>DBNOs</th>\n",
       "      <th>headshotKills</th>\n",
       "      <th>heals</th>\n",
       "      <th>killPlace</th>\n",
       "      <th>killPoints</th>\n",
       "      <th>kills</th>\n",
       "      <th>...</th>\n",
       "      <th>revives</th>\n",
       "      <th>rideDistance</th>\n",
       "      <th>roadKills</th>\n",
       "      <th>swimDistance</th>\n",
       "      <th>teamKills</th>\n",
       "      <th>vehicleDestroys</th>\n",
       "      <th>walkDistance</th>\n",
       "      <th>weaponsAcquired</th>\n",
       "      <th>winPoints</th>\n",
       "      <th>winPlacePerc</th>\n",
       "    </tr>\n",
       "  </thead>\n",
       "  <tbody>\n",
       "    <tr>\n",
       "      <th>0</th>\n",
       "      <td>00000c08b5be36</td>\n",
       "      <td>0.000000</td>\n",
       "      <td>0.333333</td>\n",
       "      <td>247.166667</td>\n",
       "      <td>1.666667</td>\n",
       "      <td>0.333333</td>\n",
       "      <td>0.333333</td>\n",
       "      <td>50.333333</td>\n",
       "      <td>0.0</td>\n",
       "      <td>0.666667</td>\n",
       "      <td>...</td>\n",
       "      <td>0.000000</td>\n",
       "      <td>0.0000</td>\n",
       "      <td>0.0</td>\n",
       "      <td>0.000000</td>\n",
       "      <td>0.0</td>\n",
       "      <td>0.0</td>\n",
       "      <td>271.533333</td>\n",
       "      <td>2.333333</td>\n",
       "      <td>0.0</td>\n",
       "      <td>0.2000</td>\n",
       "    </tr>\n",
       "    <tr>\n",
       "      <th>1</th>\n",
       "      <td>00000d1cbbc340</td>\n",
       "      <td>0.000000</td>\n",
       "      <td>0.000000</td>\n",
       "      <td>173.700000</td>\n",
       "      <td>0.000000</td>\n",
       "      <td>0.000000</td>\n",
       "      <td>0.000000</td>\n",
       "      <td>40.000000</td>\n",
       "      <td>0.0</td>\n",
       "      <td>1.000000</td>\n",
       "      <td>...</td>\n",
       "      <td>0.000000</td>\n",
       "      <td>0.0000</td>\n",
       "      <td>0.0</td>\n",
       "      <td>0.000000</td>\n",
       "      <td>0.0</td>\n",
       "      <td>0.0</td>\n",
       "      <td>135.800000</td>\n",
       "      <td>3.000000</td>\n",
       "      <td>0.0</td>\n",
       "      <td>0.1154</td>\n",
       "    </tr>\n",
       "    <tr>\n",
       "      <th>2</th>\n",
       "      <td>000025a09dd1d7</td>\n",
       "      <td>0.000000</td>\n",
       "      <td>0.000000</td>\n",
       "      <td>0.000000</td>\n",
       "      <td>0.000000</td>\n",
       "      <td>0.000000</td>\n",
       "      <td>0.000000</td>\n",
       "      <td>72.000000</td>\n",
       "      <td>0.0</td>\n",
       "      <td>0.000000</td>\n",
       "      <td>...</td>\n",
       "      <td>0.000000</td>\n",
       "      <td>0.0000</td>\n",
       "      <td>0.0</td>\n",
       "      <td>0.000000</td>\n",
       "      <td>0.0</td>\n",
       "      <td>0.0</td>\n",
       "      <td>110.800000</td>\n",
       "      <td>2.000000</td>\n",
       "      <td>0.0</td>\n",
       "      <td>0.2000</td>\n",
       "    </tr>\n",
       "    <tr>\n",
       "      <th>3</th>\n",
       "      <td>000038ec4dff53</td>\n",
       "      <td>0.666667</td>\n",
       "      <td>2.333333</td>\n",
       "      <td>263.556667</td>\n",
       "      <td>1.666667</td>\n",
       "      <td>0.333333</td>\n",
       "      <td>3.000000</td>\n",
       "      <td>13.000000</td>\n",
       "      <td>0.0</td>\n",
       "      <td>2.000000</td>\n",
       "      <td>...</td>\n",
       "      <td>0.666667</td>\n",
       "      <td>0.0000</td>\n",
       "      <td>0.0</td>\n",
       "      <td>74.923333</td>\n",
       "      <td>0.0</td>\n",
       "      <td>0.0</td>\n",
       "      <td>2082.666667</td>\n",
       "      <td>5.666667</td>\n",
       "      <td>0.0</td>\n",
       "      <td>0.9615</td>\n",
       "    </tr>\n",
       "    <tr>\n",
       "      <th>4</th>\n",
       "      <td>00003a54230763</td>\n",
       "      <td>0.500000</td>\n",
       "      <td>0.000000</td>\n",
       "      <td>50.000000</td>\n",
       "      <td>0.500000</td>\n",
       "      <td>0.500000</td>\n",
       "      <td>0.000000</td>\n",
       "      <td>54.500000</td>\n",
       "      <td>1013.0</td>\n",
       "      <td>0.500000</td>\n",
       "      <td>...</td>\n",
       "      <td>0.000000</td>\n",
       "      <td>0.0000</td>\n",
       "      <td>0.0</td>\n",
       "      <td>0.000000</td>\n",
       "      <td>0.0</td>\n",
       "      <td>0.0</td>\n",
       "      <td>92.675000</td>\n",
       "      <td>2.500000</td>\n",
       "      <td>1501.0</td>\n",
       "      <td>0.1395</td>\n",
       "    </tr>\n",
       "    <tr>\n",
       "      <th>...</th>\n",
       "      <td>...</td>\n",
       "      <td>...</td>\n",
       "      <td>...</td>\n",
       "      <td>...</td>\n",
       "      <td>...</td>\n",
       "      <td>...</td>\n",
       "      <td>...</td>\n",
       "      <td>...</td>\n",
       "      <td>...</td>\n",
       "      <td>...</td>\n",
       "      <td>...</td>\n",
       "      <td>...</td>\n",
       "      <td>...</td>\n",
       "      <td>...</td>\n",
       "      <td>...</td>\n",
       "      <td>...</td>\n",
       "      <td>...</td>\n",
       "      <td>...</td>\n",
       "      <td>...</td>\n",
       "      <td>...</td>\n",
       "      <td>...</td>\n",
       "    </tr>\n",
       "    <tr>\n",
       "      <th>2026739</th>\n",
       "      <td>ffffedb6ecff6a</td>\n",
       "      <td>0.000000</td>\n",
       "      <td>0.000000</td>\n",
       "      <td>50.000000</td>\n",
       "      <td>0.500000</td>\n",
       "      <td>0.000000</td>\n",
       "      <td>0.000000</td>\n",
       "      <td>87.500000</td>\n",
       "      <td>0.0</td>\n",
       "      <td>0.000000</td>\n",
       "      <td>...</td>\n",
       "      <td>0.000000</td>\n",
       "      <td>0.0000</td>\n",
       "      <td>0.0</td>\n",
       "      <td>0.000000</td>\n",
       "      <td>0.0</td>\n",
       "      <td>0.0</td>\n",
       "      <td>156.100000</td>\n",
       "      <td>1.500000</td>\n",
       "      <td>0.0</td>\n",
       "      <td>0.0370</td>\n",
       "    </tr>\n",
       "    <tr>\n",
       "      <th>2026740</th>\n",
       "      <td>fffff305a0133d</td>\n",
       "      <td>0.500000</td>\n",
       "      <td>2.500000</td>\n",
       "      <td>208.350000</td>\n",
       "      <td>1.000000</td>\n",
       "      <td>1.000000</td>\n",
       "      <td>2.500000</td>\n",
       "      <td>18.000000</td>\n",
       "      <td>0.0</td>\n",
       "      <td>2.000000</td>\n",
       "      <td>...</td>\n",
       "      <td>0.000000</td>\n",
       "      <td>82.2514</td>\n",
       "      <td>0.0</td>\n",
       "      <td>1.207000</td>\n",
       "      <td>0.0</td>\n",
       "      <td>0.0</td>\n",
       "      <td>2562.000000</td>\n",
       "      <td>4.000000</td>\n",
       "      <td>0.0</td>\n",
       "      <td>0.8511</td>\n",
       "    </tr>\n",
       "    <tr>\n",
       "      <th>2026741</th>\n",
       "      <td>fffff32bc7eab9</td>\n",
       "      <td>0.000000</td>\n",
       "      <td>0.000000</td>\n",
       "      <td>300.000000</td>\n",
       "      <td>0.000000</td>\n",
       "      <td>1.000000</td>\n",
       "      <td>0.000000</td>\n",
       "      <td>10.000000</td>\n",
       "      <td>1166.0</td>\n",
       "      <td>3.000000</td>\n",
       "      <td>...</td>\n",
       "      <td>0.000000</td>\n",
       "      <td>0.0000</td>\n",
       "      <td>0.0</td>\n",
       "      <td>0.000000</td>\n",
       "      <td>0.0</td>\n",
       "      <td>0.0</td>\n",
       "      <td>114.700000</td>\n",
       "      <td>1.000000</td>\n",
       "      <td>1443.0</td>\n",
       "      <td>0.2500</td>\n",
       "    </tr>\n",
       "    <tr>\n",
       "      <th>2026742</th>\n",
       "      <td>fffff7edfc4050</td>\n",
       "      <td>0.000000</td>\n",
       "      <td>3.000000</td>\n",
       "      <td>267.069000</td>\n",
       "      <td>1.000000</td>\n",
       "      <td>1.500000</td>\n",
       "      <td>1.500000</td>\n",
       "      <td>14.000000</td>\n",
       "      <td>0.0</td>\n",
       "      <td>2.500000</td>\n",
       "      <td>...</td>\n",
       "      <td>0.500000</td>\n",
       "      <td>5288.5000</td>\n",
       "      <td>0.0</td>\n",
       "      <td>0.000000</td>\n",
       "      <td>0.0</td>\n",
       "      <td>0.0</td>\n",
       "      <td>2283.500000</td>\n",
       "      <td>6.000000</td>\n",
       "      <td>0.0</td>\n",
       "      <td>0.9783</td>\n",
       "    </tr>\n",
       "    <tr>\n",
       "      <th>2026743</th>\n",
       "      <td>fffff98178ef52</td>\n",
       "      <td>0.000000</td>\n",
       "      <td>0.000000</td>\n",
       "      <td>100.000000</td>\n",
       "      <td>1.000000</td>\n",
       "      <td>0.000000</td>\n",
       "      <td>2.000000</td>\n",
       "      <td>27.000000</td>\n",
       "      <td>0.0</td>\n",
       "      <td>1.000000</td>\n",
       "      <td>...</td>\n",
       "      <td>0.000000</td>\n",
       "      <td>5361.0000</td>\n",
       "      <td>0.0</td>\n",
       "      <td>0.000000</td>\n",
       "      <td>0.0</td>\n",
       "      <td>0.0</td>\n",
       "      <td>476.000000</td>\n",
       "      <td>1.000000</td>\n",
       "      <td>0.0</td>\n",
       "      <td>0.7021</td>\n",
       "    </tr>\n",
       "  </tbody>\n",
       "</table>\n",
       "<p>2026744 rows × 26 columns</p>\n",
       "</div>"
      ],
      "text/plain": [
       "                groupId   assists    boosts  damageDealt     DBNOs  \\\n",
       "0        00000c08b5be36  0.000000  0.333333   247.166667  1.666667   \n",
       "1        00000d1cbbc340  0.000000  0.000000   173.700000  0.000000   \n",
       "2        000025a09dd1d7  0.000000  0.000000     0.000000  0.000000   \n",
       "3        000038ec4dff53  0.666667  2.333333   263.556667  1.666667   \n",
       "4        00003a54230763  0.500000  0.000000    50.000000  0.500000   \n",
       "...                 ...       ...       ...          ...       ...   \n",
       "2026739  ffffedb6ecff6a  0.000000  0.000000    50.000000  0.500000   \n",
       "2026740  fffff305a0133d  0.500000  2.500000   208.350000  1.000000   \n",
       "2026741  fffff32bc7eab9  0.000000  0.000000   300.000000  0.000000   \n",
       "2026742  fffff7edfc4050  0.000000  3.000000   267.069000  1.000000   \n",
       "2026743  fffff98178ef52  0.000000  0.000000   100.000000  1.000000   \n",
       "\n",
       "         headshotKills     heals  killPlace  killPoints     kills  ...  \\\n",
       "0             0.333333  0.333333  50.333333         0.0  0.666667  ...   \n",
       "1             0.000000  0.000000  40.000000         0.0  1.000000  ...   \n",
       "2             0.000000  0.000000  72.000000         0.0  0.000000  ...   \n",
       "3             0.333333  3.000000  13.000000         0.0  2.000000  ...   \n",
       "4             0.500000  0.000000  54.500000      1013.0  0.500000  ...   \n",
       "...                ...       ...        ...         ...       ...  ...   \n",
       "2026739       0.000000  0.000000  87.500000         0.0  0.000000  ...   \n",
       "2026740       1.000000  2.500000  18.000000         0.0  2.000000  ...   \n",
       "2026741       1.000000  0.000000  10.000000      1166.0  3.000000  ...   \n",
       "2026742       1.500000  1.500000  14.000000         0.0  2.500000  ...   \n",
       "2026743       0.000000  2.000000  27.000000         0.0  1.000000  ...   \n",
       "\n",
       "          revives  rideDistance  roadKills  swimDistance  teamKills  \\\n",
       "0        0.000000        0.0000        0.0      0.000000        0.0   \n",
       "1        0.000000        0.0000        0.0      0.000000        0.0   \n",
       "2        0.000000        0.0000        0.0      0.000000        0.0   \n",
       "3        0.666667        0.0000        0.0     74.923333        0.0   \n",
       "4        0.000000        0.0000        0.0      0.000000        0.0   \n",
       "...           ...           ...        ...           ...        ...   \n",
       "2026739  0.000000        0.0000        0.0      0.000000        0.0   \n",
       "2026740  0.000000       82.2514        0.0      1.207000        0.0   \n",
       "2026741  0.000000        0.0000        0.0      0.000000        0.0   \n",
       "2026742  0.500000     5288.5000        0.0      0.000000        0.0   \n",
       "2026743  0.000000     5361.0000        0.0      0.000000        0.0   \n",
       "\n",
       "         vehicleDestroys  walkDistance  weaponsAcquired  winPoints  \\\n",
       "0                    0.0    271.533333         2.333333        0.0   \n",
       "1                    0.0    135.800000         3.000000        0.0   \n",
       "2                    0.0    110.800000         2.000000        0.0   \n",
       "3                    0.0   2082.666667         5.666667        0.0   \n",
       "4                    0.0     92.675000         2.500000     1501.0   \n",
       "...                  ...           ...              ...        ...   \n",
       "2026739              0.0    156.100000         1.500000        0.0   \n",
       "2026740              0.0   2562.000000         4.000000        0.0   \n",
       "2026741              0.0    114.700000         1.000000     1443.0   \n",
       "2026742              0.0   2283.500000         6.000000        0.0   \n",
       "2026743              0.0    476.000000         1.000000        0.0   \n",
       "\n",
       "         winPlacePerc  \n",
       "0              0.2000  \n",
       "1              0.1154  \n",
       "2              0.2000  \n",
       "3              0.9615  \n",
       "4              0.1395  \n",
       "...               ...  \n",
       "2026739        0.0370  \n",
       "2026740        0.8511  \n",
       "2026741        0.2500  \n",
       "2026742        0.9783  \n",
       "2026743        0.7021  \n",
       "\n",
       "[2026744 rows x 26 columns]"
      ]
     },
     "execution_count": 22,
     "metadata": {},
     "output_type": "execute_result"
    }
   ],
   "source": [
    "train02"
   ]
  },
  {
   "cell_type": "code",
   "execution_count": 23,
   "metadata": {
    "ExecuteTime": {
     "end_time": "2022-06-15T14:52:57.364286Z",
     "start_time": "2022-06-15T14:52:57.351249Z"
    },
    "execution": {
     "iopub.execute_input": "2022-06-15T10:48:44.301227Z",
     "iopub.status.busy": "2022-06-15T10:48:44.297828Z",
     "iopub.status.idle": "2022-06-15T10:48:44.310334Z",
     "shell.execute_reply": "2022-06-15T10:48:44.308844Z",
     "shell.execute_reply.started": "2022-06-15T10:48:44.301130Z"
    }
   },
   "outputs": [],
   "source": [
    "# test data에서 사용할 feature columns 정의\n",
    "\n",
    "df_col = [ 'assists', 'boosts', 'damageDealt', 'DBNOs',\n",
    "       'headshotKills', 'heals', 'killPlace', 'killPoints', 'kills',\n",
    "       'killStreaks', 'longestKill', 'matchDuration', 'maxPlace',\n",
    "       'numGroups', 'rankPoints', 'revives', 'rideDistance', 'roadKills',\n",
    "       'swimDistance', 'teamKills', 'vehicleDestroys', 'walkDistance',\n",
    "       'weaponsAcquired', 'winPoints']"
   ]
  },
  {
   "cell_type": "code",
   "execution_count": 24,
   "metadata": {
    "ExecuteTime": {
     "end_time": "2022-06-15T14:53:00.893978Z",
     "start_time": "2022-06-15T14:52:57.365844Z"
    },
    "execution": {
     "iopub.execute_input": "2022-06-15T10:48:44.313409Z",
     "iopub.status.busy": "2022-06-15T10:48:44.312449Z",
     "iopub.status.idle": "2022-06-15T10:48:52.526315Z",
     "shell.execute_reply": "2022-06-15T10:48:52.524946Z",
     "shell.execute_reply.started": "2022-06-15T10:48:44.313347Z"
    }
   },
   "outputs": [],
   "source": [
    "# test data에서 위에서 정의한 'df_col' columns에 대해 'groupId' 기준으로 집계하여 평균값으로 채운다.\n",
    "# test01은 아래에서 scaling 후 모델링 하여 target data를 찾아올 용도로 사용 예정\n",
    "test01 = test.groupby(['groupId'])[df_col].agg('mean').reset_index()"
   ]
  },
  {
   "cell_type": "code",
   "execution_count": 25,
   "metadata": {
    "ExecuteTime": {
     "end_time": "2022-06-15T14:53:00.953783Z",
     "start_time": "2022-06-15T14:53:00.898597Z"
    },
    "execution": {
     "iopub.execute_input": "2022-06-15T10:48:52.531585Z",
     "iopub.status.busy": "2022-06-15T10:48:52.530829Z",
     "iopub.status.idle": "2022-06-15T10:49:00.401964Z",
     "shell.execute_reply": "2022-06-15T10:49:00.400236Z",
     "shell.execute_reply.started": "2022-06-15T10:48:52.531536Z"
    }
   },
   "outputs": [],
   "source": [
    "# test02는 추후 merge 용도로 쓰기 위해 아래에서 test01을 통해 학습한 데이터 Y를 test02의 'winPlacePerc' column에 붙인 후,\n",
    "# test02에서 'groupId' 및 'winPlacePerc' columns를 추출하여 test04로 사용 예정\n",
    "test02 = test01.copy()"
   ]
  },
  {
   "cell_type": "code",
   "execution_count": 26,
   "metadata": {
    "ExecuteTime": {
     "end_time": "2022-06-15T14:53:01.226450Z",
     "start_time": "2022-06-15T14:53:00.954739Z"
    },
    "execution": {
     "iopub.execute_input": "2022-06-15T10:49:00.405103Z",
     "iopub.status.busy": "2022-06-15T10:49:00.404483Z",
     "iopub.status.idle": "2022-06-15T10:49:00.738517Z",
     "shell.execute_reply": "2022-06-15T10:49:00.737396Z",
     "shell.execute_reply.started": "2022-06-15T10:49:00.405037Z"
    }
   },
   "outputs": [],
   "source": [
    "# 사용하지 않는 columns 제거\n",
    "train02 = train02.drop(columns=[\"killPlace\",\"groupId\",\"kills\"])\n",
    "test01 = test01.drop(columns=['killPlace','groupId','kills'])\n",
    "test02 = test02.drop(columns=['killPlace','kills'])"
   ]
  },
  {
   "cell_type": "code",
   "execution_count": 27,
   "metadata": {
    "ExecuteTime": {
     "end_time": "2022-06-15T14:53:01.241696Z",
     "start_time": "2022-06-15T14:53:01.228083Z"
    },
    "execution": {
     "iopub.execute_input": "2022-06-15T10:49:01.024422Z",
     "iopub.status.busy": "2022-06-15T10:49:01.023818Z",
     "iopub.status.idle": "2022-06-15T10:49:01.032117Z",
     "shell.execute_reply": "2022-06-15T10:49:01.030727Z",
     "shell.execute_reply.started": "2022-06-15T10:49:01.024385Z"
    }
   },
   "outputs": [],
   "source": [
    "# 결측치 제거 대상 columns\n",
    "\n",
    "check_column = ['assists', 'boosts', 'damageDealt', 'DBNOs', 'headshotKills', 'heals',\n",
    "        'killStreaks', 'longestKill', 'maxPlace',\n",
    "       'numGroups', 'revives', 'rideDistance', 'roadKills', 'swimDistance',\n",
    "       'teamKills', 'vehicleDestroys', 'walkDistance', 'weaponsAcquired']#18"
   ]
  },
  {
   "cell_type": "code",
   "execution_count": 31,
   "metadata": {
    "ExecuteTime": {
     "end_time": "2022-06-15T14:54:23.770877Z",
     "start_time": "2022-06-15T14:54:19.709435Z"
    },
    "execution": {
     "iopub.execute_input": "2022-06-15T10:49:01.035491Z",
     "iopub.status.busy": "2022-06-15T10:49:01.033655Z",
     "iopub.status.idle": "2022-06-15T10:49:09.997028Z",
     "shell.execute_reply": "2022-06-15T10:49:09.996161Z",
     "shell.execute_reply.started": "2022-06-15T10:49:01.035417Z"
    }
   },
   "outputs": [],
   "source": [
    "df_t_IQR = train02.copy()\n",
    "for i in check_column:\n",
    "    quantile_25 = np.percentile(train02[i].values, 25)\n",
    "    quantile_75 = np.percentile(train02[i].values, 75)\n",
    "    \n",
    "    IQR = quantile_75 - quantile_25\n",
    "    IQR_weight = IQR*1.5\n",
    "  \n",
    "    lowest = quantile_25 - IQR_weight\n",
    "    highest = quantile_75 + IQR_weight\n",
    "    outlier_idx = df_t_IQR[i][ (df_t_IQR[i] < lowest) | (df_t_IQR[i] > highest) ].index\n",
    "    df_t_IQR = train02.drop(outlier_idx, axis=0)"
   ]
  },
  {
   "cell_type": "code",
   "execution_count": 32,
   "metadata": {
    "ExecuteTime": {
     "end_time": "2022-06-15T14:54:25.369641Z",
     "start_time": "2022-06-15T14:54:23.773320Z"
    },
    "execution": {
     "iopub.execute_input": "2022-06-15T10:49:18.873901Z",
     "iopub.status.busy": "2022-06-15T10:49:18.873472Z",
     "iopub.status.idle": "2022-06-15T10:49:21.354333Z",
     "shell.execute_reply": "2022-06-15T10:49:21.352772Z",
     "shell.execute_reply.started": "2022-06-15T10:49:18.873863Z"
    }
   },
   "outputs": [],
   "source": [
    "x=df_t_IQR.drop(columns='winPlacePerc')\n",
    "y=df_t_IQR[['winPlacePerc']]\n",
    "scaler = StandardScaler()\n",
    "x=scaler.fit_transform(x)\n",
    "x_train,x_val,y_train,y_val = train_test_split(x,y,test_size=0.2,random_state=0)"
   ]
  },
  {
   "cell_type": "code",
   "execution_count": 33,
   "metadata": {
    "ExecuteTime": {
     "end_time": "2022-06-15T14:54:25.641823Z",
     "start_time": "2022-06-15T14:54:25.371556Z"
    },
    "execution": {
     "iopub.execute_input": "2022-06-15T10:49:21.356900Z",
     "iopub.status.busy": "2022-06-15T10:49:21.356305Z",
     "iopub.status.idle": "2022-06-15T10:49:21.811519Z",
     "shell.execute_reply": "2022-06-15T10:49:21.809975Z",
     "shell.execute_reply.started": "2022-06-15T10:49:21.356846Z"
    }
   },
   "outputs": [
    {
     "data": {
      "text/plain": [
       "array([[ 0.35496467,  3.12433226, -0.22425092, ...,  0.27456176,\n",
       "         0.60464791, -0.81332517],\n",
       "       [ 0.76407843, -0.70921158, -0.58581524, ..., -0.7632628 ,\n",
       "         0.13165942, -0.81332517],\n",
       "       [ 0.76407843,  0.19873302, -0.14519718, ...,  1.05868741,\n",
       "         1.78711911,  1.21849276],\n",
       "       ...,\n",
       "       [ 0.76407843, -0.40656338, -0.22552708, ..., -0.84012351,\n",
       "        -0.81431754, -0.81332517],\n",
       "       [ 0.76407843, -0.70921158, -0.22562963, ..., -0.85864475,\n",
       "        -0.10483482,  0.97889797],\n",
       "       [ 0.1504078 , -0.70921158, -0.434043  , ..., -0.97535883,\n",
       "        -1.40555314, -0.81332517]])"
      ]
     },
     "execution_count": 33,
     "metadata": {},
     "output_type": "execute_result"
    }
   ],
   "source": [
    "test01sc=scaler.fit_transform(test01)\n",
    "test01sc"
   ]
  },
  {
   "cell_type": "code",
   "execution_count": 34,
   "metadata": {
    "ExecuteTime": {
     "end_time": "2022-06-15T14:55:37.370805Z",
     "start_time": "2022-06-15T14:54:25.643742Z"
    },
    "execution": {
     "iopub.execute_input": "2022-06-15T10:49:21.813744Z",
     "iopub.status.busy": "2022-06-15T10:49:21.813181Z",
     "iopub.status.idle": "2022-06-15T10:54:07.405713Z",
     "shell.execute_reply": "2022-06-15T10:54:07.404585Z",
     "shell.execute_reply.started": "2022-06-15T10:49:21.813698Z"
    }
   },
   "outputs": [
    {
     "data": {
      "text/plain": [
       "XGBRegressor(base_score=0.5, booster='gbtree', callbacks=None,\n",
       "             colsample_bylevel=1, colsample_bynode=1, colsample_bytree=1,\n",
       "             early_stopping_rounds=None, enable_categorical=False,\n",
       "             eval_metric=<function mean_absolute_error at 0x000002A802A16AF0>,\n",
       "             gamma=0, gpu_id=-1, grow_policy='depthwise', importance_type=None,\n",
       "             interaction_constraints='', learning_rate=0.300000012, max_bin=256,\n",
       "             max_cat_to_onehot=4, max_delta_step=0, max_depth=6, max_leaves=0,\n",
       "             min_child_weight=1, missing=nan, monotone_constraints='()',\n",
       "             n_estimators=100, n_jobs=0, num_parallel_tree=1, predictor='auto',\n",
       "             random_state=0, reg_alpha=0, reg_lambda=1, ...)"
      ]
     },
     "execution_count": 34,
     "metadata": {},
     "output_type": "execute_result"
    }
   ],
   "source": [
    "xgb_model = xgboost.XGBRegressor(\n",
    "    eval_metric=mean_absolute_error\n",
    "    ,random_state=0)\n",
    "\n",
    "xgb_model.fit(x_train,y_train)"
   ]
  },
  {
   "cell_type": "code",
   "execution_count": 35,
   "metadata": {
    "ExecuteTime": {
     "end_time": "2022-06-15T14:55:37.860694Z",
     "start_time": "2022-06-15T14:55:37.372791Z"
    },
    "execution": {
     "iopub.execute_input": "2022-06-15T10:54:07.408961Z",
     "iopub.status.busy": "2022-06-15T10:54:07.407586Z",
     "iopub.status.idle": "2022-06-15T10:54:08.353389Z",
     "shell.execute_reply": "2022-06-15T10:54:08.352483Z",
     "shell.execute_reply.started": "2022-06-15T10:54:07.408902Z"
    }
   },
   "outputs": [],
   "source": [
    "# 모델로 타겟값을 뽑아낸것\n",
    "Y=xgb_model.predict(test01sc)"
   ]
  },
  {
   "cell_type": "code",
   "execution_count": 36,
   "metadata": {
    "ExecuteTime": {
     "end_time": "2022-06-15T14:55:37.875345Z",
     "start_time": "2022-06-15T14:55:37.862706Z"
    },
    "execution": {
     "iopub.execute_input": "2022-06-15T10:54:08.355190Z",
     "iopub.status.busy": "2022-06-15T10:54:08.354654Z",
     "iopub.status.idle": "2022-06-15T10:54:08.362170Z",
     "shell.execute_reply": "2022-06-15T10:54:08.361065Z",
     "shell.execute_reply.started": "2022-06-15T10:54:08.355142Z"
    }
   },
   "outputs": [
    {
     "data": {
      "text/plain": [
       "886238"
      ]
     },
     "execution_count": 36,
     "metadata": {},
     "output_type": "execute_result"
    }
   ],
   "source": [
    "len(Y) "
   ]
  },
  {
   "cell_type": "code",
   "execution_count": 37,
   "metadata": {
    "ExecuteTime": {
     "end_time": "2022-06-15T14:55:37.890111Z",
     "start_time": "2022-06-15T14:55:37.877743Z"
    },
    "execution": {
     "iopub.execute_input": "2022-06-15T10:54:08.367576Z",
     "iopub.status.busy": "2022-06-15T10:54:08.366327Z",
     "iopub.status.idle": "2022-06-15T10:54:08.375023Z",
     "shell.execute_reply": "2022-06-15T10:54:08.374183Z",
     "shell.execute_reply.started": "2022-06-15T10:54:08.367507Z"
    }
   },
   "outputs": [
    {
     "data": {
      "text/plain": [
       "1934174"
      ]
     },
     "execution_count": 37,
     "metadata": {},
     "output_type": "execute_result"
    }
   ],
   "source": [
    "#제출용 y값을 붙이는 곳\n",
    "len(test)"
   ]
  },
  {
   "cell_type": "code",
   "execution_count": 38,
   "metadata": {
    "ExecuteTime": {
     "end_time": "2022-06-15T14:55:37.905144Z",
     "start_time": "2022-06-15T14:55:37.892204Z"
    },
    "execution": {
     "iopub.execute_input": "2022-06-15T10:54:08.377687Z",
     "iopub.status.busy": "2022-06-15T10:54:08.376714Z",
     "iopub.status.idle": "2022-06-15T10:54:08.391365Z",
     "shell.execute_reply": "2022-06-15T10:54:08.390147Z",
     "shell.execute_reply.started": "2022-06-15T10:54:08.377645Z"
    }
   },
   "outputs": [],
   "source": [
    "test02['winPlacePerc']=Y"
   ]
  },
  {
   "cell_type": "code",
   "execution_count": 39,
   "metadata": {
    "ExecuteTime": {
     "end_time": "2022-06-15T14:55:37.965670Z",
     "start_time": "2022-06-15T14:55:37.908882Z"
    },
    "execution": {
     "iopub.execute_input": "2022-06-15T10:54:08.394786Z",
     "iopub.status.busy": "2022-06-15T10:54:08.393651Z",
     "iopub.status.idle": "2022-06-15T10:54:08.467294Z",
     "shell.execute_reply": "2022-06-15T10:54:08.466059Z",
     "shell.execute_reply.started": "2022-06-15T10:54:08.394743Z"
    }
   },
   "outputs": [],
   "source": [
    "test04 =test02.loc[:,['groupId','winPlacePerc']]#작은 테스트 -> 그룹아이디로 test에 붙여야 한다"
   ]
  },
  {
   "cell_type": "code",
   "execution_count": 40,
   "metadata": {
    "ExecuteTime": {
     "end_time": "2022-06-15T14:55:37.980790Z",
     "start_time": "2022-06-15T14:55:37.969165Z"
    },
    "execution": {
     "iopub.execute_input": "2022-06-15T10:54:08.469023Z",
     "iopub.status.busy": "2022-06-15T10:54:08.468693Z",
     "iopub.status.idle": "2022-06-15T10:54:08.474363Z",
     "shell.execute_reply": "2022-06-15T10:54:08.473647Z",
     "shell.execute_reply.started": "2022-06-15T10:54:08.468994Z"
    }
   },
   "outputs": [],
   "source": [
    "test03 = test.loc[:,'groupId']"
   ]
  },
  {
   "cell_type": "code",
   "execution_count": 41,
   "metadata": {
    "ExecuteTime": {
     "end_time": "2022-06-15T14:55:37.995769Z",
     "start_time": "2022-06-15T14:55:37.982807Z"
    },
    "execution": {
     "iopub.execute_input": "2022-06-15T10:54:08.476017Z",
     "iopub.status.busy": "2022-06-15T10:54:08.475613Z",
     "iopub.status.idle": "2022-06-15T10:54:08.494226Z",
     "shell.execute_reply": "2022-06-15T10:54:08.493035Z",
     "shell.execute_reply.started": "2022-06-15T10:54:08.475988Z"
    }
   },
   "outputs": [
    {
     "data": {
      "text/plain": [
       "((1934174,), (886238, 2))"
      ]
     },
     "execution_count": 41,
     "metadata": {},
     "output_type": "execute_result"
    }
   ],
   "source": [
    "test03.shape,test04.shape"
   ]
  },
  {
   "cell_type": "code",
   "execution_count": 42,
   "metadata": {
    "ExecuteTime": {
     "end_time": "2022-06-15T14:55:38.267479Z",
     "start_time": "2022-06-15T14:55:37.998761Z"
    }
   },
   "outputs": [
    {
     "data": {
      "text/plain": [
       "groupId            0\n",
       "assists            0\n",
       "boosts             0\n",
       "damageDealt        0\n",
       "DBNOs              0\n",
       "headshotKills      0\n",
       "heals              0\n",
       "killPoints         0\n",
       "killStreaks        0\n",
       "longestKill        0\n",
       "matchDuration      0\n",
       "maxPlace           0\n",
       "numGroups          0\n",
       "rankPoints         0\n",
       "revives            0\n",
       "rideDistance       0\n",
       "roadKills          0\n",
       "swimDistance       0\n",
       "teamKills          0\n",
       "vehicleDestroys    0\n",
       "walkDistance       0\n",
       "weaponsAcquired    0\n",
       "winPoints          0\n",
       "winPlacePerc       0\n",
       "dtype: int64"
      ]
     },
     "execution_count": 42,
     "metadata": {},
     "output_type": "execute_result"
    }
   ],
   "source": [
    "test02.isnull().sum()"
   ]
  },
  {
   "cell_type": "code",
   "execution_count": 43,
   "metadata": {
    "ExecuteTime": {
     "end_time": "2022-06-15T14:55:39.525644Z",
     "start_time": "2022-06-15T14:55:38.269368Z"
    },
    "execution": {
     "iopub.execute_input": "2022-06-15T10:59:19.316162Z",
     "iopub.status.busy": "2022-06-15T10:59:19.315281Z",
     "iopub.status.idle": "2022-06-15T10:59:19.323234Z",
     "shell.execute_reply": "2022-06-15T10:59:19.321932Z",
     "shell.execute_reply.started": "2022-06-15T10:59:19.316121Z"
    }
   },
   "outputs": [],
   "source": [
    "target = pd.merge(test03, test04, how='left', on='groupId')"
   ]
  },
  {
   "cell_type": "code",
   "execution_count": 44,
   "metadata": {
    "ExecuteTime": {
     "end_time": "2022-06-15T14:55:39.540275Z",
     "start_time": "2022-06-15T14:55:39.527494Z"
    },
    "execution": {
     "iopub.execute_input": "2022-06-15T10:54:08.529039Z",
     "iopub.status.busy": "2022-06-15T10:54:08.528704Z",
     "iopub.status.idle": "2022-06-15T10:54:08.538580Z",
     "shell.execute_reply": "2022-06-15T10:54:08.537710Z",
     "shell.execute_reply.started": "2022-06-15T10:54:08.529009Z"
    }
   },
   "outputs": [
    {
     "data": {
      "text/plain": [
       "1934174"
      ]
     },
     "execution_count": 44,
     "metadata": {},
     "output_type": "execute_result"
    }
   ],
   "source": [
    "len(target)"
   ]
  },
  {
   "cell_type": "code",
   "execution_count": 31,
   "metadata": {
    "execution": {
     "iopub.execute_input": "2022-06-15T10:54:08.549711Z",
     "iopub.status.busy": "2022-06-15T10:54:08.549257Z",
     "iopub.status.idle": "2022-06-15T10:54:08.675700Z",
     "shell.execute_reply": "2022-06-15T10:54:08.673824Z",
     "shell.execute_reply.started": "2022-06-15T10:54:08.549675Z"
    }
   },
   "outputs": [],
   "source": [
    "# Kaggle 제출 시 사용\n",
    "# submission에 그 결과값을 담아서 제출하기\n",
    "submission['winPlacePerc'] = target.winPlacePerc\n",
    "submission.to_csv('submission.csv', index = False)"
   ]
  }
 ],
 "metadata": {
  "hide_input": false,
  "kernelspec": {
   "display_name": "Python 3 (ipykernel)",
   "language": "python",
   "name": "python3"
  },
  "language_info": {
   "codemirror_mode": {
    "name": "ipython",
    "version": 3
   },
   "file_extension": ".py",
   "mimetype": "text/x-python",
   "name": "python",
   "nbconvert_exporter": "python",
   "pygments_lexer": "ipython3",
   "version": "3.8.13"
  },
  "toc": {
   "base_numbering": 1,
   "nav_menu": {},
   "number_sections": true,
   "sideBar": true,
   "skip_h1_title": false,
   "title_cell": "Table of Contents",
   "title_sidebar": "Contents",
   "toc_cell": false,
   "toc_position": {},
   "toc_section_display": true,
   "toc_window_display": false
  }
 },
 "nbformat": 4,
 "nbformat_minor": 4
}
