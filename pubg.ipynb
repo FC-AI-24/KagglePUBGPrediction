{
  "nbformat": 4,
  "nbformat_minor": 0,
  "metadata": {
    "colab": {
      "name": "Untitled0.ipynb",
      "provenance": [],
      "collapsed_sections": [
        "zojjgPab3W-d",
        "f13aemB5206D"
      ],
      "mount_file_id": "1EBpy4PyZWG2WXOtkmItgT2uXPDqnBeGj",
      "authorship_tag": "ABX9TyMXYTWQ08WHvDHapUNBEZ87",
      "include_colab_link": true
    },
    "kernelspec": {
      "name": "python3",
      "display_name": "Python 3"
    },
    "language_info": {
      "name": "python"
    }
  },
  "cells": [
    {
      "cell_type": "markdown",
      "metadata": {
        "id": "view-in-github",
        "colab_type": "text"
      },
      "source": [
        "<a href=\"https://colab.research.google.com/github/yangjinho85/KagglePUBGPrediction/blob/main/pubg.ipynb\" target=\"_parent\"><img src=\"https://colab.research.google.com/assets/colab-badge.svg\" alt=\"Open In Colab\"/></a>"
      ]
    },
    {
      "cell_type": "markdown",
      "source": [
        "# **import**"
      ],
      "metadata": {
        "id": "zojjgPab3W-d"
      }
    },
    {
      "cell_type": "code",
      "source": [
        "import pandas as pd\n",
        "import numpy as np\n",
        "import matplotlib.pyplot as plt\n",
        "import seaborn as sns"
      ],
      "metadata": {
        "id": "GCjYo1wB3cbR"
      },
      "execution_count": 2,
      "outputs": []
    },
    {
      "cell_type": "markdown",
      "source": [
        "# ** 데이터 로드**\n",
        "PUBG Finish Placement Prediction\n",
        "\n",
        "사용자가 몇 등으로 게임을 종료할지를 예측 하는 과제\n"
      ],
      "metadata": {
        "id": "f13aemB5206D"
      }
    },
    {
      "cell_type": "code",
      "execution_count": 3,
      "metadata": {
        "id": "j8w0kUWz2uXn"
      },
      "outputs": [],
      "source": [
        "path ='/content/drive/MyDrive/모델링 프로젝트/'\n",
        "testv2 = pd.read_csv(path+'test_V2.csv')\n",
        "trainv2 = pd.read_csv(path+'train_V2.csv')"
      ]
    },
    {
      "cell_type": "markdown",
      "source": [
        "# **EDA**"
      ],
      "metadata": {
        "id": "B293JMxp4VlC"
      }
    },
    {
      "cell_type": "markdown",
      "source": [
        "데이터 구조 파악"
      ],
      "metadata": {
        "id": "LlJej1mG4zG1"
      }
    },
    {
      "cell_type": "code",
      "source": [
        "trainv2.shape"
      ],
      "metadata": {
        "colab": {
          "base_uri": "https://localhost:8080/"
        },
        "id": "35gN5lnY4UF1",
        "outputId": "ce806f8b-ac26-4709-ccca-8fb820c9910f"
      },
      "execution_count": 4,
      "outputs": [
        {
          "output_type": "execute_result",
          "data": {
            "text/plain": [
              "(4446966, 29)"
            ]
          },
          "metadata": {},
          "execution_count": 4
        }
      ]
    },
    {
      "cell_type": "code",
      "source": [
        "trainv2.info()"
      ],
      "metadata": {
        "colab": {
          "base_uri": "https://localhost:8080/"
        },
        "id": "ywpLb-bH33O4",
        "outputId": "d22a11c8-ca42-4c66-bc2b-eac9b74cf437"
      },
      "execution_count": 5,
      "outputs": [
        {
          "output_type": "stream",
          "name": "stdout",
          "text": [
            "<class 'pandas.core.frame.DataFrame'>\n",
            "RangeIndex: 4446966 entries, 0 to 4446965\n",
            "Data columns (total 29 columns):\n",
            " #   Column           Dtype  \n",
            "---  ------           -----  \n",
            " 0   Id               object \n",
            " 1   groupId          object \n",
            " 2   matchId          object \n",
            " 3   assists          int64  \n",
            " 4   boosts           int64  \n",
            " 5   damageDealt      float64\n",
            " 6   DBNOs            int64  \n",
            " 7   headshotKills    int64  \n",
            " 8   heals            int64  \n",
            " 9   killPlace        int64  \n",
            " 10  killPoints       int64  \n",
            " 11  kills            int64  \n",
            " 12  killStreaks      int64  \n",
            " 13  longestKill      float64\n",
            " 14  matchDuration    int64  \n",
            " 15  matchType        object \n",
            " 16  maxPlace         int64  \n",
            " 17  numGroups        int64  \n",
            " 18  rankPoints       int64  \n",
            " 19  revives          int64  \n",
            " 20  rideDistance     float64\n",
            " 21  roadKills        int64  \n",
            " 22  swimDistance     float64\n",
            " 23  teamKills        int64  \n",
            " 24  vehicleDestroys  int64  \n",
            " 25  walkDistance     float64\n",
            " 26  weaponsAcquired  int64  \n",
            " 27  winPoints        int64  \n",
            " 28  winPlacePerc     float64\n",
            "dtypes: float64(6), int64(19), object(4)\n",
            "memory usage: 983.9+ MB\n"
          ]
        }
      ]
    },
    {
      "cell_type": "code",
      "source": [
        "trainv2.describe()"
      ],
      "metadata": {
        "colab": {
          "base_uri": "https://localhost:8080/",
          "height": 394
        },
        "id": "HIgMhlTf4H8i",
        "outputId": "1e7c1d63-9ccb-48a8-909c-5b30b67947bf"
      },
      "execution_count": 6,
      "outputs": [
        {
          "output_type": "execute_result",
          "data": {
            "text/plain": [
              "            assists        boosts   damageDealt         DBNOs  headshotKills  \\\n",
              "count  4.446966e+06  4.446966e+06  4.446966e+06  4.446966e+06   4.446966e+06   \n",
              "mean   2.338149e-01  1.106908e+00  1.307171e+02  6.578755e-01   2.268196e-01   \n",
              "std    5.885731e-01  1.715794e+00  1.707806e+02  1.145743e+00   6.021553e-01   \n",
              "min    0.000000e+00  0.000000e+00  0.000000e+00  0.000000e+00   0.000000e+00   \n",
              "25%    0.000000e+00  0.000000e+00  0.000000e+00  0.000000e+00   0.000000e+00   \n",
              "50%    0.000000e+00  0.000000e+00  8.424000e+01  0.000000e+00   0.000000e+00   \n",
              "75%    0.000000e+00  2.000000e+00  1.860000e+02  1.000000e+00   0.000000e+00   \n",
              "max    2.200000e+01  3.300000e+01  6.616000e+03  5.300000e+01   6.400000e+01   \n",
              "\n",
              "              heals     killPlace    killPoints         kills   killStreaks  \\\n",
              "count  4.446966e+06  4.446966e+06  4.446966e+06  4.446966e+06  4.446966e+06   \n",
              "mean   1.370147e+00  4.759935e+01  5.050060e+02  9.247833e-01  5.439551e-01   \n",
              "std    2.679982e+00  2.746294e+01  6.275049e+02  1.558445e+00  7.109721e-01   \n",
              "min    0.000000e+00  1.000000e+00  0.000000e+00  0.000000e+00  0.000000e+00   \n",
              "25%    0.000000e+00  2.400000e+01  0.000000e+00  0.000000e+00  0.000000e+00   \n",
              "50%    0.000000e+00  4.700000e+01  0.000000e+00  0.000000e+00  0.000000e+00   \n",
              "75%    2.000000e+00  7.100000e+01  1.172000e+03  1.000000e+00  1.000000e+00   \n",
              "max    8.000000e+01  1.010000e+02  2.170000e+03  7.200000e+01  2.000000e+01   \n",
              "\n",
              "       ...       revives  rideDistance     roadKills  swimDistance  \\\n",
              "count  ...  4.446966e+06  4.446966e+06  4.446966e+06  4.446966e+06   \n",
              "mean   ...  1.646590e-01  6.061157e+02  3.496091e-03  4.509322e+00   \n",
              "std    ...  4.721671e-01  1.498344e+03  7.337297e-02  3.050220e+01   \n",
              "min    ...  0.000000e+00  0.000000e+00  0.000000e+00  0.000000e+00   \n",
              "25%    ...  0.000000e+00  0.000000e+00  0.000000e+00  0.000000e+00   \n",
              "50%    ...  0.000000e+00  0.000000e+00  0.000000e+00  0.000000e+00   \n",
              "75%    ...  0.000000e+00  1.909750e-01  0.000000e+00  0.000000e+00   \n",
              "max    ...  3.900000e+01  4.071000e+04  1.800000e+01  3.823000e+03   \n",
              "\n",
              "          teamKills  vehicleDestroys  walkDistance  weaponsAcquired  \\\n",
              "count  4.446966e+06     4.446966e+06  4.446966e+06     4.446966e+06   \n",
              "mean   2.386841e-02     7.918208e-03  1.154218e+03     3.660488e+00   \n",
              "std    1.673935e-01     9.261157e-02  1.183497e+03     2.456544e+00   \n",
              "min    0.000000e+00     0.000000e+00  0.000000e+00     0.000000e+00   \n",
              "25%    0.000000e+00     0.000000e+00  1.551000e+02     2.000000e+00   \n",
              "50%    0.000000e+00     0.000000e+00  6.856000e+02     3.000000e+00   \n",
              "75%    0.000000e+00     0.000000e+00  1.976000e+03     5.000000e+00   \n",
              "max    1.200000e+01     5.000000e+00  2.578000e+04     2.360000e+02   \n",
              "\n",
              "          winPoints  winPlacePerc  \n",
              "count  4.446966e+06  4.446965e+06  \n",
              "mean   6.064601e+02  4.728216e-01  \n",
              "std    7.397004e+02  3.074050e-01  \n",
              "min    0.000000e+00  0.000000e+00  \n",
              "25%    0.000000e+00  2.000000e-01  \n",
              "50%    0.000000e+00  4.583000e-01  \n",
              "75%    1.495000e+03  7.407000e-01  \n",
              "max    2.013000e+03  1.000000e+00  \n",
              "\n",
              "[8 rows x 25 columns]"
            ],
            "text/html": [
              "\n",
              "  <div id=\"df-eaa115e1-8787-470a-8a88-38352e2572ad\">\n",
              "    <div class=\"colab-df-container\">\n",
              "      <div>\n",
              "<style scoped>\n",
              "    .dataframe tbody tr th:only-of-type {\n",
              "        vertical-align: middle;\n",
              "    }\n",
              "\n",
              "    .dataframe tbody tr th {\n",
              "        vertical-align: top;\n",
              "    }\n",
              "\n",
              "    .dataframe thead th {\n",
              "        text-align: right;\n",
              "    }\n",
              "</style>\n",
              "<table border=\"1\" class=\"dataframe\">\n",
              "  <thead>\n",
              "    <tr style=\"text-align: right;\">\n",
              "      <th></th>\n",
              "      <th>assists</th>\n",
              "      <th>boosts</th>\n",
              "      <th>damageDealt</th>\n",
              "      <th>DBNOs</th>\n",
              "      <th>headshotKills</th>\n",
              "      <th>heals</th>\n",
              "      <th>killPlace</th>\n",
              "      <th>killPoints</th>\n",
              "      <th>kills</th>\n",
              "      <th>killStreaks</th>\n",
              "      <th>...</th>\n",
              "      <th>revives</th>\n",
              "      <th>rideDistance</th>\n",
              "      <th>roadKills</th>\n",
              "      <th>swimDistance</th>\n",
              "      <th>teamKills</th>\n",
              "      <th>vehicleDestroys</th>\n",
              "      <th>walkDistance</th>\n",
              "      <th>weaponsAcquired</th>\n",
              "      <th>winPoints</th>\n",
              "      <th>winPlacePerc</th>\n",
              "    </tr>\n",
              "  </thead>\n",
              "  <tbody>\n",
              "    <tr>\n",
              "      <th>count</th>\n",
              "      <td>4.446966e+06</td>\n",
              "      <td>4.446966e+06</td>\n",
              "      <td>4.446966e+06</td>\n",
              "      <td>4.446966e+06</td>\n",
              "      <td>4.446966e+06</td>\n",
              "      <td>4.446966e+06</td>\n",
              "      <td>4.446966e+06</td>\n",
              "      <td>4.446966e+06</td>\n",
              "      <td>4.446966e+06</td>\n",
              "      <td>4.446966e+06</td>\n",
              "      <td>...</td>\n",
              "      <td>4.446966e+06</td>\n",
              "      <td>4.446966e+06</td>\n",
              "      <td>4.446966e+06</td>\n",
              "      <td>4.446966e+06</td>\n",
              "      <td>4.446966e+06</td>\n",
              "      <td>4.446966e+06</td>\n",
              "      <td>4.446966e+06</td>\n",
              "      <td>4.446966e+06</td>\n",
              "      <td>4.446966e+06</td>\n",
              "      <td>4.446965e+06</td>\n",
              "    </tr>\n",
              "    <tr>\n",
              "      <th>mean</th>\n",
              "      <td>2.338149e-01</td>\n",
              "      <td>1.106908e+00</td>\n",
              "      <td>1.307171e+02</td>\n",
              "      <td>6.578755e-01</td>\n",
              "      <td>2.268196e-01</td>\n",
              "      <td>1.370147e+00</td>\n",
              "      <td>4.759935e+01</td>\n",
              "      <td>5.050060e+02</td>\n",
              "      <td>9.247833e-01</td>\n",
              "      <td>5.439551e-01</td>\n",
              "      <td>...</td>\n",
              "      <td>1.646590e-01</td>\n",
              "      <td>6.061157e+02</td>\n",
              "      <td>3.496091e-03</td>\n",
              "      <td>4.509322e+00</td>\n",
              "      <td>2.386841e-02</td>\n",
              "      <td>7.918208e-03</td>\n",
              "      <td>1.154218e+03</td>\n",
              "      <td>3.660488e+00</td>\n",
              "      <td>6.064601e+02</td>\n",
              "      <td>4.728216e-01</td>\n",
              "    </tr>\n",
              "    <tr>\n",
              "      <th>std</th>\n",
              "      <td>5.885731e-01</td>\n",
              "      <td>1.715794e+00</td>\n",
              "      <td>1.707806e+02</td>\n",
              "      <td>1.145743e+00</td>\n",
              "      <td>6.021553e-01</td>\n",
              "      <td>2.679982e+00</td>\n",
              "      <td>2.746294e+01</td>\n",
              "      <td>6.275049e+02</td>\n",
              "      <td>1.558445e+00</td>\n",
              "      <td>7.109721e-01</td>\n",
              "      <td>...</td>\n",
              "      <td>4.721671e-01</td>\n",
              "      <td>1.498344e+03</td>\n",
              "      <td>7.337297e-02</td>\n",
              "      <td>3.050220e+01</td>\n",
              "      <td>1.673935e-01</td>\n",
              "      <td>9.261157e-02</td>\n",
              "      <td>1.183497e+03</td>\n",
              "      <td>2.456544e+00</td>\n",
              "      <td>7.397004e+02</td>\n",
              "      <td>3.074050e-01</td>\n",
              "    </tr>\n",
              "    <tr>\n",
              "      <th>min</th>\n",
              "      <td>0.000000e+00</td>\n",
              "      <td>0.000000e+00</td>\n",
              "      <td>0.000000e+00</td>\n",
              "      <td>0.000000e+00</td>\n",
              "      <td>0.000000e+00</td>\n",
              "      <td>0.000000e+00</td>\n",
              "      <td>1.000000e+00</td>\n",
              "      <td>0.000000e+00</td>\n",
              "      <td>0.000000e+00</td>\n",
              "      <td>0.000000e+00</td>\n",
              "      <td>...</td>\n",
              "      <td>0.000000e+00</td>\n",
              "      <td>0.000000e+00</td>\n",
              "      <td>0.000000e+00</td>\n",
              "      <td>0.000000e+00</td>\n",
              "      <td>0.000000e+00</td>\n",
              "      <td>0.000000e+00</td>\n",
              "      <td>0.000000e+00</td>\n",
              "      <td>0.000000e+00</td>\n",
              "      <td>0.000000e+00</td>\n",
              "      <td>0.000000e+00</td>\n",
              "    </tr>\n",
              "    <tr>\n",
              "      <th>25%</th>\n",
              "      <td>0.000000e+00</td>\n",
              "      <td>0.000000e+00</td>\n",
              "      <td>0.000000e+00</td>\n",
              "      <td>0.000000e+00</td>\n",
              "      <td>0.000000e+00</td>\n",
              "      <td>0.000000e+00</td>\n",
              "      <td>2.400000e+01</td>\n",
              "      <td>0.000000e+00</td>\n",
              "      <td>0.000000e+00</td>\n",
              "      <td>0.000000e+00</td>\n",
              "      <td>...</td>\n",
              "      <td>0.000000e+00</td>\n",
              "      <td>0.000000e+00</td>\n",
              "      <td>0.000000e+00</td>\n",
              "      <td>0.000000e+00</td>\n",
              "      <td>0.000000e+00</td>\n",
              "      <td>0.000000e+00</td>\n",
              "      <td>1.551000e+02</td>\n",
              "      <td>2.000000e+00</td>\n",
              "      <td>0.000000e+00</td>\n",
              "      <td>2.000000e-01</td>\n",
              "    </tr>\n",
              "    <tr>\n",
              "      <th>50%</th>\n",
              "      <td>0.000000e+00</td>\n",
              "      <td>0.000000e+00</td>\n",
              "      <td>8.424000e+01</td>\n",
              "      <td>0.000000e+00</td>\n",
              "      <td>0.000000e+00</td>\n",
              "      <td>0.000000e+00</td>\n",
              "      <td>4.700000e+01</td>\n",
              "      <td>0.000000e+00</td>\n",
              "      <td>0.000000e+00</td>\n",
              "      <td>0.000000e+00</td>\n",
              "      <td>...</td>\n",
              "      <td>0.000000e+00</td>\n",
              "      <td>0.000000e+00</td>\n",
              "      <td>0.000000e+00</td>\n",
              "      <td>0.000000e+00</td>\n",
              "      <td>0.000000e+00</td>\n",
              "      <td>0.000000e+00</td>\n",
              "      <td>6.856000e+02</td>\n",
              "      <td>3.000000e+00</td>\n",
              "      <td>0.000000e+00</td>\n",
              "      <td>4.583000e-01</td>\n",
              "    </tr>\n",
              "    <tr>\n",
              "      <th>75%</th>\n",
              "      <td>0.000000e+00</td>\n",
              "      <td>2.000000e+00</td>\n",
              "      <td>1.860000e+02</td>\n",
              "      <td>1.000000e+00</td>\n",
              "      <td>0.000000e+00</td>\n",
              "      <td>2.000000e+00</td>\n",
              "      <td>7.100000e+01</td>\n",
              "      <td>1.172000e+03</td>\n",
              "      <td>1.000000e+00</td>\n",
              "      <td>1.000000e+00</td>\n",
              "      <td>...</td>\n",
              "      <td>0.000000e+00</td>\n",
              "      <td>1.909750e-01</td>\n",
              "      <td>0.000000e+00</td>\n",
              "      <td>0.000000e+00</td>\n",
              "      <td>0.000000e+00</td>\n",
              "      <td>0.000000e+00</td>\n",
              "      <td>1.976000e+03</td>\n",
              "      <td>5.000000e+00</td>\n",
              "      <td>1.495000e+03</td>\n",
              "      <td>7.407000e-01</td>\n",
              "    </tr>\n",
              "    <tr>\n",
              "      <th>max</th>\n",
              "      <td>2.200000e+01</td>\n",
              "      <td>3.300000e+01</td>\n",
              "      <td>6.616000e+03</td>\n",
              "      <td>5.300000e+01</td>\n",
              "      <td>6.400000e+01</td>\n",
              "      <td>8.000000e+01</td>\n",
              "      <td>1.010000e+02</td>\n",
              "      <td>2.170000e+03</td>\n",
              "      <td>7.200000e+01</td>\n",
              "      <td>2.000000e+01</td>\n",
              "      <td>...</td>\n",
              "      <td>3.900000e+01</td>\n",
              "      <td>4.071000e+04</td>\n",
              "      <td>1.800000e+01</td>\n",
              "      <td>3.823000e+03</td>\n",
              "      <td>1.200000e+01</td>\n",
              "      <td>5.000000e+00</td>\n",
              "      <td>2.578000e+04</td>\n",
              "      <td>2.360000e+02</td>\n",
              "      <td>2.013000e+03</td>\n",
              "      <td>1.000000e+00</td>\n",
              "    </tr>\n",
              "  </tbody>\n",
              "</table>\n",
              "<p>8 rows × 25 columns</p>\n",
              "</div>\n",
              "      <button class=\"colab-df-convert\" onclick=\"convertToInteractive('df-eaa115e1-8787-470a-8a88-38352e2572ad')\"\n",
              "              title=\"Convert this dataframe to an interactive table.\"\n",
              "              style=\"display:none;\">\n",
              "        \n",
              "  <svg xmlns=\"http://www.w3.org/2000/svg\" height=\"24px\"viewBox=\"0 0 24 24\"\n",
              "       width=\"24px\">\n",
              "    <path d=\"M0 0h24v24H0V0z\" fill=\"none\"/>\n",
              "    <path d=\"M18.56 5.44l.94 2.06.94-2.06 2.06-.94-2.06-.94-.94-2.06-.94 2.06-2.06.94zm-11 1L8.5 8.5l.94-2.06 2.06-.94-2.06-.94L8.5 2.5l-.94 2.06-2.06.94zm10 10l.94 2.06.94-2.06 2.06-.94-2.06-.94-.94-2.06-.94 2.06-2.06.94z\"/><path d=\"M17.41 7.96l-1.37-1.37c-.4-.4-.92-.59-1.43-.59-.52 0-1.04.2-1.43.59L10.3 9.45l-7.72 7.72c-.78.78-.78 2.05 0 2.83L4 21.41c.39.39.9.59 1.41.59.51 0 1.02-.2 1.41-.59l7.78-7.78 2.81-2.81c.8-.78.8-2.07 0-2.86zM5.41 20L4 18.59l7.72-7.72 1.47 1.35L5.41 20z\"/>\n",
              "  </svg>\n",
              "      </button>\n",
              "      \n",
              "  <style>\n",
              "    .colab-df-container {\n",
              "      display:flex;\n",
              "      flex-wrap:wrap;\n",
              "      gap: 12px;\n",
              "    }\n",
              "\n",
              "    .colab-df-convert {\n",
              "      background-color: #E8F0FE;\n",
              "      border: none;\n",
              "      border-radius: 50%;\n",
              "      cursor: pointer;\n",
              "      display: none;\n",
              "      fill: #1967D2;\n",
              "      height: 32px;\n",
              "      padding: 0 0 0 0;\n",
              "      width: 32px;\n",
              "    }\n",
              "\n",
              "    .colab-df-convert:hover {\n",
              "      background-color: #E2EBFA;\n",
              "      box-shadow: 0px 1px 2px rgba(60, 64, 67, 0.3), 0px 1px 3px 1px rgba(60, 64, 67, 0.15);\n",
              "      fill: #174EA6;\n",
              "    }\n",
              "\n",
              "    [theme=dark] .colab-df-convert {\n",
              "      background-color: #3B4455;\n",
              "      fill: #D2E3FC;\n",
              "    }\n",
              "\n",
              "    [theme=dark] .colab-df-convert:hover {\n",
              "      background-color: #434B5C;\n",
              "      box-shadow: 0px 1px 3px 1px rgba(0, 0, 0, 0.15);\n",
              "      filter: drop-shadow(0px 1px 2px rgba(0, 0, 0, 0.3));\n",
              "      fill: #FFFFFF;\n",
              "    }\n",
              "  </style>\n",
              "\n",
              "      <script>\n",
              "        const buttonEl =\n",
              "          document.querySelector('#df-eaa115e1-8787-470a-8a88-38352e2572ad button.colab-df-convert');\n",
              "        buttonEl.style.display =\n",
              "          google.colab.kernel.accessAllowed ? 'block' : 'none';\n",
              "\n",
              "        async function convertToInteractive(key) {\n",
              "          const element = document.querySelector('#df-eaa115e1-8787-470a-8a88-38352e2572ad');\n",
              "          const dataTable =\n",
              "            await google.colab.kernel.invokeFunction('convertToInteractive',\n",
              "                                                     [key], {});\n",
              "          if (!dataTable) return;\n",
              "\n",
              "          const docLinkHtml = 'Like what you see? Visit the ' +\n",
              "            '<a target=\"_blank\" href=https://colab.research.google.com/notebooks/data_table.ipynb>data table notebook</a>'\n",
              "            + ' to learn more about interactive tables.';\n",
              "          element.innerHTML = '';\n",
              "          dataTable['output_type'] = 'display_data';\n",
              "          await google.colab.output.renderOutput(dataTable, element);\n",
              "          const docLink = document.createElement('div');\n",
              "          docLink.innerHTML = docLinkHtml;\n",
              "          element.appendChild(docLink);\n",
              "        }\n",
              "      </script>\n",
              "    </div>\n",
              "  </div>\n",
              "  "
            ]
          },
          "metadata": {},
          "execution_count": 6
        }
      ]
    },
    {
      "cell_type": "code",
      "source": [
        "trainv2.describe(include=[\"O\"])"
      ],
      "metadata": {
        "colab": {
          "base_uri": "https://localhost:8080/",
          "height": 175
        },
        "id": "JXE_OTJ_dVG3",
        "outputId": "d4447e62-1006-4e8f-f465-e346f8bfe513"
      },
      "execution_count": 7,
      "outputs": [
        {
          "output_type": "execute_result",
          "data": {
            "text/plain": [
              "                    Id         groupId         matchId  matchType\n",
              "count          4446966         4446966         4446966    4446966\n",
              "unique         4446966         2026745           47965         16\n",
              "top     7f96b2f878858a  14d6b54cdec6bc  4b5db40aec4797  squad-fpp\n",
              "freq                 1              74             100    1756186"
            ],
            "text/html": [
              "\n",
              "  <div id=\"df-8aea73af-2fae-4457-83d9-47189e4036c3\">\n",
              "    <div class=\"colab-df-container\">\n",
              "      <div>\n",
              "<style scoped>\n",
              "    .dataframe tbody tr th:only-of-type {\n",
              "        vertical-align: middle;\n",
              "    }\n",
              "\n",
              "    .dataframe tbody tr th {\n",
              "        vertical-align: top;\n",
              "    }\n",
              "\n",
              "    .dataframe thead th {\n",
              "        text-align: right;\n",
              "    }\n",
              "</style>\n",
              "<table border=\"1\" class=\"dataframe\">\n",
              "  <thead>\n",
              "    <tr style=\"text-align: right;\">\n",
              "      <th></th>\n",
              "      <th>Id</th>\n",
              "      <th>groupId</th>\n",
              "      <th>matchId</th>\n",
              "      <th>matchType</th>\n",
              "    </tr>\n",
              "  </thead>\n",
              "  <tbody>\n",
              "    <tr>\n",
              "      <th>count</th>\n",
              "      <td>4446966</td>\n",
              "      <td>4446966</td>\n",
              "      <td>4446966</td>\n",
              "      <td>4446966</td>\n",
              "    </tr>\n",
              "    <tr>\n",
              "      <th>unique</th>\n",
              "      <td>4446966</td>\n",
              "      <td>2026745</td>\n",
              "      <td>47965</td>\n",
              "      <td>16</td>\n",
              "    </tr>\n",
              "    <tr>\n",
              "      <th>top</th>\n",
              "      <td>7f96b2f878858a</td>\n",
              "      <td>14d6b54cdec6bc</td>\n",
              "      <td>4b5db40aec4797</td>\n",
              "      <td>squad-fpp</td>\n",
              "    </tr>\n",
              "    <tr>\n",
              "      <th>freq</th>\n",
              "      <td>1</td>\n",
              "      <td>74</td>\n",
              "      <td>100</td>\n",
              "      <td>1756186</td>\n",
              "    </tr>\n",
              "  </tbody>\n",
              "</table>\n",
              "</div>\n",
              "      <button class=\"colab-df-convert\" onclick=\"convertToInteractive('df-8aea73af-2fae-4457-83d9-47189e4036c3')\"\n",
              "              title=\"Convert this dataframe to an interactive table.\"\n",
              "              style=\"display:none;\">\n",
              "        \n",
              "  <svg xmlns=\"http://www.w3.org/2000/svg\" height=\"24px\"viewBox=\"0 0 24 24\"\n",
              "       width=\"24px\">\n",
              "    <path d=\"M0 0h24v24H0V0z\" fill=\"none\"/>\n",
              "    <path d=\"M18.56 5.44l.94 2.06.94-2.06 2.06-.94-2.06-.94-.94-2.06-.94 2.06-2.06.94zm-11 1L8.5 8.5l.94-2.06 2.06-.94-2.06-.94L8.5 2.5l-.94 2.06-2.06.94zm10 10l.94 2.06.94-2.06 2.06-.94-2.06-.94-.94-2.06-.94 2.06-2.06.94z\"/><path d=\"M17.41 7.96l-1.37-1.37c-.4-.4-.92-.59-1.43-.59-.52 0-1.04.2-1.43.59L10.3 9.45l-7.72 7.72c-.78.78-.78 2.05 0 2.83L4 21.41c.39.39.9.59 1.41.59.51 0 1.02-.2 1.41-.59l7.78-7.78 2.81-2.81c.8-.78.8-2.07 0-2.86zM5.41 20L4 18.59l7.72-7.72 1.47 1.35L5.41 20z\"/>\n",
              "  </svg>\n",
              "      </button>\n",
              "      \n",
              "  <style>\n",
              "    .colab-df-container {\n",
              "      display:flex;\n",
              "      flex-wrap:wrap;\n",
              "      gap: 12px;\n",
              "    }\n",
              "\n",
              "    .colab-df-convert {\n",
              "      background-color: #E8F0FE;\n",
              "      border: none;\n",
              "      border-radius: 50%;\n",
              "      cursor: pointer;\n",
              "      display: none;\n",
              "      fill: #1967D2;\n",
              "      height: 32px;\n",
              "      padding: 0 0 0 0;\n",
              "      width: 32px;\n",
              "    }\n",
              "\n",
              "    .colab-df-convert:hover {\n",
              "      background-color: #E2EBFA;\n",
              "      box-shadow: 0px 1px 2px rgba(60, 64, 67, 0.3), 0px 1px 3px 1px rgba(60, 64, 67, 0.15);\n",
              "      fill: #174EA6;\n",
              "    }\n",
              "\n",
              "    [theme=dark] .colab-df-convert {\n",
              "      background-color: #3B4455;\n",
              "      fill: #D2E3FC;\n",
              "    }\n",
              "\n",
              "    [theme=dark] .colab-df-convert:hover {\n",
              "      background-color: #434B5C;\n",
              "      box-shadow: 0px 1px 3px 1px rgba(0, 0, 0, 0.15);\n",
              "      filter: drop-shadow(0px 1px 2px rgba(0, 0, 0, 0.3));\n",
              "      fill: #FFFFFF;\n",
              "    }\n",
              "  </style>\n",
              "\n",
              "      <script>\n",
              "        const buttonEl =\n",
              "          document.querySelector('#df-8aea73af-2fae-4457-83d9-47189e4036c3 button.colab-df-convert');\n",
              "        buttonEl.style.display =\n",
              "          google.colab.kernel.accessAllowed ? 'block' : 'none';\n",
              "\n",
              "        async function convertToInteractive(key) {\n",
              "          const element = document.querySelector('#df-8aea73af-2fae-4457-83d9-47189e4036c3');\n",
              "          const dataTable =\n",
              "            await google.colab.kernel.invokeFunction('convertToInteractive',\n",
              "                                                     [key], {});\n",
              "          if (!dataTable) return;\n",
              "\n",
              "          const docLinkHtml = 'Like what you see? Visit the ' +\n",
              "            '<a target=\"_blank\" href=https://colab.research.google.com/notebooks/data_table.ipynb>data table notebook</a>'\n",
              "            + ' to learn more about interactive tables.';\n",
              "          element.innerHTML = '';\n",
              "          dataTable['output_type'] = 'display_data';\n",
              "          await google.colab.output.renderOutput(dataTable, element);\n",
              "          const docLink = document.createElement('div');\n",
              "          docLink.innerHTML = docLinkHtml;\n",
              "          element.appendChild(docLink);\n",
              "        }\n",
              "      </script>\n",
              "    </div>\n",
              "  </div>\n",
              "  "
            ]
          },
          "metadata": {},
          "execution_count": 7
        }
      ]
    },
    {
      "cell_type": "code",
      "source": [
        "trainv2.sample(2)"
      ],
      "metadata": {
        "colab": {
          "base_uri": "https://localhost:8080/",
          "height": 205
        },
        "id": "HPjyCwlTo7c4",
        "outputId": "01cebedf-e02e-4762-a3ac-eccffb2aad98"
      },
      "execution_count": 8,
      "outputs": [
        {
          "output_type": "execute_result",
          "data": {
            "text/plain": [
              "                     Id         groupId         matchId  assists  boosts  \\\n",
              "3205935  af926927105ff7  2962cc05d6bf3a  1dcb04cafe5113        0       0   \n",
              "651495   ebc1032fd91324  0beb09ca0c92c9  dd5f7c0e1fbe3b        0       2   \n",
              "\n",
              "         damageDealt  DBNOs  headshotKills  heals  killPlace  ...  revives  \\\n",
              "3205935          0.0      0              0      0         68  ...        0   \n",
              "651495         126.0      1              1      0         37  ...        0   \n",
              "\n",
              "         rideDistance  roadKills  swimDistance  teamKills vehicleDestroys  \\\n",
              "3205935           0.0          0           0.0          0               0   \n",
              "651495            0.0          0           0.0          0               0   \n",
              "\n",
              "         walkDistance  weaponsAcquired  winPoints  winPlacePerc  \n",
              "3205935         760.7                2       1500        0.2000  \n",
              "651495          227.8                4          0        0.1786  \n",
              "\n",
              "[2 rows x 29 columns]"
            ],
            "text/html": [
              "\n",
              "  <div id=\"df-523a4b17-0eba-4c49-bdeb-e2f072ad84f4\">\n",
              "    <div class=\"colab-df-container\">\n",
              "      <div>\n",
              "<style scoped>\n",
              "    .dataframe tbody tr th:only-of-type {\n",
              "        vertical-align: middle;\n",
              "    }\n",
              "\n",
              "    .dataframe tbody tr th {\n",
              "        vertical-align: top;\n",
              "    }\n",
              "\n",
              "    .dataframe thead th {\n",
              "        text-align: right;\n",
              "    }\n",
              "</style>\n",
              "<table border=\"1\" class=\"dataframe\">\n",
              "  <thead>\n",
              "    <tr style=\"text-align: right;\">\n",
              "      <th></th>\n",
              "      <th>Id</th>\n",
              "      <th>groupId</th>\n",
              "      <th>matchId</th>\n",
              "      <th>assists</th>\n",
              "      <th>boosts</th>\n",
              "      <th>damageDealt</th>\n",
              "      <th>DBNOs</th>\n",
              "      <th>headshotKills</th>\n",
              "      <th>heals</th>\n",
              "      <th>killPlace</th>\n",
              "      <th>...</th>\n",
              "      <th>revives</th>\n",
              "      <th>rideDistance</th>\n",
              "      <th>roadKills</th>\n",
              "      <th>swimDistance</th>\n",
              "      <th>teamKills</th>\n",
              "      <th>vehicleDestroys</th>\n",
              "      <th>walkDistance</th>\n",
              "      <th>weaponsAcquired</th>\n",
              "      <th>winPoints</th>\n",
              "      <th>winPlacePerc</th>\n",
              "    </tr>\n",
              "  </thead>\n",
              "  <tbody>\n",
              "    <tr>\n",
              "      <th>3205935</th>\n",
              "      <td>af926927105ff7</td>\n",
              "      <td>2962cc05d6bf3a</td>\n",
              "      <td>1dcb04cafe5113</td>\n",
              "      <td>0</td>\n",
              "      <td>0</td>\n",
              "      <td>0.0</td>\n",
              "      <td>0</td>\n",
              "      <td>0</td>\n",
              "      <td>0</td>\n",
              "      <td>68</td>\n",
              "      <td>...</td>\n",
              "      <td>0</td>\n",
              "      <td>0.0</td>\n",
              "      <td>0</td>\n",
              "      <td>0.0</td>\n",
              "      <td>0</td>\n",
              "      <td>0</td>\n",
              "      <td>760.7</td>\n",
              "      <td>2</td>\n",
              "      <td>1500</td>\n",
              "      <td>0.2000</td>\n",
              "    </tr>\n",
              "    <tr>\n",
              "      <th>651495</th>\n",
              "      <td>ebc1032fd91324</td>\n",
              "      <td>0beb09ca0c92c9</td>\n",
              "      <td>dd5f7c0e1fbe3b</td>\n",
              "      <td>0</td>\n",
              "      <td>2</td>\n",
              "      <td>126.0</td>\n",
              "      <td>1</td>\n",
              "      <td>1</td>\n",
              "      <td>0</td>\n",
              "      <td>37</td>\n",
              "      <td>...</td>\n",
              "      <td>0</td>\n",
              "      <td>0.0</td>\n",
              "      <td>0</td>\n",
              "      <td>0.0</td>\n",
              "      <td>0</td>\n",
              "      <td>0</td>\n",
              "      <td>227.8</td>\n",
              "      <td>4</td>\n",
              "      <td>0</td>\n",
              "      <td>0.1786</td>\n",
              "    </tr>\n",
              "  </tbody>\n",
              "</table>\n",
              "<p>2 rows × 29 columns</p>\n",
              "</div>\n",
              "      <button class=\"colab-df-convert\" onclick=\"convertToInteractive('df-523a4b17-0eba-4c49-bdeb-e2f072ad84f4')\"\n",
              "              title=\"Convert this dataframe to an interactive table.\"\n",
              "              style=\"display:none;\">\n",
              "        \n",
              "  <svg xmlns=\"http://www.w3.org/2000/svg\" height=\"24px\"viewBox=\"0 0 24 24\"\n",
              "       width=\"24px\">\n",
              "    <path d=\"M0 0h24v24H0V0z\" fill=\"none\"/>\n",
              "    <path d=\"M18.56 5.44l.94 2.06.94-2.06 2.06-.94-2.06-.94-.94-2.06-.94 2.06-2.06.94zm-11 1L8.5 8.5l.94-2.06 2.06-.94-2.06-.94L8.5 2.5l-.94 2.06-2.06.94zm10 10l.94 2.06.94-2.06 2.06-.94-2.06-.94-.94-2.06-.94 2.06-2.06.94z\"/><path d=\"M17.41 7.96l-1.37-1.37c-.4-.4-.92-.59-1.43-.59-.52 0-1.04.2-1.43.59L10.3 9.45l-7.72 7.72c-.78.78-.78 2.05 0 2.83L4 21.41c.39.39.9.59 1.41.59.51 0 1.02-.2 1.41-.59l7.78-7.78 2.81-2.81c.8-.78.8-2.07 0-2.86zM5.41 20L4 18.59l7.72-7.72 1.47 1.35L5.41 20z\"/>\n",
              "  </svg>\n",
              "      </button>\n",
              "      \n",
              "  <style>\n",
              "    .colab-df-container {\n",
              "      display:flex;\n",
              "      flex-wrap:wrap;\n",
              "      gap: 12px;\n",
              "    }\n",
              "\n",
              "    .colab-df-convert {\n",
              "      background-color: #E8F0FE;\n",
              "      border: none;\n",
              "      border-radius: 50%;\n",
              "      cursor: pointer;\n",
              "      display: none;\n",
              "      fill: #1967D2;\n",
              "      height: 32px;\n",
              "      padding: 0 0 0 0;\n",
              "      width: 32px;\n",
              "    }\n",
              "\n",
              "    .colab-df-convert:hover {\n",
              "      background-color: #E2EBFA;\n",
              "      box-shadow: 0px 1px 2px rgba(60, 64, 67, 0.3), 0px 1px 3px 1px rgba(60, 64, 67, 0.15);\n",
              "      fill: #174EA6;\n",
              "    }\n",
              "\n",
              "    [theme=dark] .colab-df-convert {\n",
              "      background-color: #3B4455;\n",
              "      fill: #D2E3FC;\n",
              "    }\n",
              "\n",
              "    [theme=dark] .colab-df-convert:hover {\n",
              "      background-color: #434B5C;\n",
              "      box-shadow: 0px 1px 3px 1px rgba(0, 0, 0, 0.15);\n",
              "      filter: drop-shadow(0px 1px 2px rgba(0, 0, 0, 0.3));\n",
              "      fill: #FFFFFF;\n",
              "    }\n",
              "  </style>\n",
              "\n",
              "      <script>\n",
              "        const buttonEl =\n",
              "          document.querySelector('#df-523a4b17-0eba-4c49-bdeb-e2f072ad84f4 button.colab-df-convert');\n",
              "        buttonEl.style.display =\n",
              "          google.colab.kernel.accessAllowed ? 'block' : 'none';\n",
              "\n",
              "        async function convertToInteractive(key) {\n",
              "          const element = document.querySelector('#df-523a4b17-0eba-4c49-bdeb-e2f072ad84f4');\n",
              "          const dataTable =\n",
              "            await google.colab.kernel.invokeFunction('convertToInteractive',\n",
              "                                                     [key], {});\n",
              "          if (!dataTable) return;\n",
              "\n",
              "          const docLinkHtml = 'Like what you see? Visit the ' +\n",
              "            '<a target=\"_blank\" href=https://colab.research.google.com/notebooks/data_table.ipynb>data table notebook</a>'\n",
              "            + ' to learn more about interactive tables.';\n",
              "          element.innerHTML = '';\n",
              "          dataTable['output_type'] = 'display_data';\n",
              "          await google.colab.output.renderOutput(dataTable, element);\n",
              "          const docLink = document.createElement('div');\n",
              "          docLink.innerHTML = docLinkHtml;\n",
              "          element.appendChild(docLink);\n",
              "        }\n",
              "      </script>\n",
              "    </div>\n",
              "  </div>\n",
              "  "
            ]
          },
          "metadata": {},
          "execution_count": 8
        }
      ]
    },
    {
      "cell_type": "markdown",
      "source": [
        "전처리"
      ],
      "metadata": {
        "id": "zp-rDqvrVbjw"
      }
    },
    {
      "cell_type": "code",
      "source": [
        "trainv2[trainv2.isnull().any(axis=1)]\n",
        "trainv2 =trainv2.drop(index=2744604) #결측치 제거"
      ],
      "metadata": {
        "id": "ALwCA1G2U8jL"
      },
      "execution_count": 9,
      "outputs": []
    },
    {
      "cell_type": "code",
      "source": [
        "trainv2.matchType.value_counts()"
      ],
      "metadata": {
        "colab": {
          "base_uri": "https://localhost:8080/"
        },
        "id": "MlJ6gpFCcPwJ",
        "outputId": "6dfa0946-7283-4d2a-e758-6245f2c29ba5"
      },
      "execution_count": 10,
      "outputs": [
        {
          "output_type": "execute_result",
          "data": {
            "text/plain": [
              "squad-fpp           1756186\n",
              "duo-fpp              996691\n",
              "squad                626526\n",
              "solo-fpp             536761\n",
              "duo                  313591\n",
              "solo                 181943\n",
              "normal-squad-fpp      17174\n",
              "crashfpp               6287\n",
              "normal-duo-fpp         5489\n",
              "flaretpp               2505\n",
              "normal-solo-fpp        1682\n",
              "flarefpp                718\n",
              "normal-squad            516\n",
              "crashtpp                371\n",
              "normal-solo             326\n",
              "normal-duo              199\n",
              "Name: matchType, dtype: int64"
            ]
          },
          "metadata": {},
          "execution_count": 10
        }
      ]
    },
    {
      "cell_type": "code",
      "source": [
        "cond=trainv2.matchType.isin(['squad-fpp','duo-fpp','squad','solo-fpp','duo','solo'])"
      ],
      "metadata": {
        "id": "MI5IeHuj22Ad"
      },
      "execution_count": 11,
      "outputs": []
    },
    {
      "cell_type": "code",
      "source": [
        "trainv2 = trainv2[cond]"
      ],
      "metadata": {
        "id": "uEj7srXn65h-"
      },
      "execution_count": 12,
      "outputs": []
    },
    {
      "cell_type": "markdown",
      "source": [
        "통계지표&시각화"
      ],
      "metadata": {
        "id": "ePfePIEg5_gL"
      }
    },
    {
      "cell_type": "code",
      "source": [
        "trainv2.shape"
      ],
      "metadata": {
        "colab": {
          "base_uri": "https://localhost:8080/"
        },
        "id": "FC_94BSsqmD3",
        "outputId": "7aea2076-87cc-4dc4-bded-3674f42e8647"
      },
      "execution_count": 13,
      "outputs": [
        {
          "output_type": "execute_result",
          "data": {
            "text/plain": [
              "(4411698, 29)"
            ]
          },
          "metadata": {},
          "execution_count": 13
        }
      ]
    },
    {
      "cell_type": "code",
      "source": [
        "trainv2.columns"
      ],
      "metadata": {
        "colab": {
          "base_uri": "https://localhost:8080/"
        },
        "id": "cjKHO9vGrQOF",
        "outputId": "c78e001c-1d6e-46da-cf35-e70aa47dd4b1"
      },
      "execution_count": 14,
      "outputs": [
        {
          "output_type": "execute_result",
          "data": {
            "text/plain": [
              "Index(['Id', 'groupId', 'matchId', 'assists', 'boosts', 'damageDealt', 'DBNOs',\n",
              "       'headshotKills', 'heals', 'killPlace', 'killPoints', 'kills',\n",
              "       'killStreaks', 'longestKill', 'matchDuration', 'matchType', 'maxPlace',\n",
              "       'numGroups', 'rankPoints', 'revives', 'rideDistance', 'roadKills',\n",
              "       'swimDistance', 'teamKills', 'vehicleDestroys', 'walkDistance',\n",
              "       'weaponsAcquired', 'winPoints', 'winPlacePerc'],\n",
              "      dtype='object')"
            ]
          },
          "metadata": {},
          "execution_count": 14
        }
      ]
    },
    {
      "cell_type": "markdown",
      "source": [
        "'Id',전부 다른 id를 가지고 있으며 중요데이터는 아니라 생각됨  drop \n",
        "\n",
        "'groupId',그룹 아이디가 무엇을 의미하는지 알수없음 제거해야된다 생각됨 전처리->이상데이터 drop or 보류\n",
        "\n",
        "'matchId',게임별 아이디로 인원부족한 판은 제거해야된다 생각됨 60명 이하 데이터 drop 모델링시 삭제\n",
        "\n",
        "'assists', 솔로모드의 데이터가 없기때문에 제거해야된다 생각됨 그룹아이디를 사용하게되면 필요데이터가 될수있다 보류\n",
        "\n",
        "'boosts', 중요지표중 하나로 이상치 제거 해야된다고 생각됨 0.636 \n",
        "\n",
        "'damageDealt',중요지표중 하나로 생각됨 0.450 \n",
        "\n",
        "'DBNOs',적을 다운시킨 횟수로 중요지표중 하나로 생각됨 0.284   보류\n",
        "\n",
        "'headshotKills',적을 만났을경우 이길확률이 높기때문에 중요지표 이상치제거 필요 보류 0.282\n",
        "\n",
        "'heals',살아남을 확률 vs 죽을 확률 중요지표는 아니거 같다는 생각 0.430 사용\n",
        "\n",
        "'killPlace',가장 중요한 지표라 생각된다 \n",
        "\n",
        "'killPoints',elo시스템이라 사용vs제거 판단 안됨  drop\n",
        "\n",
        "'kills', 중요지표라 생각됨 0.431\n",
        "\n",
        "'killStreaks',이상치가 많아 보이며 제거해야된다 판단    보류\n",
        "\n",
        "'longestKill',상관계수는 0.412지만 중요데이터는 아닌것 같음 보류\n",
        "\n",
        "'matchDuration',id와 같은 중요데이터 아님 drop\n",
        "\n",
        "'matchType',전처리를 진행하였으며 type별로 모델 학습해 보는것도 생각해봐야할것 수치형으로 바꿔서 진행\n",
        "\n",
        "'maxPlace', drop\n",
        "\n",
        "'numGroups',참가하는 팀이 적을수록 등수에 영향을 미친다? 추가 or 삭제  보류 \n",
        "\n",
        "'rankPoints',elo시스템이라 사용vs제거 판단 안됨 보류\n",
        "\n",
        "'revives',솔로모드의 데이터가 없기때문에 제거해야된다 생각됨 그룹아이디를 사용하게되면 필요데이터가 될수있다 \n",
        "\n",
        "'rideDistance',차량이동 이상치 제거 필요 데이터의 중요도는 평균인거 같음 보류\n",
        "\n",
        "'swimDistance', 보류\n",
        "\n",
        "'walkDistance', 사용\n",
        "\n",
        "'teamKills', drop\n",
        "'roadKills', drop\n",
        "'vehicleDestroys' drop\n",
        "\n",
        "'weaponsAcquired', 이상치 제거하고 사용\n",
        "'winPoints', 보류\n",
        "\n",
        "'winPlacePerc'"
      ],
      "metadata": {
        "id": "Zpikai5XQHtO"
      }
    },
    {
      "cell_type": "code",
      "source": [
        "trainv2.rideDistance.corr(trainv2.winPlacePerc)"
      ],
      "metadata": {
        "id": "_0FzxrBZoL6G",
        "colab": {
          "base_uri": "https://localhost:8080/"
        },
        "outputId": "c798c43f-fa8f-455e-a6b5-3dee68952c64"
      },
      "execution_count": 15,
      "outputs": [
        {
          "output_type": "execute_result",
          "data": {
            "text/plain": [
              "0.34541530570422035"
            ]
          },
          "metadata": {},
          "execution_count": 15
        }
      ]
    },
    {
      "cell_type": "code",
      "source": [
        "plt.scatter(x=trainv2.boosts,y=trainv2.winPlacePerc)\n",
        "plt.show()"
      ],
      "metadata": {
        "id": "IQH99hPfeKtT",
        "colab": {
          "base_uri": "https://localhost:8080/",
          "height": 265
        },
        "outputId": "7c333c40-c6dc-4a70-9f1c-6a1e6eed5a8e"
      },
      "execution_count": 16,
      "outputs": [
        {
          "output_type": "display_data",
          "data": {
            "text/plain": [
              "<Figure size 432x288 with 1 Axes>"
            ],
            "image/png": "[encoded data removed]"
          },
          "metadata": {
            "needs_background": "light"
          }
        }
      ]
    },
    {
      "cell_type": "code",
      "source": [
        "plt.scatter(x=trainv2.damageDealt,y=trainv2.winPlacePerc)\n",
        "plt.show()"
      ],
      "metadata": {
        "colab": {
          "base_uri": "https://localhost:8080/",
          "height": 265
        },
        "id": "he8OR2MXabtH",
        "outputId": "db825aaa-8c26-4503-bbb2-8c0824807551"
      },
      "execution_count": 17,
      "outputs": [
        {
          "output_type": "display_data",
          "data": {
            "text/plain": [
              "<Figure size 432x288 with 1 Axes>"
            ],
            "image/png": "[encoded data removed]"
          },
          "metadata": {
            "needs_background": "light"
          }
        }
      ]
    },
    {
      "cell_type": "code",
      "source": [
        "plt.scatter(x=trainv2.DBNOs,y=trainv2.winPlacePerc)\n",
        "plt.show()"
      ],
      "metadata": {
        "colab": {
          "base_uri": "https://localhost:8080/",
          "height": 265
        },
        "id": "OgsYnmpla9j3",
        "outputId": "aec92316-04c4-4891-a281-3bb0de1466d3"
      },
      "execution_count": 18,
      "outputs": [
        {
          "output_type": "display_data",
          "data": {
            "text/plain": [
              "<Figure size 432x288 with 1 Axes>"
            ],
            "image/png": "[encoded data removed]"
          },
          "metadata": {
            "needs_background": "light"
          }
        }
      ]
    },
    {
      "cell_type": "code",
      "source": [
        "plt.scatter(x=trainv2.headshotKills,y=trainv2.winPlacePerc)\n",
        "plt.show()"
      ],
      "metadata": {
        "colab": {
          "base_uri": "https://localhost:8080/",
          "height": 265
        },
        "id": "kVAWBGS4bbCf",
        "outputId": "786ff656-9d9e-4baf-9ad0-fbe481adf454"
      },
      "execution_count": 19,
      "outputs": [
        {
          "output_type": "display_data",
          "data": {
            "text/plain": [
              "<Figure size 432x288 with 1 Axes>"
            ],
            "image/png": "[encoded data removed]"
          },
          "metadata": {
            "needs_background": "light"
          }
        }
      ]
    },
    {
      "cell_type": "code",
      "source": [
        "plt.scatter(x=trainv2.heals,y=trainv2.winPlacePerc)\n",
        "plt.show()"
      ],
      "metadata": {
        "colab": {
          "base_uri": "https://localhost:8080/",
          "height": 265
        },
        "id": "dCiHFVjkbbIy",
        "outputId": "4801ff2d-6901-40a0-f0df-150bbf3b54e8"
      },
      "execution_count": 20,
      "outputs": [
        {
          "output_type": "display_data",
          "data": {
            "text/plain": [
              "<Figure size 432x288 with 1 Axes>"
            ],
            "image/png": "[encoded data removed]"
          },
          "metadata": {
            "needs_background": "light"
          }
        }
      ]
    },
    {
      "cell_type": "code",
      "source": [
        "plt.scatter(x=trainv2.killPoints,y=trainv2.winPlacePerc)\n",
        "plt.show()"
      ],
      "metadata": {
        "colab": {
          "base_uri": "https://localhost:8080/",
          "height": 265
        },
        "id": "2xAz8JwmbbLL",
        "outputId": "7afe8e03-1f55-4c54-e72f-39ef534c4f18"
      },
      "execution_count": 21,
      "outputs": [
        {
          "output_type": "display_data",
          "data": {
            "text/plain": [
              "<Figure size 432x288 with 1 Axes>"
            ],
            "image/png": "[encoded data removed]"
          },
          "metadata": {
            "needs_background": "light"
          }
        }
      ]
    },
    {
      "cell_type": "code",
      "source": [
        "plt.scatter(x=trainv2.killStreaks,y=trainv2.winPlacePerc)\n",
        "plt.show()"
      ],
      "metadata": {
        "colab": {
          "base_uri": "https://localhost:8080/",
          "height": 265
        },
        "id": "sNVw7csPbbNH",
        "outputId": "fd7f27fb-4d9a-4813-d5c2-c8d55d273fc7"
      },
      "execution_count": 22,
      "outputs": [
        {
          "output_type": "display_data",
          "data": {
            "text/plain": [
              "<Figure size 432x288 with 1 Axes>"
            ],
            "image/png": "[encoded data removed]"
          },
          "metadata": {
            "needs_background": "light"
          }
        }
      ]
    },
    {
      "cell_type": "code",
      "source": [
        "plt.scatter(x=trainv2.rideDistance,y=trainv2.winPlacePerc)\n",
        "plt.show()"
      ],
      "metadata": {
        "colab": {
          "base_uri": "https://localhost:8080/",
          "height": 265
        },
        "id": "K_s535kVbbRc",
        "outputId": "c284bbf6-7eda-486c-91a5-937814bfc13d"
      },
      "execution_count": 23,
      "outputs": [
        {
          "output_type": "display_data",
          "data": {
            "text/plain": [
              "<Figure size 432x288 with 1 Axes>"
            ],
            "image/png": "[encoded data removed]"
          },
          "metadata": {
            "needs_background": "light"
          }
        }
      ]
    },
    {
      "cell_type": "code",
      "source": [
        "plt.scatter(x=trainv2.longestKill,y=trainv2.winPlacePerc)\n",
        "plt.show()"
      ],
      "metadata": {
        "colab": {
          "base_uri": "https://localhost:8080/",
          "height": 265
        },
        "id": "BQZK-FpTbbTZ",
        "outputId": "91de48a1-36d0-438c-a3d4-beb38f471f29"
      },
      "execution_count": 24,
      "outputs": [
        {
          "output_type": "display_data",
          "data": {
            "text/plain": [
              "<Figure size 432x288 with 1 Axes>"
            ],
            "image/png": "[encoded data removed]"
          },
          "metadata": {
            "needs_background": "light"
          }
        }
      ]
    },
    {
      "cell_type": "code",
      "source": [
        "plt.scatter(x=trainv2.headshotKills,y=trainv2.winPlacePerc)\n",
        "plt.show()"
      ],
      "metadata": {
        "colab": {
          "base_uri": "https://localhost:8080/",
          "height": 265
        },
        "id": "gVldfxDtbbVC",
        "outputId": "334c195e-d0cf-483c-f8c6-29b7d22cdb1e"
      },
      "execution_count": 25,
      "outputs": [
        {
          "output_type": "display_data",
          "data": {
            "text/plain": [
              "<Figure size 432x288 with 1 Axes>"
            ],
            "image/png": "[encoded data removed]"
          },
          "metadata": {
            "needs_background": "light"
          }
        }
      ]
    },
    {
      "cell_type": "code",
      "source": [
        "trainv2.matchId.value_counts()\n"
      ],
      "metadata": {
        "colab": {
          "base_uri": "https://localhost:8080/"
        },
        "id": "zd-71-L6J5bp",
        "outputId": "d8e63a85-5663-4737-dd34-d75ba2d37f6b"
      },
      "execution_count": 26,
      "outputs": [
        {
          "output_type": "execute_result",
          "data": {
            "text/plain": [
              "3f5ad3b1b6f868    100\n",
              "920d5e2c722cab    100\n",
              "1ae5f263bbd552    100\n",
              "b20e089d3322bd    100\n",
              "b9bbd9f72272d8    100\n",
              "                 ... \n",
              "29616490381297      8\n",
              "71af975b5e9a8a      8\n",
              "f491e7a7e2ff47      7\n",
              "66ad63285e8952      7\n",
              "8aa5066c4b6a79      5\n",
              "Name: matchId, Length: 47185, dtype: int64"
            ]
          },
          "metadata": {},
          "execution_count": 26
        }
      ]
    },
    {
      "cell_type": "code",
      "source": [
        "trainv2[trainv2.matchId==\"b20e089d3322bd\"]"
      ],
      "metadata": {
        "colab": {
          "base_uri": "https://localhost:8080/",
          "height": 2278
        },
        "id": "YjcjdwrRQ_7j",
        "outputId": "c3fdc947-f5cb-429c-de76-f28cfdcd99f8"
      },
      "execution_count": 30,
      "outputs": [
        {
          "output_type": "execute_result",
          "data": {
            "text/plain": [
              "                     Id         groupId         matchId  assists  boosts  \\\n",
              "29773    233ad3e39c5c0c  2e2ee572043ad3  b20e089d3322bd        0       0   \n",
              "54894    ab1f00e8e1f3e1  4ed3b1f52cfde0  b20e089d3322bd        0       2   \n",
              "90076    050dbed19af99e  895d0b3569d964  b20e089d3322bd        0       0   \n",
              "97854    44d30f97171344  3e283898daba3e  b20e089d3322bd        0       0   \n",
              "143186   0d1672a1d92def  9771435b6a8d26  b20e089d3322bd        0       0   \n",
              "...                 ...             ...             ...      ...     ...   \n",
              "4000973  764529841c598e  1cfafb6302f75f  b20e089d3322bd        0       2   \n",
              "4023377  2f277748e93981  9c49f34cb24d79  b20e089d3322bd        0       3   \n",
              "4029873  eda8a60e1978fc  2dd501741b5345  b20e089d3322bd        0       0   \n",
              "4033011  d48166663cfad1  18c27b6a2b21ca  b20e089d3322bd        0       0   \n",
              "4436490  e5546509fd8d24  3d5b85d13dccda  b20e089d3322bd        0       0   \n",
              "\n",
              "         damageDealt  DBNOs  headshotKills  heals  killPlace  ...  revives  \\\n",
              "29773            0.0      0              0      0         64  ...        0   \n",
              "54894          179.7      0              0      0         31  ...        0   \n",
              "90076            0.0      0              0      0         89  ...        0   \n",
              "97854          119.3      0              0      0         46  ...        0   \n",
              "143186           0.0      0              0      0         85  ...        0   \n",
              "...              ...    ...            ...    ...        ...  ...      ...   \n",
              "4000973          0.0      0              0      0         63  ...        0   \n",
              "4023377        271.8      0              1      6          7  ...        0   \n",
              "4029873          0.0      0              0      0         81  ...        0   \n",
              "4033011        100.0      0              0      0         50  ...        0   \n",
              "4436490         23.4      0              0      0         91  ...        0   \n",
              "\n",
              "         rideDistance  roadKills  swimDistance  teamKills vehicleDestroys  \\\n",
              "29773             0.0          0         91.74          0               0   \n",
              "54894             0.0          0          0.00          0               0   \n",
              "90076             0.0          0          0.00          0               0   \n",
              "97854             0.0          0          0.00          0               0   \n",
              "143186            0.0          0          0.00          0               0   \n",
              "...               ...        ...           ...        ...             ...   \n",
              "4000973           0.0          0          0.00          0               0   \n",
              "4023377           0.0          0          0.00          0               0   \n",
              "4029873           0.0          0          0.00          0               0   \n",
              "4033011           0.0          0          0.00          0               0   \n",
              "4436490           0.0          0          0.00          0               0   \n",
              "\n",
              "         walkDistance  weaponsAcquired  winPoints  winPlacePerc  \n",
              "29773         271.500                1          0        0.5051  \n",
              "54894         850.000                2          0        0.6566  \n",
              "90076          74.820                0          0        0.1212  \n",
              "97854          69.780                2          0        0.2525  \n",
              "143186        122.000                3          0        0.1919  \n",
              "...               ...              ...        ...           ...  \n",
              "4000973       660.800                2          0        0.5455  \n",
              "4023377       535.400                3          0        0.9192  \n",
              "4029873        43.810                0          0        0.2323  \n",
              "4033011         3.737                2          0        0.0707  \n",
              "4436490        53.330                1          0        0.1010  \n",
              "\n",
              "[100 rows x 29 columns]"
            ],
            "text/html": [
              "\n",
              "  <div id=\"df-dfcc7017-714f-4e4a-9cc8-93b0cc2d910d\">\n",
              "    <div class=\"colab-df-container\">\n",
              "      <div>\n",
              "<style scoped>\n",
              "    .dataframe tbody tr th:only-of-type {\n",
              "        vertical-align: middle;\n",
              "    }\n",
              "\n",
              "    .dataframe tbody tr th {\n",
              "        vertical-align: top;\n",
              "    }\n",
              "\n",
              "    .dataframe thead th {\n",
              "        text-align: right;\n",
              "    }\n",
              "</style>\n",
              "<table border=\"1\" class=\"dataframe\">\n",
              "  <thead>\n",
              "    <tr style=\"text-align: right;\">\n",
              "      <th></th>\n",
              "      <th>Id</th>\n",
              "      <th>groupId</th>\n",
              "      <th>matchId</th>\n",
              "      <th>assists</th>\n",
              "      <th>boosts</th>\n",
              "      <th>damageDealt</th>\n",
              "      <th>DBNOs</th>\n",
              "      <th>headshotKills</th>\n",
              "      <th>heals</th>\n",
              "      <th>killPlace</th>\n",
              "      <th>...</th>\n",
              "      <th>revives</th>\n",
              "      <th>rideDistance</th>\n",
              "      <th>roadKills</th>\n",
              "      <th>swimDistance</th>\n",
              "      <th>teamKills</th>\n",
              "      <th>vehicleDestroys</th>\n",
              "      <th>walkDistance</th>\n",
              "      <th>weaponsAcquired</th>\n",
              "      <th>winPoints</th>\n",
              "      <th>winPlacePerc</th>\n",
              "    </tr>\n",
              "  </thead>\n",
              "  <tbody>\n",
              "    <tr>\n",
              "      <th>29773</th>\n",
              "      <td>233ad3e39c5c0c</td>\n",
              "      <td>2e2ee572043ad3</td>\n",
              "      <td>b20e089d3322bd</td>\n",
              "      <td>0</td>\n",
              "      <td>0</td>\n",
              "      <td>0.0</td>\n",
              "      <td>0</td>\n",
              "      <td>0</td>\n",
              "      <td>0</td>\n",
              "      <td>64</td>\n",
              "      <td>...</td>\n",
              "      <td>0</td>\n",
              "      <td>0.0</td>\n",
              "      <td>0</td>\n",
              "      <td>91.74</td>\n",
              "      <td>0</td>\n",
              "      <td>0</td>\n",
              "      <td>271.500</td>\n",
              "      <td>1</td>\n",
              "      <td>0</td>\n",
              "      <td>0.5051</td>\n",
              "    </tr>\n",
              "    <tr>\n",
              "      <th>54894</th>\n",
              "      <td>ab1f00e8e1f3e1</td>\n",
              "      <td>4ed3b1f52cfde0</td>\n",
              "      <td>b20e089d3322bd</td>\n",
              "      <td>0</td>\n",
              "      <td>2</td>\n",
              "      <td>179.7</td>\n",
              "      <td>0</td>\n",
              "      <td>0</td>\n",
              "      <td>0</td>\n",
              "      <td>31</td>\n",
              "      <td>...</td>\n",
              "      <td>0</td>\n",
              "      <td>0.0</td>\n",
              "      <td>0</td>\n",
              "      <td>0.00</td>\n",
              "      <td>0</td>\n",
              "      <td>0</td>\n",
              "      <td>850.000</td>\n",
              "      <td>2</td>\n",
              "      <td>0</td>\n",
              "      <td>0.6566</td>\n",
              "    </tr>\n",
              "    <tr>\n",
              "      <th>90076</th>\n",
              "      <td>050dbed19af99e</td>\n",
              "      <td>895d0b3569d964</td>\n",
              "      <td>b20e089d3322bd</td>\n",
              "      <td>0</td>\n",
              "      <td>0</td>\n",
              "      <td>0.0</td>\n",
              "      <td>0</td>\n",
              "      <td>0</td>\n",
              "      <td>0</td>\n",
              "      <td>89</td>\n",
              "      <td>...</td>\n",
              "      <td>0</td>\n",
              "      <td>0.0</td>\n",
              "      <td>0</td>\n",
              "      <td>0.00</td>\n",
              "      <td>0</td>\n",
              "      <td>0</td>\n",
              "      <td>74.820</td>\n",
              "      <td>0</td>\n",
              "      <td>0</td>\n",
              "      <td>0.1212</td>\n",
              "    </tr>\n",
              "    <tr>\n",
              "      <th>97854</th>\n",
              "      <td>44d30f97171344</td>\n",
              "      <td>3e283898daba3e</td>\n",
              "      <td>b20e089d3322bd</td>\n",
              "      <td>0</td>\n",
              "      <td>0</td>\n",
              "      <td>119.3</td>\n",
              "      <td>0</td>\n",
              "      <td>0</td>\n",
              "      <td>0</td>\n",
              "      <td>46</td>\n",
              "      <td>...</td>\n",
              "      <td>0</td>\n",
              "      <td>0.0</td>\n",
              "      <td>0</td>\n",
              "      <td>0.00</td>\n",
              "      <td>0</td>\n",
              "      <td>0</td>\n",
              "      <td>69.780</td>\n",
              "      <td>2</td>\n",
              "      <td>0</td>\n",
              "      <td>0.2525</td>\n",
              "    </tr>\n",
              "    <tr>\n",
              "      <th>143186</th>\n",
              "      <td>0d1672a1d92def</td>\n",
              "      <td>9771435b6a8d26</td>\n",
              "      <td>b20e089d3322bd</td>\n",
              "      <td>0</td>\n",
              "      <td>0</td>\n",
              "      <td>0.0</td>\n",
              "      <td>0</td>\n",
              "      <td>0</td>\n",
              "      <td>0</td>\n",
              "      <td>85</td>\n",
              "      <td>...</td>\n",
              "      <td>0</td>\n",
              "      <td>0.0</td>\n",
              "      <td>0</td>\n",
              "      <td>0.00</td>\n",
              "      <td>0</td>\n",
              "      <td>0</td>\n",
              "      <td>122.000</td>\n",
              "      <td>3</td>\n",
              "      <td>0</td>\n",
              "      <td>0.1919</td>\n",
              "    </tr>\n",
              "    <tr>\n",
              "      <th>...</th>\n",
              "      <td>...</td>\n",
              "      <td>...</td>\n",
              "      <td>...</td>\n",
              "      <td>...</td>\n",
              "      <td>...</td>\n",
              "      <td>...</td>\n",
              "      <td>...</td>\n",
              "      <td>...</td>\n",
              "      <td>...</td>\n",
              "      <td>...</td>\n",
              "      <td>...</td>\n",
              "      <td>...</td>\n",
              "      <td>...</td>\n",
              "      <td>...</td>\n",
              "      <td>...</td>\n",
              "      <td>...</td>\n",
              "      <td>...</td>\n",
              "      <td>...</td>\n",
              "      <td>...</td>\n",
              "      <td>...</td>\n",
              "      <td>...</td>\n",
              "    </tr>\n",
              "    <tr>\n",
              "      <th>4000973</th>\n",
              "      <td>764529841c598e</td>\n",
              "      <td>1cfafb6302f75f</td>\n",
              "      <td>b20e089d3322bd</td>\n",
              "      <td>0</td>\n",
              "      <td>2</td>\n",
              "      <td>0.0</td>\n",
              "      <td>0</td>\n",
              "      <td>0</td>\n",
              "      <td>0</td>\n",
              "      <td>63</td>\n",
              "      <td>...</td>\n",
              "      <td>0</td>\n",
              "      <td>0.0</td>\n",
              "      <td>0</td>\n",
              "      <td>0.00</td>\n",
              "      <td>0</td>\n",
              "      <td>0</td>\n",
              "      <td>660.800</td>\n",
              "      <td>2</td>\n",
              "      <td>0</td>\n",
              "      <td>0.5455</td>\n",
              "    </tr>\n",
              "    <tr>\n",
              "      <th>4023377</th>\n",
              "      <td>2f277748e93981</td>\n",
              "      <td>9c49f34cb24d79</td>\n",
              "      <td>b20e089d3322bd</td>\n",
              "      <td>0</td>\n",
              "      <td>3</td>\n",
              "      <td>271.8</td>\n",
              "      <td>0</td>\n",
              "      <td>1</td>\n",
              "      <td>6</td>\n",
              "      <td>7</td>\n",
              "      <td>...</td>\n",
              "      <td>0</td>\n",
              "      <td>0.0</td>\n",
              "      <td>0</td>\n",
              "      <td>0.00</td>\n",
              "      <td>0</td>\n",
              "      <td>0</td>\n",
              "      <td>535.400</td>\n",
              "      <td>3</td>\n",
              "      <td>0</td>\n",
              "      <td>0.9192</td>\n",
              "    </tr>\n",
              "    <tr>\n",
              "      <th>4029873</th>\n",
              "      <td>eda8a60e1978fc</td>\n",
              "      <td>2dd501741b5345</td>\n",
              "      <td>b20e089d3322bd</td>\n",
              "      <td>0</td>\n",
              "      <td>0</td>\n",
              "      <td>0.0</td>\n",
              "      <td>0</td>\n",
              "      <td>0</td>\n",
              "      <td>0</td>\n",
              "      <td>81</td>\n",
              "      <td>...</td>\n",
              "      <td>0</td>\n",
              "      <td>0.0</td>\n",
              "      <td>0</td>\n",
              "      <td>0.00</td>\n",
              "      <td>0</td>\n",
              "      <td>0</td>\n",
              "      <td>43.810</td>\n",
              "      <td>0</td>\n",
              "      <td>0</td>\n",
              "      <td>0.2323</td>\n",
              "    </tr>\n",
              "    <tr>\n",
              "      <th>4033011</th>\n",
              "      <td>d48166663cfad1</td>\n",
              "      <td>18c27b6a2b21ca</td>\n",
              "      <td>b20e089d3322bd</td>\n",
              "      <td>0</td>\n",
              "      <td>0</td>\n",
              "      <td>100.0</td>\n",
              "      <td>0</td>\n",
              "      <td>0</td>\n",
              "      <td>0</td>\n",
              "      <td>50</td>\n",
              "      <td>...</td>\n",
              "      <td>0</td>\n",
              "      <td>0.0</td>\n",
              "      <td>0</td>\n",
              "      <td>0.00</td>\n",
              "      <td>0</td>\n",
              "      <td>0</td>\n",
              "      <td>3.737</td>\n",
              "      <td>2</td>\n",
              "      <td>0</td>\n",
              "      <td>0.0707</td>\n",
              "    </tr>\n",
              "    <tr>\n",
              "      <th>4436490</th>\n",
              "      <td>e5546509fd8d24</td>\n",
              "      <td>3d5b85d13dccda</td>\n",
              "      <td>b20e089d3322bd</td>\n",
              "      <td>0</td>\n",
              "      <td>0</td>\n",
              "      <td>23.4</td>\n",
              "      <td>0</td>\n",
              "      <td>0</td>\n",
              "      <td>0</td>\n",
              "      <td>91</td>\n",
              "      <td>...</td>\n",
              "      <td>0</td>\n",
              "      <td>0.0</td>\n",
              "      <td>0</td>\n",
              "      <td>0.00</td>\n",
              "      <td>0</td>\n",
              "      <td>0</td>\n",
              "      <td>53.330</td>\n",
              "      <td>1</td>\n",
              "      <td>0</td>\n",
              "      <td>0.1010</td>\n",
              "    </tr>\n",
              "  </tbody>\n",
              "</table>\n",
              "<p>100 rows × 29 columns</p>\n",
              "</div>\n",
              "      <button class=\"colab-df-convert\" onclick=\"convertToInteractive('df-dfcc7017-714f-4e4a-9cc8-93b0cc2d910d')\"\n",
              "              title=\"Convert this dataframe to an interactive table.\"\n",
              "              style=\"display:none;\">\n",
              "        \n",
              "  <svg xmlns=\"http://www.w3.org/2000/svg\" height=\"24px\"viewBox=\"0 0 24 24\"\n",
              "       width=\"24px\">\n",
              "    <path d=\"M0 0h24v24H0V0z\" fill=\"none\"/>\n",
              "    <path d=\"M18.56 5.44l.94 2.06.94-2.06 2.06-.94-2.06-.94-.94-2.06-.94 2.06-2.06.94zm-11 1L8.5 8.5l.94-2.06 2.06-.94-2.06-.94L8.5 2.5l-.94 2.06-2.06.94zm10 10l.94 2.06.94-2.06 2.06-.94-2.06-.94-.94-2.06-.94 2.06-2.06.94z\"/><path d=\"M17.41 7.96l-1.37-1.37c-.4-.4-.92-.59-1.43-.59-.52 0-1.04.2-1.43.59L10.3 9.45l-7.72 7.72c-.78.78-.78 2.05 0 2.83L4 21.41c.39.39.9.59 1.41.59.51 0 1.02-.2 1.41-.59l7.78-7.78 2.81-2.81c.8-.78.8-2.07 0-2.86zM5.41 20L4 18.59l7.72-7.72 1.47 1.35L5.41 20z\"/>\n",
              "  </svg>\n",
              "      </button>\n",
              "      \n",
              "  <style>\n",
              "    .colab-df-container {\n",
              "      display:flex;\n",
              "      flex-wrap:wrap;\n",
              "      gap: 12px;\n",
              "    }\n",
              "\n",
              "    .colab-df-convert {\n",
              "      background-color: #E8F0FE;\n",
              "      border: none;\n",
              "      border-radius: 50%;\n",
              "      cursor: pointer;\n",
              "      display: none;\n",
              "      fill: #1967D2;\n",
              "      height: 32px;\n",
              "      padding: 0 0 0 0;\n",
              "      width: 32px;\n",
              "    }\n",
              "\n",
              "    .colab-df-convert:hover {\n",
              "      background-color: #E2EBFA;\n",
              "      box-shadow: 0px 1px 2px rgba(60, 64, 67, 0.3), 0px 1px 3px 1px rgba(60, 64, 67, 0.15);\n",
              "      fill: #174EA6;\n",
              "    }\n",
              "\n",
              "    [theme=dark] .colab-df-convert {\n",
              "      background-color: #3B4455;\n",
              "      fill: #D2E3FC;\n",
              "    }\n",
              "\n",
              "    [theme=dark] .colab-df-convert:hover {\n",
              "      background-color: #434B5C;\n",
              "      box-shadow: 0px 1px 3px 1px rgba(0, 0, 0, 0.15);\n",
              "      filter: drop-shadow(0px 1px 2px rgba(0, 0, 0, 0.3));\n",
              "      fill: #FFFFFF;\n",
              "    }\n",
              "  </style>\n",
              "\n",
              "      <script>\n",
              "        const buttonEl =\n",
              "          document.querySelector('#df-dfcc7017-714f-4e4a-9cc8-93b0cc2d910d button.colab-df-convert');\n",
              "        buttonEl.style.display =\n",
              "          google.colab.kernel.accessAllowed ? 'block' : 'none';\n",
              "\n",
              "        async function convertToInteractive(key) {\n",
              "          const element = document.querySelector('#df-dfcc7017-714f-4e4a-9cc8-93b0cc2d910d');\n",
              "          const dataTable =\n",
              "            await google.colab.kernel.invokeFunction('convertToInteractive',\n",
              "                                                     [key], {});\n",
              "          if (!dataTable) return;\n",
              "\n",
              "          const docLinkHtml = 'Like what you see? Visit the ' +\n",
              "            '<a target=\"_blank\" href=https://colab.research.google.com/notebooks/data_table.ipynb>data table notebook</a>'\n",
              "            + ' to learn more about interactive tables.';\n",
              "          element.innerHTML = '';\n",
              "          dataTable['output_type'] = 'display_data';\n",
              "          await google.colab.output.renderOutput(dataTable, element);\n",
              "          const docLink = document.createElement('div');\n",
              "          docLink.innerHTML = docLinkHtml;\n",
              "          element.appendChild(docLink);\n",
              "        }\n",
              "      </script>\n",
              "    </div>\n",
              "  </div>\n",
              "  "
            ]
          },
          "metadata": {},
          "execution_count": 30
        },
        {
          "output_type": "stream",
          "name": "stdout",
          "text": [
            "Warning: Total number of columns (29) exceeds max_columns (20) limiting to first (20) columns.\n"
          ]
        }
      ]
    },
    {
      "cell_type": "code",
      "source": [
        "trainv2.weaponsAcquired.value_counts()"
      ],
      "metadata": {
        "colab": {
          "base_uri": "https://localhost:8080/"
        },
        "id": "nHwjttNZRRx4",
        "outputId": "aa0a71fe-e909-45c3-cb36-9622038acf88"
      },
      "execution_count": 34,
      "outputs": [
        {
          "output_type": "execute_result",
          "data": {
            "text/plain": [
              "2      765105\n",
              "3      764398\n",
              "4      685159\n",
              "1      577452\n",
              "5      536909\n",
              "        ...  \n",
              "128         1\n",
              "102         1\n",
              "42          1\n",
              "80          1\n",
              "177         1\n",
              "Name: weaponsAcquired, Length: 70, dtype: int64"
            ]
          },
          "metadata": {},
          "execution_count": 34
        }
      ]
    },
    {
      "cell_type": "code",
      "source": [
        ""
      ],
      "metadata": {
        "id": "kjWKuvBXYn0s"
      },
      "execution_count": null,
      "outputs": []
    }
  ]
}