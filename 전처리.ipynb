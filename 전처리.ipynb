{
 "cells": [
  {
   "cell_type": "code",
   "execution_count": 15,
   "id": "c8085282",
   "metadata": {},
   "outputs": [],
   "source": [
    "import pandas as pd\n",
    "import numpy as np\n",
    "import matplotlib.pyplot as plt\n",
    "import seaborn as sns"
   ]
  },
  {
   "cell_type": "code",
   "execution_count": 16,
   "id": "cc52472f",
   "metadata": {},
   "outputs": [],
   "source": [
    "df = pd.read_csv('data/train_V2.csv')\n",
    "df = df.dropna()"
   ]
  },
  {
   "cell_type": "code",
   "execution_count": 17,
   "id": "2ede469c",
   "metadata": {},
   "outputs": [
    {
     "data": {
      "text/plain": [
       "4446965"
      ]
     },
     "execution_count": 17,
     "metadata": {},
     "output_type": "execute_result"
    }
   ],
   "source": [
    "len(df)"
   ]
  },
  {
   "cell_type": "code",
   "execution_count": 18,
   "id": "75fffe69",
   "metadata": {},
   "outputs": [],
   "source": [
    "# 캐주얼, 노말 모드 drop\n",
    "df= df[~(df['matchType'] =='flaretpp')&\n",
    "   ~(df['matchType'] =='flarefpp')&\n",
    "   ~(df['matchType'] =='crashfpp')&\n",
    "   ~(df['matchType'] =='crashtpp')&\n",
    "   ~(df['matchType'] =='normal-squad-fpp')&\n",
    "   ~(df['matchType'] =='normal-solo-fpp')&\n",
    "   ~(df['matchType'] =='normal-duo-fpp')&\n",
    "   ~(df['matchType'] =='normal-duo')&\n",
    "   ~(df['matchType'] =='normal-squad')&\n",
    "   ~(df['matchType'] =='normal-solo')]"
   ]
  },
  {
   "cell_type": "code",
   "execution_count": 20,
   "id": "4e462a92",
   "metadata": {},
   "outputs": [
    {
     "data": {
      "text/plain": [
       "35267"
      ]
     },
     "execution_count": 20,
     "metadata": {},
     "output_type": "execute_result"
    }
   ],
   "source": [
    "4446965- len(df)"
   ]
  },
  {
   "cell_type": "code",
   "execution_count": 21,
   "id": "8a3f9da7",
   "metadata": {},
   "outputs": [],
   "source": [
    "# matchid 60명 이하인 데이터 drop\n",
    "matchId_drop = df['matchId'].value_counts().loc[df['matchId'].value_counts()>60].index\n",
    "df = df.loc[df['matchId'].isin(matchId_drop)]"
   ]
  },
  {
   "cell_type": "code",
   "execution_count": 22,
   "id": "f3ffe882",
   "metadata": {},
   "outputs": [
    {
     "data": {
      "text/plain": [
       "21120"
      ]
     },
     "execution_count": 22,
     "metadata": {},
     "output_type": "execute_result"
    }
   ],
   "source": [
    "4411698 - len(df)"
   ]
  },
  {
   "cell_type": "code",
   "execution_count": 26,
   "id": "1a6a4cb5",
   "metadata": {},
   "outputs": [],
   "source": [
    "df = df.drop(columns=['Id',\n",
    "                 'killPoints',\n",
    "                 'matchDuration',\n",
    "                 'maxPlace',\n",
    "                 'teamKills',\n",
    "                 'roadKills',\n",
    "                 'vehicleDestroys',\n",
    "                ])"
   ]
  },
  {
   "cell_type": "code",
   "execution_count": 28,
   "id": "718acc38",
   "metadata": {},
   "outputs": [
    {
     "data": {
      "text/plain": [
       "56387"
      ]
     },
     "execution_count": 28,
     "metadata": {},
     "output_type": "execute_result"
    }
   ],
   "source": [
    "4446965-len(df)"
   ]
  },
  {
   "cell_type": "code",
   "execution_count": 29,
   "id": "44469554",
   "metadata": {},
   "outputs": [
    {
     "data": {
      "text/html": [
       "<div>\n",
       "<style scoped>\n",
       "    .dataframe tbody tr th:only-of-type {\n",
       "        vertical-align: middle;\n",
       "    }\n",
       "\n",
       "    .dataframe tbody tr th {\n",
       "        vertical-align: top;\n",
       "    }\n",
       "\n",
       "    .dataframe thead th {\n",
       "        text-align: right;\n",
       "    }\n",
       "</style>\n",
       "<table border=\"1\" class=\"dataframe\">\n",
       "  <thead>\n",
       "    <tr style=\"text-align: right;\">\n",
       "      <th></th>\n",
       "      <th>groupId</th>\n",
       "      <th>matchId</th>\n",
       "      <th>assists</th>\n",
       "      <th>boosts</th>\n",
       "      <th>damageDealt</th>\n",
       "      <th>DBNOs</th>\n",
       "      <th>headshotKills</th>\n",
       "      <th>heals</th>\n",
       "      <th>killPlace</th>\n",
       "      <th>kills</th>\n",
       "      <th>...</th>\n",
       "      <th>matchType</th>\n",
       "      <th>numGroups</th>\n",
       "      <th>rankPoints</th>\n",
       "      <th>revives</th>\n",
       "      <th>rideDistance</th>\n",
       "      <th>swimDistance</th>\n",
       "      <th>walkDistance</th>\n",
       "      <th>weaponsAcquired</th>\n",
       "      <th>winPoints</th>\n",
       "      <th>winPlacePerc</th>\n",
       "    </tr>\n",
       "  </thead>\n",
       "  <tbody>\n",
       "    <tr>\n",
       "      <th>0</th>\n",
       "      <td>4d4b580de459be</td>\n",
       "      <td>a10357fd1a4a91</td>\n",
       "      <td>0</td>\n",
       "      <td>0</td>\n",
       "      <td>0.00</td>\n",
       "      <td>0</td>\n",
       "      <td>0</td>\n",
       "      <td>0</td>\n",
       "      <td>60</td>\n",
       "      <td>0</td>\n",
       "      <td>...</td>\n",
       "      <td>squad-fpp</td>\n",
       "      <td>26</td>\n",
       "      <td>-1</td>\n",
       "      <td>0</td>\n",
       "      <td>0.0000</td>\n",
       "      <td>0.00</td>\n",
       "      <td>244.80</td>\n",
       "      <td>1</td>\n",
       "      <td>1466</td>\n",
       "      <td>0.4444</td>\n",
       "    </tr>\n",
       "    <tr>\n",
       "      <th>1</th>\n",
       "      <td>684d5656442f9e</td>\n",
       "      <td>aeb375fc57110c</td>\n",
       "      <td>0</td>\n",
       "      <td>0</td>\n",
       "      <td>91.47</td>\n",
       "      <td>0</td>\n",
       "      <td>0</td>\n",
       "      <td>0</td>\n",
       "      <td>57</td>\n",
       "      <td>0</td>\n",
       "      <td>...</td>\n",
       "      <td>squad-fpp</td>\n",
       "      <td>25</td>\n",
       "      <td>1484</td>\n",
       "      <td>0</td>\n",
       "      <td>0.0045</td>\n",
       "      <td>11.04</td>\n",
       "      <td>1434.00</td>\n",
       "      <td>5</td>\n",
       "      <td>0</td>\n",
       "      <td>0.6400</td>\n",
       "    </tr>\n",
       "    <tr>\n",
       "      <th>2</th>\n",
       "      <td>6a4a42c3245a74</td>\n",
       "      <td>110163d8bb94ae</td>\n",
       "      <td>1</td>\n",
       "      <td>0</td>\n",
       "      <td>68.00</td>\n",
       "      <td>0</td>\n",
       "      <td>0</td>\n",
       "      <td>0</td>\n",
       "      <td>47</td>\n",
       "      <td>0</td>\n",
       "      <td>...</td>\n",
       "      <td>duo</td>\n",
       "      <td>47</td>\n",
       "      <td>1491</td>\n",
       "      <td>0</td>\n",
       "      <td>0.0000</td>\n",
       "      <td>0.00</td>\n",
       "      <td>161.80</td>\n",
       "      <td>2</td>\n",
       "      <td>0</td>\n",
       "      <td>0.7755</td>\n",
       "    </tr>\n",
       "    <tr>\n",
       "      <th>3</th>\n",
       "      <td>a930a9c79cd721</td>\n",
       "      <td>f1f1f4ef412d7e</td>\n",
       "      <td>0</td>\n",
       "      <td>0</td>\n",
       "      <td>32.90</td>\n",
       "      <td>0</td>\n",
       "      <td>0</td>\n",
       "      <td>0</td>\n",
       "      <td>75</td>\n",
       "      <td>0</td>\n",
       "      <td>...</td>\n",
       "      <td>squad-fpp</td>\n",
       "      <td>30</td>\n",
       "      <td>1408</td>\n",
       "      <td>0</td>\n",
       "      <td>0.0000</td>\n",
       "      <td>0.00</td>\n",
       "      <td>202.70</td>\n",
       "      <td>3</td>\n",
       "      <td>0</td>\n",
       "      <td>0.1667</td>\n",
       "    </tr>\n",
       "    <tr>\n",
       "      <th>4</th>\n",
       "      <td>de04010b3458dd</td>\n",
       "      <td>6dc8ff871e21e6</td>\n",
       "      <td>0</td>\n",
       "      <td>0</td>\n",
       "      <td>100.00</td>\n",
       "      <td>0</td>\n",
       "      <td>0</td>\n",
       "      <td>0</td>\n",
       "      <td>45</td>\n",
       "      <td>1</td>\n",
       "      <td>...</td>\n",
       "      <td>solo-fpp</td>\n",
       "      <td>95</td>\n",
       "      <td>1560</td>\n",
       "      <td>0</td>\n",
       "      <td>0.0000</td>\n",
       "      <td>0.00</td>\n",
       "      <td>49.75</td>\n",
       "      <td>2</td>\n",
       "      <td>0</td>\n",
       "      <td>0.1875</td>\n",
       "    </tr>\n",
       "  </tbody>\n",
       "</table>\n",
       "<p>5 rows × 22 columns</p>\n",
       "</div>"
      ],
      "text/plain": [
       "          groupId         matchId  assists  boosts  damageDealt  DBNOs  \\\n",
       "0  4d4b580de459be  a10357fd1a4a91        0       0         0.00      0   \n",
       "1  684d5656442f9e  aeb375fc57110c        0       0        91.47      0   \n",
       "2  6a4a42c3245a74  110163d8bb94ae        1       0        68.00      0   \n",
       "3  a930a9c79cd721  f1f1f4ef412d7e        0       0        32.90      0   \n",
       "4  de04010b3458dd  6dc8ff871e21e6        0       0       100.00      0   \n",
       "\n",
       "   headshotKills  heals  killPlace  kills  ...  matchType  numGroups  \\\n",
       "0              0      0         60      0  ...  squad-fpp         26   \n",
       "1              0      0         57      0  ...  squad-fpp         25   \n",
       "2              0      0         47      0  ...        duo         47   \n",
       "3              0      0         75      0  ...  squad-fpp         30   \n",
       "4              0      0         45      1  ...   solo-fpp         95   \n",
       "\n",
       "  rankPoints  revives  rideDistance  swimDistance  walkDistance  \\\n",
       "0         -1        0        0.0000          0.00        244.80   \n",
       "1       1484        0        0.0045         11.04       1434.00   \n",
       "2       1491        0        0.0000          0.00        161.80   \n",
       "3       1408        0        0.0000          0.00        202.70   \n",
       "4       1560        0        0.0000          0.00         49.75   \n",
       "\n",
       "   weaponsAcquired  winPoints  winPlacePerc  \n",
       "0                1       1466        0.4444  \n",
       "1                5          0        0.6400  \n",
       "2                2          0        0.7755  \n",
       "3                3          0        0.1667  \n",
       "4                2          0        0.1875  \n",
       "\n",
       "[5 rows x 22 columns]"
      ]
     },
     "execution_count": 29,
     "metadata": {},
     "output_type": "execute_result"
    }
   ],
   "source": [
    "df.head()"
   ]
  },
  {
   "cell_type": "code",
   "execution_count": null,
   "id": "b74b81a8",
   "metadata": {},
   "outputs": [],
   "source": []
  }
 ],
 "metadata": {
  "kernelspec": {
   "display_name": "Python 3 (ipykernel)",
   "language": "python",
   "name": "python3"
  },
  "language_info": {
   "codemirror_mode": {
    "name": "ipython",
    "version": 3
   },
   "file_extension": ".py",
   "mimetype": "text/x-python",
   "name": "python",
   "nbconvert_exporter": "python",
   "pygments_lexer": "ipython3",
   "version": "3.9.10"
  }
 },
 "nbformat": 4,
 "nbformat_minor": 5
}
